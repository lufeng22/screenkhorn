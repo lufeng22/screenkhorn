{
 "cells": [
  {
   "cell_type": "markdown",
   "metadata": {},
   "source": [
    "## Goal:\n",
    "\n",
    "Here we test the functions: `lbfgsb` in the `Screenkhorn` class."
   ]
  },
  {
   "cell_type": "code",
   "execution_count": 48,
   "metadata": {},
   "outputs": [],
   "source": [
    "# NUMPY\n",
    "import numpy as np\n",
    "np.random.seed(3946)\n",
    "# MATPLOTLIB\n",
    "import matplotlib.pyplot as plt\n",
    "plt.style.context('dark_background')\n",
    "%matplotlib inline \n",
    "from matplotlib import rc\n",
    "rc('font', **{'family': 'sans-serif', 'sans-serif': ['Computer Modern Roman']})\n",
    "params = {'axes.labelsize': 8, # 12\n",
    "          'font.size': 8, # 12\n",
    "          'legend.fontsize': 8, # 12\n",
    "          'xtick.labelsize': 8, # 10\n",
    "          'ytick.labelsize': 8, # 10\n",
    "          'text.usetex': True,\n",
    "          'figure.figsize': (16, 6)}\n",
    "plt.rcParams.update(params)\n",
    "\n",
    "# SEABORN \n",
    "import seaborn as sns\n",
    "sns.set_context(\"poster\")\n",
    "sns.set_style(\"ticks\")\n",
    "\n",
    "# SKLEARN \n",
    "from sklearn.metrics import pairwise_distances\n",
    "\n",
    "# WARNINGS\n",
    "import warnings\n",
    "warnings.filterwarnings(\"ignore\", category=FutureWarning)\n",
    "\n",
    "# TIME\n",
    "from time import time \n",
    "\n",
    "# PATH \n",
    "import sys\n",
    "path_files = '/Users/mzalaya/PycharmProjects/OATMIL/oatmilrouen/'\n",
    "sys.path.insert(0, path_files) \n",
    "\n",
    "\n",
    "# POT\n",
    "import ot\n",
    "from ot import sinkhorn, emd\n",
    "\n",
    "# GREENKHORN \n",
    "from ot.bregman import greenkhorn\n",
    "\n",
    "# SCREENKHORN\n",
    "from screenkhorn.base import Screenkhorn\n"
   ]
  },
  {
   "cell_type": "markdown",
   "metadata": {},
   "source": [
    "## Data generation"
   ]
  },
  {
   "cell_type": "code",
   "execution_count": 2,
   "metadata": {},
   "outputs": [],
   "source": [
    "n_1 = 1000# nb samples\n",
    "n_2 = 1000\n",
    "mu_s = np.array([0, 0])\n",
    "cov_s = np.array([[1, 0], [0, 1]])\n",
    "\n",
    "mu_t = np.array([4, 4])\n",
    "cov_t = np.array([[1, -.8], [-.8, 1]])\n",
    "\n",
    "xs = ot.datasets.make_2D_samples_gauss(n_1, mu_s, cov_s)\n",
    "xt = ot.datasets.make_2D_samples_gauss(n_2, mu_t, cov_t)\n",
    "\n",
    "a = np.ones((n_1,)) / n_1\n",
    "b = np.ones((n_2,)) / n_2  # uniform distribution on samples\n",
    "\n",
    "# loss matrix\n",
    "M = ot.dist(xs, xt)\n",
    "M /= M.max()\n",
    "reg = 0.7\n",
    "K = np.exp(-M/reg)"
   ]
  },
  {
   "cell_type": "markdown",
   "metadata": {},
   "source": [
    "## Sinkhorn "
   ]
  },
  {
   "cell_type": "code",
   "execution_count": 3,
   "metadata": {},
   "outputs": [
    {
     "name": "stdout",
     "output_type": "stream",
     "text": [
      "time of Sinkhorn algorithm is 0.029742956161499023\n"
     ]
    }
   ],
   "source": [
    "tic = time()\n",
    "P_sink = sinkhorn(a, b, M, reg, log=True)\n",
    "P_star = P_sink[0]\n",
    "outputs_dict = P_sink[1]\n",
    "exp_u_star = outputs_dict['u']\n",
    "exp_v_star = outputs_dict['v']\n",
    "time_sink = time() - tic\n",
    "print(\"time of Sinkhorn algorithm is %s\" %time_sink)"
   ]
  },
  {
   "cell_type": "markdown",
   "metadata": {},
   "source": [
    "## Bounds of $\\varepsilon \\in (\\varepsilon_{\\min}, \\varepsilon_{\\max})$\n"
   ]
  },
  {
   "cell_type": "code",
   "execution_count": 4,
   "metadata": {},
   "outputs": [
    {
     "data": {
      "image/png": "[encoded data removed]",
      "text/plain": [
       "<Figure size 432x288 with 1 Axes>"
      ]
     },
     "metadata": {
      "needs_background": "light"
     },
     "output_type": "display_data"
    }
   ],
   "source": [
    "epsilons_a = np.sqrt(a / K.sum(axis=1))\n",
    "epsilons_a_sort = np.sort(epsilons_a)[::-1]\n",
    "epsilons_b = np.sqrt(b / K.T.sum(axis=1))\n",
    "epsilons_b_sort = np.sort(epsilons_b)[::-1]\n",
    "plt.plot(epsilons_a_sort, label=r'$\\varepsilon_i$')\n",
    "plt.plot(epsilons_b_sort, label=r'$\\varepsilon_j$')\n",
    "plt.legend();"
   ]
  },
  {
   "cell_type": "markdown",
   "metadata": {},
   "source": [
    "#### Choice of epsilon"
   ]
  },
  {
   "cell_type": "code",
   "execution_count": 5,
   "metadata": {},
   "outputs": [
    {
     "data": {
      "text/plain": [
       "(0.0010384082990002894, 0.0013295665182757328, 0.0016207247375511762)"
      ]
     },
     "execution_count": 5,
     "metadata": {},
     "output_type": "execute_result"
    }
   ],
   "source": [
    "epsilons_ab = np.sort(np.hstack([epsilons_a, epsilons_b]))[::-1]\n",
    "epsilon_mid = (max(epsilons_ab) - min(epsilons_ab))/2+ min(epsilons_ab)\n",
    "epsilon_min = min(epsilons_ab)\n",
    "epsilon_max = max(epsilons_ab)\n",
    "\n",
    "epsilon_min, epsilon_mid, epsilon_max"
   ]
  },
  {
   "cell_type": "code",
   "execution_count": 6,
   "metadata": {},
   "outputs": [],
   "source": [
    "# theoretical epsilon_min and epsilon_max\n",
    "epsilon_min_th = max((np.sqrt(a/K.sum(axis=1))).min(), (np.sqrt(b/K.T.sum(axis=1))).min())\n",
    "epsilon_max_th = min((np.sqrt(a/K.sum(axis=1))).max(), (np.sqrt(b/K.T.sum(axis=1))).max())"
   ]
  },
  {
   "cell_type": "code",
   "execution_count": 7,
   "metadata": {},
   "outputs": [
    {
     "data": {
      "text/plain": [
       "(15, 1)"
      ]
     },
     "execution_count": 7,
     "metadata": {},
     "output_type": "execute_result"
    }
   ],
   "source": [
    "epsilon_min_th, epsilon_max_th\n",
    "\n",
    "I_active = np.where(a >= epsilon_max_th**2 * K.sum(axis=1))[0].tolist()\n",
    "J_active = np.where(b >= epsilon_max_th**2 * K.T.sum(axis=1))[0].tolist()\n",
    "\n",
    "len(I_active), len(J_active)"
   ]
  },
  {
   "cell_type": "code",
   "execution_count": 8,
   "metadata": {},
   "outputs": [],
   "source": [
    "# theoretical epsilon_min and epsilon_max\n",
    "(m, n) = K.shape\n",
    "epsilon_max_th_bis = max( \n",
    "                np.sqrt(a.max() / ((K.sum(axis=1)).min())),  np.sqrt(b.max() / ((K.T.sum(axis=1)).min())))\n",
    "\n",
    "epsilon_min_th_bis = min( \n",
    "    \n",
    "                np.sqrt(a.min() / ((K.sum(axis=1)).min())),  np.sqrt(b.min() / ((K.T.sum(axis=1)).min())))"
   ]
  },
  {
   "cell_type": "code",
   "execution_count": 9,
   "metadata": {},
   "outputs": [
    {
     "data": {
      "text/plain": [
       "(0.001417272673847888, 0.0016207247375511762)"
      ]
     },
     "execution_count": 9,
     "metadata": {},
     "output_type": "execute_result"
    }
   ],
   "source": [
    "epsilon_min_th_bis, epsilon_max_th_bis"
   ]
  },
  {
   "cell_type": "code",
   "execution_count": 10,
   "metadata": {},
   "outputs": [],
   "source": [
    "epsilon_max_u = a.max() / ((K.sum(axis=1)).max())\n",
    "epsilon_max_v = b.max() / ((K.T.sum(axis=1)).max())\n",
    "\n",
    "epsilon_max_uv = min(epsilon_max_u, epsilon_max_v)\n",
    "\n",
    "epsilon_min_u = a.min() / ((K.sum(axis=1)).min())\n",
    "epsilon_min_v = b.min() / ((K.T.sum(axis=1)).min())\n",
    "\n",
    "epsilon_min_uv = max(epsilon_min_u, epsilon_min_v)"
   ]
  },
  {
   "cell_type": "code",
   "execution_count": 11,
   "metadata": {},
   "outputs": [
    {
     "data": {
      "text/plain": [
       "(0.0016207247375511762,\n",
       " 1.0782917954326745e-06,\n",
       " 1.0782917954326745e-06,\n",
       " 1.0782917954326745e-06)"
      ]
     },
     "execution_count": 11,
     "metadata": {},
     "output_type": "execute_result"
    }
   ],
   "source": [
    "np.sqrt(epsilon_min_uv), epsilon_max_uv, epsilon_max_u, epsilon_max_uv"
   ]
  },
  {
   "cell_type": "code",
   "execution_count": 12,
   "metadata": {},
   "outputs": [
    {
     "data": {
      "text/plain": [
       "(1.0, 2.436027693094263)"
      ]
     },
     "execution_count": 12,
     "metadata": {},
     "output_type": "execute_result"
    }
   ],
   "source": [
    "epsilon_max_uu = epsilon_max_u / epsilon_max_uv\n",
    "epsilon_min_uu = epsilon_min_u / epsilon_max_uv\n",
    "\n",
    "\n",
    "epsilon_max_uu, epsilon_min_uu"
   ]
  },
  {
   "cell_type": "code",
   "execution_count": 13,
   "metadata": {},
   "outputs": [
    {
     "data": {
      "text/plain": [
       "(1.0782917954326745e-06, 2.626748674910329e-06)"
      ]
     },
     "execution_count": 13,
     "metadata": {},
     "output_type": "execute_result"
    }
   ],
   "source": [
    "epsilon_max_uv, epsilon_min_uv"
   ]
  },
  {
   "cell_type": "code",
   "execution_count": 14,
   "metadata": {},
   "outputs": [
    {
     "data": {
      "text/plain": [
       "(0.001108220582834891, 0.001417272673847888)"
      ]
     },
     "execution_count": 14,
     "metadata": {},
     "output_type": "execute_result"
    }
   ],
   "source": [
    "epsilon_min_th, epsilon_max_th, "
   ]
  },
  {
   "cell_type": "code",
   "execution_count": 15,
   "metadata": {},
   "outputs": [
    {
     "data": {
      "text/plain": [
       "0.0011597292646703906"
      ]
     },
     "execution_count": 15,
     "metadata": {},
     "output_type": "execute_result"
    }
   ],
   "source": [
    "epsilon_mid_th = (epsilon_max_th - epsilon_min_th)/6 + epsilon_min_th\n",
    "epsilon_mid_th"
   ]
  },
  {
   "cell_type": "code",
   "execution_count": 16,
   "metadata": {},
   "outputs": [],
   "source": [
    "epsilon_mid_u = (epsilon_max_u - epsilon_min_u)/3 + epsilon_min_u\n",
    "epsilon_mid_v = (epsilon_max_v - epsilon_min_v)/3 + epsilon_min_v"
   ]
  },
  {
   "cell_type": "code",
   "execution_count": 17,
   "metadata": {},
   "outputs": [
    {
     "data": {
      "text/plain": [
       "(2.1105963817511108e-06, 1.7484921747635967e-06)"
      ]
     },
     "execution_count": 17,
     "metadata": {},
     "output_type": "execute_result"
    }
   ],
   "source": [
    "epsilon_mid_u, epsilon_mid_v"
   ]
  },
  {
   "cell_type": "markdown",
   "metadata": {},
   "source": [
    "#### Initial points and a priori active sets"
   ]
  },
  {
   "cell_type": "code",
   "execution_count": 18,
   "metadata": {},
   "outputs": [],
   "source": [
    "\n",
    "u0 = np.full(n_1, epsilon_mid)\n",
    "v0 = np.full(n_2, epsilon_mid)\n",
    "\n",
    "I_active = np.where(a >= epsilon_max_th**2 * K.sum(axis=1))[0].tolist()\n",
    "J_active = np.where(b >= epsilon_max_th**2 * K.T.sum(axis=1))[0].tolist()\n",
    "\n",
    "u0[I_active] = epsilon_mid\n",
    "v0[J_active] = epsilon_mid"
   ]
  },
  {
   "cell_type": "code",
   "execution_count": 19,
   "metadata": {},
   "outputs": [
    {
     "ename": "ValueError",
     "evalue": "The truth value of an array with more than one element is ambiguous. Use a.any() or a.all()",
     "output_type": "error",
     "traceback": [
      "\u001b[0;31m---------------------------------------------------------------------------\u001b[0m",
      "\u001b[0;31mValueError\u001b[0m                                Traceback (most recent call last)",
      "\u001b[0;32m<ipython-input-19-3b8db41e4c2a>\u001b[0m in \u001b[0;36m<module>\u001b[0;34m\u001b[0m\n\u001b[1;32m      2\u001b[0m \u001b[0;34m\u001b[0m\u001b[0m\n\u001b[1;32m      3\u001b[0m epsilon_max_th_th = min( \n\u001b[0;32m----> 4\u001b[0;31m                 np.sqrt(a.max() / (K.sum(axis=1))),  np.sqrt(b.max() / (K.T.sum(axis=1))))\n\u001b[0m\u001b[1;32m      5\u001b[0m \u001b[0;34m\u001b[0m\u001b[0m\n\u001b[1;32m      6\u001b[0m epsilon_min_th_th = max( \n",
      "\u001b[0;31mValueError\u001b[0m: The truth value of an array with more than one element is ambiguous. Use a.any() or a.all()"
     ]
    }
   ],
   "source": [
    "## Cardinals of I_active and J_active\n",
    "\n",
    "epsilon_max_th_th = min( \n",
    "                np.sqrt(a.max() / (K.sum(axis=1))),  np.sqrt(b.max() / (K.T.sum(axis=1))))\n",
    "\n",
    "epsilon_min_th_th = max( \n",
    "                np.sqrt(a.min() / (K.sum(axis=1))),  np.sqrt(b.min() / (K.T.sum(axis=1))))\n",
    "\n",
    "epsilon_max_th_th, epsilon_min_th_th "
   ]
  },
  {
   "cell_type": "code",
   "execution_count": 20,
   "metadata": {},
   "outputs": [
    {
     "ename": "NameError",
     "evalue": "name 'epsilon_max_th_th' is not defined",
     "output_type": "error",
     "traceback": [
      "\u001b[0;31m---------------------------------------------------------------------------\u001b[0m",
      "\u001b[0;31mNameError\u001b[0m                                 Traceback (most recent call last)",
      "\u001b[0;32m<ipython-input-20-ac52ccd55cc7>\u001b[0m in \u001b[0;36m<module>\u001b[0;34m\u001b[0m\n\u001b[1;32m      1\u001b[0m \u001b[0;31m## Cardinals of I_active and J_active\u001b[0m\u001b[0;34m\u001b[0m\u001b[0;34m\u001b[0m\u001b[0;34m\u001b[0m\u001b[0m\n\u001b[0;32m----> 2\u001b[0;31m \u001b[0mepsilon_active\u001b[0m \u001b[0;34m=\u001b[0m \u001b[0mepsilon_max_th_th\u001b[0m\u001b[0;34m\u001b[0m\u001b[0;34m\u001b[0m\u001b[0m\n\u001b[0m\u001b[1;32m      3\u001b[0m \u001b[0mI_active\u001b[0m \u001b[0;34m=\u001b[0m \u001b[0mnp\u001b[0m\u001b[0;34m.\u001b[0m\u001b[0mwhere\u001b[0m\u001b[0;34m(\u001b[0m\u001b[0ma\u001b[0m \u001b[0;34m>=\u001b[0m \u001b[0mepsilon_active\u001b[0m\u001b[0;34m**\u001b[0m\u001b[0;36m2\u001b[0m \u001b[0;34m*\u001b[0m \u001b[0mK\u001b[0m\u001b[0;34m.\u001b[0m\u001b[0msum\u001b[0m\u001b[0;34m(\u001b[0m\u001b[0maxis\u001b[0m\u001b[0;34m=\u001b[0m\u001b[0;36m1\u001b[0m\u001b[0;34m)\u001b[0m\u001b[0;34m)\u001b[0m\u001b[0;34m[\u001b[0m\u001b[0;36m0\u001b[0m\u001b[0;34m]\u001b[0m\u001b[0;34m.\u001b[0m\u001b[0mtolist\u001b[0m\u001b[0;34m(\u001b[0m\u001b[0;34m)\u001b[0m\u001b[0;34m\u001b[0m\u001b[0;34m\u001b[0m\u001b[0m\n\u001b[1;32m      4\u001b[0m \u001b[0mJ_active\u001b[0m \u001b[0;34m=\u001b[0m \u001b[0mnp\u001b[0m\u001b[0;34m.\u001b[0m\u001b[0mwhere\u001b[0m\u001b[0;34m(\u001b[0m\u001b[0mb\u001b[0m \u001b[0;34m>=\u001b[0m \u001b[0mepsilon_active\u001b[0m\u001b[0;34m**\u001b[0m\u001b[0;36m2\u001b[0m \u001b[0;34m*\u001b[0m \u001b[0mK\u001b[0m\u001b[0;34m.\u001b[0m\u001b[0mT\u001b[0m\u001b[0;34m.\u001b[0m\u001b[0msum\u001b[0m\u001b[0;34m(\u001b[0m\u001b[0maxis\u001b[0m\u001b[0;34m=\u001b[0m\u001b[0;36m1\u001b[0m\u001b[0;34m)\u001b[0m\u001b[0;34m)\u001b[0m\u001b[0;34m[\u001b[0m\u001b[0;36m0\u001b[0m\u001b[0;34m]\u001b[0m\u001b[0;34m.\u001b[0m\u001b[0mtolist\u001b[0m\u001b[0;34m(\u001b[0m\u001b[0;34m)\u001b[0m\u001b[0;34m\u001b[0m\u001b[0;34m\u001b[0m\u001b[0m\n\u001b[1;32m      5\u001b[0m \u001b[0;34m\u001b[0m\u001b[0m\n",
      "\u001b[0;31mNameError\u001b[0m: name 'epsilon_max_th_th' is not defined"
     ]
    }
   ],
   "source": [
    "## Cardinals of I_active and J_active\n",
    "epsilon_active = epsilon_max_th_th\n",
    "I_active = np.where(a >= epsilon_active**2 * K.sum(axis=1))[0].tolist()\n",
    "J_active = np.where(b >= epsilon_active**2 * K.T.sum(axis=1))[0].tolist()\n",
    "\n",
    "len(I_active), len(J_active)"
   ]
  },
  {
   "cell_type": "code",
   "execution_count": 21,
   "metadata": {},
   "outputs": [],
   "source": [
    "## Initialize Screenkhorn class\n",
    "I_active = list(range(n_1))\n",
    "J_active = list(range(n_2))\n",
    "epsilon = 1e-5\n",
    "\n",
    "u0 = np.full(n_1,epsilon)\n",
    "v0 = np.full(n_2, epsilon)\n",
    "\n",
    "screenkhorn = Screenkhorn(a, b, M, reg, epsilon, I_active, J_active)"
   ]
  },
  {
   "cell_type": "markdown",
   "metadata": {},
   "source": [
    "## L-BFGS-B"
   ]
  },
  {
   "cell_type": "code",
   "execution_count": 22,
   "metadata": {},
   "outputs": [
    {
     "name": "stdout",
     "output_type": "stream",
     "text": [
      "Certificate is achieved\n",
      "Time spending during the restricted Skinkhorn is 0.010616064071655273\n"
     ]
    },
    {
     "data": {
      "text/plain": [
       "0.025691747665405273"
      ]
     },
     "execution_count": 22,
     "metadata": {},
     "output_type": "execute_result"
    }
   ],
   "source": [
    "## Initialization outside LBFGS takes 30 x sinkhorn\n",
    "# res_sink = screenkhorn.restricted_sinkhorn(u0, v0, I_active, J_active, max_iter=1000, tol=1e-9)\n",
    "\n",
    "u0_I = u0[I_active]\n",
    "v0_J = v0[J_active]\n",
    "tic = time()\n",
    "lbfgsb = screenkhorn.lbfgsb(u0_I, v0_J)\n",
    "toc_bfgs = time() - tic\n",
    "toc_bfgs"
   ]
  },
  {
   "cell_type": "code",
   "execution_count": 23,
   "metadata": {},
   "outputs": [
    {
     "data": {
      "text/plain": [
       "(0.029742956161499023,\n",
       " 0.025691747665405273,\n",
       " 1.1576852049480786,\n",
       " 0.8637926750086171)"
      ]
     },
     "execution_count": 23,
     "metadata": {},
     "output_type": "execute_result"
    }
   ],
   "source": [
    "time_sink, toc_bfgs, time_sink / toc_bfgs,  toc_bfgs / time_sink\n",
    "# (0.5018818378448486, 2.3092141151428223, 4.601111140141898) \n",
    "# (0.5108699798583984, 1.788315773010254, 3.5005301613258513)"
   ]
  },
  {
   "cell_type": "code",
   "execution_count": 24,
   "metadata": {},
   "outputs": [
    {
     "data": {
      "text/plain": [
       "15.08294039414823"
      ]
     },
     "execution_count": 24,
     "metadata": {},
     "output_type": "execute_result"
    }
   ],
   "source": [
    "time_sink / 0.0019719600677490234"
   ]
  },
  {
   "cell_type": "code",
   "execution_count": 28,
   "metadata": {},
   "outputs": [
    {
     "data": {
      "text/plain": [
       "[<matplotlib.lines.Line2D at 0x1a1b0072e8>]"
      ]
     },
     "execution_count": 28,
     "metadata": {},
     "output_type": "execute_result"
    },
    {
     "data": {
      "image/png": "[encoded data removed]",
      "text/plain": [
       "<Figure size 432x288 with 1 Axes>"
      ]
     },
     "metadata": {
      "needs_background": "light"
     },
     "output_type": "display_data"
    }
   ],
   "source": [
    "plt.plot(exp_u_star/1e2)\n",
    "plt.plot(lbfgsb[0])"
   ]
  },
  {
   "cell_type": "code",
   "execution_count": 26,
   "metadata": {},
   "outputs": [
    {
     "data": {
      "text/plain": [
       "[<matplotlib.lines.Line2D at 0x1a1b0fccc0>]"
      ]
     },
     "execution_count": 26,
     "metadata": {},
     "output_type": "execute_result"
    },
    {
     "data": {
      "image/png": "[encoded data removed]",
      "text/plain": [
       "<Figure size 432x288 with 1 Axes>"
      ]
     },
     "metadata": {
      "needs_background": "light"
     },
     "output_type": "display_data"
    }
   ],
   "source": [
    "plt.plot(lbfgsb[0])"
   ]
  },
  {
   "cell_type": "code",
   "execution_count": 31,
   "metadata": {},
   "outputs": [
    {
     "data": {
      "text/plain": [
       "[<matplotlib.lines.Line2D at 0x1a1b3e2eb8>]"
      ]
     },
     "execution_count": 31,
     "metadata": {},
     "output_type": "execute_result"
    },
    {
     "data": {
      "image/png": "[encoded data removed]",
      "text/plain": [
       "<Figure size 432x288 with 1 Axes>"
      ]
     },
     "metadata": {
      "needs_background": "light"
     },
     "output_type": "display_data"
    }
   ],
   "source": [
    "plt.plot(exp_v_star*1e2)\n",
    "plt.plot(lbfgsb[1])"
   ]
  },
  {
   "cell_type": "code",
   "execution_count": 30,
   "metadata": {},
   "outputs": [
    {
     "data": {
      "text/plain": [
       "[<matplotlib.lines.Line2D at 0x1a1ade6470>]"
      ]
     },
     "execution_count": 30,
     "metadata": {},
     "output_type": "execute_result"
    },
    {
     "data": {
      "image/png": "[encoded data removed]",
      "text/plain": [
       "<Figure size 432x288 with 1 Axes>"
      ]
     },
     "metadata": {
      "needs_background": "light"
     },
     "output_type": "display_data"
    }
   ],
   "source": [
    "#plt.plot(exp_v_star)\n",
    "plt.plot(lbfgsb[1])"
   ]
  },
  {
   "cell_type": "code",
   "execution_count": 32,
   "metadata": {},
   "outputs": [
    {
     "name": "stdout",
     "output_type": "stream",
     "text": [
      "sum of the marginals in sinkhorn are: 1.0000000000000007, \t 1.0000000000000007\n",
      "\t\n",
      "sum of the marginals in screenkhorn are: 0.9999990957012598, \t 0.9999990957012606\n",
      "\t\n",
      "Difference in sinkhorn: 6.661338147750939e-16 \t 6.661338147750939e-16:\n",
      "\t\n",
      "Difference in screenkhorn: 9.042987402230196e-07 \t  9.042987394458635e-07:\n",
      "\t\n",
      "Frobenius norm of difference solution matrices 2.808158816149282e-08 \n",
      "\t\n",
      "Max norm of difference solution matrices 1.8113172713995213e-10 \n"
     ]
    }
   ],
   "source": [
    "# sinkhorn\n",
    "P_star = np.diag(exp_u_star) @ K @ np.diag(exp_v_star)\n",
    "a_star = P_star @ np.ones(n_2)\n",
    "b_star = P_star.T @ np.ones(n_1)\n",
    "\n",
    "# screenkhorn via lbfgsb\n",
    "usc_bfgs = lbfgsb[0]\n",
    "vsc_bfgs = lbfgsb[1]\n",
    "P_sc_bfgs = np.diag(usc_bfgs) @ K @ np.diag(vsc_bfgs)\n",
    "a_sc_bfgs = P_sc_bfgs @ np.ones(n_2)\n",
    "b_sc_bfgs = P_sc_bfgs.T @ np.ones(n_1)\n",
    "\n",
    "print(\"sum of the marginals in sinkhorn are: %s, \\t %s\" %(sum(a_star), sum(b_star)))\n",
    "print(\"\\t\")\n",
    "print(\"sum of the marginals in screenkhorn are: %s, \\t %s\" %(sum(a_sc_bfgs), sum(b_sc_bfgs)))\n",
    "print(\"\\t\")\n",
    "print(\"Difference in sinkhorn: %s \\t %s:\" %(abs(1 - sum(a_star)), abs(1 - sum(b_star))))\n",
    "print(\"\\t\")\n",
    "print(\"Difference in screenkhorn: %s \\t  %s:\" %(abs(1 - sum(a_sc_bfgs)), abs(1 - sum(b_sc_bfgs))))\n",
    "print(\"\\t\")\n",
    "print(\"Frobenius norm of difference solution matrices %s \" %np.linalg.norm(P_star - P_sc_bfgs,'fro'))\n",
    "print('\\t')\n",
    "print(\"Max norm of difference solution matrices %s \"  %abs(P_star - P_sc_bfgs).max())"
   ]
  },
  {
   "cell_type": "markdown",
   "metadata": {},
   "source": [
    "### Time for greenkhorn"
   ]
  },
  {
   "cell_type": "code",
   "execution_count": null,
   "metadata": {},
   "outputs": [],
   "source": [
    "tic = time()\n",
    "P = greenkhorn(a, b, M, reg, numItermax=100000, stopThr=1e-9, log=False)\n",
    "P\n",
    "time_green = time() - tic\n",
    "time_green, time_sink, time_green/time_sink"
   ]
  },
  {
   "cell_type": "code",
   "execution_count": null,
   "metadata": {},
   "outputs": [],
   "source": []
  },
  {
   "cell_type": "code",
   "execution_count": null,
   "metadata": {},
   "outputs": [],
   "source": []
  },
  {
   "cell_type": "code",
   "execution_count": null,
   "metadata": {},
   "outputs": [],
   "source": []
  },
  {
   "cell_type": "code",
   "execution_count": null,
   "metadata": {},
   "outputs": [],
   "source": []
  }
 ],
 "metadata": {
  "kernelspec": {
   "display_name": "Python 3",
   "language": "python",
   "name": "python3"
  },
  "language_info": {
   "codemirror_mode": {
    "name": "ipython",
    "version": 3
   },
   "file_extension": ".py",
   "mimetype": "text/x-python",
   "name": "python",
   "nbconvert_exporter": "python",
   "pygments_lexer": "ipython3",
   "version": "3.6.8"
  }
 },
 "nbformat": 4,
 "nbformat_minor": 2
}

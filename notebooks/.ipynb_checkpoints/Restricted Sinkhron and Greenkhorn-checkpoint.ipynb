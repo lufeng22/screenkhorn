{
 "cells": [
  {
   "cell_type": "code",
   "execution_count": 1,
   "metadata": {},
   "outputs": [],
   "source": [
    "# NUMPY\n",
    "import numpy as np\n",
    "np.random.seed(3946)\n",
    "# MATPLOTLIB\n",
    "import matplotlib.pyplot as plt\n",
    "plt.style.context('dark_background')\n",
    "%matplotlib inline \n",
    "from matplotlib import rc\n",
    "rc('font', **{'family': 'sans-serif', 'sans-serif': ['Computer Modern Roman']})\n",
    "params = {'axes.labelsize': 8, # 12\n",
    "          'font.size': 8, # 12\n",
    "          'legend.fontsize': 8, # 12\n",
    "          'xtick.labelsize': 8, # 10\n",
    "          'ytick.labelsize': 8, # 10\n",
    "          'text.usetex': True,\n",
    "          'figure.figsize': (16, 6)}\n",
    "plt.rcParams.update(params)\n",
    "\n",
    "# SEABORN \n",
    "import seaborn as sns\n",
    "sns.set_context(\"poster\")\n",
    "sns.set_style(\"ticks\")\n",
    "\n",
    "# SKLEARN \n",
    "from sklearn.metrics import pairwise_distances\n",
    "\n",
    "# WARNINGS\n",
    "import warnings\n",
    "warnings.filterwarnings(\"ignore\", category=FutureWarning)\n",
    "\n",
    "# TIME\n",
    "from time import time \n",
    "\n",
    "# PATH \n",
    "import sys\n",
    "path_files = '/Users/mzalaya/PycharmProjects/OATMIL/oatmilrouen/'\n",
    "sys.path.insert(0, path_files) \n",
    "\n",
    "# POT\n",
    "import ot\n",
    "from ot import sinkhorn, emd\n",
    "\n",
    "# GREENKHORN \n",
    "from ot.bregman import greenkhorn\n",
    "\n",
    "# SCREENKHORN\n",
    "from screenkhorn.screenkhorn import Screenkhorn\n",
    "from screenkhorn.path_regularization import path_regularization_with_restricted_Sinkhorn, path_regularization\n"
   ]
  },
  {
   "cell_type": "markdown",
   "metadata": {},
   "source": [
    "## Data generation"
   ]
  },
  {
   "cell_type": "code",
   "execution_count": 2,
   "metadata": {},
   "outputs": [],
   "source": [
    "n_1 = 200# nb samples\n",
    "n_2 = 100\n",
    "mu_s = np.array([0, 0])\n",
    "cov_s = np.array([[1, 0], [0, 1]])\n",
    "\n",
    "mu_t = np.array([4, 4])\n",
    "cov_t = np.array([[1, -.8], [-.8, 1]])\n",
    "\n",
    "xs = ot.datasets.make_2D_samples_gauss(n_1, mu_s, cov_s)\n",
    "xt = ot.datasets.make_2D_samples_gauss(n_2, mu_t, cov_t)\n",
    "\n",
    "a = np.ones((n_1,)) / n_1\n",
    "b = np.ones((n_2,)) / n_2  # uniform distribution on samples\n",
    "\n",
    "# loss matrix\n",
    "M = ot.dist(xs, xt)\n",
    "M /= M.max()\n",
    "reg = 0.7\n",
    "\n",
    "K = np.exp(-M/reg)"
   ]
  },
  {
   "cell_type": "code",
   "execution_count": 3,
   "metadata": {},
   "outputs": [],
   "source": [
    "# plt.scatter(xs[:,0], xs[:,1], marker='^', c='m')\n",
    "# plt.scatter(xt[:,0], xt[:,1], marker='o', c='g');"
   ]
  },
  {
   "cell_type": "markdown",
   "metadata": {},
   "source": [
    "## Bounds of $\\varepsilon \\in (\\varepsilon_{\\min}, \\varepsilon_{\\max})$\n",
    "\n",
    "\\begin{equation}\n",
    "\\label{varepsilon_min}\n",
    "\\varepsilon_{\\min} = \\min\\bigg\\{\\min_{i}\\sqrt{\\frac{\\mu_i}{\\sum_{j}K_{ij}}}, \\min_{j}\\sqrt{\\frac{\\nu_j}{\\sum_{i}K_{ij}}}\\bigg\\},\n",
    "\\end{equation}\n",
    "and \n",
    "\\begin{align}\n",
    "\t\\label{varepsilon_max}\n",
    "\t\\varepsilon_{\\max} = \\max\\bigg\\{\\max_{i}\\sqrt{\\frac{\\mu_i}{\\sum_{j}K_{ij}}}, \\max_{j}\\sqrt{\\frac{\\nu_j}{\\sum_{i}K_{ij}}}\\bigg\\}.\n",
    "\\end{align}"
   ]
  },
  {
   "cell_type": "code",
   "execution_count": 22,
   "metadata": {},
   "outputs": [
    {
     "data": {
      "image/png": "[encoded data removed]",
      "text/plain": [
       "<Figure size 432x288 with 1 Axes>"
      ]
     },
     "metadata": {
      "needs_background": "light"
     },
     "output_type": "display_data"
    }
   ],
   "source": [
    "epsilon_tree_a = np.sqrt(a / K.sum(axis=1))\n",
    "epsilon_tree_a_sort = np.sort(epsilon_tree_a)[::-1]\n",
    "epsilon_tree_b = np.sqrt(b / K.T.sum(axis=1))\n",
    "epsilon_tree_b_sort = np.sort(epsilon_tree_b)[::-1]\n",
    "plt.plot(epsilon_tree_a_sort, label=r'$\\varepsilon_i$')\n",
    "plt.plot(epsilon_tree_b_sort, label=r'$\\varepsilon_j$')\n",
    "plt.legend();"
   ]
  },
  {
   "cell_type": "code",
   "execution_count": 23,
   "metadata": {},
   "outputs": [],
   "source": [
    "epsilon_tree_ab = np.sort(np.hstack([epsilon_tree_a, epsilon_tree_b]))[::-1]\n",
    "epsilon_tree_ab_eps_1 = (max(epsilon_tree_ab) - min(epsilon_tree_ab))/2 + min(epsilon_tree_ab)\n",
    "epsilon_tree_ab_eps_2 = (max(epsilon_tree_ab) - min(epsilon_tree_ab))/3 + min(epsilon_tree_ab)\n",
    "\n",
    "epsilon_tree_ab_eps = np.array([epsilon_tree_ab_eps_2])"
   ]
  },
  {
   "cell_type": "code",
   "execution_count": 24,
   "metadata": {},
   "outputs": [
    {
     "data": {
      "image/png": "[encoded data removed]",
      "text/plain": [
       "<Figure size 432x288 with 1 Axes>"
      ]
     },
     "metadata": {
      "needs_background": "light"
     },
     "output_type": "display_data"
    }
   ],
   "source": [
    "plt.plot(epsilon_tree_ab);"
   ]
  },
  {
   "cell_type": "markdown",
   "metadata": {},
   "source": [
    "## Restricted Sinkhorn\n"
   ]
  },
  {
   "cell_type": "code",
   "execution_count": 25,
   "metadata": {},
   "outputs": [],
   "source": [
    "## Initial points\n",
    "log_epsilons = np.log(epsilon_tree_ab_eps)\n",
    "u0 = np.full(n_1, np.max(log_epsilons))\n",
    "v0 = np.full(n_2, np.max(log_epsilons))\n",
    "\n",
    "I_test = np.where(a >= np.mean(epsilon_tree_ab_eps)** 2 * K.sum(axis=1))[0].tolist()\n",
    "J_test = np.where(b >= np.mean(epsilon_tree_ab_eps)** 2 * K.T.sum(axis=1))[0].tolist()\n",
    "\n",
    "u0[I_test] = - 10 * np.mean(log_epsilons)\n",
    "v0[J_test] = - 10 * np.mean(log_epsilons)"
   ]
  },
  {
   "cell_type": "code",
   "execution_count": 27,
   "metadata": {},
   "outputs": [
    {
     "data": {
      "text/plain": [
       "(99, 46)"
      ]
     },
     "execution_count": 27,
     "metadata": {},
     "output_type": "execute_result"
    }
   ],
   "source": [
    "## Cardinals of I_test and J_test\n",
    "len(I_test), len(J_test)"
   ]
  },
  {
   "cell_type": "code",
   "execution_count": 28,
   "metadata": {},
   "outputs": [
    {
     "data": {
      "text/plain": [
       "<matplotlib.lines.Line2D at 0x1a20f95320>"
      ]
     },
     "execution_count": 28,
     "metadata": {},
     "output_type": "execute_result"
    },
    {
     "data": {
      "image/png": "[encoded data removed]",
      "text/plain": [
       "<Figure size 432x288 with 1 Axes>"
      ]
     },
     "metadata": {
      "needs_background": "light"
     },
     "output_type": "display_data"
    }
   ],
   "source": [
    "plt.plot(u0[:100]);\n",
    "plt.axhline(y=np.max(log_epsilons), color='r')"
   ]
  },
  {
   "cell_type": "code",
   "execution_count": 29,
   "metadata": {},
   "outputs": [],
   "source": [
    "# Initialize Screenkhorn class\n",
    "epsilon = epsilon_tree_ab_eps[0]\n",
    "screenkhorn = Screenkhorn(a, b, M, reg, epsilon)"
   ]
  },
  {
   "cell_type": "code",
   "execution_count": null,
   "metadata": {},
   "outputs": [],
   "source": [
    "time_start_sinklike = time()\n",
    "sinkhornlike = screenkhorn.restricted_sinkhorn(u0, v0, I_test, J_test, max_iter=100, tol=1e-9)\n",
    "                           #trace=True, verbose=False)\n",
    "time_end = time() - time_start_sinklike\n",
    "print(time_end )"
   ]
  },
  {
   "cell_type": "code",
   "execution_count": null,
   "metadata": {},
   "outputs": [],
   "source": [
    "u_like = sinkhornlike[\"usc\"]\n",
    "v_like = sinkhornlike[\"vsc\"]\n",
    "\n",
    "plt.plot(u_like)\n",
    "plt.plot(v_like);"
   ]
  },
  {
   "cell_type": "code",
   "execution_count": null,
   "metadata": {},
   "outputs": [],
   "source": [
    "time_sink = time()\n",
    "P_sink = sinkhorn(a, b, M, reg, log=True, numItermax=100, stopThr=1e-19)\n",
    "P_star = P_sink[0]\n",
    "outputs_dict = P_sink[1]\n",
    "exp_u_star = outputs_dict['u']\n",
    "exp_v_star = outputs_dict['v']\n",
    "time_tc_sink = time() - time_sink\n",
    "print(time_tc_sink)"
   ]
  },
  {
   "cell_type": "code",
   "execution_count": null,
   "metadata": {},
   "outputs": [],
   "source": [
    "time_tc_sink / time_end "
   ]
  },
  {
   "cell_type": "code",
   "execution_count": null,
   "metadata": {},
   "outputs": [],
   "source": [
    "plt.plot(exp_u_star, linewidth=2, color='r', label=r'$e^{u^\\star}$')\n",
    "plt.plot(u_like, linewidth=2, color='b', label=r'$e^{u^\\star}$');"
   ]
  },
  {
   "cell_type": "code",
   "execution_count": null,
   "metadata": {},
   "outputs": [],
   "source": [
    "X = np.random.uniform(size=(4,3))\n",
    "X"
   ]
  },
  {
   "cell_type": "code",
   "execution_count": null,
   "metadata": {},
   "outputs": [],
   "source": [
    "X.reshape(-1,1).shape"
   ]
  },
  {
   "cell_type": "code",
   "execution_count": null,
   "metadata": {},
   "outputs": [],
   "source": [
    "(exp_u_star - u_like).max()"
   ]
  },
  {
   "cell_type": "code",
   "execution_count": null,
   "metadata": {},
   "outputs": [],
   "source": [
    "time_tc_sink "
   ]
  },
  {
   "cell_type": "code",
   "execution_count": null,
   "metadata": {},
   "outputs": [],
   "source": []
  },
  {
   "cell_type": "code",
   "execution_count": null,
   "metadata": {},
   "outputs": [],
   "source": []
  },
  {
   "cell_type": "code",
   "execution_count": null,
   "metadata": {},
   "outputs": [],
   "source": [
    "raise \"Error\""
   ]
  },
  {
   "cell_type": "code",
   "execution_count": null,
   "metadata": {},
   "outputs": [],
   "source": [
    "## choice of solver, the 'acc_proj_grad' is the fastest.\n",
    "# solver = 'proj_grad' \n",
    "# solver = 'block_acc_proj_grad' \n",
    "# solver = 'block_proj_grad'\n",
    "solver = 'acc_proj_grad'\n",
    "\n",
    "## params of solver\n",
    "step_size_solver = None\n",
    "backtracking_solver = False\n",
    "max_iter_backtracking_solver = 30\n",
    "max_iter_solver = 1000\n",
    "tol_solver = 1e-9\n",
    "\n",
    "time_path = time()\n",
    "u, v = path_regularization_with_restricted_Sinkhorn(a, b, M, reg, u0, v0, epsilon_tree_ab_eps,\n",
    "                                                    solver=solver,\n",
    "                                                    step_size_solver=step_size_solver,\n",
    "                                                    backtracking_solver=backtracking_solver,\n",
    "                                                    max_iter_backtracking_solver=max_iter_backtracking_solver,\n",
    "                                                    max_iter_solver=max_iter_solver,\n",
    "                                                    tol_solver=tol_solver)"
   ]
  },
  {
   "cell_type": "code",
   "execution_count": null,
   "metadata": {},
   "outputs": [],
   "source": [
    "# screenkhorn = Screenkhorn(a, b, M, reg, 0.0095) #epsilon_tree_ab_eps[0])\n",
    "# sol_eps = screenkhorn.projected_grad(u00, v00, I_test, J_test,\n",
    "                                           # max_iter_backtracking=10,\n",
    "                                           # step_size=10., max_iter=1000, tol=1e-8, verbose=False)"
   ]
  },
  {
   "cell_type": "code",
   "execution_count": null,
   "metadata": {},
   "outputs": [],
   "source": [
    "# plt.plot(u0);\n",
    "# plt.plot(sol_eps[\"usc\"])"
   ]
  },
  {
   "cell_type": "code",
   "execution_count": null,
   "metadata": {},
   "outputs": [],
   "source": [
    "# plt.plot(sol_eps [\"trace_time\"])"
   ]
  },
  {
   "cell_type": "code",
   "execution_count": null,
   "metadata": {},
   "outputs": [],
   "source": [
    "# plt.plot(trace_obj);"
   ]
  },
  {
   "cell_type": "code",
   "execution_count": null,
   "metadata": {},
   "outputs": [],
   "source": [
    "# plt.plot(u0)\n",
    "# plt.plot(v);\n",
    "plt.plot(u)\n",
    "# plt.plot(v);\n",
    "# plt.plot(v0);"
   ]
  },
  {
   "cell_type": "markdown",
   "metadata": {},
   "source": [
    "## Sinkhorn's algorithm from POT"
   ]
  },
  {
   "cell_type": "markdown",
   "metadata": {},
   "source": [
    "\n"
   ]
  },
  {
   "cell_type": "code",
   "execution_count": null,
   "metadata": {},
   "outputs": [],
   "source": [
    "time_sink = time()\n",
    "P_sink = sinkhorn(a, b, M, reg, log=True)\n",
    "P_star = P_sink[0]\n",
    "outputs_dict = P_sink[1]\n",
    "exp_u_star = outputs_dict['u']\n",
    "exp_v_star = outputs_dict['v']\n",
    "time_tc_sink = time() - time_sink\n",
    "print(time_tc_sink)"
   ]
  },
  {
   "cell_type": "code",
   "execution_count": null,
   "metadata": {},
   "outputs": [],
   "source": [
    "time_tc_path / time_tc_sink "
   ]
  },
  {
   "cell_type": "code",
   "execution_count": null,
   "metadata": {},
   "outputs": [],
   "source": [
    "time_tc_path, time_tc_sink, time_tc_path / time_tc_sink "
   ]
  },
  {
   "cell_type": "markdown",
   "metadata": {},
   "source": [
    "## Plots of $e^{u^\\star}$ and $e^{v^\\star}$ "
   ]
  },
  {
   "cell_type": "code",
   "execution_count": null,
   "metadata": {},
   "outputs": [],
   "source": [
    "plt.plot(exp_u_star, linewidth=2, color='r', label=r'$e^{u^\\star}$')\n"
   ]
  },
  {
   "cell_type": "code",
   "execution_count": null,
   "metadata": {},
   "outputs": [],
   "source": [
    "177 - 84"
   ]
  },
  {
   "cell_type": "code",
   "execution_count": null,
   "metadata": {},
   "outputs": [],
   "source": [
    "C_K = 1.\n",
    "# C_K = 1e+93\n",
    "# plt.plot(exp_u_star, linewidth=2, color='r', label=r'$e^{u^\\star}$')\n",
    "plt.plot(np.exp(u)*C_K, linewidth=2, color='b', label=r'$e^{u^\\star}$')\n",
    "\n",
    "# plt.plot(exp_v_star, linewidth=2, color='b', label=r'$e^{v^\\star}$')\n",
    "plt.legend()\n",
    "plt.subplots_adjust(hspace=.5)\n",
    "plt.tight_layout()"
   ]
  },
  {
   "cell_type": "code",
   "execution_count": null,
   "metadata": {},
   "outputs": [],
   "source": [
    "#plt.plot(exp_v_star, linewidth=2, color='g', label=r'$e^{u^\\star}$')\n",
    "plt.plot(np.exp(v)/C_K, linewidth=2, color='m', label=r'$e^{u^\\star}$')\n",
    "\n",
    "# plt.plot(exp_v_star, linewidth=2, color='b', label=r'$e^{v^\\star}$')\n",
    "plt.legend()\n",
    "plt.subplots_adjust(hspace=.5)\n",
    "plt.tight_layout()"
   ]
  },
  {
   "cell_type": "markdown",
   "metadata": {},
   "source": []
  },
  {
   "cell_type": "code",
   "execution_count": null,
   "metadata": {},
   "outputs": [],
   "source": [
    "P_active = np.diag(np.exp(u)*C_K) @ K @ np.diag(np.exp(v)/C_K)\n",
    "# P_active = np.diag(np.exp(u)) @ K @ np.diag(np.exp(v))\n",
    "\n",
    "(P_star - P_active).max()"
   ]
  },
  {
   "cell_type": "code",
   "execution_count": null,
   "metadata": {},
   "outputs": [],
   "source": [
    "# cb_padding = 0.005\n",
    "# fig, (ax1, ax2, ax3) = plt.subplots(ncols=3, figsize=(20,20))\n",
    "## I1 = ax1.matshow(np.divide(P_star.T, P_star.max()))\n",
    "# I1 = ax1.matshow(P_star.T)\n",
    "# ax1.set_title(r'$P^\\star$ from sinkhorn')\n",
    "# ax1.axis('off')\n",
    "# fig.colorbar(I1, ax=ax1, pad=cb_padding, orientation=\"horizontal\")\n",
    "# ax1.label_outer()\n",
    "## \n",
    "## I2 = ax2.matshow(np.divide(P_active.T, P_star.max()))\n",
    "# I2 = ax2.matshow(P_active.T)\n",
    "# ax2.set_title(r'$P^{sc}$ from screenkhorn');\n",
    "## ax2.label_outer()\n",
    "# ax2.axis('off')\n",
    "# fig.colorbar(I2, ax=ax2, pad=cb_padding, orientation=\"horizontal\")\n",
    "# \n",
    "## I3 = ax3.matshow(np.divide(np.abs(P_star.T - P_active.T) , np.abs(P_star.T - P_active.T).max()))\n",
    "# I3 = ax3.matshow(np.abs(P_star.T - P_active.T))\n",
    "# ax3.set_title('Difference $|P^\\star - P^{sc}|$');\n",
    "# ax3.label_outer()\n",
    "# ax3.axis('off');\n",
    "# fig.colorbar(I3, ax=ax3, pad=cb_padding, orientation=\"horizontal\")\n",
    "# plt.subplots_adjust(hspace=1)"
   ]
  },
  {
   "cell_type": "code",
   "execution_count": null,
   "metadata": {},
   "outputs": [],
   "source": [
    "(P_active @ np.ones(n_2)).sum()"
   ]
  },
  {
   "cell_type": "code",
   "execution_count": null,
   "metadata": {},
   "outputs": [],
   "source": [
    "(P_active.T @ np.ones(n_1)).sum()"
   ]
  },
  {
   "cell_type": "code",
   "execution_count": null,
   "metadata": {},
   "outputs": [],
   "source": [
    "(P_star @ np.ones(n_2)).sum()"
   ]
  },
  {
   "cell_type": "code",
   "execution_count": null,
   "metadata": {},
   "outputs": [],
   "source": [
    "(P_star.T @ np.ones(n_1)).sum()"
   ]
  },
  {
   "cell_type": "code",
   "execution_count": null,
   "metadata": {},
   "outputs": [],
   "source": []
  },
  {
   "cell_type": "code",
   "execution_count": null,
   "metadata": {},
   "outputs": [],
   "source": []
  },
  {
   "cell_type": "code",
   "execution_count": null,
   "metadata": {},
   "outputs": [],
   "source": []
  },
  {
   "cell_type": "code",
   "execution_count": null,
   "metadata": {},
   "outputs": [],
   "source": []
  },
  {
   "cell_type": "code",
   "execution_count": null,
   "metadata": {},
   "outputs": [],
   "source": []
  }
 ],
 "metadata": {
  "kernelspec": {
   "display_name": "Python 3",
   "language": "python",
   "name": "python3"
  },
  "language_info": {
   "codemirror_mode": {
    "name": "ipython",
    "version": 3
   },
   "file_extension": ".py",
   "mimetype": "text/x-python",
   "name": "python",
   "nbconvert_exporter": "python",
   "pygments_lexer": "ipython3",
   "version": "3.6.8"
  }
 },
 "nbformat": 4,
 "nbformat_minor": 2
}

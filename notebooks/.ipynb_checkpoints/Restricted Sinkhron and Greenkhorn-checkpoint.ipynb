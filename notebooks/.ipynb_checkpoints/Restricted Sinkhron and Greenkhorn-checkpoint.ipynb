{
 "cells": [
  {
   "cell_type": "code",
   "execution_count": 45,
   "metadata": {},
   "outputs": [],
   "source": [
    "# NUMPY\n",
    "import numpy as np\n",
    "np.random.seed(3946)\n",
    "# MATPLOTLIB\n",
    "import matplotlib.pyplot as plt\n",
    "plt.style.context('dark_background')\n",
    "%matplotlib inline \n",
    "from matplotlib import rc\n",
    "rc('font', **{'family': 'sans-serif', 'sans-serif': ['Computer Modern Roman']})\n",
    "params = {'axes.labelsize': 8, # 12\n",
    "          'font.size': 8, # 12\n",
    "          'legend.fontsize': 8, # 12\n",
    "          'xtick.labelsize': 8, # 10\n",
    "          'ytick.labelsize': 8, # 10\n",
    "          'text.usetex': True,\n",
    "          'figure.figsize': (16, 6)}\n",
    "plt.rcParams.update(params)\n",
    "\n",
    "# SEABORN \n",
    "import seaborn as sns\n",
    "sns.set_context(\"poster\")\n",
    "sns.set_style(\"ticks\")\n",
    "\n",
    "# SKLEARN \n",
    "from sklearn.metrics import pairwise_distances\n",
    "\n",
    "# WARNINGS\n",
    "import warnings\n",
    "warnings.filterwarnings(\"ignore\", category=FutureWarning)\n",
    "\n",
    "# TIME\n",
    "from time import time \n",
    "\n",
    "# PATH \n",
    "import sys\n",
    "path_files = '/Users/mzalaya/PycharmProjects/OATMIL/oatmilrouen/'\n",
    "sys.path.insert(0, path_files) \n",
    "\n",
    "# POT\n",
    "import ot\n",
    "from ot import sinkhorn, emd\n",
    "\n",
    "# GREENKHORN \n",
    "from ot.bregman import greenkhorn\n",
    "\n",
    "# SCREENKHORN\n",
    "from screenkhorn.screenkhorn_bis import Screenkhorn\n",
    "from screenkhorn.path_regularization import path_regularization_with_restricted_Sinkhorn, path_regularization\n"
   ]
  },
  {
   "cell_type": "markdown",
   "metadata": {},
   "source": [
    "## Data generation"
   ]
  },
  {
   "cell_type": "code",
   "execution_count": 46,
   "metadata": {},
   "outputs": [],
   "source": [
    "n_1 = 200# nb samples\n",
    "n_2 = 200\n",
    "mu_s = np.array([0, 0])\n",
    "cov_s = np.array([[1, 0], [0, 1]])\n",
    "\n",
    "mu_t = np.array([4, 4])\n",
    "cov_t = np.array([[1, -.8], [-.8, 1]])\n",
    "\n",
    "xs = ot.datasets.make_2D_samples_gauss(n_1, mu_s, cov_s)\n",
    "xt = ot.datasets.make_2D_samples_gauss(n_2, mu_t, cov_t)\n",
    "\n",
    "a = np.ones((n_1,)) / n_1\n",
    "b = np.ones((n_2,)) / n_2  # uniform distribution on samples\n",
    "\n",
    "# loss matrix\n",
    "M = ot.dist(xs, xt)\n",
    "M /= M.max()\n",
    "reg = 0.7\n",
    "\n",
    "K = np.exp(-M/reg)"
   ]
  },
  {
   "cell_type": "code",
   "execution_count": 3,
   "metadata": {},
   "outputs": [],
   "source": [
    "# plt.scatter(xs[:,0], xs[:,1], marker='^', c='m')\n",
    "# plt.scatter(xt[:,0], xt[:,1], marker='o', c='g');"
   ]
  },
  {
   "cell_type": "markdown",
   "metadata": {},
   "source": [
    "## Sinkhorn "
   ]
  },
  {
   "cell_type": "code",
   "execution_count": 58,
   "metadata": {},
   "outputs": [],
   "source": [
    "def Sinkhorn(C, r, c, epsilon):\n",
    "    \"\"\"\n",
    "    Sinkhorn's algorithm from [Altshuler et al, 2017], Alg.3\n",
    "    r -- vector of first measure\n",
    "    c -- vector of second measure\n",
    "    \"\"\"\n",
    "    tic = time()\n",
    "    maxIter = 2000\n",
    "    n = len(r)\n",
    "\n",
    "    # regularization parameter\n",
    "    gamma = epsilon / (4 * np.log(n))\n",
    "    print(gamma)\n",
    "\n",
    "    A = np.exp(-C/gamma)\n",
    "    A_0 = A;\n",
    "    A = A / A.sum()\n",
    "\n",
    "    max_el = C.max()\n",
    "\n",
    "    k = 0\n",
    "    x = np.zeros(n)\n",
    "    y = np.zeros(n)\n",
    "\n",
    "    while (np.linalg.norm(r - A.sum(axis=1), 1)\\\n",
    "           + np.linalg.norm(c - A.sum(axis=0) , 1) > epsilon /(8*max_el) and k < maxIter):\n",
    "        residual = np.linalg.norm(r - A.sum(axis=0), 1) + np.linalg.norm(c - A.sum(axis=0), 1)\n",
    "        print('k:%s, residual: %s' %(k, residual))\n",
    "        k = k + 1\n",
    "        if k %2 == 1:\n",
    "            x = x + np.log(r /A.sum(axis=1))\n",
    "        else:\n",
    "            y = y + np.log(c/A.sum(axis=0))\n",
    "\n",
    "        C_new = -C/gamma + x @ np.ones(n) + np.ones(n) @ y;\n",
    "        A = np.exp(C_new)\n",
    "        if k >= 500:\n",
    "            break\n",
    "\n",
    "    toc = time() - tic\n",
    "    return k, toc"
   ]
  },
  {
   "cell_type": "code",
   "execution_count": 59,
   "metadata": {},
   "outputs": [
    {
     "name": "stdout",
     "output_type": "stream",
     "text": [
      "0.04718479145443871\n"
     ]
    },
    {
     "ename": "TypeError",
     "evalue": "sum() takes no keyword arguments",
     "output_type": "error",
     "traceback": [
      "\u001b[0;31m---------------------------------------------------------------------------\u001b[0m",
      "\u001b[0;31mTypeError\u001b[0m                                 Traceback (most recent call last)",
      "\u001b[0;32m<ipython-input-59-10709c97426f>\u001b[0m in \u001b[0;36m<module>\u001b[0;34m\u001b[0m\n\u001b[0;32m----> 1\u001b[0;31m \u001b[0mk\u001b[0m\u001b[0;34m,\u001b[0m \u001b[0mtoc\u001b[0m \u001b[0;34m=\u001b[0m \u001b[0mSinkhorn\u001b[0m\u001b[0;34m(\u001b[0m\u001b[0mM\u001b[0m\u001b[0;34m,\u001b[0m \u001b[0ma\u001b[0m\u001b[0;34m,\u001b[0m \u001b[0mb\u001b[0m\u001b[0;34m,\u001b[0m \u001b[0;36m1.\u001b[0m\u001b[0;34m)\u001b[0m\u001b[0;34m\u001b[0m\u001b[0;34m\u001b[0m\u001b[0m\n\u001b[0m\u001b[1;32m      2\u001b[0m \u001b[0mk\u001b[0m\u001b[0;34m,\u001b[0m \u001b[0mtoc\u001b[0m\u001b[0;34m\u001b[0m\u001b[0;34m\u001b[0m\u001b[0m\n",
      "\u001b[0;32m<ipython-input-58-591108495001>\u001b[0m in \u001b[0;36mSinkhorn\u001b[0;34m(C, r, c, epsilon)\u001b[0m\n\u001b[1;32m     23\u001b[0m     \u001b[0my\u001b[0m \u001b[0;34m=\u001b[0m \u001b[0mnp\u001b[0m\u001b[0;34m.\u001b[0m\u001b[0mzeros\u001b[0m\u001b[0;34m(\u001b[0m\u001b[0mn\u001b[0m\u001b[0;34m)\u001b[0m\u001b[0;34m\u001b[0m\u001b[0;34m\u001b[0m\u001b[0m\n\u001b[1;32m     24\u001b[0m \u001b[0;34m\u001b[0m\u001b[0m\n\u001b[0;32m---> 25\u001b[0;31m     while (np.linalg.norm(r - sum(A, axis=1), 1)\\\n\u001b[0m\u001b[1;32m     26\u001b[0m            + np.linalg.norm(c - sum(A, axis=0) , 1) > epsilon /(8*max_el) and k < maxIter):\n\u001b[1;32m     27\u001b[0m         \u001b[0mresidual\u001b[0m \u001b[0;34m=\u001b[0m \u001b[0mnp\u001b[0m\u001b[0;34m.\u001b[0m\u001b[0mlinalg\u001b[0m\u001b[0;34m.\u001b[0m\u001b[0mnorm\u001b[0m\u001b[0;34m(\u001b[0m\u001b[0mr\u001b[0m \u001b[0;34m-\u001b[0m \u001b[0msum\u001b[0m\u001b[0;34m(\u001b[0m\u001b[0mA\u001b[0m\u001b[0;34m,\u001b[0m \u001b[0maxis\u001b[0m\u001b[0;34m=\u001b[0m\u001b[0;36m1\u001b[0m\u001b[0;34m)\u001b[0m\u001b[0;34m,\u001b[0m \u001b[0;36m1\u001b[0m\u001b[0;34m)\u001b[0m \u001b[0;34m+\u001b[0m \u001b[0mnp\u001b[0m\u001b[0;34m.\u001b[0m\u001b[0mlinalg\u001b[0m\u001b[0;34m.\u001b[0m\u001b[0mnorm\u001b[0m\u001b[0;34m(\u001b[0m\u001b[0mc\u001b[0m \u001b[0;34m-\u001b[0m \u001b[0msum\u001b[0m\u001b[0;34m(\u001b[0m\u001b[0mA\u001b[0m\u001b[0;34m,\u001b[0m \u001b[0maxis\u001b[0m\u001b[0;34m=\u001b[0m\u001b[0;36m0\u001b[0m\u001b[0;34m)\u001b[0m \u001b[0;34m,\u001b[0m \u001b[0;36m1\u001b[0m\u001b[0;34m)\u001b[0m\u001b[0;34m\u001b[0m\u001b[0;34m\u001b[0m\u001b[0m\n",
      "\u001b[0;31mTypeError\u001b[0m: sum() takes no keyword arguments"
     ]
    }
   ],
   "source": [
    "k, toc = Sinkhorn(M, a, b, 1.)\n",
    "k, toc"
   ]
  },
  {
   "cell_type": "code",
   "execution_count": 4,
   "metadata": {},
   "outputs": [
    {
     "name": "stdout",
     "output_type": "stream",
     "text": [
      "time of Sinkhorn algorithm is 0.0033347606658935547\n"
     ]
    }
   ],
   "source": [
    "tic = time()\n",
    "P_sink = sinkhorn(a, b, M, reg, log=True)\n",
    "P_star = P_sink[0]\n",
    "outputs_dict = P_sink[1]\n",
    "exp_u_star = outputs_dict['u']\n",
    "exp_v_star = outputs_dict['v']\n",
    "time_sink = time() - tic\n",
    "print(\"time of Sinkhorn algorithm is %s\" %time_sink)"
   ]
  },
  {
   "cell_type": "code",
   "execution_count": null,
   "metadata": {},
   "outputs": [],
   "source": []
  },
  {
   "cell_type": "code",
   "execution_count": null,
   "metadata": {},
   "outputs": [],
   "source": []
  },
  {
   "cell_type": "markdown",
   "metadata": {},
   "source": [
    "## Screenkhorn"
   ]
  },
  {
   "cell_type": "markdown",
   "metadata": {},
   "source": [
    "### Restricted Sinkhorn algorithm"
   ]
  },
  {
   "cell_type": "markdown",
   "metadata": {},
   "source": [
    "#### Bounds of $\\varepsilon \\in (\\varepsilon_{\\min}, \\varepsilon_{\\max})$\n",
    "\n",
    "\\begin{equation}\n",
    "\\label{varepsilon_min}\n",
    "\\varepsilon_{\\min} = \\min\\bigg\\{\\min_{i}\\sqrt{\\frac{\\mu_i}{\\sum_{j}K_{ij}}}, \\min_{j}\\sqrt{\\frac{\\nu_j}{\\sum_{i}K_{ij}}}\\bigg\\},\n",
    "\\end{equation}\n",
    "and \n",
    "\\begin{align}\n",
    "\t\\label{varepsilon_max}\n",
    "\t\\varepsilon_{\\max} = \\max\\bigg\\{\\max_{i}\\sqrt{\\frac{\\mu_i}{\\sum_{j}K_{ij}}}, \\max_{j}\\sqrt{\\frac{\\nu_j}{\\sum_{i}K_{ij}}}\\bigg\\}.\n",
    "\\end{align}"
   ]
  },
  {
   "cell_type": "code",
   "execution_count": 5,
   "metadata": {},
   "outputs": [
    {
     "data": {
      "image/png": "[encoded data removed]",
      "text/plain": [
       "<Figure size 432x288 with 1 Axes>"
      ]
     },
     "metadata": {
      "needs_background": "light"
     },
     "output_type": "display_data"
    }
   ],
   "source": [
    "epsilon_tree_a = np.sqrt(a / K.sum(axis=1))\n",
    "epsilon_tree_a_sort = np.sort(epsilon_tree_a)[::-1]\n",
    "epsilon_tree_b = np.sqrt(b / K.T.sum(axis=1))\n",
    "epsilon_tree_b_sort = np.sort(epsilon_tree_b)[::-1]\n",
    "plt.plot(epsilon_tree_a_sort, label=r'$\\varepsilon_i$')\n",
    "plt.plot(epsilon_tree_b_sort, label=r'$\\varepsilon_j$')\n",
    "plt.legend();"
   ]
  },
  {
   "cell_type": "markdown",
   "metadata": {},
   "source": [
    "#### Choice of epsilon"
   ]
  },
  {
   "cell_type": "code",
   "execution_count": 6,
   "metadata": {},
   "outputs": [
    {
     "data": {
      "text/plain": [
       "array([0.00773636])"
      ]
     },
     "execution_count": 6,
     "metadata": {},
     "output_type": "execute_result"
    }
   ],
   "source": [
    "epsilon_tree_ab = np.sort(np.hstack([epsilon_tree_a, epsilon_tree_b]))[::-1]\n",
    "epsilon_tree_ab_eps_1 = (max(epsilon_tree_ab) - min(epsilon_tree_ab))/2 + min(epsilon_tree_ab)\n",
    "epsilon_tree_ab_eps_2 = min(epsilon_tree_ab) # + (max(epsilon_tree_ab) - min(epsilon_tree_ab))/3e5+ \n",
    "\n",
    "epsilon_tree_ab_eps = np.array([epsilon_tree_ab_eps_2])\n",
    "epsilon_tree_ab_eps"
   ]
  },
  {
   "cell_type": "markdown",
   "metadata": {},
   "source": [
    "#### Initial points and a priori active sets"
   ]
  },
  {
   "cell_type": "code",
   "execution_count": 7,
   "metadata": {},
   "outputs": [],
   "source": [
    "log_epsilons = np.log(epsilon_tree_ab_eps)\n",
    "u0 = np.full(n_1, np.max(epsilon_tree_ab_eps))\n",
    "v0 = np.full(n_2, np.max(epsilon_tree_ab_eps))\n",
    "\n",
    "I_active = np.where(a >= np.mean(epsilon_tree_ab_eps)** 2 * K.sum(axis=1))[0].tolist()\n",
    "J_active = np.where(b >= np.mean(epsilon_tree_ab_eps)** 2 * K.T.sum(axis=1))[0].tolist()\n",
    "\n",
    "u0[I_active] = 10 * np.mean(epsilon_tree_ab_eps)\n",
    "v0[J_active] = 10 * np.mean(epsilon_tree_ab_eps)"
   ]
  },
  {
   "cell_type": "code",
   "execution_count": 8,
   "metadata": {},
   "outputs": [
    {
     "data": {
      "text/plain": [
       "(200, 100)"
      ]
     },
     "execution_count": 8,
     "metadata": {},
     "output_type": "execute_result"
    }
   ],
   "source": [
    "## Cardinals of I_test and J_test\n",
    "len(I_active), len(J_active)"
   ]
  },
  {
   "cell_type": "code",
   "execution_count": 9,
   "metadata": {},
   "outputs": [
    {
     "data": {
      "image/png": "[encoded data removed]",
      "text/plain": [
       "<Figure size 432x288 with 1 Axes>"
      ]
     },
     "metadata": {
      "needs_background": "light"
     },
     "output_type": "display_data"
    }
   ],
   "source": [
    "## Check the initial points\n",
    "plt.plot(v0[:100]);\n",
    "plt.axhline(y=np.max(log_epsilons), color='r');"
   ]
  },
  {
   "cell_type": "markdown",
   "metadata": {},
   "source": [
    "#### Initialize Screenkhorn class"
   ]
  },
  {
   "cell_type": "code",
   "execution_count": 10,
   "metadata": {},
   "outputs": [],
   "source": [
    "epsilon = epsilon_tree_ab_eps[0]\n",
    "screenkhorn = Screenkhorn(a, b, M, reg, epsilon)"
   ]
  },
  {
   "cell_type": "code",
   "execution_count": 11,
   "metadata": {},
   "outputs": [
    {
     "name": "stdout",
     "output_type": "stream",
     "text": [
      "time of restricted Sinkhorn algorithm is 1553855890.194081 \n",
      "\n",
      "Ratio between restricted_sinkhorn and sinkhorn is 1.4714377636376637\n"
     ]
    }
   ],
   "source": [
    "tic = time()\n",
    "sinkhornlike = screenkhorn.restricted_sinkhorn(np.exp(u0), np.exp(v0), I_active, J_active, max_iter=100, tol=1e-9)\n",
    "time_res_sink = time() - tic\n",
    "print(\"time of restricted Sinkhorn algorithm is %s \\n\" %tic)\n",
    "print(\"Ratio between restricted_sinkhorn and sinkhorn is % s\" %(time_res_sink/time_sink))"
   ]
  },
  {
   "cell_type": "code",
   "execution_count": 12,
   "metadata": {},
   "outputs": [],
   "source": [
    "u_sink_like = sinkhornlike[\"usc\"]\n",
    "v_sink_like = sinkhornlike[\"vsc\"]"
   ]
  },
  {
   "cell_type": "markdown",
   "metadata": {},
   "source": [
    "### Restricted Greenkhorn"
   ]
  },
  {
   "cell_type": "code",
   "execution_count": 13,
   "metadata": {},
   "outputs": [
    {
     "name": "stdout",
     "output_type": "stream",
     "text": [
      "Warning: Algorithm did not converge\n",
      "time of restricted Greenkhorn algorithm is 0.058496952056884766 \n",
      "\n",
      "Ratio between restricted_greenkhorn and sinkhorn is 17.54157431901051\n"
     ]
    }
   ],
   "source": [
    "tic = time()\n",
    "greenlike = screenkhorn.restricted_greenkhorn(np.exp(u0), np.exp(v0), I_active, J_active, max_iter=1000, tol=1e-9)\n",
    "time_res_green = time() - tic\n",
    "print(\"time of restricted Greenkhorn algorithm is %s \\n\" %time_res_green)\n",
    "print(\"Ratio between restricted_greenkhorn and sinkhorn is % s\" %(time_res_green/time_sink))"
   ]
  },
  {
   "cell_type": "code",
   "execution_count": 14,
   "metadata": {},
   "outputs": [],
   "source": [
    "u_green_like = greenlike[\"usc\"]\n",
    "v_green_like = greenlike[\"vsc\"]\n",
    "# P_green_like = greenlike[\"Psc\"]"
   ]
  },
  {
   "cell_type": "markdown",
   "metadata": {},
   "source": [
    "#### Figures"
   ]
  },
  {
   "cell_type": "code",
   "execution_count": 15,
   "metadata": {},
   "outputs": [
    {
     "data": {
      "image/png": "[encoded data removed]",
      "text/plain": [
       "<Figure size 432x288 with 6 Axes>"
      ]
     },
     "metadata": {
      "needs_background": "light"
     },
     "output_type": "display_data"
    }
   ],
   "source": [
    "figure, axes= plt.subplots(nrows=3, ncols=2)\n",
    "\n",
    "axes[0,0].plot(exp_u_star, linewidth=2, color='r', label=r'$e^{u^\\star}$')\n",
    "axes[1,0].plot(u_sink_like, linewidth=2, color='b', label=r'$e^{u^{scs}}$')\n",
    "axes[2,0].plot(u_green_like, linewidth=2, color='m', label=r'$e^{u^{scg}}$')\n",
    "\n",
    "axes[0,1].plot(exp_v_star, linewidth=2, color='g', label=r'$e^{v^\\star}$')\n",
    "axes[1,1].plot(v_sink_like, linewidth=2, color='c', label=r'$e^{v^{scs}}$')\n",
    "axes[2,1].plot(v_green_like, linewidth=2, color='b', label=r'$e^{v^{scg}}$')\n",
    "\n",
    "axes[0,0].legend()\n",
    "axes[1,0].legend()\n",
    "axes[2,0].legend()\n",
    "\n",
    "axes[0,1].legend()\n",
    "axes[1,1].legend()\n",
    "axes[2,1].legend()\n",
    "\n",
    "plt.subplots_adjust(hspace=.5)\n",
    "plt.tight_layout()"
   ]
  },
  {
   "cell_type": "code",
   "execution_count": 16,
   "metadata": {},
   "outputs": [
    {
     "data": {
      "image/png": "[encoded data removed]",
      "text/plain": [
       "<Figure size 432x288 with 1 Axes>"
      ]
     },
     "metadata": {
      "needs_background": "light"
     },
     "output_type": "display_data"
    }
   ],
   "source": [
    "# plt.plot(exp_u_star, linewidth=2, color='r', label=r'$e^{u^\\star}$')\n",
    "# plt.plot(u_sink_like/1e23, linewidth=2, color='b', label=r'$e^{u^\\star}$');\n",
    "# plt.plot(u_green_like/1e23, linewidth=2, color='m', label=r'$e^{u^\\star}$');\n",
    "\n",
    "plt.plot(u_green_like, linewidth=2, color='m', label=r'$e^{u^\\star}$');\n",
    "# plt.plot(v_green_like, linewidth=2, color='m', label=r'$e^{u^\\star}$');"
   ]
  },
  {
   "cell_type": "markdown",
   "metadata": {},
   "source": [
    "## Comparison of marginals"
   ]
  },
  {
   "cell_type": "markdown",
   "metadata": {},
   "source": []
  },
  {
   "cell_type": "code",
   "execution_count": 17,
   "metadata": {},
   "outputs": [],
   "source": [
    "# (P_star @ np.ones(n_2)).sum()"
   ]
  },
  {
   "cell_type": "code",
   "execution_count": 18,
   "metadata": {},
   "outputs": [],
   "source": [
    "# (P_star.T @ np.ones(n_1)).sum()"
   ]
  },
  {
   "cell_type": "code",
   "execution_count": 19,
   "metadata": {},
   "outputs": [],
   "source": [
    "# P_sc_sink = np.diag(u_sink_like) @ K @ np.diag(v_sink_like)\n",
    "# P_sc_green = np.diag(u_green_like) @ K @ np.diag(v_green_like)"
   ]
  },
  {
   "cell_type": "code",
   "execution_count": 20,
   "metadata": {},
   "outputs": [],
   "source": [
    "# (P_sc_sink @ np.ones(n_2)).sum(), (P_sc_sink.T @ np.ones(n_1)).sum()"
   ]
  },
  {
   "cell_type": "code",
   "execution_count": 21,
   "metadata": {},
   "outputs": [],
   "source": [
    "# (P_sc_green @ np.ones(n_2)).sum(), (P_sc_green.T @ np.ones(n_1)).sum()"
   ]
  },
  {
   "cell_type": "markdown",
   "metadata": {},
   "source": [
    "## PGD and restricted Sinkhorn"
   ]
  },
  {
   "cell_type": "markdown",
   "metadata": {},
   "source": [
    "## PGD\n",
    "## choice of solver, the 'acc_proj_grad' is the fastest.\n",
    "# solver = 'proj_grad' \n",
    "# solver = 'block_acc_proj_grad' \n",
    "# solver = 'block_proj_grad'\n",
    "solver = 'acc_proj_grad'\n",
    "\n",
    "## params of solver\n",
    "step_size_solver = None\n",
    "backtracking_solver = False\n",
    "max_iter_backtracking_solver = 30\n",
    "max_iter_solver = 1000\n",
    "tol_solver = 1e-9\n",
    "\n",
    "tic = time()\n",
    "# u, v = path_regularization_with_restricted_Sinkhorn(a, b, M, reg, u0, v0, epsilon_tree_ab_eps,\n",
    "                                                    solver=solver,\n",
    "                                                    step_size_solver=step_size_solver,\n",
    "                                                    backtracking_solver=backtracking_solver,\n",
    "                                                    max_iter_backtracking_solver=max_iter_backtracking_solver,\n",
    "                                                    max_iter_solver=max_iter_solver,\n",
    "                                                    tol_solver=tol_solver)\n",
    "time_path = time() - tic\n",
    "time_path\n",
    "\n",
    "\n",
    "# plt.plot(u0)\n",
    "# plt.plot(v);\n",
    "plt.plot(u);\n",
    "# plt.plot(v);\n",
    "# plt.plot(v0);\n",
    "\n",
    "# screenkhorn = Screenkhorn(a, b, M, reg, 0.0095) #epsilon_tree_ab_eps[0])\n",
    "# sol_eps = screenkhorn.projected_grad(u00, v00, I_test, J_test,\n",
    "                                           # max_iter_backtracking=10,\n",
    "                                           # step_size=10., max_iter=1000, tol=1e-8, verbose=False)"
   ]
  },
  {
   "cell_type": "code",
   "execution_count": 22,
   "metadata": {},
   "outputs": [],
   "source": [
    "# time_path, time_sink, time_path / time_sink "
   ]
  },
  {
   "cell_type": "markdown",
   "metadata": {},
   "source": [
    "# plt.plot(exp_u_star, linewidth=2, color='r', label=r'$e^{u^\\star}$')\n",
    "plt.plot(np.exp(u), linewidth=2, color='b', label=r'$e^{u^\\star}$')\n",
    "\n",
    "# plt.plot(exp_v_star, linewidth=2, color='b', label=r'$e^{v^\\star}$')\n",
    "plt.legend()\n",
    "plt.subplots_adjust(hspace=.5)\n",
    "plt.tight_layout()\n"
   ]
  },
  {
   "cell_type": "markdown",
   "metadata": {},
   "source": [
    "#plt.plot(exp_v_star, linewidth=2, color='g', label=r'$e^{u^\\star}$')\n",
    "plt.plot(np.exp(v), linewidth=2, color='m', label=r'$e^{u^\\star}$')\n",
    "\n",
    "# plt.plot(exp_v_star, linewidth=2, color='b', label=r'$e^{v^\\star}$')\n",
    "plt.legend()\n",
    "plt.subplots_adjust(hspace=.5)\n",
    "plt.tight_layout()"
   ]
  },
  {
   "cell_type": "code",
   "execution_count": 23,
   "metadata": {},
   "outputs": [],
   "source": [
    "# P_active = np.diag(np.exp(u)) @ K @ np.diag(np.exp(v))\n",
    "# P_active = np.diag(np.exp(u)) @ K @ np.diag(np.exp(v))\n",
    "\n",
    "# (P_star - P_active).max()"
   ]
  },
  {
   "cell_type": "code",
   "execution_count": 24,
   "metadata": {},
   "outputs": [],
   "source": [
    "# (P_active @ np.ones(n_2)).sum(), (P_active.T @ np.ones(n_1)).sum()"
   ]
  },
  {
   "cell_type": "markdown",
   "metadata": {},
   "source": [
    "## Comparaison of active sets"
   ]
  },
  {
   "cell_type": "code",
   "execution_count": 25,
   "metadata": {},
   "outputs": [
    {
     "name": "stdout",
     "output_type": "stream",
     "text": [
      "200 200\n",
      "100 100\n"
     ]
    }
   ],
   "source": [
    "I_like = np.where(u_sink_like > epsilon)[0].tolist()\n",
    "J_like = np.where(v_sink_like > epsilon)[0].tolist()\n",
    "print(len(I_active), len(I_like))\n",
    "print(len(J_active), len(J_like))"
   ]
  },
  {
   "cell_type": "code",
   "execution_count": 37,
   "metadata": {},
   "outputs": [
    {
     "name": "stdout",
     "output_type": "stream",
     "text": [
      "Time spending during restricted Skinkhorn is 0.002107858657836914\n"
     ]
    }
   ],
   "source": [
    "import time \n",
    "tic = time.time()\n",
    "path = path_regularization_with_restricted_Sinkhorn(a, b, M, reg, u0, v0, epsilon_tree_ab_eps, solver='proj_grad')\n",
    "toc_path = time.time() - tic"
   ]
  },
  {
   "cell_type": "code",
   "execution_count": 39,
   "metadata": {},
   "outputs": [
    {
     "data": {
      "text/plain": [
       "(0.0033347606658935547, 2.7145609855651855, 814.0197326088511)"
      ]
     },
     "execution_count": 39,
     "metadata": {},
     "output_type": "execute_result"
    }
   ],
   "source": [
    "time_sink, toc_path, toc_path / time_sink"
   ]
  },
  {
   "cell_type": "markdown",
   "metadata": {},
   "source": [
    "## Comparison between PGD and Restricrted Sinkhorn"
   ]
  },
  {
   "cell_type": "code",
   "execution_count": 41,
   "metadata": {},
   "outputs": [
    {
     "name": "stdout",
     "output_type": "stream",
     "text": [
      "Achieved relative tolerance at iteration 135\n"
     ]
    },
    {
     "data": {
      "text/plain": [
       "(1.238961935043335, 371.5294916708372)"
      ]
     },
     "execution_count": 41,
     "metadata": {},
     "output_type": "execute_result"
    }
   ],
   "source": [
    "step_size = 10.\n",
    "import time\n",
    "tic = time.time()\n",
    "proj_grad = screenkhorn.projected_grad(u0, v0, I_active, J_active, max_iter=1000, tol=1e-9, step_size=step_size,\n",
    "                                  backtracking=True, backtracking_factor=0.5, max_iter_backtracking=60,\n",
    "                                  trace=True, verbose=False)\n",
    "toc_prg = time.time() - tic\n",
    "toc_prg, toc_prg / time_sink"
   ]
  },
  {
   "cell_type": "code",
   "execution_count": 42,
   "metadata": {},
   "outputs": [
    {
     "name": "stdout",
     "output_type": "stream",
     "text": [
      "Achieved relative tolerance at iteration 340\n"
     ]
    },
    {
     "data": {
      "text/plain": [
       "(11.759700059890747, 3526.400014298992)"
      ]
     },
     "execution_count": 42,
     "metadata": {},
     "output_type": "execute_result"
    }
   ],
   "source": [
    "step_size = None\n",
    "import time\n",
    "tic = time.time()\n",
    "acc_proj_grad = screenkhorn.acc_projected_grad(u0, v0, I_active, J_active, max_iter=1000, tol=1e-9, step_size=step_size,\n",
    "                                  backtracking=True, backtracking_factor=0.5, max_iter_backtracking=60,\n",
    "                                  trace=True, verbose=False)\n",
    "toc_accprg = time.time() - tic\n",
    "toc_accprg, toc_accprg/time_sink "
   ]
  },
  {
   "cell_type": "code",
   "execution_count": 44,
   "metadata": {},
   "outputs": [
    {
     "data": {
      "text/plain": [
       "(1.196120023727417, 358.68241938943305)"
      ]
     },
     "execution_count": 44,
     "metadata": {},
     "output_type": "execute_result"
    }
   ],
   "source": [
    "step_size = 10.\n",
    "import time\n",
    "tic = time.time()\n",
    "bloc_acc_proj_grad = screenkhorn.block_acc_projected_grad(u0, v0, I_active, J_active, max_iter=1000, tol=1e-9, step_size=step_size,\n",
    "                                  backtracking=False, backtracking_factor=0.5, max_iter_backtracking=60,\n",
    "                                  trace=True, verbose=False)\n",
    "toc_blocaccprg = time.time() - tic\n",
    "toc_blocaccprg, toc_blocaccprg/time_sink"
   ]
  },
  {
   "cell_type": "code",
   "execution_count": 31,
   "metadata": {},
   "outputs": [
    {
     "name": "stderr",
     "output_type": "stream",
     "text": [
      "/Users/mzalaya/PycharmProjects/OATMIL/oatmilrouen/screenkhorn/screenkhorn_bis.py:640: UserWarning: Maxium number of line-search iterations reached\n",
      "  warnings.warn(\"Maxium number of line-search iterations reached\")\n",
      "/Users/mzalaya/PycharmProjects/OATMIL/oatmilrouen/screenkhorn/screenkhorn_bis.py:669: UserWarning: Maxium number of line-search iterations reached\n",
      "  warnings.warn(\"Maxium number of line-search iterations reached\")\n",
      "/Users/mzalaya/PycharmProjects/OATMIL/oatmilrouen/screenkhorn/screenkhorn_bis.py:640: UserWarning: Maxium number of line-search iterations reached\n",
      "  warnings.warn(\"Maxium number of line-search iterations reached\")\n",
      "/Users/mzalaya/PycharmProjects/OATMIL/oatmilrouen/screenkhorn/screenkhorn_bis.py:99: RuntimeWarning: invalid value encountered in log\n",
      "  part_IJ = (u_param.T @ K_IJ @ v_param - np.log(u_param).T @ a_I - np.log(v_param).T @ b_J).sum()\n",
      "/Users/mzalaya/PycharmProjects/OATMIL/oatmilrouen/screenkhorn/screenkhorn_bis.py:669: UserWarning: Maxium number of line-search iterations reached\n",
      "  warnings.warn(\"Maxium number of line-search iterations reached\")\n",
      "/Users/mzalaya/PycharmProjects/OATMIL/oatmilrouen/screenkhorn/screenkhorn_bis.py:640: UserWarning: Maxium number of line-search iterations reached\n",
      "  warnings.warn(\"Maxium number of line-search iterations reached\")\n",
      "/Users/mzalaya/PycharmProjects/OATMIL/oatmilrouen/screenkhorn/screenkhorn_bis.py:640: UserWarning: Maxium number of line-search iterations reached\n",
      "  warnings.warn(\"Maxium number of line-search iterations reached\")\n",
      "/Users/mzalaya/PycharmProjects/OATMIL/oatmilrouen/screenkhorn/screenkhorn_bis.py:669: UserWarning: Maxium number of line-search iterations reached\n",
      "  warnings.warn(\"Maxium number of line-search iterations reached\")\n",
      "/Users/mzalaya/PycharmProjects/OATMIL/oatmilrouen/screenkhorn/screenkhorn_bis.py:669: UserWarning: Maxium number of line-search iterations reached\n",
      "  warnings.warn(\"Maxium number of line-search iterations reached\")\n",
      "/Users/mzalaya/PycharmProjects/OATMIL/oatmilrouen/screenkhorn/screenkhorn_bis.py:669: UserWarning: Maxium number of line-search iterations reached\n",
      "  warnings.warn(\"Maxium number of line-search iterations reached\")\n",
      "/Users/mzalaya/PycharmProjects/OATMIL/oatmilrouen/screenkhorn/screenkhorn_bis.py:669: UserWarning: Maxium number of line-search iterations reached\n",
      "  warnings.warn(\"Maxium number of line-search iterations reached\")\n",
      "/Users/mzalaya/PycharmProjects/OATMIL/oatmilrouen/screenkhorn/screenkhorn_bis.py:669: UserWarning: Maxium number of line-search iterations reached\n",
      "  warnings.warn(\"Maxium number of line-search iterations reached\")\n",
      "/Users/mzalaya/PycharmProjects/OATMIL/oatmilrouen/screenkhorn/screenkhorn_bis.py:669: UserWarning: Maxium number of line-search iterations reached\n",
      "  warnings.warn(\"Maxium number of line-search iterations reached\")\n",
      "/Users/mzalaya/PycharmProjects/OATMIL/oatmilrouen/screenkhorn/screenkhorn_bis.py:640: UserWarning: Maxium number of line-search iterations reached\n",
      "  warnings.warn(\"Maxium number of line-search iterations reached\")\n",
      "/Users/mzalaya/PycharmProjects/OATMIL/oatmilrouen/screenkhorn/screenkhorn_bis.py:669: UserWarning: Maxium number of line-search iterations reached\n",
      "  warnings.warn(\"Maxium number of line-search iterations reached\")\n",
      "/Users/mzalaya/PycharmProjects/OATMIL/oatmilrouen/screenkhorn/screenkhorn_bis.py:640: UserWarning: Maxium number of line-search iterations reached\n",
      "  warnings.warn(\"Maxium number of line-search iterations reached\")\n",
      "/Users/mzalaya/PycharmProjects/OATMIL/oatmilrouen/screenkhorn/screenkhorn_bis.py:640: UserWarning: Maxium number of line-search iterations reached\n",
      "  warnings.warn(\"Maxium number of line-search iterations reached\")\n",
      "/Users/mzalaya/PycharmProjects/OATMIL/oatmilrouen/screenkhorn/screenkhorn_bis.py:640: UserWarning: Maxium number of line-search iterations reached\n",
      "  warnings.warn(\"Maxium number of line-search iterations reached\")\n",
      "/Users/mzalaya/PycharmProjects/OATMIL/oatmilrouen/screenkhorn/screenkhorn_bis.py:640: UserWarning: Maxium number of line-search iterations reached\n",
      "  warnings.warn(\"Maxium number of line-search iterations reached\")\n",
      "/Users/mzalaya/PycharmProjects/OATMIL/oatmilrouen/screenkhorn/screenkhorn_bis.py:640: UserWarning: Maxium number of line-search iterations reached\n",
      "  warnings.warn(\"Maxium number of line-search iterations reached\")\n",
      "/Users/mzalaya/PycharmProjects/OATMIL/oatmilrouen/screenkhorn/screenkhorn_bis.py:640: UserWarning: Maxium number of line-search iterations reached\n",
      "  warnings.warn(\"Maxium number of line-search iterations reached\")\n",
      "/Users/mzalaya/PycharmProjects/OATMIL/oatmilrouen/screenkhorn/screenkhorn_bis.py:640: UserWarning: Maxium number of line-search iterations reached\n",
      "  warnings.warn(\"Maxium number of line-search iterations reached\")\n",
      "/Users/mzalaya/PycharmProjects/OATMIL/oatmilrouen/screenkhorn/screenkhorn_bis.py:640: UserWarning: Maxium number of line-search iterations reached\n",
      "  warnings.warn(\"Maxium number of line-search iterations reached\")\n",
      "/Users/mzalaya/PycharmProjects/OATMIL/oatmilrouen/screenkhorn/screenkhorn_bis.py:640: UserWarning: Maxium number of line-search iterations reached\n",
      "  warnings.warn(\"Maxium number of line-search iterations reached\")\n",
      "/Users/mzalaya/PycharmProjects/OATMIL/oatmilrouen/screenkhorn/screenkhorn_bis.py:640: UserWarning: Maxium number of line-search iterations reached\n",
      "  warnings.warn(\"Maxium number of line-search iterations reached\")\n",
      "/Users/mzalaya/PycharmProjects/OATMIL/oatmilrouen/screenkhorn/screenkhorn_bis.py:640: UserWarning: Maxium number of line-search iterations reached\n",
      "  warnings.warn(\"Maxium number of line-search iterations reached\")\n",
      "/Users/mzalaya/PycharmProjects/OATMIL/oatmilrouen/screenkhorn/screenkhorn_bis.py:640: UserWarning: Maxium number of line-search iterations reached\n",
      "  warnings.warn(\"Maxium number of line-search iterations reached\")\n",
      "/Users/mzalaya/PycharmProjects/OATMIL/oatmilrouen/screenkhorn/screenkhorn_bis.py:640: UserWarning: Maxium number of line-search iterations reached\n",
      "  warnings.warn(\"Maxium number of line-search iterations reached\")\n",
      "/Users/mzalaya/PycharmProjects/OATMIL/oatmilrouen/screenkhorn/screenkhorn_bis.py:640: UserWarning: Maxium number of line-search iterations reached\n",
      "  warnings.warn(\"Maxium number of line-search iterations reached\")\n",
      "/Users/mzalaya/PycharmProjects/OATMIL/oatmilrouen/screenkhorn/screenkhorn_bis.py:640: UserWarning: Maxium number of line-search iterations reached\n",
      "  warnings.warn(\"Maxium number of line-search iterations reached\")\n",
      "/Users/mzalaya/PycharmProjects/OATMIL/oatmilrouen/screenkhorn/screenkhorn_bis.py:640: UserWarning: Maxium number of line-search iterations reached\n",
      "  warnings.warn(\"Maxium number of line-search iterations reached\")\n",
      "/Users/mzalaya/PycharmProjects/OATMIL/oatmilrouen/screenkhorn/screenkhorn_bis.py:640: UserWarning: Maxium number of line-search iterations reached\n",
      "  warnings.warn(\"Maxium number of line-search iterations reached\")\n",
      "/Users/mzalaya/PycharmProjects/OATMIL/oatmilrouen/screenkhorn/screenkhorn_bis.py:640: UserWarning: Maxium number of line-search iterations reached\n",
      "  warnings.warn(\"Maxium number of line-search iterations reached\")\n",
      "/Users/mzalaya/PycharmProjects/OATMIL/oatmilrouen/screenkhorn/screenkhorn_bis.py:640: UserWarning: Maxium number of line-search iterations reached\n",
      "  warnings.warn(\"Maxium number of line-search iterations reached\")\n",
      "/Users/mzalaya/PycharmProjects/OATMIL/oatmilrouen/screenkhorn/screenkhorn_bis.py:640: UserWarning: Maxium number of line-search iterations reached\n",
      "  warnings.warn(\"Maxium number of line-search iterations reached\")\n",
      "/Users/mzalaya/PycharmProjects/OATMIL/oatmilrouen/screenkhorn/screenkhorn_bis.py:640: UserWarning: Maxium number of line-search iterations reached\n",
      "  warnings.warn(\"Maxium number of line-search iterations reached\")\n",
      "/Users/mzalaya/PycharmProjects/OATMIL/oatmilrouen/screenkhorn/screenkhorn_bis.py:640: UserWarning: Maxium number of line-search iterations reached\n",
      "  warnings.warn(\"Maxium number of line-search iterations reached\")\n",
      "/Users/mzalaya/PycharmProjects/OATMIL/oatmilrouen/screenkhorn/screenkhorn_bis.py:640: UserWarning: Maxium number of line-search iterations reached\n",
      "  warnings.warn(\"Maxium number of line-search iterations reached\")\n",
      "/Users/mzalaya/PycharmProjects/OATMIL/oatmilrouen/screenkhorn/screenkhorn_bis.py:640: UserWarning: Maxium number of line-search iterations reached\n",
      "  warnings.warn(\"Maxium number of line-search iterations reached\")\n",
      "/Users/mzalaya/PycharmProjects/OATMIL/oatmilrouen/screenkhorn/screenkhorn_bis.py:640: UserWarning: Maxium number of line-search iterations reached\n",
      "  warnings.warn(\"Maxium number of line-search iterations reached\")\n",
      "/Users/mzalaya/PycharmProjects/OATMIL/oatmilrouen/screenkhorn/screenkhorn_bis.py:640: UserWarning: Maxium number of line-search iterations reached\n",
      "  warnings.warn(\"Maxium number of line-search iterations reached\")\n",
      "/Users/mzalaya/PycharmProjects/OATMIL/oatmilrouen/screenkhorn/screenkhorn_bis.py:640: UserWarning: Maxium number of line-search iterations reached\n",
      "  warnings.warn(\"Maxium number of line-search iterations reached\")\n",
      "/Users/mzalaya/PycharmProjects/OATMIL/oatmilrouen/screenkhorn/screenkhorn_bis.py:640: UserWarning: Maxium number of line-search iterations reached\n",
      "  warnings.warn(\"Maxium number of line-search iterations reached\")\n"
     ]
    },
    {
     "name": "stderr",
     "output_type": "stream",
     "text": [
      "/Users/mzalaya/PycharmProjects/OATMIL/oatmilrouen/screenkhorn/screenkhorn_bis.py:640: UserWarning: Maxium number of line-search iterations reached\n",
      "  warnings.warn(\"Maxium number of line-search iterations reached\")\n",
      "/Users/mzalaya/PycharmProjects/OATMIL/oatmilrouen/screenkhorn/screenkhorn_bis.py:640: UserWarning: Maxium number of line-search iterations reached\n",
      "  warnings.warn(\"Maxium number of line-search iterations reached\")\n",
      "/Users/mzalaya/PycharmProjects/OATMIL/oatmilrouen/screenkhorn/screenkhorn_bis.py:640: UserWarning: Maxium number of line-search iterations reached\n",
      "  warnings.warn(\"Maxium number of line-search iterations reached\")\n",
      "/Users/mzalaya/PycharmProjects/OATMIL/oatmilrouen/screenkhorn/screenkhorn_bis.py:640: UserWarning: Maxium number of line-search iterations reached\n",
      "  warnings.warn(\"Maxium number of line-search iterations reached\")\n",
      "/Users/mzalaya/PycharmProjects/OATMIL/oatmilrouen/screenkhorn/screenkhorn_bis.py:640: UserWarning: Maxium number of line-search iterations reached\n",
      "  warnings.warn(\"Maxium number of line-search iterations reached\")\n",
      "/Users/mzalaya/PycharmProjects/OATMIL/oatmilrouen/screenkhorn/screenkhorn_bis.py:640: UserWarning: Maxium number of line-search iterations reached\n",
      "  warnings.warn(\"Maxium number of line-search iterations reached\")\n",
      "/Users/mzalaya/PycharmProjects/OATMIL/oatmilrouen/screenkhorn/screenkhorn_bis.py:640: UserWarning: Maxium number of line-search iterations reached\n",
      "  warnings.warn(\"Maxium number of line-search iterations reached\")\n",
      "/Users/mzalaya/PycharmProjects/OATMIL/oatmilrouen/screenkhorn/screenkhorn_bis.py:640: UserWarning: Maxium number of line-search iterations reached\n",
      "  warnings.warn(\"Maxium number of line-search iterations reached\")\n",
      "/Users/mzalaya/PycharmProjects/OATMIL/oatmilrouen/screenkhorn/screenkhorn_bis.py:640: UserWarning: Maxium number of line-search iterations reached\n",
      "  warnings.warn(\"Maxium number of line-search iterations reached\")\n",
      "/Users/mzalaya/PycharmProjects/OATMIL/oatmilrouen/screenkhorn/screenkhorn_bis.py:640: UserWarning: Maxium number of line-search iterations reached\n",
      "  warnings.warn(\"Maxium number of line-search iterations reached\")\n",
      "/Users/mzalaya/PycharmProjects/OATMIL/oatmilrouen/screenkhorn/screenkhorn_bis.py:640: UserWarning: Maxium number of line-search iterations reached\n",
      "  warnings.warn(\"Maxium number of line-search iterations reached\")\n",
      "/Users/mzalaya/PycharmProjects/OATMIL/oatmilrouen/screenkhorn/screenkhorn_bis.py:640: UserWarning: Maxium number of line-search iterations reached\n",
      "  warnings.warn(\"Maxium number of line-search iterations reached\")\n",
      "/Users/mzalaya/PycharmProjects/OATMIL/oatmilrouen/screenkhorn/screenkhorn_bis.py:640: UserWarning: Maxium number of line-search iterations reached\n",
      "  warnings.warn(\"Maxium number of line-search iterations reached\")\n",
      "/Users/mzalaya/PycharmProjects/OATMIL/oatmilrouen/screenkhorn/screenkhorn_bis.py:640: UserWarning: Maxium number of line-search iterations reached\n",
      "  warnings.warn(\"Maxium number of line-search iterations reached\")\n",
      "/Users/mzalaya/PycharmProjects/OATMIL/oatmilrouen/screenkhorn/screenkhorn_bis.py:640: UserWarning: Maxium number of line-search iterations reached\n",
      "  warnings.warn(\"Maxium number of line-search iterations reached\")\n",
      "/Users/mzalaya/PycharmProjects/OATMIL/oatmilrouen/screenkhorn/screenkhorn_bis.py:640: UserWarning: Maxium number of line-search iterations reached\n",
      "  warnings.warn(\"Maxium number of line-search iterations reached\")\n",
      "/Users/mzalaya/PycharmProjects/OATMIL/oatmilrouen/screenkhorn/screenkhorn_bis.py:640: UserWarning: Maxium number of line-search iterations reached\n",
      "  warnings.warn(\"Maxium number of line-search iterations reached\")\n",
      "/Users/mzalaya/PycharmProjects/OATMIL/oatmilrouen/screenkhorn/screenkhorn_bis.py:640: UserWarning: Maxium number of line-search iterations reached\n",
      "  warnings.warn(\"Maxium number of line-search iterations reached\")\n",
      "/Users/mzalaya/PycharmProjects/OATMIL/oatmilrouen/screenkhorn/screenkhorn_bis.py:640: UserWarning: Maxium number of line-search iterations reached\n",
      "  warnings.warn(\"Maxium number of line-search iterations reached\")\n",
      "/Users/mzalaya/PycharmProjects/OATMIL/oatmilrouen/screenkhorn/screenkhorn_bis.py:640: UserWarning: Maxium number of line-search iterations reached\n",
      "  warnings.warn(\"Maxium number of line-search iterations reached\")\n",
      "/Users/mzalaya/PycharmProjects/OATMIL/oatmilrouen/screenkhorn/screenkhorn_bis.py:640: UserWarning: Maxium number of line-search iterations reached\n",
      "  warnings.warn(\"Maxium number of line-search iterations reached\")\n",
      "/Users/mzalaya/PycharmProjects/OATMIL/oatmilrouen/screenkhorn/screenkhorn_bis.py:640: UserWarning: Maxium number of line-search iterations reached\n",
      "  warnings.warn(\"Maxium number of line-search iterations reached\")\n",
      "/Users/mzalaya/PycharmProjects/OATMIL/oatmilrouen/screenkhorn/screenkhorn_bis.py:640: UserWarning: Maxium number of line-search iterations reached\n",
      "  warnings.warn(\"Maxium number of line-search iterations reached\")\n",
      "/Users/mzalaya/PycharmProjects/OATMIL/oatmilrouen/screenkhorn/screenkhorn_bis.py:640: UserWarning: Maxium number of line-search iterations reached\n",
      "  warnings.warn(\"Maxium number of line-search iterations reached\")\n",
      "/Users/mzalaya/PycharmProjects/OATMIL/oatmilrouen/screenkhorn/screenkhorn_bis.py:640: UserWarning: Maxium number of line-search iterations reached\n",
      "  warnings.warn(\"Maxium number of line-search iterations reached\")\n",
      "/Users/mzalaya/PycharmProjects/OATMIL/oatmilrouen/screenkhorn/screenkhorn_bis.py:640: UserWarning: Maxium number of line-search iterations reached\n",
      "  warnings.warn(\"Maxium number of line-search iterations reached\")\n",
      "/Users/mzalaya/PycharmProjects/OATMIL/oatmilrouen/screenkhorn/screenkhorn_bis.py:640: UserWarning: Maxium number of line-search iterations reached\n",
      "  warnings.warn(\"Maxium number of line-search iterations reached\")\n",
      "/Users/mzalaya/PycharmProjects/OATMIL/oatmilrouen/screenkhorn/screenkhorn_bis.py:640: UserWarning: Maxium number of line-search iterations reached\n",
      "  warnings.warn(\"Maxium number of line-search iterations reached\")\n",
      "/Users/mzalaya/PycharmProjects/OATMIL/oatmilrouen/screenkhorn/screenkhorn_bis.py:640: UserWarning: Maxium number of line-search iterations reached\n",
      "  warnings.warn(\"Maxium number of line-search iterations reached\")\n",
      "/Users/mzalaya/PycharmProjects/OATMIL/oatmilrouen/screenkhorn/screenkhorn_bis.py:640: UserWarning: Maxium number of line-search iterations reached\n",
      "  warnings.warn(\"Maxium number of line-search iterations reached\")\n",
      "/Users/mzalaya/PycharmProjects/OATMIL/oatmilrouen/screenkhorn/screenkhorn_bis.py:640: UserWarning: Maxium number of line-search iterations reached\n",
      "  warnings.warn(\"Maxium number of line-search iterations reached\")\n",
      "/Users/mzalaya/PycharmProjects/OATMIL/oatmilrouen/screenkhorn/screenkhorn_bis.py:640: UserWarning: Maxium number of line-search iterations reached\n",
      "  warnings.warn(\"Maxium number of line-search iterations reached\")\n",
      "/Users/mzalaya/PycharmProjects/OATMIL/oatmilrouen/screenkhorn/screenkhorn_bis.py:640: UserWarning: Maxium number of line-search iterations reached\n",
      "  warnings.warn(\"Maxium number of line-search iterations reached\")\n",
      "/Users/mzalaya/PycharmProjects/OATMIL/oatmilrouen/screenkhorn/screenkhorn_bis.py:640: UserWarning: Maxium number of line-search iterations reached\n",
      "  warnings.warn(\"Maxium number of line-search iterations reached\")\n",
      "/Users/mzalaya/PycharmProjects/OATMIL/oatmilrouen/screenkhorn/screenkhorn_bis.py:640: UserWarning: Maxium number of line-search iterations reached\n",
      "  warnings.warn(\"Maxium number of line-search iterations reached\")\n",
      "/Users/mzalaya/PycharmProjects/OATMIL/oatmilrouen/screenkhorn/screenkhorn_bis.py:640: UserWarning: Maxium number of line-search iterations reached\n",
      "  warnings.warn(\"Maxium number of line-search iterations reached\")\n",
      "/Users/mzalaya/PycharmProjects/OATMIL/oatmilrouen/screenkhorn/screenkhorn_bis.py:640: UserWarning: Maxium number of line-search iterations reached\n",
      "  warnings.warn(\"Maxium number of line-search iterations reached\")\n",
      "/Users/mzalaya/PycharmProjects/OATMIL/oatmilrouen/screenkhorn/screenkhorn_bis.py:640: UserWarning: Maxium number of line-search iterations reached\n",
      "  warnings.warn(\"Maxium number of line-search iterations reached\")\n",
      "/Users/mzalaya/PycharmProjects/OATMIL/oatmilrouen/screenkhorn/screenkhorn_bis.py:640: UserWarning: Maxium number of line-search iterations reached\n",
      "  warnings.warn(\"Maxium number of line-search iterations reached\")\n",
      "/Users/mzalaya/PycharmProjects/OATMIL/oatmilrouen/screenkhorn/screenkhorn_bis.py:640: UserWarning: Maxium number of line-search iterations reached\n",
      "  warnings.warn(\"Maxium number of line-search iterations reached\")\n",
      "/Users/mzalaya/PycharmProjects/OATMIL/oatmilrouen/screenkhorn/screenkhorn_bis.py:640: UserWarning: Maxium number of line-search iterations reached\n",
      "  warnings.warn(\"Maxium number of line-search iterations reached\")\n",
      "/Users/mzalaya/PycharmProjects/OATMIL/oatmilrouen/screenkhorn/screenkhorn_bis.py:640: UserWarning: Maxium number of line-search iterations reached\n",
      "  warnings.warn(\"Maxium number of line-search iterations reached\")\n"
     ]
    },
    {
     "name": "stderr",
     "output_type": "stream",
     "text": [
      "/Users/mzalaya/PycharmProjects/OATMIL/oatmilrouen/screenkhorn/screenkhorn_bis.py:640: UserWarning: Maxium number of line-search iterations reached\n",
      "  warnings.warn(\"Maxium number of line-search iterations reached\")\n",
      "/Users/mzalaya/PycharmProjects/OATMIL/oatmilrouen/screenkhorn/screenkhorn_bis.py:640: UserWarning: Maxium number of line-search iterations reached\n",
      "  warnings.warn(\"Maxium number of line-search iterations reached\")\n",
      "/Users/mzalaya/PycharmProjects/OATMIL/oatmilrouen/screenkhorn/screenkhorn_bis.py:640: UserWarning: Maxium number of line-search iterations reached\n",
      "  warnings.warn(\"Maxium number of line-search iterations reached\")\n",
      "/Users/mzalaya/PycharmProjects/OATMIL/oatmilrouen/screenkhorn/screenkhorn_bis.py:640: UserWarning: Maxium number of line-search iterations reached\n",
      "  warnings.warn(\"Maxium number of line-search iterations reached\")\n",
      "/Users/mzalaya/PycharmProjects/OATMIL/oatmilrouen/screenkhorn/screenkhorn_bis.py:640: UserWarning: Maxium number of line-search iterations reached\n",
      "  warnings.warn(\"Maxium number of line-search iterations reached\")\n",
      "/Users/mzalaya/PycharmProjects/OATMIL/oatmilrouen/screenkhorn/screenkhorn_bis.py:640: UserWarning: Maxium number of line-search iterations reached\n",
      "  warnings.warn(\"Maxium number of line-search iterations reached\")\n",
      "/Users/mzalaya/PycharmProjects/OATMIL/oatmilrouen/screenkhorn/screenkhorn_bis.py:640: UserWarning: Maxium number of line-search iterations reached\n",
      "  warnings.warn(\"Maxium number of line-search iterations reached\")\n",
      "/Users/mzalaya/PycharmProjects/OATMIL/oatmilrouen/screenkhorn/screenkhorn_bis.py:640: UserWarning: Maxium number of line-search iterations reached\n",
      "  warnings.warn(\"Maxium number of line-search iterations reached\")\n",
      "/Users/mzalaya/PycharmProjects/OATMIL/oatmilrouen/screenkhorn/screenkhorn_bis.py:640: UserWarning: Maxium number of line-search iterations reached\n",
      "  warnings.warn(\"Maxium number of line-search iterations reached\")\n",
      "/Users/mzalaya/PycharmProjects/OATMIL/oatmilrouen/screenkhorn/screenkhorn_bis.py:640: UserWarning: Maxium number of line-search iterations reached\n",
      "  warnings.warn(\"Maxium number of line-search iterations reached\")\n",
      "/Users/mzalaya/PycharmProjects/OATMIL/oatmilrouen/screenkhorn/screenkhorn_bis.py:640: UserWarning: Maxium number of line-search iterations reached\n",
      "  warnings.warn(\"Maxium number of line-search iterations reached\")\n",
      "/Users/mzalaya/PycharmProjects/OATMIL/oatmilrouen/screenkhorn/screenkhorn_bis.py:640: UserWarning: Maxium number of line-search iterations reached\n",
      "  warnings.warn(\"Maxium number of line-search iterations reached\")\n",
      "/Users/mzalaya/PycharmProjects/OATMIL/oatmilrouen/screenkhorn/screenkhorn_bis.py:640: UserWarning: Maxium number of line-search iterations reached\n",
      "  warnings.warn(\"Maxium number of line-search iterations reached\")\n",
      "/Users/mzalaya/PycharmProjects/OATMIL/oatmilrouen/screenkhorn/screenkhorn_bis.py:640: UserWarning: Maxium number of line-search iterations reached\n",
      "  warnings.warn(\"Maxium number of line-search iterations reached\")\n",
      "/Users/mzalaya/PycharmProjects/OATMIL/oatmilrouen/screenkhorn/screenkhorn_bis.py:640: UserWarning: Maxium number of line-search iterations reached\n",
      "  warnings.warn(\"Maxium number of line-search iterations reached\")\n",
      "/Users/mzalaya/PycharmProjects/OATMIL/oatmilrouen/screenkhorn/screenkhorn_bis.py:640: UserWarning: Maxium number of line-search iterations reached\n",
      "  warnings.warn(\"Maxium number of line-search iterations reached\")\n",
      "/Users/mzalaya/PycharmProjects/OATMIL/oatmilrouen/screenkhorn/screenkhorn_bis.py:640: UserWarning: Maxium number of line-search iterations reached\n",
      "  warnings.warn(\"Maxium number of line-search iterations reached\")\n",
      "/Users/mzalaya/PycharmProjects/OATMIL/oatmilrouen/screenkhorn/screenkhorn_bis.py:640: UserWarning: Maxium number of line-search iterations reached\n",
      "  warnings.warn(\"Maxium number of line-search iterations reached\")\n",
      "/Users/mzalaya/PycharmProjects/OATMIL/oatmilrouen/screenkhorn/screenkhorn_bis.py:640: UserWarning: Maxium number of line-search iterations reached\n",
      "  warnings.warn(\"Maxium number of line-search iterations reached\")\n",
      "/Users/mzalaya/PycharmProjects/OATMIL/oatmilrouen/screenkhorn/screenkhorn_bis.py:640: UserWarning: Maxium number of line-search iterations reached\n",
      "  warnings.warn(\"Maxium number of line-search iterations reached\")\n",
      "/Users/mzalaya/PycharmProjects/OATMIL/oatmilrouen/screenkhorn/screenkhorn_bis.py:640: UserWarning: Maxium number of line-search iterations reached\n",
      "  warnings.warn(\"Maxium number of line-search iterations reached\")\n",
      "/Users/mzalaya/PycharmProjects/OATMIL/oatmilrouen/screenkhorn/screenkhorn_bis.py:640: UserWarning: Maxium number of line-search iterations reached\n",
      "  warnings.warn(\"Maxium number of line-search iterations reached\")\n",
      "/Users/mzalaya/PycharmProjects/OATMIL/oatmilrouen/screenkhorn/screenkhorn_bis.py:640: UserWarning: Maxium number of line-search iterations reached\n",
      "  warnings.warn(\"Maxium number of line-search iterations reached\")\n",
      "/Users/mzalaya/PycharmProjects/OATMIL/oatmilrouen/screenkhorn/screenkhorn_bis.py:640: UserWarning: Maxium number of line-search iterations reached\n",
      "  warnings.warn(\"Maxium number of line-search iterations reached\")\n",
      "/Users/mzalaya/PycharmProjects/OATMIL/oatmilrouen/screenkhorn/screenkhorn_bis.py:640: UserWarning: Maxium number of line-search iterations reached\n",
      "  warnings.warn(\"Maxium number of line-search iterations reached\")\n",
      "/Users/mzalaya/PycharmProjects/OATMIL/oatmilrouen/screenkhorn/screenkhorn_bis.py:640: UserWarning: Maxium number of line-search iterations reached\n",
      "  warnings.warn(\"Maxium number of line-search iterations reached\")\n",
      "/Users/mzalaya/PycharmProjects/OATMIL/oatmilrouen/screenkhorn/screenkhorn_bis.py:640: UserWarning: Maxium number of line-search iterations reached\n",
      "  warnings.warn(\"Maxium number of line-search iterations reached\")\n",
      "/Users/mzalaya/PycharmProjects/OATMIL/oatmilrouen/screenkhorn/screenkhorn_bis.py:640: UserWarning: Maxium number of line-search iterations reached\n",
      "  warnings.warn(\"Maxium number of line-search iterations reached\")\n",
      "/Users/mzalaya/PycharmProjects/OATMIL/oatmilrouen/screenkhorn/screenkhorn_bis.py:640: UserWarning: Maxium number of line-search iterations reached\n",
      "  warnings.warn(\"Maxium number of line-search iterations reached\")\n",
      "/Users/mzalaya/PycharmProjects/OATMIL/oatmilrouen/screenkhorn/screenkhorn_bis.py:640: UserWarning: Maxium number of line-search iterations reached\n",
      "  warnings.warn(\"Maxium number of line-search iterations reached\")\n",
      "/Users/mzalaya/PycharmProjects/OATMIL/oatmilrouen/screenkhorn/screenkhorn_bis.py:640: UserWarning: Maxium number of line-search iterations reached\n",
      "  warnings.warn(\"Maxium number of line-search iterations reached\")\n",
      "/Users/mzalaya/PycharmProjects/OATMIL/oatmilrouen/screenkhorn/screenkhorn_bis.py:640: UserWarning: Maxium number of line-search iterations reached\n",
      "  warnings.warn(\"Maxium number of line-search iterations reached\")\n",
      "/Users/mzalaya/PycharmProjects/OATMIL/oatmilrouen/screenkhorn/screenkhorn_bis.py:640: UserWarning: Maxium number of line-search iterations reached\n",
      "  warnings.warn(\"Maxium number of line-search iterations reached\")\n",
      "/Users/mzalaya/PycharmProjects/OATMIL/oatmilrouen/screenkhorn/screenkhorn_bis.py:640: UserWarning: Maxium number of line-search iterations reached\n",
      "  warnings.warn(\"Maxium number of line-search iterations reached\")\n",
      "/Users/mzalaya/PycharmProjects/OATMIL/oatmilrouen/screenkhorn/screenkhorn_bis.py:640: UserWarning: Maxium number of line-search iterations reached\n",
      "  warnings.warn(\"Maxium number of line-search iterations reached\")\n",
      "/Users/mzalaya/PycharmProjects/OATMIL/oatmilrouen/screenkhorn/screenkhorn_bis.py:640: UserWarning: Maxium number of line-search iterations reached\n",
      "  warnings.warn(\"Maxium number of line-search iterations reached\")\n",
      "/Users/mzalaya/PycharmProjects/OATMIL/oatmilrouen/screenkhorn/screenkhorn_bis.py:640: UserWarning: Maxium number of line-search iterations reached\n",
      "  warnings.warn(\"Maxium number of line-search iterations reached\")\n",
      "/Users/mzalaya/PycharmProjects/OATMIL/oatmilrouen/screenkhorn/screenkhorn_bis.py:640: UserWarning: Maxium number of line-search iterations reached\n",
      "  warnings.warn(\"Maxium number of line-search iterations reached\")\n",
      "/Users/mzalaya/PycharmProjects/OATMIL/oatmilrouen/screenkhorn/screenkhorn_bis.py:640: UserWarning: Maxium number of line-search iterations reached\n",
      "  warnings.warn(\"Maxium number of line-search iterations reached\")\n",
      "/Users/mzalaya/PycharmProjects/OATMIL/oatmilrouen/screenkhorn/screenkhorn_bis.py:640: UserWarning: Maxium number of line-search iterations reached\n",
      "  warnings.warn(\"Maxium number of line-search iterations reached\")\n",
      "/Users/mzalaya/PycharmProjects/OATMIL/oatmilrouen/screenkhorn/screenkhorn_bis.py:640: UserWarning: Maxium number of line-search iterations reached\n",
      "  warnings.warn(\"Maxium number of line-search iterations reached\")\n"
     ]
    },
    {
     "name": "stderr",
     "output_type": "stream",
     "text": [
      "/Users/mzalaya/PycharmProjects/OATMIL/oatmilrouen/screenkhorn/screenkhorn_bis.py:640: UserWarning: Maxium number of line-search iterations reached\n",
      "  warnings.warn(\"Maxium number of line-search iterations reached\")\n",
      "/Users/mzalaya/PycharmProjects/OATMIL/oatmilrouen/screenkhorn/screenkhorn_bis.py:640: UserWarning: Maxium number of line-search iterations reached\n",
      "  warnings.warn(\"Maxium number of line-search iterations reached\")\n",
      "/Users/mzalaya/PycharmProjects/OATMIL/oatmilrouen/screenkhorn/screenkhorn_bis.py:640: UserWarning: Maxium number of line-search iterations reached\n",
      "  warnings.warn(\"Maxium number of line-search iterations reached\")\n",
      "/Users/mzalaya/PycharmProjects/OATMIL/oatmilrouen/screenkhorn/screenkhorn_bis.py:640: UserWarning: Maxium number of line-search iterations reached\n",
      "  warnings.warn(\"Maxium number of line-search iterations reached\")\n",
      "/Users/mzalaya/PycharmProjects/OATMIL/oatmilrouen/screenkhorn/screenkhorn_bis.py:640: UserWarning: Maxium number of line-search iterations reached\n",
      "  warnings.warn(\"Maxium number of line-search iterations reached\")\n",
      "/Users/mzalaya/PycharmProjects/OATMIL/oatmilrouen/screenkhorn/screenkhorn_bis.py:640: UserWarning: Maxium number of line-search iterations reached\n",
      "  warnings.warn(\"Maxium number of line-search iterations reached\")\n",
      "/Users/mzalaya/PycharmProjects/OATMIL/oatmilrouen/screenkhorn/screenkhorn_bis.py:640: UserWarning: Maxium number of line-search iterations reached\n",
      "  warnings.warn(\"Maxium number of line-search iterations reached\")\n",
      "/Users/mzalaya/PycharmProjects/OATMIL/oatmilrouen/screenkhorn/screenkhorn_bis.py:640: UserWarning: Maxium number of line-search iterations reached\n",
      "  warnings.warn(\"Maxium number of line-search iterations reached\")\n",
      "/Users/mzalaya/PycharmProjects/OATMIL/oatmilrouen/screenkhorn/screenkhorn_bis.py:640: UserWarning: Maxium number of line-search iterations reached\n",
      "  warnings.warn(\"Maxium number of line-search iterations reached\")\n",
      "/Users/mzalaya/PycharmProjects/OATMIL/oatmilrouen/screenkhorn/screenkhorn_bis.py:640: UserWarning: Maxium number of line-search iterations reached\n",
      "  warnings.warn(\"Maxium number of line-search iterations reached\")\n",
      "/Users/mzalaya/PycharmProjects/OATMIL/oatmilrouen/screenkhorn/screenkhorn_bis.py:640: UserWarning: Maxium number of line-search iterations reached\n",
      "  warnings.warn(\"Maxium number of line-search iterations reached\")\n",
      "/Users/mzalaya/PycharmProjects/OATMIL/oatmilrouen/screenkhorn/screenkhorn_bis.py:640: UserWarning: Maxium number of line-search iterations reached\n",
      "  warnings.warn(\"Maxium number of line-search iterations reached\")\n",
      "/Users/mzalaya/PycharmProjects/OATMIL/oatmilrouen/screenkhorn/screenkhorn_bis.py:640: UserWarning: Maxium number of line-search iterations reached\n",
      "  warnings.warn(\"Maxium number of line-search iterations reached\")\n",
      "/Users/mzalaya/PycharmProjects/OATMIL/oatmilrouen/screenkhorn/screenkhorn_bis.py:640: UserWarning: Maxium number of line-search iterations reached\n",
      "  warnings.warn(\"Maxium number of line-search iterations reached\")\n",
      "/Users/mzalaya/PycharmProjects/OATMIL/oatmilrouen/screenkhorn/screenkhorn_bis.py:640: UserWarning: Maxium number of line-search iterations reached\n",
      "  warnings.warn(\"Maxium number of line-search iterations reached\")\n",
      "/Users/mzalaya/PycharmProjects/OATMIL/oatmilrouen/screenkhorn/screenkhorn_bis.py:640: UserWarning: Maxium number of line-search iterations reached\n",
      "  warnings.warn(\"Maxium number of line-search iterations reached\")\n",
      "/Users/mzalaya/PycharmProjects/OATMIL/oatmilrouen/screenkhorn/screenkhorn_bis.py:640: UserWarning: Maxium number of line-search iterations reached\n",
      "  warnings.warn(\"Maxium number of line-search iterations reached\")\n",
      "/Users/mzalaya/PycharmProjects/OATMIL/oatmilrouen/screenkhorn/screenkhorn_bis.py:640: UserWarning: Maxium number of line-search iterations reached\n",
      "  warnings.warn(\"Maxium number of line-search iterations reached\")\n",
      "/Users/mzalaya/PycharmProjects/OATMIL/oatmilrouen/screenkhorn/screenkhorn_bis.py:640: UserWarning: Maxium number of line-search iterations reached\n",
      "  warnings.warn(\"Maxium number of line-search iterations reached\")\n",
      "/Users/mzalaya/PycharmProjects/OATMIL/oatmilrouen/screenkhorn/screenkhorn_bis.py:640: UserWarning: Maxium number of line-search iterations reached\n",
      "  warnings.warn(\"Maxium number of line-search iterations reached\")\n",
      "/Users/mzalaya/PycharmProjects/OATMIL/oatmilrouen/screenkhorn/screenkhorn_bis.py:640: UserWarning: Maxium number of line-search iterations reached\n",
      "  warnings.warn(\"Maxium number of line-search iterations reached\")\n",
      "/Users/mzalaya/PycharmProjects/OATMIL/oatmilrouen/screenkhorn/screenkhorn_bis.py:640: UserWarning: Maxium number of line-search iterations reached\n",
      "  warnings.warn(\"Maxium number of line-search iterations reached\")\n",
      "/Users/mzalaya/PycharmProjects/OATMIL/oatmilrouen/screenkhorn/screenkhorn_bis.py:640: UserWarning: Maxium number of line-search iterations reached\n",
      "  warnings.warn(\"Maxium number of line-search iterations reached\")\n",
      "/Users/mzalaya/PycharmProjects/OATMIL/oatmilrouen/screenkhorn/screenkhorn_bis.py:640: UserWarning: Maxium number of line-search iterations reached\n",
      "  warnings.warn(\"Maxium number of line-search iterations reached\")\n",
      "/Users/mzalaya/PycharmProjects/OATMIL/oatmilrouen/screenkhorn/screenkhorn_bis.py:640: UserWarning: Maxium number of line-search iterations reached\n",
      "  warnings.warn(\"Maxium number of line-search iterations reached\")\n",
      "/Users/mzalaya/PycharmProjects/OATMIL/oatmilrouen/screenkhorn/screenkhorn_bis.py:640: UserWarning: Maxium number of line-search iterations reached\n",
      "  warnings.warn(\"Maxium number of line-search iterations reached\")\n",
      "/Users/mzalaya/PycharmProjects/OATMIL/oatmilrouen/screenkhorn/screenkhorn_bis.py:669: UserWarning: Maxium number of line-search iterations reached\n",
      "  warnings.warn(\"Maxium number of line-search iterations reached\")\n",
      "/Users/mzalaya/PycharmProjects/OATMIL/oatmilrouen/screenkhorn/screenkhorn_bis.py:640: UserWarning: Maxium number of line-search iterations reached\n",
      "  warnings.warn(\"Maxium number of line-search iterations reached\")\n",
      "/Users/mzalaya/PycharmProjects/OATMIL/oatmilrouen/screenkhorn/screenkhorn_bis.py:669: UserWarning: Maxium number of line-search iterations reached\n",
      "  warnings.warn(\"Maxium number of line-search iterations reached\")\n",
      "/Users/mzalaya/PycharmProjects/OATMIL/oatmilrouen/screenkhorn/screenkhorn_bis.py:640: UserWarning: Maxium number of line-search iterations reached\n",
      "  warnings.warn(\"Maxium number of line-search iterations reached\")\n",
      "/Users/mzalaya/PycharmProjects/OATMIL/oatmilrouen/screenkhorn/screenkhorn_bis.py:669: UserWarning: Maxium number of line-search iterations reached\n",
      "  warnings.warn(\"Maxium number of line-search iterations reached\")\n",
      "/Users/mzalaya/PycharmProjects/OATMIL/oatmilrouen/screenkhorn/screenkhorn_bis.py:669: UserWarning: Maxium number of line-search iterations reached\n",
      "  warnings.warn(\"Maxium number of line-search iterations reached\")\n",
      "/Users/mzalaya/PycharmProjects/OATMIL/oatmilrouen/screenkhorn/screenkhorn_bis.py:669: UserWarning: Maxium number of line-search iterations reached\n",
      "  warnings.warn(\"Maxium number of line-search iterations reached\")\n",
      "/Users/mzalaya/PycharmProjects/OATMIL/oatmilrouen/screenkhorn/screenkhorn_bis.py:669: UserWarning: Maxium number of line-search iterations reached\n",
      "  warnings.warn(\"Maxium number of line-search iterations reached\")\n",
      "/Users/mzalaya/PycharmProjects/OATMIL/oatmilrouen/screenkhorn/screenkhorn_bis.py:669: UserWarning: Maxium number of line-search iterations reached\n",
      "  warnings.warn(\"Maxium number of line-search iterations reached\")\n",
      "/Users/mzalaya/PycharmProjects/OATMIL/oatmilrouen/screenkhorn/screenkhorn_bis.py:669: UserWarning: Maxium number of line-search iterations reached\n",
      "  warnings.warn(\"Maxium number of line-search iterations reached\")\n",
      "/Users/mzalaya/PycharmProjects/OATMIL/oatmilrouen/screenkhorn/screenkhorn_bis.py:669: UserWarning: Maxium number of line-search iterations reached\n",
      "  warnings.warn(\"Maxium number of line-search iterations reached\")\n",
      "/Users/mzalaya/PycharmProjects/OATMIL/oatmilrouen/screenkhorn/screenkhorn_bis.py:669: UserWarning: Maxium number of line-search iterations reached\n",
      "  warnings.warn(\"Maxium number of line-search iterations reached\")\n",
      "/Users/mzalaya/PycharmProjects/OATMIL/oatmilrouen/screenkhorn/screenkhorn_bis.py:669: UserWarning: Maxium number of line-search iterations reached\n",
      "  warnings.warn(\"Maxium number of line-search iterations reached\")\n",
      "/Users/mzalaya/PycharmProjects/OATMIL/oatmilrouen/screenkhorn/screenkhorn_bis.py:669: UserWarning: Maxium number of line-search iterations reached\n",
      "  warnings.warn(\"Maxium number of line-search iterations reached\")\n",
      "/Users/mzalaya/PycharmProjects/OATMIL/oatmilrouen/screenkhorn/screenkhorn_bis.py:669: UserWarning: Maxium number of line-search iterations reached\n",
      "  warnings.warn(\"Maxium number of line-search iterations reached\")\n",
      "/Users/mzalaya/PycharmProjects/OATMIL/oatmilrouen/screenkhorn/screenkhorn_bis.py:669: UserWarning: Maxium number of line-search iterations reached\n",
      "  warnings.warn(\"Maxium number of line-search iterations reached\")\n",
      "/Users/mzalaya/PycharmProjects/OATMIL/oatmilrouen/screenkhorn/screenkhorn_bis.py:669: UserWarning: Maxium number of line-search iterations reached\n",
      "  warnings.warn(\"Maxium number of line-search iterations reached\")\n",
      "/Users/mzalaya/PycharmProjects/OATMIL/oatmilrouen/screenkhorn/screenkhorn_bis.py:669: UserWarning: Maxium number of line-search iterations reached\n",
      "  warnings.warn(\"Maxium number of line-search iterations reached\")\n",
      "/Users/mzalaya/PycharmProjects/OATMIL/oatmilrouen/screenkhorn/screenkhorn_bis.py:669: UserWarning: Maxium number of line-search iterations reached\n",
      "  warnings.warn(\"Maxium number of line-search iterations reached\")\n",
      "/Users/mzalaya/PycharmProjects/OATMIL/oatmilrouen/screenkhorn/screenkhorn_bis.py:669: UserWarning: Maxium number of line-search iterations reached\n",
      "  warnings.warn(\"Maxium number of line-search iterations reached\")\n"
     ]
    },
    {
     "name": "stderr",
     "output_type": "stream",
     "text": [
      "/Users/mzalaya/PycharmProjects/OATMIL/oatmilrouen/screenkhorn/screenkhorn_bis.py:669: UserWarning: Maxium number of line-search iterations reached\n",
      "  warnings.warn(\"Maxium number of line-search iterations reached\")\n",
      "/Users/mzalaya/PycharmProjects/OATMIL/oatmilrouen/screenkhorn/screenkhorn_bis.py:669: UserWarning: Maxium number of line-search iterations reached\n",
      "  warnings.warn(\"Maxium number of line-search iterations reached\")\n",
      "/Users/mzalaya/PycharmProjects/OATMIL/oatmilrouen/screenkhorn/screenkhorn_bis.py:669: UserWarning: Maxium number of line-search iterations reached\n",
      "  warnings.warn(\"Maxium number of line-search iterations reached\")\n",
      "/Users/mzalaya/PycharmProjects/OATMIL/oatmilrouen/screenkhorn/screenkhorn_bis.py:669: UserWarning: Maxium number of line-search iterations reached\n",
      "  warnings.warn(\"Maxium number of line-search iterations reached\")\n",
      "/Users/mzalaya/PycharmProjects/OATMIL/oatmilrouen/screenkhorn/screenkhorn_bis.py:669: UserWarning: Maxium number of line-search iterations reached\n",
      "  warnings.warn(\"Maxium number of line-search iterations reached\")\n",
      "/Users/mzalaya/PycharmProjects/OATMIL/oatmilrouen/screenkhorn/screenkhorn_bis.py:669: UserWarning: Maxium number of line-search iterations reached\n",
      "  warnings.warn(\"Maxium number of line-search iterations reached\")\n",
      "/Users/mzalaya/PycharmProjects/OATMIL/oatmilrouen/screenkhorn/screenkhorn_bis.py:669: UserWarning: Maxium number of line-search iterations reached\n",
      "  warnings.warn(\"Maxium number of line-search iterations reached\")\n",
      "/Users/mzalaya/PycharmProjects/OATMIL/oatmilrouen/screenkhorn/screenkhorn_bis.py:669: UserWarning: Maxium number of line-search iterations reached\n",
      "  warnings.warn(\"Maxium number of line-search iterations reached\")\n",
      "/Users/mzalaya/PycharmProjects/OATMIL/oatmilrouen/screenkhorn/screenkhorn_bis.py:669: UserWarning: Maxium number of line-search iterations reached\n",
      "  warnings.warn(\"Maxium number of line-search iterations reached\")\n",
      "/Users/mzalaya/PycharmProjects/OATMIL/oatmilrouen/screenkhorn/screenkhorn_bis.py:669: UserWarning: Maxium number of line-search iterations reached\n",
      "  warnings.warn(\"Maxium number of line-search iterations reached\")\n",
      "/Users/mzalaya/PycharmProjects/OATMIL/oatmilrouen/screenkhorn/screenkhorn_bis.py:669: UserWarning: Maxium number of line-search iterations reached\n",
      "  warnings.warn(\"Maxium number of line-search iterations reached\")\n",
      "/Users/mzalaya/PycharmProjects/OATMIL/oatmilrouen/screenkhorn/screenkhorn_bis.py:669: UserWarning: Maxium number of line-search iterations reached\n",
      "  warnings.warn(\"Maxium number of line-search iterations reached\")\n",
      "/Users/mzalaya/PycharmProjects/OATMIL/oatmilrouen/screenkhorn/screenkhorn_bis.py:669: UserWarning: Maxium number of line-search iterations reached\n",
      "  warnings.warn(\"Maxium number of line-search iterations reached\")\n",
      "/Users/mzalaya/PycharmProjects/OATMIL/oatmilrouen/screenkhorn/screenkhorn_bis.py:669: UserWarning: Maxium number of line-search iterations reached\n",
      "  warnings.warn(\"Maxium number of line-search iterations reached\")\n",
      "/Users/mzalaya/PycharmProjects/OATMIL/oatmilrouen/screenkhorn/screenkhorn_bis.py:669: UserWarning: Maxium number of line-search iterations reached\n",
      "  warnings.warn(\"Maxium number of line-search iterations reached\")\n",
      "/Users/mzalaya/PycharmProjects/OATMIL/oatmilrouen/screenkhorn/screenkhorn_bis.py:669: UserWarning: Maxium number of line-search iterations reached\n",
      "  warnings.warn(\"Maxium number of line-search iterations reached\")\n",
      "/Users/mzalaya/PycharmProjects/OATMIL/oatmilrouen/screenkhorn/screenkhorn_bis.py:669: UserWarning: Maxium number of line-search iterations reached\n",
      "  warnings.warn(\"Maxium number of line-search iterations reached\")\n",
      "/Users/mzalaya/PycharmProjects/OATMIL/oatmilrouen/screenkhorn/screenkhorn_bis.py:669: UserWarning: Maxium number of line-search iterations reached\n",
      "  warnings.warn(\"Maxium number of line-search iterations reached\")\n",
      "/Users/mzalaya/PycharmProjects/OATMIL/oatmilrouen/screenkhorn/screenkhorn_bis.py:669: UserWarning: Maxium number of line-search iterations reached\n",
      "  warnings.warn(\"Maxium number of line-search iterations reached\")\n",
      "/Users/mzalaya/PycharmProjects/OATMIL/oatmilrouen/screenkhorn/screenkhorn_bis.py:669: UserWarning: Maxium number of line-search iterations reached\n",
      "  warnings.warn(\"Maxium number of line-search iterations reached\")\n",
      "/Users/mzalaya/PycharmProjects/OATMIL/oatmilrouen/screenkhorn/screenkhorn_bis.py:669: UserWarning: Maxium number of line-search iterations reached\n",
      "  warnings.warn(\"Maxium number of line-search iterations reached\")\n",
      "/Users/mzalaya/PycharmProjects/OATMIL/oatmilrouen/screenkhorn/screenkhorn_bis.py:669: UserWarning: Maxium number of line-search iterations reached\n",
      "  warnings.warn(\"Maxium number of line-search iterations reached\")\n",
      "/Users/mzalaya/PycharmProjects/OATMIL/oatmilrouen/screenkhorn/screenkhorn_bis.py:669: UserWarning: Maxium number of line-search iterations reached\n",
      "  warnings.warn(\"Maxium number of line-search iterations reached\")\n",
      "/Users/mzalaya/PycharmProjects/OATMIL/oatmilrouen/screenkhorn/screenkhorn_bis.py:669: UserWarning: Maxium number of line-search iterations reached\n",
      "  warnings.warn(\"Maxium number of line-search iterations reached\")\n",
      "/Users/mzalaya/PycharmProjects/OATMIL/oatmilrouen/screenkhorn/screenkhorn_bis.py:669: UserWarning: Maxium number of line-search iterations reached\n",
      "  warnings.warn(\"Maxium number of line-search iterations reached\")\n",
      "/Users/mzalaya/PycharmProjects/OATMIL/oatmilrouen/screenkhorn/screenkhorn_bis.py:669: UserWarning: Maxium number of line-search iterations reached\n",
      "  warnings.warn(\"Maxium number of line-search iterations reached\")\n",
      "/Users/mzalaya/PycharmProjects/OATMIL/oatmilrouen/screenkhorn/screenkhorn_bis.py:669: UserWarning: Maxium number of line-search iterations reached\n",
      "  warnings.warn(\"Maxium number of line-search iterations reached\")\n",
      "/Users/mzalaya/PycharmProjects/OATMIL/oatmilrouen/screenkhorn/screenkhorn_bis.py:669: UserWarning: Maxium number of line-search iterations reached\n",
      "  warnings.warn(\"Maxium number of line-search iterations reached\")\n",
      "/Users/mzalaya/PycharmProjects/OATMIL/oatmilrouen/screenkhorn/screenkhorn_bis.py:669: UserWarning: Maxium number of line-search iterations reached\n",
      "  warnings.warn(\"Maxium number of line-search iterations reached\")\n",
      "/Users/mzalaya/PycharmProjects/OATMIL/oatmilrouen/screenkhorn/screenkhorn_bis.py:669: UserWarning: Maxium number of line-search iterations reached\n",
      "  warnings.warn(\"Maxium number of line-search iterations reached\")\n",
      "/Users/mzalaya/PycharmProjects/OATMIL/oatmilrouen/screenkhorn/screenkhorn_bis.py:669: UserWarning: Maxium number of line-search iterations reached\n",
      "  warnings.warn(\"Maxium number of line-search iterations reached\")\n",
      "/Users/mzalaya/PycharmProjects/OATMIL/oatmilrouen/screenkhorn/screenkhorn_bis.py:669: UserWarning: Maxium number of line-search iterations reached\n",
      "  warnings.warn(\"Maxium number of line-search iterations reached\")\n",
      "/Users/mzalaya/PycharmProjects/OATMIL/oatmilrouen/screenkhorn/screenkhorn_bis.py:669: UserWarning: Maxium number of line-search iterations reached\n",
      "  warnings.warn(\"Maxium number of line-search iterations reached\")\n",
      "/Users/mzalaya/PycharmProjects/OATMIL/oatmilrouen/screenkhorn/screenkhorn_bis.py:669: UserWarning: Maxium number of line-search iterations reached\n",
      "  warnings.warn(\"Maxium number of line-search iterations reached\")\n",
      "/Users/mzalaya/PycharmProjects/OATMIL/oatmilrouen/screenkhorn/screenkhorn_bis.py:669: UserWarning: Maxium number of line-search iterations reached\n",
      "  warnings.warn(\"Maxium number of line-search iterations reached\")\n",
      "/Users/mzalaya/PycharmProjects/OATMIL/oatmilrouen/screenkhorn/screenkhorn_bis.py:669: UserWarning: Maxium number of line-search iterations reached\n",
      "  warnings.warn(\"Maxium number of line-search iterations reached\")\n",
      "/Users/mzalaya/PycharmProjects/OATMIL/oatmilrouen/screenkhorn/screenkhorn_bis.py:669: UserWarning: Maxium number of line-search iterations reached\n",
      "  warnings.warn(\"Maxium number of line-search iterations reached\")\n",
      "/Users/mzalaya/PycharmProjects/OATMIL/oatmilrouen/screenkhorn/screenkhorn_bis.py:669: UserWarning: Maxium number of line-search iterations reached\n",
      "  warnings.warn(\"Maxium number of line-search iterations reached\")\n",
      "/Users/mzalaya/PycharmProjects/OATMIL/oatmilrouen/screenkhorn/screenkhorn_bis.py:669: UserWarning: Maxium number of line-search iterations reached\n",
      "  warnings.warn(\"Maxium number of line-search iterations reached\")\n",
      "/Users/mzalaya/PycharmProjects/OATMIL/oatmilrouen/screenkhorn/screenkhorn_bis.py:669: UserWarning: Maxium number of line-search iterations reached\n",
      "  warnings.warn(\"Maxium number of line-search iterations reached\")\n",
      "/Users/mzalaya/PycharmProjects/OATMIL/oatmilrouen/screenkhorn/screenkhorn_bis.py:669: UserWarning: Maxium number of line-search iterations reached\n",
      "  warnings.warn(\"Maxium number of line-search iterations reached\")\n",
      "/Users/mzalaya/PycharmProjects/OATMIL/oatmilrouen/screenkhorn/screenkhorn_bis.py:669: UserWarning: Maxium number of line-search iterations reached\n",
      "  warnings.warn(\"Maxium number of line-search iterations reached\")\n"
     ]
    },
    {
     "name": "stderr",
     "output_type": "stream",
     "text": [
      "/Users/mzalaya/PycharmProjects/OATMIL/oatmilrouen/screenkhorn/screenkhorn_bis.py:669: UserWarning: Maxium number of line-search iterations reached\n",
      "  warnings.warn(\"Maxium number of line-search iterations reached\")\n",
      "/Users/mzalaya/PycharmProjects/OATMIL/oatmilrouen/screenkhorn/screenkhorn_bis.py:669: UserWarning: Maxium number of line-search iterations reached\n",
      "  warnings.warn(\"Maxium number of line-search iterations reached\")\n",
      "/Users/mzalaya/PycharmProjects/OATMIL/oatmilrouen/screenkhorn/screenkhorn_bis.py:669: UserWarning: Maxium number of line-search iterations reached\n",
      "  warnings.warn(\"Maxium number of line-search iterations reached\")\n",
      "/Users/mzalaya/PycharmProjects/OATMIL/oatmilrouen/screenkhorn/screenkhorn_bis.py:669: UserWarning: Maxium number of line-search iterations reached\n",
      "  warnings.warn(\"Maxium number of line-search iterations reached\")\n",
      "/Users/mzalaya/PycharmProjects/OATMIL/oatmilrouen/screenkhorn/screenkhorn_bis.py:669: UserWarning: Maxium number of line-search iterations reached\n",
      "  warnings.warn(\"Maxium number of line-search iterations reached\")\n",
      "/Users/mzalaya/PycharmProjects/OATMIL/oatmilrouen/screenkhorn/screenkhorn_bis.py:669: UserWarning: Maxium number of line-search iterations reached\n",
      "  warnings.warn(\"Maxium number of line-search iterations reached\")\n",
      "/Users/mzalaya/PycharmProjects/OATMIL/oatmilrouen/screenkhorn/screenkhorn_bis.py:669: UserWarning: Maxium number of line-search iterations reached\n",
      "  warnings.warn(\"Maxium number of line-search iterations reached\")\n",
      "/Users/mzalaya/PycharmProjects/OATMIL/oatmilrouen/screenkhorn/screenkhorn_bis.py:669: UserWarning: Maxium number of line-search iterations reached\n",
      "  warnings.warn(\"Maxium number of line-search iterations reached\")\n",
      "/Users/mzalaya/PycharmProjects/OATMIL/oatmilrouen/screenkhorn/screenkhorn_bis.py:669: UserWarning: Maxium number of line-search iterations reached\n",
      "  warnings.warn(\"Maxium number of line-search iterations reached\")\n",
      "/Users/mzalaya/PycharmProjects/OATMIL/oatmilrouen/screenkhorn/screenkhorn_bis.py:669: UserWarning: Maxium number of line-search iterations reached\n",
      "  warnings.warn(\"Maxium number of line-search iterations reached\")\n",
      "/Users/mzalaya/PycharmProjects/OATMIL/oatmilrouen/screenkhorn/screenkhorn_bis.py:669: UserWarning: Maxium number of line-search iterations reached\n",
      "  warnings.warn(\"Maxium number of line-search iterations reached\")\n",
      "/Users/mzalaya/PycharmProjects/OATMIL/oatmilrouen/screenkhorn/screenkhorn_bis.py:669: UserWarning: Maxium number of line-search iterations reached\n",
      "  warnings.warn(\"Maxium number of line-search iterations reached\")\n",
      "/Users/mzalaya/PycharmProjects/OATMIL/oatmilrouen/screenkhorn/screenkhorn_bis.py:669: UserWarning: Maxium number of line-search iterations reached\n",
      "  warnings.warn(\"Maxium number of line-search iterations reached\")\n",
      "/Users/mzalaya/PycharmProjects/OATMIL/oatmilrouen/screenkhorn/screenkhorn_bis.py:669: UserWarning: Maxium number of line-search iterations reached\n",
      "  warnings.warn(\"Maxium number of line-search iterations reached\")\n",
      "/Users/mzalaya/PycharmProjects/OATMIL/oatmilrouen/screenkhorn/screenkhorn_bis.py:669: UserWarning: Maxium number of line-search iterations reached\n",
      "  warnings.warn(\"Maxium number of line-search iterations reached\")\n",
      "/Users/mzalaya/PycharmProjects/OATMIL/oatmilrouen/screenkhorn/screenkhorn_bis.py:669: UserWarning: Maxium number of line-search iterations reached\n",
      "  warnings.warn(\"Maxium number of line-search iterations reached\")\n",
      "/Users/mzalaya/PycharmProjects/OATMIL/oatmilrouen/screenkhorn/screenkhorn_bis.py:669: UserWarning: Maxium number of line-search iterations reached\n",
      "  warnings.warn(\"Maxium number of line-search iterations reached\")\n",
      "/Users/mzalaya/PycharmProjects/OATMIL/oatmilrouen/screenkhorn/screenkhorn_bis.py:669: UserWarning: Maxium number of line-search iterations reached\n",
      "  warnings.warn(\"Maxium number of line-search iterations reached\")\n",
      "/Users/mzalaya/PycharmProjects/OATMIL/oatmilrouen/screenkhorn/screenkhorn_bis.py:669: UserWarning: Maxium number of line-search iterations reached\n",
      "  warnings.warn(\"Maxium number of line-search iterations reached\")\n",
      "/Users/mzalaya/PycharmProjects/OATMIL/oatmilrouen/screenkhorn/screenkhorn_bis.py:669: UserWarning: Maxium number of line-search iterations reached\n",
      "  warnings.warn(\"Maxium number of line-search iterations reached\")\n",
      "/Users/mzalaya/PycharmProjects/OATMIL/oatmilrouen/screenkhorn/screenkhorn_bis.py:669: UserWarning: Maxium number of line-search iterations reached\n",
      "  warnings.warn(\"Maxium number of line-search iterations reached\")\n",
      "/Users/mzalaya/PycharmProjects/OATMIL/oatmilrouen/screenkhorn/screenkhorn_bis.py:669: UserWarning: Maxium number of line-search iterations reached\n",
      "  warnings.warn(\"Maxium number of line-search iterations reached\")\n",
      "/Users/mzalaya/PycharmProjects/OATMIL/oatmilrouen/screenkhorn/screenkhorn_bis.py:669: UserWarning: Maxium number of line-search iterations reached\n",
      "  warnings.warn(\"Maxium number of line-search iterations reached\")\n",
      "/Users/mzalaya/PycharmProjects/OATMIL/oatmilrouen/screenkhorn/screenkhorn_bis.py:669: UserWarning: Maxium number of line-search iterations reached\n",
      "  warnings.warn(\"Maxium number of line-search iterations reached\")\n",
      "/Users/mzalaya/PycharmProjects/OATMIL/oatmilrouen/screenkhorn/screenkhorn_bis.py:669: UserWarning: Maxium number of line-search iterations reached\n",
      "  warnings.warn(\"Maxium number of line-search iterations reached\")\n",
      "/Users/mzalaya/PycharmProjects/OATMIL/oatmilrouen/screenkhorn/screenkhorn_bis.py:669: UserWarning: Maxium number of line-search iterations reached\n",
      "  warnings.warn(\"Maxium number of line-search iterations reached\")\n",
      "/Users/mzalaya/PycharmProjects/OATMIL/oatmilrouen/screenkhorn/screenkhorn_bis.py:669: UserWarning: Maxium number of line-search iterations reached\n",
      "  warnings.warn(\"Maxium number of line-search iterations reached\")\n",
      "/Users/mzalaya/PycharmProjects/OATMIL/oatmilrouen/screenkhorn/screenkhorn_bis.py:669: UserWarning: Maxium number of line-search iterations reached\n",
      "  warnings.warn(\"Maxium number of line-search iterations reached\")\n",
      "/Users/mzalaya/PycharmProjects/OATMIL/oatmilrouen/screenkhorn/screenkhorn_bis.py:669: UserWarning: Maxium number of line-search iterations reached\n",
      "  warnings.warn(\"Maxium number of line-search iterations reached\")\n",
      "/Users/mzalaya/PycharmProjects/OATMIL/oatmilrouen/screenkhorn/screenkhorn_bis.py:669: UserWarning: Maxium number of line-search iterations reached\n",
      "  warnings.warn(\"Maxium number of line-search iterations reached\")\n",
      "/Users/mzalaya/PycharmProjects/OATMIL/oatmilrouen/screenkhorn/screenkhorn_bis.py:669: UserWarning: Maxium number of line-search iterations reached\n",
      "  warnings.warn(\"Maxium number of line-search iterations reached\")\n",
      "/Users/mzalaya/PycharmProjects/OATMIL/oatmilrouen/screenkhorn/screenkhorn_bis.py:669: UserWarning: Maxium number of line-search iterations reached\n",
      "  warnings.warn(\"Maxium number of line-search iterations reached\")\n",
      "/Users/mzalaya/PycharmProjects/OATMIL/oatmilrouen/screenkhorn/screenkhorn_bis.py:669: UserWarning: Maxium number of line-search iterations reached\n",
      "  warnings.warn(\"Maxium number of line-search iterations reached\")\n",
      "/Users/mzalaya/PycharmProjects/OATMIL/oatmilrouen/screenkhorn/screenkhorn_bis.py:669: UserWarning: Maxium number of line-search iterations reached\n",
      "  warnings.warn(\"Maxium number of line-search iterations reached\")\n",
      "/Users/mzalaya/PycharmProjects/OATMIL/oatmilrouen/screenkhorn/screenkhorn_bis.py:669: UserWarning: Maxium number of line-search iterations reached\n",
      "  warnings.warn(\"Maxium number of line-search iterations reached\")\n",
      "/Users/mzalaya/PycharmProjects/OATMIL/oatmilrouen/screenkhorn/screenkhorn_bis.py:669: UserWarning: Maxium number of line-search iterations reached\n",
      "  warnings.warn(\"Maxium number of line-search iterations reached\")\n",
      "/Users/mzalaya/PycharmProjects/OATMIL/oatmilrouen/screenkhorn/screenkhorn_bis.py:669: UserWarning: Maxium number of line-search iterations reached\n",
      "  warnings.warn(\"Maxium number of line-search iterations reached\")\n",
      "/Users/mzalaya/PycharmProjects/OATMIL/oatmilrouen/screenkhorn/screenkhorn_bis.py:669: UserWarning: Maxium number of line-search iterations reached\n",
      "  warnings.warn(\"Maxium number of line-search iterations reached\")\n",
      "/Users/mzalaya/PycharmProjects/OATMIL/oatmilrouen/screenkhorn/screenkhorn_bis.py:669: UserWarning: Maxium number of line-search iterations reached\n",
      "  warnings.warn(\"Maxium number of line-search iterations reached\")\n",
      "/Users/mzalaya/PycharmProjects/OATMIL/oatmilrouen/screenkhorn/screenkhorn_bis.py:669: UserWarning: Maxium number of line-search iterations reached\n",
      "  warnings.warn(\"Maxium number of line-search iterations reached\")\n",
      "/Users/mzalaya/PycharmProjects/OATMIL/oatmilrouen/screenkhorn/screenkhorn_bis.py:669: UserWarning: Maxium number of line-search iterations reached\n",
      "  warnings.warn(\"Maxium number of line-search iterations reached\")\n",
      "/Users/mzalaya/PycharmProjects/OATMIL/oatmilrouen/screenkhorn/screenkhorn_bis.py:669: UserWarning: Maxium number of line-search iterations reached\n",
      "  warnings.warn(\"Maxium number of line-search iterations reached\")\n"
     ]
    },
    {
     "name": "stderr",
     "output_type": "stream",
     "text": [
      "/Users/mzalaya/PycharmProjects/OATMIL/oatmilrouen/screenkhorn/screenkhorn_bis.py:669: UserWarning: Maxium number of line-search iterations reached\n",
      "  warnings.warn(\"Maxium number of line-search iterations reached\")\n",
      "/Users/mzalaya/PycharmProjects/OATMIL/oatmilrouen/screenkhorn/screenkhorn_bis.py:669: UserWarning: Maxium number of line-search iterations reached\n",
      "  warnings.warn(\"Maxium number of line-search iterations reached\")\n",
      "/Users/mzalaya/PycharmProjects/OATMIL/oatmilrouen/screenkhorn/screenkhorn_bis.py:669: UserWarning: Maxium number of line-search iterations reached\n",
      "  warnings.warn(\"Maxium number of line-search iterations reached\")\n",
      "/Users/mzalaya/PycharmProjects/OATMIL/oatmilrouen/screenkhorn/screenkhorn_bis.py:669: UserWarning: Maxium number of line-search iterations reached\n",
      "  warnings.warn(\"Maxium number of line-search iterations reached\")\n",
      "/Users/mzalaya/PycharmProjects/OATMIL/oatmilrouen/screenkhorn/screenkhorn_bis.py:669: UserWarning: Maxium number of line-search iterations reached\n",
      "  warnings.warn(\"Maxium number of line-search iterations reached\")\n",
      "/Users/mzalaya/PycharmProjects/OATMIL/oatmilrouen/screenkhorn/screenkhorn_bis.py:669: UserWarning: Maxium number of line-search iterations reached\n",
      "  warnings.warn(\"Maxium number of line-search iterations reached\")\n",
      "/Users/mzalaya/PycharmProjects/OATMIL/oatmilrouen/screenkhorn/screenkhorn_bis.py:669: UserWarning: Maxium number of line-search iterations reached\n",
      "  warnings.warn(\"Maxium number of line-search iterations reached\")\n",
      "/Users/mzalaya/PycharmProjects/OATMIL/oatmilrouen/screenkhorn/screenkhorn_bis.py:669: UserWarning: Maxium number of line-search iterations reached\n",
      "  warnings.warn(\"Maxium number of line-search iterations reached\")\n",
      "/Users/mzalaya/PycharmProjects/OATMIL/oatmilrouen/screenkhorn/screenkhorn_bis.py:669: UserWarning: Maxium number of line-search iterations reached\n",
      "  warnings.warn(\"Maxium number of line-search iterations reached\")\n",
      "/Users/mzalaya/PycharmProjects/OATMIL/oatmilrouen/screenkhorn/screenkhorn_bis.py:669: UserWarning: Maxium number of line-search iterations reached\n",
      "  warnings.warn(\"Maxium number of line-search iterations reached\")\n",
      "/Users/mzalaya/PycharmProjects/OATMIL/oatmilrouen/screenkhorn/screenkhorn_bis.py:669: UserWarning: Maxium number of line-search iterations reached\n",
      "  warnings.warn(\"Maxium number of line-search iterations reached\")\n",
      "/Users/mzalaya/PycharmProjects/OATMIL/oatmilrouen/screenkhorn/screenkhorn_bis.py:669: UserWarning: Maxium number of line-search iterations reached\n",
      "  warnings.warn(\"Maxium number of line-search iterations reached\")\n",
      "/Users/mzalaya/PycharmProjects/OATMIL/oatmilrouen/screenkhorn/screenkhorn_bis.py:669: UserWarning: Maxium number of line-search iterations reached\n",
      "  warnings.warn(\"Maxium number of line-search iterations reached\")\n",
      "/Users/mzalaya/PycharmProjects/OATMIL/oatmilrouen/screenkhorn/screenkhorn_bis.py:669: UserWarning: Maxium number of line-search iterations reached\n",
      "  warnings.warn(\"Maxium number of line-search iterations reached\")\n",
      "/Users/mzalaya/PycharmProjects/OATMIL/oatmilrouen/screenkhorn/screenkhorn_bis.py:669: UserWarning: Maxium number of line-search iterations reached\n",
      "  warnings.warn(\"Maxium number of line-search iterations reached\")\n",
      "/Users/mzalaya/PycharmProjects/OATMIL/oatmilrouen/screenkhorn/screenkhorn_bis.py:669: UserWarning: Maxium number of line-search iterations reached\n",
      "  warnings.warn(\"Maxium number of line-search iterations reached\")\n",
      "/Users/mzalaya/PycharmProjects/OATMIL/oatmilrouen/screenkhorn/screenkhorn_bis.py:669: UserWarning: Maxium number of line-search iterations reached\n",
      "  warnings.warn(\"Maxium number of line-search iterations reached\")\n",
      "/Users/mzalaya/PycharmProjects/OATMIL/oatmilrouen/screenkhorn/screenkhorn_bis.py:669: UserWarning: Maxium number of line-search iterations reached\n",
      "  warnings.warn(\"Maxium number of line-search iterations reached\")\n",
      "/Users/mzalaya/PycharmProjects/OATMIL/oatmilrouen/screenkhorn/screenkhorn_bis.py:669: UserWarning: Maxium number of line-search iterations reached\n",
      "  warnings.warn(\"Maxium number of line-search iterations reached\")\n",
      "/Users/mzalaya/PycharmProjects/OATMIL/oatmilrouen/screenkhorn/screenkhorn_bis.py:669: UserWarning: Maxium number of line-search iterations reached\n",
      "  warnings.warn(\"Maxium number of line-search iterations reached\")\n",
      "/Users/mzalaya/PycharmProjects/OATMIL/oatmilrouen/screenkhorn/screenkhorn_bis.py:669: UserWarning: Maxium number of line-search iterations reached\n",
      "  warnings.warn(\"Maxium number of line-search iterations reached\")\n",
      "/Users/mzalaya/PycharmProjects/OATMIL/oatmilrouen/screenkhorn/screenkhorn_bis.py:669: UserWarning: Maxium number of line-search iterations reached\n",
      "  warnings.warn(\"Maxium number of line-search iterations reached\")\n",
      "/Users/mzalaya/PycharmProjects/OATMIL/oatmilrouen/screenkhorn/screenkhorn_bis.py:669: UserWarning: Maxium number of line-search iterations reached\n",
      "  warnings.warn(\"Maxium number of line-search iterations reached\")\n",
      "/Users/mzalaya/PycharmProjects/OATMIL/oatmilrouen/screenkhorn/screenkhorn_bis.py:669: UserWarning: Maxium number of line-search iterations reached\n",
      "  warnings.warn(\"Maxium number of line-search iterations reached\")\n",
      "/Users/mzalaya/PycharmProjects/OATMIL/oatmilrouen/screenkhorn/screenkhorn_bis.py:669: UserWarning: Maxium number of line-search iterations reached\n",
      "  warnings.warn(\"Maxium number of line-search iterations reached\")\n",
      "/Users/mzalaya/PycharmProjects/OATMIL/oatmilrouen/screenkhorn/screenkhorn_bis.py:669: UserWarning: Maxium number of line-search iterations reached\n",
      "  warnings.warn(\"Maxium number of line-search iterations reached\")\n",
      "/Users/mzalaya/PycharmProjects/OATMIL/oatmilrouen/screenkhorn/screenkhorn_bis.py:669: UserWarning: Maxium number of line-search iterations reached\n",
      "  warnings.warn(\"Maxium number of line-search iterations reached\")\n",
      "/Users/mzalaya/PycharmProjects/OATMIL/oatmilrouen/screenkhorn/screenkhorn_bis.py:669: UserWarning: Maxium number of line-search iterations reached\n",
      "  warnings.warn(\"Maxium number of line-search iterations reached\")\n",
      "/Users/mzalaya/PycharmProjects/OATMIL/oatmilrouen/screenkhorn/screenkhorn_bis.py:669: UserWarning: Maxium number of line-search iterations reached\n",
      "  warnings.warn(\"Maxium number of line-search iterations reached\")\n",
      "/Users/mzalaya/PycharmProjects/OATMIL/oatmilrouen/screenkhorn/screenkhorn_bis.py:669: UserWarning: Maxium number of line-search iterations reached\n",
      "  warnings.warn(\"Maxium number of line-search iterations reached\")\n",
      "/Users/mzalaya/PycharmProjects/OATMIL/oatmilrouen/screenkhorn/screenkhorn_bis.py:669: UserWarning: Maxium number of line-search iterations reached\n",
      "  warnings.warn(\"Maxium number of line-search iterations reached\")\n",
      "/Users/mzalaya/PycharmProjects/OATMIL/oatmilrouen/screenkhorn/screenkhorn_bis.py:669: UserWarning: Maxium number of line-search iterations reached\n",
      "  warnings.warn(\"Maxium number of line-search iterations reached\")\n",
      "/Users/mzalaya/PycharmProjects/OATMIL/oatmilrouen/screenkhorn/screenkhorn_bis.py:669: UserWarning: Maxium number of line-search iterations reached\n",
      "  warnings.warn(\"Maxium number of line-search iterations reached\")\n",
      "/Users/mzalaya/PycharmProjects/OATMIL/oatmilrouen/screenkhorn/screenkhorn_bis.py:669: UserWarning: Maxium number of line-search iterations reached\n",
      "  warnings.warn(\"Maxium number of line-search iterations reached\")\n",
      "/Users/mzalaya/PycharmProjects/OATMIL/oatmilrouen/screenkhorn/screenkhorn_bis.py:669: UserWarning: Maxium number of line-search iterations reached\n",
      "  warnings.warn(\"Maxium number of line-search iterations reached\")\n",
      "/Users/mzalaya/PycharmProjects/OATMIL/oatmilrouen/screenkhorn/screenkhorn_bis.py:669: UserWarning: Maxium number of line-search iterations reached\n",
      "  warnings.warn(\"Maxium number of line-search iterations reached\")\n",
      "/Users/mzalaya/PycharmProjects/OATMIL/oatmilrouen/screenkhorn/screenkhorn_bis.py:669: UserWarning: Maxium number of line-search iterations reached\n",
      "  warnings.warn(\"Maxium number of line-search iterations reached\")\n",
      "/Users/mzalaya/PycharmProjects/OATMIL/oatmilrouen/screenkhorn/screenkhorn_bis.py:669: UserWarning: Maxium number of line-search iterations reached\n",
      "  warnings.warn(\"Maxium number of line-search iterations reached\")\n",
      "/Users/mzalaya/PycharmProjects/OATMIL/oatmilrouen/screenkhorn/screenkhorn_bis.py:669: UserWarning: Maxium number of line-search iterations reached\n",
      "  warnings.warn(\"Maxium number of line-search iterations reached\")\n",
      "/Users/mzalaya/PycharmProjects/OATMIL/oatmilrouen/screenkhorn/screenkhorn_bis.py:669: UserWarning: Maxium number of line-search iterations reached\n",
      "  warnings.warn(\"Maxium number of line-search iterations reached\")\n"
     ]
    },
    {
     "name": "stderr",
     "output_type": "stream",
     "text": [
      "/Users/mzalaya/PycharmProjects/OATMIL/oatmilrouen/screenkhorn/screenkhorn_bis.py:669: UserWarning: Maxium number of line-search iterations reached\n",
      "  warnings.warn(\"Maxium number of line-search iterations reached\")\n",
      "/Users/mzalaya/PycharmProjects/OATMIL/oatmilrouen/screenkhorn/screenkhorn_bis.py:669: UserWarning: Maxium number of line-search iterations reached\n",
      "  warnings.warn(\"Maxium number of line-search iterations reached\")\n",
      "/Users/mzalaya/PycharmProjects/OATMIL/oatmilrouen/screenkhorn/screenkhorn_bis.py:669: UserWarning: Maxium number of line-search iterations reached\n",
      "  warnings.warn(\"Maxium number of line-search iterations reached\")\n",
      "/Users/mzalaya/PycharmProjects/OATMIL/oatmilrouen/screenkhorn/screenkhorn_bis.py:669: UserWarning: Maxium number of line-search iterations reached\n",
      "  warnings.warn(\"Maxium number of line-search iterations reached\")\n",
      "/Users/mzalaya/PycharmProjects/OATMIL/oatmilrouen/screenkhorn/screenkhorn_bis.py:669: UserWarning: Maxium number of line-search iterations reached\n",
      "  warnings.warn(\"Maxium number of line-search iterations reached\")\n",
      "/Users/mzalaya/PycharmProjects/OATMIL/oatmilrouen/screenkhorn/screenkhorn_bis.py:669: UserWarning: Maxium number of line-search iterations reached\n",
      "  warnings.warn(\"Maxium number of line-search iterations reached\")\n",
      "/Users/mzalaya/PycharmProjects/OATMIL/oatmilrouen/screenkhorn/screenkhorn_bis.py:669: UserWarning: Maxium number of line-search iterations reached\n",
      "  warnings.warn(\"Maxium number of line-search iterations reached\")\n",
      "/Users/mzalaya/PycharmProjects/OATMIL/oatmilrouen/screenkhorn/screenkhorn_bis.py:669: UserWarning: Maxium number of line-search iterations reached\n",
      "  warnings.warn(\"Maxium number of line-search iterations reached\")\n",
      "/Users/mzalaya/PycharmProjects/OATMIL/oatmilrouen/screenkhorn/screenkhorn_bis.py:669: UserWarning: Maxium number of line-search iterations reached\n",
      "  warnings.warn(\"Maxium number of line-search iterations reached\")\n",
      "/Users/mzalaya/PycharmProjects/OATMIL/oatmilrouen/screenkhorn/screenkhorn_bis.py:669: UserWarning: Maxium number of line-search iterations reached\n",
      "  warnings.warn(\"Maxium number of line-search iterations reached\")\n",
      "/Users/mzalaya/PycharmProjects/OATMIL/oatmilrouen/screenkhorn/screenkhorn_bis.py:669: UserWarning: Maxium number of line-search iterations reached\n",
      "  warnings.warn(\"Maxium number of line-search iterations reached\")\n",
      "/Users/mzalaya/PycharmProjects/OATMIL/oatmilrouen/screenkhorn/screenkhorn_bis.py:669: UserWarning: Maxium number of line-search iterations reached\n",
      "  warnings.warn(\"Maxium number of line-search iterations reached\")\n",
      "/Users/mzalaya/PycharmProjects/OATMIL/oatmilrouen/screenkhorn/screenkhorn_bis.py:669: UserWarning: Maxium number of line-search iterations reached\n",
      "  warnings.warn(\"Maxium number of line-search iterations reached\")\n",
      "/Users/mzalaya/PycharmProjects/OATMIL/oatmilrouen/screenkhorn/screenkhorn_bis.py:669: UserWarning: Maxium number of line-search iterations reached\n",
      "  warnings.warn(\"Maxium number of line-search iterations reached\")\n",
      "/Users/mzalaya/PycharmProjects/OATMIL/oatmilrouen/screenkhorn/screenkhorn_bis.py:669: UserWarning: Maxium number of line-search iterations reached\n",
      "  warnings.warn(\"Maxium number of line-search iterations reached\")\n",
      "/Users/mzalaya/PycharmProjects/OATMIL/oatmilrouen/screenkhorn/screenkhorn_bis.py:669: UserWarning: Maxium number of line-search iterations reached\n",
      "  warnings.warn(\"Maxium number of line-search iterations reached\")\n",
      "/Users/mzalaya/PycharmProjects/OATMIL/oatmilrouen/screenkhorn/screenkhorn_bis.py:669: UserWarning: Maxium number of line-search iterations reached\n",
      "  warnings.warn(\"Maxium number of line-search iterations reached\")\n",
      "/Users/mzalaya/PycharmProjects/OATMIL/oatmilrouen/screenkhorn/screenkhorn_bis.py:669: UserWarning: Maxium number of line-search iterations reached\n",
      "  warnings.warn(\"Maxium number of line-search iterations reached\")\n",
      "/Users/mzalaya/PycharmProjects/OATMIL/oatmilrouen/screenkhorn/screenkhorn_bis.py:669: UserWarning: Maxium number of line-search iterations reached\n",
      "  warnings.warn(\"Maxium number of line-search iterations reached\")\n",
      "/Users/mzalaya/PycharmProjects/OATMIL/oatmilrouen/screenkhorn/screenkhorn_bis.py:669: UserWarning: Maxium number of line-search iterations reached\n",
      "  warnings.warn(\"Maxium number of line-search iterations reached\")\n",
      "/Users/mzalaya/PycharmProjects/OATMIL/oatmilrouen/screenkhorn/screenkhorn_bis.py:669: UserWarning: Maxium number of line-search iterations reached\n",
      "  warnings.warn(\"Maxium number of line-search iterations reached\")\n",
      "/Users/mzalaya/PycharmProjects/OATMIL/oatmilrouen/screenkhorn/screenkhorn_bis.py:669: UserWarning: Maxium number of line-search iterations reached\n",
      "  warnings.warn(\"Maxium number of line-search iterations reached\")\n",
      "/Users/mzalaya/PycharmProjects/OATMIL/oatmilrouen/screenkhorn/screenkhorn_bis.py:669: UserWarning: Maxium number of line-search iterations reached\n",
      "  warnings.warn(\"Maxium number of line-search iterations reached\")\n",
      "/Users/mzalaya/PycharmProjects/OATMIL/oatmilrouen/screenkhorn/screenkhorn_bis.py:669: UserWarning: Maxium number of line-search iterations reached\n",
      "  warnings.warn(\"Maxium number of line-search iterations reached\")\n",
      "/Users/mzalaya/PycharmProjects/OATMIL/oatmilrouen/screenkhorn/screenkhorn_bis.py:669: UserWarning: Maxium number of line-search iterations reached\n",
      "  warnings.warn(\"Maxium number of line-search iterations reached\")\n",
      "/Users/mzalaya/PycharmProjects/OATMIL/oatmilrouen/screenkhorn/screenkhorn_bis.py:669: UserWarning: Maxium number of line-search iterations reached\n",
      "  warnings.warn(\"Maxium number of line-search iterations reached\")\n",
      "/Users/mzalaya/PycharmProjects/OATMIL/oatmilrouen/screenkhorn/screenkhorn_bis.py:669: UserWarning: Maxium number of line-search iterations reached\n",
      "  warnings.warn(\"Maxium number of line-search iterations reached\")\n",
      "/Users/mzalaya/PycharmProjects/OATMIL/oatmilrouen/screenkhorn/screenkhorn_bis.py:669: UserWarning: Maxium number of line-search iterations reached\n",
      "  warnings.warn(\"Maxium number of line-search iterations reached\")\n",
      "/Users/mzalaya/PycharmProjects/OATMIL/oatmilrouen/screenkhorn/screenkhorn_bis.py:669: UserWarning: Maxium number of line-search iterations reached\n",
      "  warnings.warn(\"Maxium number of line-search iterations reached\")\n",
      "/Users/mzalaya/PycharmProjects/OATMIL/oatmilrouen/screenkhorn/screenkhorn_bis.py:669: UserWarning: Maxium number of line-search iterations reached\n",
      "  warnings.warn(\"Maxium number of line-search iterations reached\")\n",
      "/Users/mzalaya/PycharmProjects/OATMIL/oatmilrouen/screenkhorn/screenkhorn_bis.py:669: UserWarning: Maxium number of line-search iterations reached\n",
      "  warnings.warn(\"Maxium number of line-search iterations reached\")\n",
      "/Users/mzalaya/PycharmProjects/OATMIL/oatmilrouen/screenkhorn/screenkhorn_bis.py:669: UserWarning: Maxium number of line-search iterations reached\n",
      "  warnings.warn(\"Maxium number of line-search iterations reached\")\n",
      "/Users/mzalaya/PycharmProjects/OATMIL/oatmilrouen/screenkhorn/screenkhorn_bis.py:669: UserWarning: Maxium number of line-search iterations reached\n",
      "  warnings.warn(\"Maxium number of line-search iterations reached\")\n",
      "/Users/mzalaya/PycharmProjects/OATMIL/oatmilrouen/screenkhorn/screenkhorn_bis.py:669: UserWarning: Maxium number of line-search iterations reached\n",
      "  warnings.warn(\"Maxium number of line-search iterations reached\")\n",
      "/Users/mzalaya/PycharmProjects/OATMIL/oatmilrouen/screenkhorn/screenkhorn_bis.py:669: UserWarning: Maxium number of line-search iterations reached\n",
      "  warnings.warn(\"Maxium number of line-search iterations reached\")\n",
      "/Users/mzalaya/PycharmProjects/OATMIL/oatmilrouen/screenkhorn/screenkhorn_bis.py:669: UserWarning: Maxium number of line-search iterations reached\n",
      "  warnings.warn(\"Maxium number of line-search iterations reached\")\n",
      "/Users/mzalaya/PycharmProjects/OATMIL/oatmilrouen/screenkhorn/screenkhorn_bis.py:669: UserWarning: Maxium number of line-search iterations reached\n",
      "  warnings.warn(\"Maxium number of line-search iterations reached\")\n",
      "/Users/mzalaya/PycharmProjects/OATMIL/oatmilrouen/screenkhorn/screenkhorn_bis.py:669: UserWarning: Maxium number of line-search iterations reached\n",
      "  warnings.warn(\"Maxium number of line-search iterations reached\")\n",
      "/Users/mzalaya/PycharmProjects/OATMIL/oatmilrouen/screenkhorn/screenkhorn_bis.py:669: UserWarning: Maxium number of line-search iterations reached\n",
      "  warnings.warn(\"Maxium number of line-search iterations reached\")\n",
      "/Users/mzalaya/PycharmProjects/OATMIL/oatmilrouen/screenkhorn/screenkhorn_bis.py:669: UserWarning: Maxium number of line-search iterations reached\n",
      "  warnings.warn(\"Maxium number of line-search iterations reached\")\n",
      "/Users/mzalaya/PycharmProjects/OATMIL/oatmilrouen/screenkhorn/screenkhorn_bis.py:669: UserWarning: Maxium number of line-search iterations reached\n",
      "  warnings.warn(\"Maxium number of line-search iterations reached\")\n",
      "/Users/mzalaya/PycharmProjects/OATMIL/oatmilrouen/screenkhorn/screenkhorn_bis.py:669: UserWarning: Maxium number of line-search iterations reached\n",
      "  warnings.warn(\"Maxium number of line-search iterations reached\")\n"
     ]
    },
    {
     "name": "stderr",
     "output_type": "stream",
     "text": [
      "/Users/mzalaya/PycharmProjects/OATMIL/oatmilrouen/screenkhorn/screenkhorn_bis.py:669: UserWarning: Maxium number of line-search iterations reached\n",
      "  warnings.warn(\"Maxium number of line-search iterations reached\")\n",
      "/Users/mzalaya/PycharmProjects/OATMIL/oatmilrouen/screenkhorn/screenkhorn_bis.py:669: UserWarning: Maxium number of line-search iterations reached\n",
      "  warnings.warn(\"Maxium number of line-search iterations reached\")\n",
      "/Users/mzalaya/PycharmProjects/OATMIL/oatmilrouen/screenkhorn/screenkhorn_bis.py:669: UserWarning: Maxium number of line-search iterations reached\n",
      "  warnings.warn(\"Maxium number of line-search iterations reached\")\n",
      "/Users/mzalaya/PycharmProjects/OATMIL/oatmilrouen/screenkhorn/screenkhorn_bis.py:669: UserWarning: Maxium number of line-search iterations reached\n",
      "  warnings.warn(\"Maxium number of line-search iterations reached\")\n",
      "/Users/mzalaya/PycharmProjects/OATMIL/oatmilrouen/screenkhorn/screenkhorn_bis.py:669: UserWarning: Maxium number of line-search iterations reached\n",
      "  warnings.warn(\"Maxium number of line-search iterations reached\")\n",
      "/Users/mzalaya/PycharmProjects/OATMIL/oatmilrouen/screenkhorn/screenkhorn_bis.py:669: UserWarning: Maxium number of line-search iterations reached\n",
      "  warnings.warn(\"Maxium number of line-search iterations reached\")\n",
      "/Users/mzalaya/PycharmProjects/OATMIL/oatmilrouen/screenkhorn/screenkhorn_bis.py:669: UserWarning: Maxium number of line-search iterations reached\n",
      "  warnings.warn(\"Maxium number of line-search iterations reached\")\n",
      "/Users/mzalaya/PycharmProjects/OATMIL/oatmilrouen/screenkhorn/screenkhorn_bis.py:669: UserWarning: Maxium number of line-search iterations reached\n",
      "  warnings.warn(\"Maxium number of line-search iterations reached\")\n",
      "/Users/mzalaya/PycharmProjects/OATMIL/oatmilrouen/screenkhorn/screenkhorn_bis.py:669: UserWarning: Maxium number of line-search iterations reached\n",
      "  warnings.warn(\"Maxium number of line-search iterations reached\")\n",
      "/Users/mzalaya/PycharmProjects/OATMIL/oatmilrouen/screenkhorn/screenkhorn_bis.py:669: UserWarning: Maxium number of line-search iterations reached\n",
      "  warnings.warn(\"Maxium number of line-search iterations reached\")\n",
      "/Users/mzalaya/PycharmProjects/OATMIL/oatmilrouen/screenkhorn/screenkhorn_bis.py:669: UserWarning: Maxium number of line-search iterations reached\n",
      "  warnings.warn(\"Maxium number of line-search iterations reached\")\n",
      "/Users/mzalaya/PycharmProjects/OATMIL/oatmilrouen/screenkhorn/screenkhorn_bis.py:669: UserWarning: Maxium number of line-search iterations reached\n",
      "  warnings.warn(\"Maxium number of line-search iterations reached\")\n",
      "/Users/mzalaya/PycharmProjects/OATMIL/oatmilrouen/screenkhorn/screenkhorn_bis.py:669: UserWarning: Maxium number of line-search iterations reached\n",
      "  warnings.warn(\"Maxium number of line-search iterations reached\")\n",
      "/Users/mzalaya/PycharmProjects/OATMIL/oatmilrouen/screenkhorn/screenkhorn_bis.py:669: UserWarning: Maxium number of line-search iterations reached\n",
      "  warnings.warn(\"Maxium number of line-search iterations reached\")\n",
      "/Users/mzalaya/PycharmProjects/OATMIL/oatmilrouen/screenkhorn/screenkhorn_bis.py:669: UserWarning: Maxium number of line-search iterations reached\n",
      "  warnings.warn(\"Maxium number of line-search iterations reached\")\n",
      "/Users/mzalaya/PycharmProjects/OATMIL/oatmilrouen/screenkhorn/screenkhorn_bis.py:669: UserWarning: Maxium number of line-search iterations reached\n",
      "  warnings.warn(\"Maxium number of line-search iterations reached\")\n",
      "/Users/mzalaya/PycharmProjects/OATMIL/oatmilrouen/screenkhorn/screenkhorn_bis.py:669: UserWarning: Maxium number of line-search iterations reached\n",
      "  warnings.warn(\"Maxium number of line-search iterations reached\")\n",
      "/Users/mzalaya/PycharmProjects/OATMIL/oatmilrouen/screenkhorn/screenkhorn_bis.py:669: UserWarning: Maxium number of line-search iterations reached\n",
      "  warnings.warn(\"Maxium number of line-search iterations reached\")\n",
      "/Users/mzalaya/PycharmProjects/OATMIL/oatmilrouen/screenkhorn/screenkhorn_bis.py:669: UserWarning: Maxium number of line-search iterations reached\n",
      "  warnings.warn(\"Maxium number of line-search iterations reached\")\n",
      "/Users/mzalaya/PycharmProjects/OATMIL/oatmilrouen/screenkhorn/screenkhorn_bis.py:669: UserWarning: Maxium number of line-search iterations reached\n",
      "  warnings.warn(\"Maxium number of line-search iterations reached\")\n",
      "/Users/mzalaya/PycharmProjects/OATMIL/oatmilrouen/screenkhorn/screenkhorn_bis.py:669: UserWarning: Maxium number of line-search iterations reached\n",
      "  warnings.warn(\"Maxium number of line-search iterations reached\")\n",
      "/Users/mzalaya/PycharmProjects/OATMIL/oatmilrouen/screenkhorn/screenkhorn_bis.py:669: UserWarning: Maxium number of line-search iterations reached\n",
      "  warnings.warn(\"Maxium number of line-search iterations reached\")\n",
      "/Users/mzalaya/PycharmProjects/OATMIL/oatmilrouen/screenkhorn/screenkhorn_bis.py:669: UserWarning: Maxium number of line-search iterations reached\n",
      "  warnings.warn(\"Maxium number of line-search iterations reached\")\n",
      "/Users/mzalaya/PycharmProjects/OATMIL/oatmilrouen/screenkhorn/screenkhorn_bis.py:669: UserWarning: Maxium number of line-search iterations reached\n",
      "  warnings.warn(\"Maxium number of line-search iterations reached\")\n",
      "/Users/mzalaya/PycharmProjects/OATMIL/oatmilrouen/screenkhorn/screenkhorn_bis.py:669: UserWarning: Maxium number of line-search iterations reached\n",
      "  warnings.warn(\"Maxium number of line-search iterations reached\")\n",
      "/Users/mzalaya/PycharmProjects/OATMIL/oatmilrouen/screenkhorn/screenkhorn_bis.py:669: UserWarning: Maxium number of line-search iterations reached\n",
      "  warnings.warn(\"Maxium number of line-search iterations reached\")\n",
      "/Users/mzalaya/PycharmProjects/OATMIL/oatmilrouen/screenkhorn/screenkhorn_bis.py:669: UserWarning: Maxium number of line-search iterations reached\n",
      "  warnings.warn(\"Maxium number of line-search iterations reached\")\n",
      "/Users/mzalaya/PycharmProjects/OATMIL/oatmilrouen/screenkhorn/screenkhorn_bis.py:669: UserWarning: Maxium number of line-search iterations reached\n",
      "  warnings.warn(\"Maxium number of line-search iterations reached\")\n",
      "/Users/mzalaya/PycharmProjects/OATMIL/oatmilrouen/screenkhorn/screenkhorn_bis.py:669: UserWarning: Maxium number of line-search iterations reached\n",
      "  warnings.warn(\"Maxium number of line-search iterations reached\")\n",
      "/Users/mzalaya/PycharmProjects/OATMIL/oatmilrouen/screenkhorn/screenkhorn_bis.py:669: UserWarning: Maxium number of line-search iterations reached\n",
      "  warnings.warn(\"Maxium number of line-search iterations reached\")\n",
      "/Users/mzalaya/PycharmProjects/OATMIL/oatmilrouen/screenkhorn/screenkhorn_bis.py:669: UserWarning: Maxium number of line-search iterations reached\n",
      "  warnings.warn(\"Maxium number of line-search iterations reached\")\n",
      "/Users/mzalaya/PycharmProjects/OATMIL/oatmilrouen/screenkhorn/screenkhorn_bis.py:669: UserWarning: Maxium number of line-search iterations reached\n",
      "  warnings.warn(\"Maxium number of line-search iterations reached\")\n",
      "/Users/mzalaya/PycharmProjects/OATMIL/oatmilrouen/screenkhorn/screenkhorn_bis.py:669: UserWarning: Maxium number of line-search iterations reached\n",
      "  warnings.warn(\"Maxium number of line-search iterations reached\")\n",
      "/Users/mzalaya/PycharmProjects/OATMIL/oatmilrouen/screenkhorn/screenkhorn_bis.py:669: UserWarning: Maxium number of line-search iterations reached\n",
      "  warnings.warn(\"Maxium number of line-search iterations reached\")\n",
      "/Users/mzalaya/PycharmProjects/OATMIL/oatmilrouen/screenkhorn/screenkhorn_bis.py:669: UserWarning: Maxium number of line-search iterations reached\n",
      "  warnings.warn(\"Maxium number of line-search iterations reached\")\n",
      "/Users/mzalaya/PycharmProjects/OATMIL/oatmilrouen/screenkhorn/screenkhorn_bis.py:669: UserWarning: Maxium number of line-search iterations reached\n",
      "  warnings.warn(\"Maxium number of line-search iterations reached\")\n",
      "/Users/mzalaya/PycharmProjects/OATMIL/oatmilrouen/screenkhorn/screenkhorn_bis.py:669: UserWarning: Maxium number of line-search iterations reached\n",
      "  warnings.warn(\"Maxium number of line-search iterations reached\")\n",
      "/Users/mzalaya/PycharmProjects/OATMIL/oatmilrouen/screenkhorn/screenkhorn_bis.py:669: UserWarning: Maxium number of line-search iterations reached\n",
      "  warnings.warn(\"Maxium number of line-search iterations reached\")\n",
      "/Users/mzalaya/PycharmProjects/OATMIL/oatmilrouen/screenkhorn/screenkhorn_bis.py:669: UserWarning: Maxium number of line-search iterations reached\n",
      "  warnings.warn(\"Maxium number of line-search iterations reached\")\n",
      "/Users/mzalaya/PycharmProjects/OATMIL/oatmilrouen/screenkhorn/screenkhorn_bis.py:669: UserWarning: Maxium number of line-search iterations reached\n",
      "  warnings.warn(\"Maxium number of line-search iterations reached\")\n",
      "/Users/mzalaya/PycharmProjects/OATMIL/oatmilrouen/screenkhorn/screenkhorn_bis.py:669: UserWarning: Maxium number of line-search iterations reached\n",
      "  warnings.warn(\"Maxium number of line-search iterations reached\")\n",
      "/Users/mzalaya/PycharmProjects/OATMIL/oatmilrouen/screenkhorn/screenkhorn_bis.py:669: UserWarning: Maxium number of line-search iterations reached\n",
      "  warnings.warn(\"Maxium number of line-search iterations reached\")\n"
     ]
    },
    {
     "name": "stderr",
     "output_type": "stream",
     "text": [
      "/Users/mzalaya/PycharmProjects/OATMIL/oatmilrouen/screenkhorn/screenkhorn_bis.py:669: UserWarning: Maxium number of line-search iterations reached\n",
      "  warnings.warn(\"Maxium number of line-search iterations reached\")\n",
      "/Users/mzalaya/PycharmProjects/OATMIL/oatmilrouen/screenkhorn/screenkhorn_bis.py:669: UserWarning: Maxium number of line-search iterations reached\n",
      "  warnings.warn(\"Maxium number of line-search iterations reached\")\n",
      "/Users/mzalaya/PycharmProjects/OATMIL/oatmilrouen/screenkhorn/screenkhorn_bis.py:669: UserWarning: Maxium number of line-search iterations reached\n",
      "  warnings.warn(\"Maxium number of line-search iterations reached\")\n",
      "/Users/mzalaya/PycharmProjects/OATMIL/oatmilrouen/screenkhorn/screenkhorn_bis.py:669: UserWarning: Maxium number of line-search iterations reached\n",
      "  warnings.warn(\"Maxium number of line-search iterations reached\")\n",
      "/Users/mzalaya/PycharmProjects/OATMIL/oatmilrouen/screenkhorn/screenkhorn_bis.py:669: UserWarning: Maxium number of line-search iterations reached\n",
      "  warnings.warn(\"Maxium number of line-search iterations reached\")\n",
      "/Users/mzalaya/PycharmProjects/OATMIL/oatmilrouen/screenkhorn/screenkhorn_bis.py:669: UserWarning: Maxium number of line-search iterations reached\n",
      "  warnings.warn(\"Maxium number of line-search iterations reached\")\n",
      "/Users/mzalaya/PycharmProjects/OATMIL/oatmilrouen/screenkhorn/screenkhorn_bis.py:669: UserWarning: Maxium number of line-search iterations reached\n",
      "  warnings.warn(\"Maxium number of line-search iterations reached\")\n",
      "/Users/mzalaya/PycharmProjects/OATMIL/oatmilrouen/screenkhorn/screenkhorn_bis.py:669: UserWarning: Maxium number of line-search iterations reached\n",
      "  warnings.warn(\"Maxium number of line-search iterations reached\")\n",
      "/Users/mzalaya/PycharmProjects/OATMIL/oatmilrouen/screenkhorn/screenkhorn_bis.py:669: UserWarning: Maxium number of line-search iterations reached\n",
      "  warnings.warn(\"Maxium number of line-search iterations reached\")\n",
      "/Users/mzalaya/PycharmProjects/OATMIL/oatmilrouen/screenkhorn/screenkhorn_bis.py:669: UserWarning: Maxium number of line-search iterations reached\n",
      "  warnings.warn(\"Maxium number of line-search iterations reached\")\n",
      "/Users/mzalaya/PycharmProjects/OATMIL/oatmilrouen/screenkhorn/screenkhorn_bis.py:669: UserWarning: Maxium number of line-search iterations reached\n",
      "  warnings.warn(\"Maxium number of line-search iterations reached\")\n",
      "/Users/mzalaya/PycharmProjects/OATMIL/oatmilrouen/screenkhorn/screenkhorn_bis.py:669: UserWarning: Maxium number of line-search iterations reached\n",
      "  warnings.warn(\"Maxium number of line-search iterations reached\")\n",
      "/Users/mzalaya/PycharmProjects/OATMIL/oatmilrouen/screenkhorn/screenkhorn_bis.py:669: UserWarning: Maxium number of line-search iterations reached\n",
      "  warnings.warn(\"Maxium number of line-search iterations reached\")\n",
      "/Users/mzalaya/PycharmProjects/OATMIL/oatmilrouen/screenkhorn/screenkhorn_bis.py:669: UserWarning: Maxium number of line-search iterations reached\n",
      "  warnings.warn(\"Maxium number of line-search iterations reached\")\n",
      "/Users/mzalaya/PycharmProjects/OATMIL/oatmilrouen/screenkhorn/screenkhorn_bis.py:669: UserWarning: Maxium number of line-search iterations reached\n",
      "  warnings.warn(\"Maxium number of line-search iterations reached\")\n",
      "/Users/mzalaya/PycharmProjects/OATMIL/oatmilrouen/screenkhorn/screenkhorn_bis.py:669: UserWarning: Maxium number of line-search iterations reached\n",
      "  warnings.warn(\"Maxium number of line-search iterations reached\")\n",
      "/Users/mzalaya/PycharmProjects/OATMIL/oatmilrouen/screenkhorn/screenkhorn_bis.py:669: UserWarning: Maxium number of line-search iterations reached\n",
      "  warnings.warn(\"Maxium number of line-search iterations reached\")\n",
      "/Users/mzalaya/PycharmProjects/OATMIL/oatmilrouen/screenkhorn/screenkhorn_bis.py:669: UserWarning: Maxium number of line-search iterations reached\n",
      "  warnings.warn(\"Maxium number of line-search iterations reached\")\n",
      "/Users/mzalaya/PycharmProjects/OATMIL/oatmilrouen/screenkhorn/screenkhorn_bis.py:669: UserWarning: Maxium number of line-search iterations reached\n",
      "  warnings.warn(\"Maxium number of line-search iterations reached\")\n",
      "/Users/mzalaya/PycharmProjects/OATMIL/oatmilrouen/screenkhorn/screenkhorn_bis.py:669: UserWarning: Maxium number of line-search iterations reached\n",
      "  warnings.warn(\"Maxium number of line-search iterations reached\")\n",
      "/Users/mzalaya/PycharmProjects/OATMIL/oatmilrouen/screenkhorn/screenkhorn_bis.py:669: UserWarning: Maxium number of line-search iterations reached\n",
      "  warnings.warn(\"Maxium number of line-search iterations reached\")\n",
      "/Users/mzalaya/PycharmProjects/OATMIL/oatmilrouen/screenkhorn/screenkhorn_bis.py:669: UserWarning: Maxium number of line-search iterations reached\n",
      "  warnings.warn(\"Maxium number of line-search iterations reached\")\n"
     ]
    },
    {
     "data": {
      "text/plain": [
       "(10.0, 8.165947914123535)"
      ]
     },
     "execution_count": 31,
     "metadata": {},
     "output_type": "execute_result"
    }
   ],
   "source": [
    "### step_size = None\n",
    "import time\n",
    "tic = time.time()\n",
    "acc_proj_grad = screenkhorn.block_acc_projected_grad(u0, v0, I_active, J_active, max_iter=1000, tol=1e-9, step_size=step_size,\n",
    "                                  backtracking=True, backtracking_factor=0.5, max_iter_backtracking=10,\n",
    "                                  trace=True, verbose=False)\n",
    "toc1 = time.time() - tic\n",
    "step_size, toc1"
   ]
  },
  {
   "cell_type": "code",
   "execution_count": 32,
   "metadata": {},
   "outputs": [
    {
     "data": {
      "text/plain": [
       "0.0033347606658935547"
      ]
     },
     "execution_count": 32,
     "metadata": {},
     "output_type": "execute_result"
    }
   ],
   "source": [
    " time_sink"
   ]
  },
  {
   "cell_type": "code",
   "execution_count": 33,
   "metadata": {},
   "outputs": [
    {
     "data": {
      "text/plain": [
       "(340.50210910130835,)"
      ]
     },
     "execution_count": 33,
     "metadata": {},
     "output_type": "execute_result"
    }
   ],
   "source": [
    "toc_prg/time_sink, #toc1 / time_sink"
   ]
  },
  {
   "cell_type": "code",
   "execution_count": 34,
   "metadata": {},
   "outputs": [
    {
     "ename": "NameError",
     "evalue": "name 'toc' is not defined",
     "output_type": "error",
     "traceback": [
      "\u001b[0;31m---------------------------------------------------------------------------\u001b[0m",
      "\u001b[0;31mNameError\u001b[0m                                 Traceback (most recent call last)",
      "\u001b[0;32m<ipython-input-34-d71f7de1d3c8>\u001b[0m in \u001b[0;36m<module>\u001b[0;34m\u001b[0m\n\u001b[0;32m----> 1\u001b[0;31m \u001b[0mtime_sink\u001b[0m\u001b[0;34m,\u001b[0m \u001b[0mtoc\u001b[0m\u001b[0;34m,\u001b[0m \u001b[0mtoc_prg\u001b[0m\u001b[0;34m,\u001b[0m \u001b[0mtime_res_green\u001b[0m\u001b[0;34m,\u001b[0m \u001b[0mtime_res_sink\u001b[0m\u001b[0;34m\u001b[0m\u001b[0;34m\u001b[0m\u001b[0m\n\u001b[0m",
      "\u001b[0;31mNameError\u001b[0m: name 'toc' is not defined"
     ]
    }
   ],
   "source": [
    "time_sink, toc, toc_prg, time_res_green, time_res_sink"
   ]
  },
  {
   "cell_type": "code",
   "execution_count": null,
   "metadata": {},
   "outputs": [],
   "source": [
    "u_pgd = proj_grad[\"usc\"]\n",
    "v_pgd = proj_grad[\"vsc\"]\n",
    "I_pgd = proj_grad[\"I_usc\"]\n",
    "J_pgd = proj_grad[\"J_vsc\"]"
   ]
  },
  {
   "cell_type": "code",
   "execution_count": null,
   "metadata": {},
   "outputs": [],
   "source": [
    "print(len(I_active), len(I_like), len(I_pgd))\n",
    "print(len(J_active), len(J_like), len(J_pgd))\n",
    "\n",
    "# 200 200 188\n",
    "# 100 100 92"
   ]
  },
  {
   "cell_type": "code",
   "execution_count": null,
   "metadata": {},
   "outputs": [],
   "source": [
    "plt.plot(exp_u_star)"
   ]
  },
  {
   "cell_type": "code",
   "execution_count": null,
   "metadata": {},
   "outputs": [],
   "source": [
    "plt.plot(2*exp_u_star)\n",
    "plt.plot(proj_grad[\"usc\"]);"
   ]
  },
  {
   "cell_type": "code",
   "execution_count": null,
   "metadata": {},
   "outputs": [],
   "source": [
    "plt.plot(exp_v_star/2)\n",
    "plt.plot(proj_grad[\"vsc\"]);"
   ]
  },
  {
   "cell_type": "code",
   "execution_count": null,
   "metadata": {},
   "outputs": [],
   "source": [
    "plt.plot(np.exp(path[0])/2)\n",
    "plt.plot(exp_u_star)"
   ]
  },
  {
   "cell_type": "code",
   "execution_count": null,
   "metadata": {},
   "outputs": [],
   "source": []
  }
 ],
 "metadata": {
  "kernelspec": {
   "display_name": "Python 3",
   "language": "python",
   "name": "python3"
  },
  "language_info": {
   "codemirror_mode": {
    "name": "ipython",
    "version": 3
   },
   "file_extension": ".py",
   "mimetype": "text/x-python",
   "name": "python",
   "nbconvert_exporter": "python",
   "pygments_lexer": "ipython3",
   "version": "3.6.8"
  }
 },
 "nbformat": 4,
 "nbformat_minor": 2
}

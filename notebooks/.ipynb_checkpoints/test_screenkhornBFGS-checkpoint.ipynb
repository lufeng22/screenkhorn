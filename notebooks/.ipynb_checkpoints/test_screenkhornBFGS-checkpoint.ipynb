{
 "cells": [
  {
   "cell_type": "markdown",
   "metadata": {},
   "source": [
    "## Goal:\n",
    "\n",
    "Here we test the functions: `lbfgsb` in the `Screenkhorn` class."
   ]
  },
  {
   "cell_type": "code",
   "execution_count": 1,
   "metadata": {},
   "outputs": [],
   "source": [
    "# NUMPY\n",
    "import numpy as np\n",
    "np.random.seed(3946)\n",
    "# MATPLOTLIB\n",
    "import matplotlib.pyplot as plt\n",
    "plt.style.context('dark_background')\n",
    "%matplotlib inline \n",
    "from matplotlib import rc\n",
    "rc('font', **{'family': 'sans-serif', 'sans-serif': ['Computer Modern Roman']})\n",
    "params = {'axes.labelsize': 8, # 12\n",
    "          'font.size': 8, # 12\n",
    "          'legend.fontsize': 8, # 12\n",
    "          'xtick.labelsize': 8, # 10\n",
    "          'ytick.labelsize': 8, # 10\n",
    "          'text.usetex': True,\n",
    "          'figure.figsize': (16, 6)}\n",
    "plt.rcParams.update(params)\n",
    "\n",
    "# SEABORN \n",
    "import seaborn as sns\n",
    "sns.set_context(\"poster\")\n",
    "sns.set_style(\"ticks\")\n",
    "\n",
    "# SKLEARN \n",
    "from sklearn.metrics import pairwise_distances\n",
    "\n",
    "# WARNINGS\n",
    "import warnings\n",
    "warnings.filterwarnings(\"ignore\", category=FutureWarning)\n",
    "\n",
    "# TIME\n",
    "from time import time \n",
    "\n",
    "# PATH \n",
    "import sys\n",
    "path_files = '/Users/mzalaya/PycharmProjects/OATMIL/oatmilrouen/'\n",
    "sys.path.insert(0, path_files) \n",
    "\n",
    "\n",
    "# POT\n",
    "import ot\n",
    "from ot import sinkhorn, emd\n",
    "\n",
    "# GREENKHORN \n",
    "from ot.bregman import greenkhorn\n",
    "\n",
    "# SCREENKHORN\n",
    "from screenkhorn.screenkhornBFGS import Screenkhorn\n"
   ]
  },
  {
   "cell_type": "markdown",
   "metadata": {},
   "source": [
    "## Data generation"
   ]
  },
  {
   "cell_type": "code",
   "execution_count": 2,
   "metadata": {},
   "outputs": [
    {
     "data": {
      "text/plain": [
       "0.0012406947890818859"
      ]
     },
     "execution_count": 2,
     "metadata": {},
     "output_type": "execute_result"
    }
   ],
   "source": [
    "n_1 = 1000# nb samples\n",
    "n_2 = 1000\n",
    "mu_s = np.array([0, 0])\n",
    "cov_s = np.array([[1, 0], [0, 1]])\n",
    "\n",
    "mu_t = np.array([4, 4])\n",
    "cov_t = np.array([[1, -.8], [-.8, 1]])\n",
    "\n",
    "xs = ot.datasets.make_2D_samples_gauss(n_1, mu_s, cov_s)\n",
    "xt = ot.datasets.make_2D_samples_gauss(n_2, mu_t, cov_t)\n",
    "\n",
    "a = np.ones((n_1,)) / n_1\n",
    "b = np.ones((n_2,)) / n_2  # uniform distribution on samples\n",
    "\n",
    "# a = abs(np.random.normal(size=(n_1,)))\n",
    "# b = abs(np.random.normal(size=(n_2,)))\n",
    "# a = a / a.sum()\n",
    "# b = b / b.sum()\n",
    "\n",
    "# loss matrix\n",
    "M = ot.dist(xs, xt)\n",
    "M /= M.max()\n",
    "\n",
    "lower_bound_epsilon = M.max()/806\n",
    "# reg = lower_bound_epsilon\n",
    "reg = 0.01\n",
    "lower_bound_epsilon"
   ]
  },
  {
   "cell_type": "markdown",
   "metadata": {},
   "source": [
    "## Sinkhorn "
   ]
  },
  {
   "cell_type": "code",
   "execution_count": 3,
   "metadata": {},
   "outputs": [],
   "source": [
    "tic = time()\n",
    "P_sink = sinkhorn(a, b, M, reg, log=True)\n",
    "Pstar = P_sink[0]\n",
    "outputs_dict = P_sink[1]\n",
    "ustar = outputs_dict['u']\n",
    "vstar = outputs_dict['v']\n",
    "time_sink = time() - tic"
   ]
  },
  {
   "cell_type": "markdown",
   "metadata": {},
   "source": [
    "## L-BFGS-B"
   ]
  },
  {
   "cell_type": "code",
   "execution_count": 4,
   "metadata": {},
   "outputs": [
    {
     "name": "stdout",
     "output_type": "stream",
     "text": [
      "\n",
      " Epsilon_u is 4.654273958818011e+31\n",
      "\n",
      " Epsilon_v is 4.654273958818011e+31\n",
      "\n",
      "|I_active| = 207 \t |J_active| = 0 \t |I_active| + |J_active| = 207\n"
     ]
    },
    {
     "ename": "IndexError",
     "evalue": "index 0 is out of bounds for axis 0 with size 0",
     "output_type": "error",
     "traceback": [
      "\u001b[0;31m---------------------------------------------------------------------------\u001b[0m",
      "\u001b[0;31mIndexError\u001b[0m                                Traceback (most recent call last)",
      "\u001b[0;32m<ipython-input-4-c111dc4ed9b8>\u001b[0m in \u001b[0;36m<module>\u001b[0;34m\u001b[0m\n\u001b[1;32m      1\u001b[0m \u001b[0mtic\u001b[0m \u001b[0;34m=\u001b[0m \u001b[0mtime\u001b[0m\u001b[0;34m(\u001b[0m\u001b[0;34m)\u001b[0m\u001b[0;34m\u001b[0m\u001b[0;34m\u001b[0m\u001b[0m\n\u001b[0;32m----> 2\u001b[0;31m \u001b[0mscreenkhorn\u001b[0m \u001b[0;34m=\u001b[0m \u001b[0mScreenkhorn\u001b[0m\u001b[0;34m(\u001b[0m\u001b[0ma\u001b[0m\u001b[0;34m,\u001b[0m \u001b[0mb\u001b[0m\u001b[0;34m,\u001b[0m \u001b[0mM\u001b[0m\u001b[0;34m,\u001b[0m \u001b[0mreg\u001b[0m\u001b[0;34m,\u001b[0m \u001b[0mN\u001b[0m\u001b[0;34m=\u001b[0m\u001b[0;36m200\u001b[0m\u001b[0;34m,\u001b[0m \u001b[0mM\u001b[0m\u001b[0;34m=\u001b[0m\u001b[0;36m200\u001b[0m\u001b[0;34m)\u001b[0m\u001b[0;34m\u001b[0m\u001b[0;34m\u001b[0m\u001b[0m\n\u001b[0m\u001b[1;32m      3\u001b[0m \u001b[0mlbfgsb\u001b[0m \u001b[0;34m=\u001b[0m \u001b[0mscreenkhorn\u001b[0m\u001b[0;34m.\u001b[0m\u001b[0mlbfgsb\u001b[0m\u001b[0;34m(\u001b[0m\u001b[0;34m)\u001b[0m\u001b[0;34m\u001b[0m\u001b[0;34m\u001b[0m\u001b[0m\n\u001b[1;32m      4\u001b[0m \u001b[0mtime_bfgs\u001b[0m \u001b[0;34m=\u001b[0m \u001b[0mtime\u001b[0m\u001b[0;34m(\u001b[0m\u001b[0;34m)\u001b[0m \u001b[0;34m-\u001b[0m \u001b[0mtic\u001b[0m\u001b[0;34m\u001b[0m\u001b[0;34m\u001b[0m\u001b[0m\n\u001b[1;32m      5\u001b[0m \u001b[0musc\u001b[0m \u001b[0;34m=\u001b[0m \u001b[0mlbfgsb\u001b[0m\u001b[0;34m[\u001b[0m\u001b[0;36m0\u001b[0m\u001b[0;34m]\u001b[0m\u001b[0;34m\u001b[0m\u001b[0;34m\u001b[0m\u001b[0m\n",
      "\u001b[0;32m~/PycharmProjects/OATMIL/oatmilrouen/screenkhorn/screenkhornBFGS.py\u001b[0m in \u001b[0;36m__init__\u001b[0;34m(self, a, b, C, reg, N, M)\u001b[0m\n\u001b[1;32m     92\u001b[0m             self.bounds_u = [(a_sort[self.I][-1] / (self.epsilon_v * (m - len(self.J)) \\\n\u001b[1;32m     93\u001b[0m                                                     + len(self.J) * (\n\u001b[0;32m---> 94\u001b[0;31m                                                                 b_sort[self.J][0] / (self.epsilon_u * n * K_min))), \\\n\u001b[0m\u001b[1;32m     95\u001b[0m                               a_sort[self.I][0] / (self.epsilon_v * m * K_min))] * len(self.I)\n\u001b[1;32m     96\u001b[0m \u001b[0;34m\u001b[0m\u001b[0m\n",
      "\u001b[0;31mIndexError\u001b[0m: index 0 is out of bounds for axis 0 with size 0"
     ]
    }
   ],
   "source": [
    "tic = time()\n",
    "screenkhorn = Screenkhorn(a, b, M, reg, N=200, M=200)\n",
    "lbfgsb = screenkhorn.lbfgsb()\n",
    "time_bfgs = time() - tic\n",
    "usc = lbfgsb[0]\n",
    "vsc = lbfgsb[1]\n",
    "Psc= lbfgsb[2]"
   ]
  },
  {
   "cell_type": "markdown",
   "metadata": {},
   "source": [
    "## Time comparison between Sinkhorn and L-BFGS-B"
   ]
  },
  {
   "cell_type": "code",
   "execution_count": null,
   "metadata": {},
   "outputs": [],
   "source": [
    "print('\\n')\n",
    "print(\"Time of the LBFGS initialization is %s \\n\" %screenkhorn.toc_initial)\n",
    "print(\"Time of Sinkhorn: %s\" %time_sink, '\\n')\n",
    "print(\"Ratio Time: Sinkhorn / class initialization: %s \\n\" %(time_sink / screenkhorn.toc_initial))\n",
    "print(\"Time of LBFGS inculding the class initialization: %s\\n\" %time_bfgs)\n",
    "print(\"Ratio Time: Sinkhorn / LBFGS: %s \\n\" %(time_sink / time_bfgs))\n",
    "print(\"Ratio Time: LBFGS / Sinkhorn : %s\" %(time_bfgs / time_sink))"
   ]
  },
  {
   "cell_type": "markdown",
   "metadata": {},
   "source": [
    "## Some plots"
   ]
  },
  {
   "cell_type": "code",
   "execution_count": null,
   "metadata": {},
   "outputs": [],
   "source": [
    "plt.plot(ustar, label=r'$u^\\star$')\n",
    "plt.legend();"
   ]
  },
  {
   "cell_type": "code",
   "execution_count": null,
   "metadata": {},
   "outputs": [],
   "source": [
    "plt.plot(usc, label=r'$u^{sc}$')\n",
    "plt.legend();"
   ]
  },
  {
   "cell_type": "code",
   "execution_count": null,
   "metadata": {},
   "outputs": [],
   "source": [
    "plt.plot(vstar, label=r'$v^\\star$')\n",
    "\n",
    "plt.legend();"
   ]
  },
  {
   "cell_type": "code",
   "execution_count": null,
   "metadata": {},
   "outputs": [],
   "source": [
    "plt.plot(vsc, label=r'$v^{sc}$')\n",
    "plt.legend();"
   ]
  },
  {
   "cell_type": "code",
   "execution_count": null,
   "metadata": {},
   "outputs": [],
   "source": [
    "# Gradient w.r.t. u\n",
    "plt.plot(lbfgsb[3]['grad'][:len(screenkhorn.I)]);"
   ]
  },
  {
   "cell_type": "code",
   "execution_count": null,
   "metadata": {},
   "outputs": [],
   "source": [
    "# Gradient w.r.t. v\n",
    "plt.plot(lbfgsb[3]['grad'][len(screenkhorn.I):]);"
   ]
  },
  {
   "cell_type": "code",
   "execution_count": null,
   "metadata": {},
   "outputs": [],
   "source": [
    "# K = np.exp(-M/reg)\n",
    "# Psc = np.diag(3*usc*1e5)@ K @np.diag(vsc*3*1e4) "
   ]
  },
  {
   "cell_type": "code",
   "execution_count": null,
   "metadata": {},
   "outputs": [],
   "source": [
    "## sinkhorn\n",
    "astar = Pstar @ np.ones(n_2)\n",
    "bstar = Pstar.T @ np.ones(n_1)\n",
    "\n",
    "# screenkhorn via lbfgsb\n",
    "asc = Psc @ np.ones(n_2)\n",
    "bsc = Psc.T @ np.ones(n_1)\n",
    "\n",
    "print(\"sum of the marginals in sinkhorn are: %s, \\t %s\" %(sum(astar), sum(bstar)))\n",
    "print(\"\\t\")\n",
    "print(\"sum of the marginals in screenkhorn are: %s, \\t %s\" %(sum(asc), sum(bsc)))\n",
    "print(\"\\t\")\n",
    "print(\"Difference in sinkhorn: %s \\t %s:\" %(abs(1 - sum(astar)), abs(1 - sum(bstar))))\n",
    "print(\"\\t\")\n",
    "print(\"Difference in screenkhorn: %s \\t  %s:\" %(abs(1 - sum(asc)), abs(1 - sum(bsc))))\n",
    "print(\"\\t\")\n",
    "\n",
    "print(\"Frobenius norm of difference solution matrices %s \" %np.linalg.norm(Pstar - Psc,'fro'))"
   ]
  },
  {
   "cell_type": "code",
   "execution_count": null,
   "metadata": {},
   "outputs": [],
   "source": [
    "cb_padding = 0.005\n",
    "fig, (ax1, ax2) = plt.subplots(ncols=2, figsize=(20,20))\n",
    "I1 = ax1.matshow(Pstar)\n",
    "ax1.set_title(r'$P^\\star$ from POT')\n",
    "ax1.axis('off')\n",
    "fig.colorbar(I1, ax=ax1, pad=cb_padding, orientation=\"horizontal\")\n",
    "ax1.label_outer()\n",
    "## \n",
    "I2 = ax2.matshow(Psc)\n",
    "ax2.set_title(r'$P^{sc}$ from L-BFGS-B');\n",
    "# ax2.label_outer()\n",
    "ax2.axis('off')\n",
    "fig.colorbar(I2, ax=ax2, pad=cb_padding, orientation=\"horizontal\")\n",
    "# \n",
    "# I3 = ax3.matshow(abs(P_sc_bfgs - P_star))\n",
    "# ax3.set_title('Difference');\n",
    "# ax3.label_outer()\n",
    "# ax3.axis('off');\n",
    "# fig.colorbar(I3, ax=ax3, pad=cb_padding, orientation=\"horizontal\")\n",
    "plt.subplots_adjust(hspace=1)"
   ]
  },
  {
   "cell_type": "code",
   "execution_count": null,
   "metadata": {},
   "outputs": [],
   "source": [
    "I_active = screenkhorn.I\n",
    "J_active = screenkhorn.J\n",
    "epsilon_u = screenkhorn.epsilon_u\n",
    "epsilon_v = screenkhorn.epsilon_v\n",
    "I_usc = np.where(usc > epsilon_u)[0].tolist()\n",
    "J_usc = np.where(vsc > epsilon_v)[0].tolist()"
   ]
  },
  {
   "cell_type": "code",
   "execution_count": null,
   "metadata": {},
   "outputs": [],
   "source": [
    "print(len(I_usc), len(I_active))"
   ]
  },
  {
   "cell_type": "code",
   "execution_count": null,
   "metadata": {},
   "outputs": [],
   "source": [
    "print(len(J_usc), len(J_active))"
   ]
  },
  {
   "cell_type": "code",
   "execution_count": null,
   "metadata": {},
   "outputs": [],
   "source": [
    "print(epsilon_u, epsilon_v)"
   ]
  },
  {
   "cell_type": "code",
   "execution_count": null,
   "metadata": {},
   "outputs": [],
   "source": []
  }
 ],
 "metadata": {
  "kernelspec": {
   "display_name": "Python 3",
   "language": "python",
   "name": "python3"
  },
  "language_info": {
   "codemirror_mode": {
    "name": "ipython",
    "version": 3
   },
   "file_extension": ".py",
   "mimetype": "text/x-python",
   "name": "python",
   "nbconvert_exporter": "python",
   "pygments_lexer": "ipython3",
   "version": "3.6.8"
  }
 },
 "nbformat": 4,
 "nbformat_minor": 2
}

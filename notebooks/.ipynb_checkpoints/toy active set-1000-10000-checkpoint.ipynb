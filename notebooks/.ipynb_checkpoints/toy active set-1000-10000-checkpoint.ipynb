{
 "cells": [
  {
   "cell_type": "code",
   "execution_count": 1,
   "metadata": {},
   "outputs": [],
   "source": [
    "# NUMPY\n",
    "import numpy as np\n",
    "\n",
    "# MATPLOTLIB\n",
    "import matplotlib.pyplot as plt\n",
    "%matplotlib inline \n",
    "from matplotlib import rc\n",
    "rc('font', **{'family': 'sans-serif', 'sans-serif': ['Computer Modern Roman']})\n",
    "params = {'axes.labelsize': 8, # 12\n",
    "          'font.size': 8, # 12\n",
    "          'legend.fontsize': 8, # 12\n",
    "          'xtick.labelsize': 8, # 10\n",
    "          'ytick.labelsize': 8, # 10\n",
    "          'text.usetex': True,\n",
    "          'figure.figsize': (16, 6)}\n",
    "plt.rcParams.update(params)\n",
    "\n",
    "# SEABORN \n",
    "import seaborn as sns\n",
    "sns.set_context(\"poster\")\n",
    "sns.set_style(\"ticks\")\n",
    "\n",
    "# SKLEARN \n",
    "from sklearn.metrics import pairwise_distances\n",
    "\n",
    "# POT\n",
    "import ot\n",
    "from ot import sinkhorn, emd\n",
    "# from ot.bregman import sinkhorn, greenkhorn\n",
    "\n",
    "# PATH \n",
    "import sys\n",
    "path_files = '/Users/mzalaya/PycharmProjects/OATMIL/oatmilrouen/'\n",
    "sys.path.insert(0, path_files) \n",
    "\n",
    "# GREENKHORN \n",
    "# from greenkhorn.sinkhorn import sinkhorn as sinkhgreen\n",
    "# SCREENKHORN\n",
    "from screenkhorn.screenkhorn import Screenkhorn\n",
    "# np.random.seed(3946)\n",
    "\n",
    "import warnings\n",
    "warnings.filterwarnings(\"ignore\", category=FutureWarning)"
   ]
  },
  {
   "cell_type": "markdown",
   "metadata": {},
   "source": [
    "## Data generation"
   ]
  },
  {
   "cell_type": "code",
   "execution_count": 2,
   "metadata": {},
   "outputs": [],
   "source": [
    "n_1 = 1000# nb samples\n",
    "n_2 = 1000\n",
    "mu_s = np.array([0, 0])\n",
    "cov_s = np.array([[1, 0], [0, 1]])\n",
    "\n",
    "mu_t = np.array([4, 4])\n",
    "cov_t = np.array([[1, -.8], [-.8, 1]])\n",
    "\n",
    "xs = ot.datasets.make_2D_samples_gauss(n_1, mu_s, cov_s)\n",
    "xt = ot.datasets.make_2D_samples_gauss(n_2, mu_t, cov_t)\n",
    "\n",
    "a = np.ones((n_1,)) / n_1\n",
    "b = np.ones((n_2,)) / n_2  # uniform distribution on samples\n",
    "\n",
    "# loss matrix\n",
    "M = ot.dist(xs, xt)\n",
    "M /= M.max()\n",
    "reg = 0.01\n",
    "\n",
    "K = np.exp(-M/reg)"
   ]
  },
  {
   "cell_type": "markdown",
   "metadata": {},
   "source": [
    "## Sinkhorn's algorithm from POT"
   ]
  },
  {
   "cell_type": "code",
   "execution_count": 3,
   "metadata": {},
   "outputs": [],
   "source": [
    "P_sink = sinkhorn(a, b, M, reg, log=True)"
   ]
  },
  {
   "cell_type": "code",
   "execution_count": 4,
   "metadata": {},
   "outputs": [],
   "source": [
    "# Print P^star, u_sink = e^{u^star}, v_sink = e^{v^star}\n",
    "P_star = P_sink[0]\n",
    "outputs_dict = P_sink[1]\n",
    "exp_u_star = outputs_dict['u']\n",
    "exp_v_star = outputs_dict['v']"
   ]
  },
  {
   "cell_type": "markdown",
   "metadata": {},
   "source": [
    "## Some norms of $e^{u^\\star}$ and $e^{v^\\star}$ "
   ]
  },
  {
   "cell_type": "code",
   "execution_count": 5,
   "metadata": {},
   "outputs": [
    {
     "data": {
      "text/plain": [
       "(7.866588776012182e+19, 501405015.8701025)"
      ]
     },
     "execution_count": 5,
     "metadata": {},
     "output_type": "execute_result"
    }
   ],
   "source": [
    "## L_2 norm\n",
    "norm2exp_u_star = np.linalg.norm(exp_u_star, 2)\n",
    "norm2exp_v_star  = np.linalg.norm(exp_v_star, 2)\n",
    "\n",
    "norm2exp_u_star, norm2exp_v_star"
   ]
  },
  {
   "cell_type": "code",
   "execution_count": 6,
   "metadata": {},
   "outputs": [
    {
     "data": {
      "text/plain": [
       "(8.619071441872655e+19, 1003572029.574183)"
      ]
     },
     "execution_count": 6,
     "metadata": {},
     "output_type": "execute_result"
    }
   ],
   "source": [
    "## L_1 norm\n",
    "norm1exp_u_star = np.linalg.norm(exp_u_star, 1)\n",
    "norm1exp_v_star  = np.linalg.norm(exp_v_star, 1)\n",
    "\n",
    "norm1exp_u_star, norm1exp_v_star"
   ]
  },
  {
   "cell_type": "code",
   "execution_count": 7,
   "metadata": {},
   "outputs": [
    {
     "data": {
      "text/plain": [
       "(7.857753110802335e+19, 468718517.64427656)"
      ]
     },
     "execution_count": 7,
     "metadata": {},
     "output_type": "execute_result"
    }
   ],
   "source": [
    "## L_infty norm \n",
    "norminftyexp_u_star = np.max(exp_u_star)\n",
    "norminftyexp_v_star = np.max(exp_v_star)\n",
    "\n",
    "norminftyexp_u_star, norminftyexp_v_star"
   ]
  },
  {
   "cell_type": "code",
   "execution_count": 8,
   "metadata": {},
   "outputs": [
    {
     "data": {
      "text/plain": [
       "(5.119334421681006e-08, 0.0004984290059011032)"
      ]
     },
     "execution_count": 8,
     "metadata": {},
     "output_type": "execute_result"
    }
   ],
   "source": [
    "## L_-infty norm \n",
    "norm_inftyexp_u_star = np.min(exp_u_star)\n",
    "norm_inftyexp_v_star = np.min(exp_v_star)\n",
    "\n",
    "norm_inftyexp_u_star, norm_inftyexp_v_star"
   ]
  },
  {
   "cell_type": "code",
   "execution_count": 9,
   "metadata": {},
   "outputs": [
    {
     "data": {
      "text/plain": [
       "(2.4535049948807202e-08, 0.00027951631359406835)"
      ]
     },
     "execution_count": 9,
     "metadata": {},
     "output_type": "execute_result"
    }
   ],
   "source": [
    "norm_min1_exp_u_star = np.linalg.norm(exp_u_star, -1)\n",
    "norm_min1_exp_v_star = np.linalg.norm(exp_v_star, -1)\n",
    "\n",
    "norm_min1_exp_u_star, norm_min1_exp_v_star"
   ]
  },
  {
   "cell_type": "markdown",
   "metadata": {},
   "source": [
    "### Plots of $e^{u^\\star}$ and $e^{v^\\star}$ "
   ]
  },
  {
   "cell_type": "code",
   "execution_count": 10,
   "metadata": {},
   "outputs": [
    {
     "data": {
      "image/png": "[encoded data removed]",
      "text/plain": [
       "<Figure size 432x288 with 2 Axes>"
      ]
     },
     "metadata": {
      "needs_background": "light"
     },
     "output_type": "display_data"
    }
   ],
   "source": [
    "figure, axes= plt.subplots(ncols=2)\n",
    "\n",
    "axes[0].semilogy(exp_u_star, linewidth=2, color='r', label=r'$e^{u^\\star}$')\n",
    "axes[1].semilogy(exp_v_star, linewidth=2, color='b', label=r'$e^{v^\\star}$')\n",
    "axes[0].legend()\n",
    "axes[1].legend();\n",
    "\n",
    "#axes[1,0].semilogy(exp_u_star, linewidth=2, color='r', label=r'$e^{u^\\star}$')\n",
    "#axes[1,1].semilogy(exp_v_star, linewidth=2, color='b', label=r'$e^{v^\\star}$')\n",
    "#axes[1,0].legend()\n",
    "#axes[1,1].legend();\n",
    "#plt.subplots_adjust(hspace=.5)\n",
    "#plt.tight_layout()"
   ]
  },
  {
   "cell_type": "code",
   "execution_count": 11,
   "metadata": {},
   "outputs": [],
   "source": [
    "# plt.semilogy(exp_u_star, linewidth=2, color='r', label=r'$e^{u^\\star}$')\n",
    "# plt.semilogy(exp_v_star, linewidth=2, color='b', label=r'$e^{v^\\star}$')\n",
    "# plt.legend();"
   ]
  },
  {
   "cell_type": "markdown",
   "metadata": {},
   "source": [
    "## Search of the normalization constant "
   ]
  },
  {
   "cell_type": "code",
   "execution_count": 12,
   "metadata": {},
   "outputs": [
    {
     "data": {
      "text/plain": [
       "(396094.56836917973, 1316.8317911146669, 13.16831791114667)"
      ]
     },
     "execution_count": 12,
     "metadata": {},
     "output_type": "execute_result"
    }
   ],
   "source": [
    "# C = norm2exp_v_star/norm2exp_u_star\n",
    "# C\n",
    "\n",
    "# C = norm1exp_v_star / norm1exp_u_star\n",
    "# C = norm_inftyexp_u_star / norm1exp_v_star\n",
    "# C = norm_inftyexp_u_star\n",
    "C_K = np.exp(- np.log(np.exp(- np.max(K))*np.min(np.hstack([a,b]))))\n",
    "#C = C*norm_inftyexp_u_star\n",
    "# C_ahmed = np.sqrt((exp_u_star/exp_v_star).mean()) # Ahmed\n",
    "C_ = (np.sum(exp_u_star**2) / np.sum(exp_v_star**2))**(1/4)\n",
    "\n",
    "C = (np.linalg.norm(exp_u_star)**2/ np.linalg.norm(exp_v_star)**2)**(1/4)\n",
    "\n",
    "# print(C, C_K)\n",
    "#print(np.linalg.norm((u_star/C_ahmed - v_star*C_ahmed), 1))\n",
    "#print(np.linalg.norm((u_star/C - v_star*C), 1))\n",
    "#C = C * C_K\n",
    "#C = C_K\n",
    "C, C_K, C_K/100"
   ]
  },
  {
   "cell_type": "code",
   "execution_count": 13,
   "metadata": {},
   "outputs": [
    {
     "data": {
      "text/plain": [
       "2.0"
      ]
     },
     "execution_count": 13,
     "metadata": {},
     "output_type": "execute_result"
    }
   ],
   "source": [
    "(16)**(1/4)"
   ]
  },
  {
   "cell_type": "code",
   "execution_count": 14,
   "metadata": {},
   "outputs": [],
   "source": [
    "exp_u_star_C = exp_u_star*1000/C_K  #norm_inftyexp_v_star #norm_inftyexp_u_star, norm_min1_exp_u_star, \n",
    "exp_v_star_C = exp_v_star*C_K/1000\n",
    "# exp_u_star_C = exp_u_star*100/C  #norm_inftyexp_v_star #norm_inftyexp_u_star, norm_min1_exp_u_star, \n",
    "# exp_v_star_C = exp_v_star*C/100 #norm_inftyexp_v_star)\n",
    "\n",
    "# figure, axes= plt.subplots(ncols=2)\n",
    "# axes[0].semilogy(exp_u_star_C, linewidth=2, color='r', label=r'$e^{u^\\star}_C$')\n",
    " #axes[1].semilogy(exp_v_star_C, linewidth=2, color='b', label=r'$e^{v^\\star}_C$')\n",
    " #axes[0].legend()\n",
    "#axes[1].legend();"
   ]
  },
  {
   "cell_type": "code",
   "execution_count": 15,
   "metadata": {},
   "outputs": [
    {
     "data": {
      "image/png": "[encoded data removed]",
      "text/plain": [
       "<Figure size 432x288 with 1 Axes>"
      ]
     },
     "metadata": {
      "needs_background": "light"
     },
     "output_type": "display_data"
    }
   ],
   "source": [
    "plt.semilogy(exp_u_star_C, linewidth=2, color='r', label=r'$e^{u^\\star}_C$')\n",
    "plt.semilogy(exp_v_star_C, linewidth=2, color='b', label=r'$e^{v^\\star}_C$')\n",
    "plt.legend();"
   ]
  },
  {
   "cell_type": "markdown",
   "metadata": {},
   "source": [
    "### Plots of $u^\\star$ and $v^\\star$"
   ]
  },
  {
   "cell_type": "code",
   "execution_count": 16,
   "metadata": {},
   "outputs": [],
   "source": [
    "u_star = np.log(exp_u_star)\n",
    "v_star = np.log(exp_v_star)\n",
    "\n",
    "u_star_C = np.log(exp_u_star_C)\n",
    "v_star_C = np.log(exp_v_star_C)"
   ]
  },
  {
   "cell_type": "code",
   "execution_count": 17,
   "metadata": {},
   "outputs": [
    {
     "data": {
      "image/png": "[encoded data removed]",
      "text/plain": [
       "<Figure size 432x288 with 2 Axes>"
      ]
     },
     "metadata": {
      "needs_background": "light"
     },
     "output_type": "display_data"
    }
   ],
   "source": [
    "figure, axes= plt.subplots(ncols=2)\n",
    "axes[0].plot(u_star, linewidth=2, color='r', label=r'${u^\\star}_C$')\n",
    "axes[1].plot(v_star, linewidth=2, color='b', label=r'${v^\\star}_C$')\n",
    "axes[0].legend()\n",
    "axes[1].legend();"
   ]
  },
  {
   "cell_type": "code",
   "execution_count": 18,
   "metadata": {},
   "outputs": [
    {
     "data": {
      "image/png": "[encoded data removed]",
      "text/plain": [
       "<Figure size 432x288 with 1 Axes>"
      ]
     },
     "metadata": {
      "needs_background": "light"
     },
     "output_type": "display_data"
    }
   ],
   "source": [
    "epsilon = 1e3\n",
    "plt.plot(u_star_C, 'r')\n",
    "plt.plot(v_star_C, 'b')\n",
    "plt.axhline(y=np.log(epsilon));"
   ]
  },
  {
   "cell_type": "markdown",
   "metadata": {},
   "source": [
    "### Choosing of the intervals $I_u$ and $J_u$"
   ]
  },
  {
   "cell_type": "code",
   "execution_count": null,
   "metadata": {},
   "outputs": [
    {
     "data": {
      "text/plain": [
       "(496, 504)"
      ]
     },
     "execution_count": 19,
     "metadata": {},
     "output_type": "execute_result"
    }
   ],
   "source": [
    "I = np.where(exp_u_star_C >= epsilon)[0].tolist()\n",
    "Ic = np.where(exp_u_star_C < epsilon)[0].tolist()\n",
    "len(I), len(Ic)"
   ]
  },
  {
   "cell_type": "code",
   "execution_count": null,
   "metadata": {},
   "outputs": [
    {
     "data": {
      "text/plain": [
       "(524, 476)"
      ]
     },
     "execution_count": 20,
     "metadata": {},
     "output_type": "execute_result"
    }
   ],
   "source": [
    "J = np.where(exp_v_star_C >= epsilon)[0].tolist()\n",
    "Jc = np.where(exp_v_star_C < epsilon)[0].tolist()\n",
    "len(J), len(Jc)"
   ]
  },
  {
   "cell_type": "code",
   "execution_count": null,
   "metadata": {},
   "outputs": [],
   "source": [
    "u_star_sc, v_star_sc  = np.zeros(n_1), np.zeros(n_2)\n",
    "u_star_sc[I] = u_star_C[I]\n",
    "u_star_sc[Ic] = np.array([np.log(epsilon)] * len(Ic))\n",
    "\n",
    "v_star_sc[J] = v_star_C[J]\n",
    "v_star_sc[Jc] = np.array([np.log(epsilon)] * len(Jc))"
   ]
  },
  {
   "cell_type": "markdown",
   "metadata": {},
   "source": [
    "# `screenkhorn`"
   ]
  },
  {
   "cell_type": "code",
   "execution_count": null,
   "metadata": {},
   "outputs": [],
   "source": [
    "screenkhorn = Screenkhorn(a, b, M, reg, epsilon)"
   ]
  },
  {
   "cell_type": "code",
   "execution_count": null,
   "metadata": {},
   "outputs": [
    {
     "name": "stderr",
     "output_type": "stream",
     "text": [
      "  2%|▏         | 2/100 [00:00<00:09, 10.71it/s]"
     ]
    },
    {
     "name": "stdout",
     "output_type": "stream",
     "text": [
      "Step_size in the begining is 3.8271916688956165e-08\n"
     ]
    },
    {
     "name": "stderr",
     "output_type": "stream",
     "text": [
      " 44%|████▍     | 44/100 [00:03<00:03, 15.22it/s]"
     ]
    }
   ],
   "source": [
    "proj_grad = screenkhorn.projected_grad(u_star_sc, v_star_sc, I, J, max_iter=100, tol=1e-12, verbose=False)\n",
    "# u0_epsilon = np.array([np.log(epsilon)] * n_1)\n",
    "# v0_epsilon = np.array([np.log(epsilon)] * n_2)\n",
    "# proj_grad = screenkhorn.projected_grad(u0_epsilon, v0_epsilon, I, J, max_iter=100, tol=1e-10, verbose=False)"
   ]
  },
  {
   "cell_type": "code",
   "execution_count": null,
   "metadata": {},
   "outputs": [],
   "source": [
    "##Check of  _projection functions in the class\n",
    "# screenkhorn._projection(u_star)\n",
    "# screenkhorn._projection_cvx(u_star)\n",
    "# plt.plot(v_star)\n",
    "# plt.plot(screenkhorn._projection(v_star), color='r')\n",
    "# plt.plot(screenkhorn._projection_cvx(u_star), color= 'g')\n",
    "# plt.axhline(y=np.log(epsilon));\n",
    "# print(np.linalg.norm(v_star - screenkhorn._projection(v_star)))\n",
    "# print(np.linalg.norm(v_star - screenkhorn._projection_cvx(v_star)))"
   ]
  },
  {
   "cell_type": "markdown",
   "metadata": {},
   "source": [
    "### Curve of the objective function"
   ]
  },
  {
   "cell_type": "code",
   "execution_count": null,
   "metadata": {},
   "outputs": [],
   "source": [
    "obj = list(proj_grad[2].values())\n",
    "\n",
    "#plt.yscale('log')\n",
    "obj = np.asarray(obj)\n",
    "obj = obj.T\n",
    "obj.shape = (len(obj,))\n",
    "plt.plot(obj); # "
   ]
  },
  {
   "cell_type": "markdown",
   "metadata": {},
   "source": [
    "### Sort of the solution by `screenkhorn` "
   ]
  },
  {
   "cell_type": "code",
   "execution_count": null,
   "metadata": {},
   "outputs": [],
   "source": [
    "plt.plot(proj_grad[0]);\n",
    "plt.plot(proj_grad[1]);"
   ]
  },
  {
   "cell_type": "code",
   "execution_count": null,
   "metadata": {},
   "outputs": [],
   "source": [
    "plt.plot(np.sort(u_star_sc), 'blue', linewidth=2, label =r'${u^\\star}$')\n",
    "plt.plot(np.sort(proj_grad[0]), 'orange', linewidth=2, label =r'${u^{{sc}}}$')\n",
    "plt.plot(np.sort(v_star_sc), 'magenta', linewidth=2, label =r'${v^\\star}$')\n",
    "plt.plot(np.sort(proj_grad[1]), 'purple', linewidth=2, label =r'${v^{{sc}}}$')\n",
    "# plt.axhline(y =np.log(epsilon), linewidth=, color='r', label=r'$\\log(\\varepsilon)$');\n",
    "plt.legend(loc='best');\n",
    "# plt.title(r'log-potentials vectors of sinkhorn and screenkhorn with ${maxIter}=10000,\\,tol=1e-19$')\n",
    "plt.savefig(r'Potentials vectors of sinkhorn and screenkhorn.pdf', bbox_inches='tight')\n",
    "plt.show();"
   ]
  },
  {
   "cell_type": "code",
   "execution_count": null,
   "metadata": {},
   "outputs": [],
   "source": [
    "u_sc = proj_grad[0]\n",
    "v_sc = proj_grad[1]\n",
    "\n",
    "np.linalg.norm(u_star_sc - u_sc), np.linalg.norm(v_star_sc - v_sc)"
   ]
  },
  {
   "cell_type": "code",
   "execution_count": null,
   "metadata": {},
   "outputs": [],
   "source": []
  }
 ],
 "metadata": {
  "kernelspec": {
   "display_name": "Python 3",
   "language": "python",
   "name": "python3"
  },
  "language_info": {
   "codemirror_mode": {
    "name": "ipython",
    "version": 3
   },
   "file_extension": ".py",
   "mimetype": "text/x-python",
   "name": "python",
   "nbconvert_exporter": "python",
   "pygments_lexer": "ipython3",
   "version": "3.6.8"
  }
 },
 "nbformat": 4,
 "nbformat_minor": 2
}

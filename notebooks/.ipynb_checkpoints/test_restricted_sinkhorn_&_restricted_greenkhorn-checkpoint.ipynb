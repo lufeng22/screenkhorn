{
 "cells": [
  {
   "cell_type": "code",
   "execution_count": 1,
   "metadata": {},
   "outputs": [],
   "source": [
    "# NUMPY\n",
    "import numpy as np\n",
    "np.random.seed(3946)\n",
    "# MATPLOTLIB\n",
    "import matplotlib.pyplot as plt\n",
    "plt.style.context('dark_background')\n",
    "%matplotlib inline \n",
    "from matplotlib import rc\n",
    "rc('font', **{'family': 'sans-serif', 'sans-serif': ['Computer Modern Roman']})\n",
    "params = {'axes.labelsize': 8, # 12\n",
    "          'font.size': 8, # 12\n",
    "          'legend.fontsize': 8, # 12\n",
    "          'xtick.labelsize': 8, # 10\n",
    "          'ytick.labelsize': 8, # 10\n",
    "          'text.usetex': True,\n",
    "          'figure.figsize': (16, 6)}\n",
    "plt.rcParams.update(params)\n",
    "\n",
    "# SEABORN \n",
    "import seaborn as sns\n",
    "sns.set_context(\"poster\")\n",
    "sns.set_style(\"ticks\")\n",
    "\n",
    "# SKLEARN \n",
    "from sklearn.metrics import pairwise_distances\n",
    "\n",
    "# WARNINGS\n",
    "import warnings\n",
    "warnings.filterwarnings(\"ignore\", category=FutureWarning)\n",
    "\n",
    "# TIME\n",
    "from time import time \n",
    "\n",
    "# PATH \n",
    "import sys\n",
    "path_files = '/Users/mzalaya/PycharmProjects/OATMIL/oatmilrouen/'\n",
    "sys.path.insert(0, path_files) \n",
    "\n",
    "# POT\n",
    "import ot\n",
    "from ot import sinkhorn, emd\n",
    "\n",
    "# GREENKHORN \n",
    "from ot.bregman import greenkhorn\n",
    "\n",
    "from time import time\n",
    "# SCREENKHORN\n",
    "from screenkhorn.screenkhorn_bis import Screenkhorn\n"
   ]
  },
  {
   "cell_type": "markdown",
   "metadata": {},
   "source": [
    "## Data generation"
   ]
  },
  {
   "cell_type": "code",
   "execution_count": 2,
   "metadata": {},
   "outputs": [],
   "source": [
    "n_1 = 200# nb samples\n",
    "n_2 = 100\n",
    "mu_s = np.array([0, 0])\n",
    "cov_s = np.array([[1, 0], [0, 1]])\n",
    "\n",
    "mu_t = np.array([4, 4])\n",
    "cov_t = np.array([[1, -.8], [-.8, 1]])\n",
    "\n",
    "xs = ot.datasets.make_2D_samples_gauss(n_1, mu_s, cov_s)\n",
    "xt = ot.datasets.make_2D_samples_gauss(n_2, mu_t, cov_t)\n",
    "\n",
    "a = np.ones((n_1,)) / n_1\n",
    "b = np.ones((n_2,)) / n_2  # uniform distribution on samples\n",
    "\n",
    "# loss matrix\n",
    "M = ot.dist(xs, xt)\n",
    "M /= M.max()\n",
    "reg = 0.7\n",
    "\n",
    "K = np.exp(-M/reg)"
   ]
  },
  {
   "cell_type": "markdown",
   "metadata": {},
   "source": [
    "## Sinkhorn "
   ]
  },
  {
   "cell_type": "code",
   "execution_count": 3,
   "metadata": {},
   "outputs": [
    {
     "name": "stdout",
     "output_type": "stream",
     "text": [
      "time of Sinkhorn algorithm is 0.004053831100463867\n"
     ]
    }
   ],
   "source": [
    "tic = time()\n",
    "P_sink = sinkhorn(a, b, M, reg, log=True)\n",
    "P_star = P_sink[0]\n",
    "outputs_dict = P_sink[1]\n",
    "exp_u_star = outputs_dict['u']\n",
    "exp_v_star = outputs_dict['v']\n",
    "time_sink = time() - tic\n",
    "print(\"time of Sinkhorn algorithm is %s\" %time_sink)"
   ]
  },
  {
   "cell_type": "markdown",
   "metadata": {},
   "source": [
    "## Screenkhorn"
   ]
  },
  {
   "cell_type": "markdown",
   "metadata": {},
   "source": [
    "### Restricted Sinkhorn algorithm"
   ]
  },
  {
   "cell_type": "markdown",
   "metadata": {},
   "source": [
    "#### Bounds of $\\varepsilon \\in (\\varepsilon_{\\min}, \\varepsilon_{\\max})$\n",
    "\n",
    "\\begin{equation}\n",
    "\\label{varepsilon_min}\n",
    "\\varepsilon_{\\min} = \\min\\bigg\\{\\min_{i}\\sqrt{\\frac{\\mu_i}{\\sum_{j}K_{ij}}}, \\min_{j}\\sqrt{\\frac{\\nu_j}{\\sum_{i}K_{ij}}}\\bigg\\},\n",
    "\\end{equation}\n",
    "and \n",
    "\\begin{align}\n",
    "\t\\label{varepsilon_max}\n",
    "\t\\varepsilon_{\\max} = \\max\\bigg\\{\\max_{i}\\sqrt{\\frac{\\mu_i}{\\sum_{j}K_{ij}}}, \\max_{j}\\sqrt{\\frac{\\nu_j}{\\sum_{i}K_{ij}}}\\bigg\\}.\n",
    "\\end{align}"
   ]
  },
  {
   "cell_type": "code",
   "execution_count": 5,
   "metadata": {},
   "outputs": [
    {
     "data": {
      "image/png": "[encoded data removed]",
      "text/plain": [
       "<Figure size 432x288 with 1 Axes>"
      ]
     },
     "metadata": {
      "needs_background": "light"
     },
     "output_type": "display_data"
    }
   ],
   "source": [
    "epsilons_a = np.sqrt(a / K.sum(axis=1))\n",
    "epsilons_a_sort = np.sort(epsilons_a)[::-1]\n",
    "epsilons_b = np.sqrt(b / K.T.sum(axis=1))\n",
    "epsilons_b_sort = np.sort(epsilons_b)[::-1]\n",
    "plt.plot(epsilons_a_sort, label=r'$\\varepsilon_i$')\n",
    "plt.plot(epsilons_b_sort, label=r'$\\varepsilon_j$')\n",
    "plt.legend();"
   ]
  },
  {
   "cell_type": "markdown",
   "metadata": {},
   "source": [
    "#### Choice of epsilon"
   ]
  },
  {
   "cell_type": "code",
   "execution_count": 11,
   "metadata": {},
   "outputs": [
    {
     "data": {
      "text/plain": [
       "(0.0077363558566791715, 0.00985156857432187, 0.011966781291964568)"
      ]
     },
     "execution_count": 11,
     "metadata": {},
     "output_type": "execute_result"
    }
   ],
   "source": [
    "epsilons_ab = np.sort(np.hstack([epsilons_a, epsilons_b]))[::-1]\n",
    "epsilons_ab_eps_mid = (max(epsilons_ab) - min(epsilons_ab))/2 + min(epsilons_ab)\n",
    "epsilons_ab_eps_min = min(epsilons_ab)\n",
    "epsilons_ab_eps_max = max(epsilons_ab)\n",
    "\n",
    "epsilons_ab_eps_min, epsilons_ab_eps_mid, epsilons_ab_eps_max"
   ]
  },
  {
   "cell_type": "markdown",
   "metadata": {},
   "source": [
    "#### Initial points and a priori active sets"
   ]
  },
  {
   "cell_type": "code",
   "execution_count": 12,
   "metadata": {},
   "outputs": [],
   "source": [
    "u0 = np.full(n_1, epsilons_ab_eps_min)\n",
    "v0 = np.full(n_2, epsilons_ab_eps_min)\n",
    "\n",
    "I_active = np.where(a >= epsilons_ab_eps_min** 2 * K.sum(axis=1))[0].tolist()\n",
    "J_active = np.where(b >= epsilons_ab_eps_min** 2 * K.T.sum(axis=1))[0].tolist()\n",
    "\n",
    "u0[I_active] = epsilons_ab_eps_min\n",
    "v0[J_active] = epsilons_ab_eps_min"
   ]
  },
  {
   "cell_type": "code",
   "execution_count": 13,
   "metadata": {},
   "outputs": [
    {
     "data": {
      "text/plain": [
       "(200, 100)"
      ]
     },
     "execution_count": 13,
     "metadata": {},
     "output_type": "execute_result"
    }
   ],
   "source": [
    "## Cardinals of I_test and J_test\n",
    "len(I_active), len(J_active)"
   ]
  },
  {
   "cell_type": "markdown",
   "metadata": {},
   "source": [
    "#### Initialize Screenkhorn class"
   ]
  },
  {
   "cell_type": "code",
   "execution_count": 15,
   "metadata": {},
   "outputs": [],
   "source": [
    "screenkhorn = Screenkhorn(a, b, M, reg, epsilons_ab_eps_min)"
   ]
  },
  {
   "cell_type": "code",
   "execution_count": null,
   "metadata": {},
   "outputs": [],
   "source": [
    "tic = time()\n",
    "res_sink = screenkhorn.restricted_sinkhorn(u0, v0, I_active, J_active, max_iter=1000, tol=1e-9)\n",
    "time_res_sink = time() - tic\n",
    "print(\"time of restricted Sinkhorn algorithm is %s \\n\" %tic)\n",
    "print(\"Ratio between restricted_sinkhorn and sinkhorn is % s\" %(time_res_sink/time_sink))"
   ]
  },
  {
   "cell_type": "code",
   "execution_count": null,
   "metadata": {},
   "outputs": [],
   "source": [
    "u_res_sink = res_sink[\"usc\"]\n",
    "v_res_sink = res_sink[\"vsc\"]"
   ]
  },
  {
   "cell_type": "code",
   "execution_count": null,
   "metadata": {},
   "outputs": [],
   "source": [
    "raise \"Error\" "
   ]
  },
  {
   "cell_type": "markdown",
   "metadata": {},
   "source": [
    "### Restricted Greenkhorn"
   ]
  },
  {
   "cell_type": "code",
   "execution_count": null,
   "metadata": {},
   "outputs": [],
   "source": [
    "tic = time()\n",
    "greenlike = screenkhorn.restricted_greenkhorn(np.exp(u0), np.exp(v0), I_active, J_active, max_iter=1000, tol=1e-9)\n",
    "time_res_green = time() - tic\n",
    "print(\"time of restricted Greenkhorn algorithm is %s \\n\" %time_res_green)\n",
    "print(\"Ratio between restricted_greenkhorn and sinkhorn is % s\" %(time_res_green/time_sink))"
   ]
  },
  {
   "cell_type": "code",
   "execution_count": null,
   "metadata": {},
   "outputs": [],
   "source": [
    "u_green_like = greenlike[\"usc\"]\n",
    "v_green_like = greenlike[\"vsc\"]\n",
    "# P_green_like = greenlike[\"Psc\"]"
   ]
  },
  {
   "cell_type": "markdown",
   "metadata": {},
   "source": [
    "#### Figures"
   ]
  },
  {
   "cell_type": "code",
   "execution_count": null,
   "metadata": {},
   "outputs": [],
   "source": [
    "figure, axes= plt.subplots(nrows=3, ncols=2)\n",
    "\n",
    "axes[0,0].plot(exp_u_star, linewidth=2, color='r', label=r'$e^{u^\\star}$')\n",
    "axes[1,0].plot(u_sink_like, linewidth=2, color='b', label=r'$e^{u^{scs}}$')\n",
    "axes[2,0].plot(u_green_like, linewidth=2, color='m', label=r'$e^{u^{scg}}$')\n",
    "\n",
    "axes[0,1].plot(exp_v_star, linewidth=2, color='g', label=r'$e^{v^\\star}$')\n",
    "axes[1,1].plot(v_sink_like, linewidth=2, color='c', label=r'$e^{v^{scs}}$')\n",
    "axes[2,1].plot(v_green_like, linewidth=2, color='b', label=r'$e^{v^{scg}}$')\n",
    "\n",
    "axes[0,0].legend()\n",
    "axes[1,0].legend()\n",
    "axes[2,0].legend()\n",
    "\n",
    "axes[0,1].legend()\n",
    "axes[1,1].legend()\n",
    "axes[2,1].legend()\n",
    "\n",
    "plt.subplots_adjust(hspace=.5)\n",
    "plt.tight_layout()"
   ]
  },
  {
   "cell_type": "code",
   "execution_count": null,
   "metadata": {},
   "outputs": [],
   "source": [
    "# plt.plot(exp_u_star, linewidth=2, color='r', label=r'$e^{u^\\star}$')\n",
    "# plt.plot(u_sink_like/1e23, linewidth=2, color='b', label=r'$e^{u^\\star}$');\n",
    "# plt.plot(u_green_like/1e23, linewidth=2, color='m', label=r'$e^{u^\\star}$');\n",
    "\n",
    "plt.plot(u_green_like, linewidth=2, color='m', label=r'$e^{u^\\star}$');\n",
    "# plt.plot(v_green_like, linewidth=2, color='m', label=r'$e^{u^\\star}$');"
   ]
  },
  {
   "cell_type": "markdown",
   "metadata": {},
   "source": [
    "## Comparison of marginals"
   ]
  },
  {
   "cell_type": "markdown",
   "metadata": {},
   "source": []
  },
  {
   "cell_type": "code",
   "execution_count": null,
   "metadata": {},
   "outputs": [],
   "source": [
    "# (P_star @ np.ones(n_2)).sum()"
   ]
  },
  {
   "cell_type": "code",
   "execution_count": null,
   "metadata": {},
   "outputs": [],
   "source": [
    "# (P_star.T @ np.ones(n_1)).sum()"
   ]
  },
  {
   "cell_type": "code",
   "execution_count": null,
   "metadata": {},
   "outputs": [],
   "source": [
    "# P_sc_sink = np.diag(u_sink_like) @ K @ np.diag(v_sink_like)\n",
    "# P_sc_green = np.diag(u_green_like) @ K @ np.diag(v_green_like)"
   ]
  },
  {
   "cell_type": "code",
   "execution_count": null,
   "metadata": {},
   "outputs": [],
   "source": [
    "# (P_sc_sink @ np.ones(n_2)).sum(), (P_sc_sink.T @ np.ones(n_1)).sum()"
   ]
  },
  {
   "cell_type": "code",
   "execution_count": null,
   "metadata": {},
   "outputs": [],
   "source": [
    "# (P_sc_green @ np.ones(n_2)).sum(), (P_sc_green.T @ np.ones(n_1)).sum()"
   ]
  },
  {
   "cell_type": "markdown",
   "metadata": {},
   "source": [
    "## PGD and restricted Sinkhorn"
   ]
  },
  {
   "cell_type": "code",
   "execution_count": null,
   "metadata": {},
   "outputs": [],
   "source": [
    "## PGD\n",
    "## choice of solver, the 'acc_proj_grad' is the fastest.\n",
    "# solver = 'proj_grad' \n",
    "# solver = 'block_acc_proj_grad' \n",
    "# solver = 'block_proj_grad'\n",
    "solver = 'acc_proj_grad'\n",
    "\n",
    "## params of solver\n",
    "step_size_solver = 2e-3\n",
    "backtracking_solver = True\n",
    "max_iter_backtracking_solver = 30\n",
    "max_iter_solver = 1000\n",
    "tol_solver = 1e-9\n",
    "\n",
    "tic = time()\n",
    "u, v = path_regularization_with_restricted_Sinkhorn(a, b, M, reg, u0, v0, epsilon_tree_ab_eps,\n",
    "                                                    solver=solver,\n",
    "                                                    step_size_solver=step_size_solver,\n",
    "                                                    backtracking_solver=backtracking_solver,\n",
    "                                                    max_iter_backtracking_solver=max_iter_backtracking_solver,\n",
    "                                                    max_iter_solver=max_iter_solver,\n",
    "                                                    tol_solver=tol_solver)\n",
    "time_path = time() - tic\n",
    "time_path"
   ]
  },
  {
   "cell_type": "code",
   "execution_count": null,
   "metadata": {},
   "outputs": [],
   "source": [
    "time_sink, time_sink / 0.003325939178466797"
   ]
  },
  {
   "cell_type": "code",
   "execution_count": null,
   "metadata": {},
   "outputs": [],
   "source": [
    "0.03835797309875488 / time_sink"
   ]
  },
  {
   "cell_type": "code",
   "execution_count": null,
   "metadata": {},
   "outputs": [],
   "source": [
    "time_path / time_sink"
   ]
  },
  {
   "cell_type": "code",
   "execution_count": null,
   "metadata": {},
   "outputs": [],
   "source": [
    "# time_path, time_sink, time_path / time_sink "
   ]
  },
  {
   "cell_type": "code",
   "execution_count": null,
   "metadata": {},
   "outputs": [],
   "source": [
    "plt.plot(exp_u_star)\n",
    "plt.plot(u/2)"
   ]
  },
  {
   "cell_type": "code",
   "execution_count": null,
   "metadata": {},
   "outputs": [],
   "source": [
    "plt.plot(u)"
   ]
  },
  {
   "cell_type": "markdown",
   "metadata": {},
   "source": [
    "# plt.plot(exp_u_star, linewidth=2, color='r', label=r'$e^{u^\\star}$')\n",
    "plt.plot(np.exp(u), linewidth=2, color='b', label=r'$e^{u^\\star}$')\n",
    "\n",
    "# plt.plot(exp_v_star, linewidth=2, color='b', label=r'$e^{v^\\star}$')\n",
    "plt.legend()\n",
    "plt.subplots_adjust(hspace=.5)\n",
    "plt.tight_layout()\n"
   ]
  },
  {
   "cell_type": "markdown",
   "metadata": {},
   "source": [
    "#plt.plot(exp_v_star, linewidth=2, color='g', label=r'$e^{u^\\star}$')\n",
    "plt.plot(np.exp(v), linewidth=2, color='m', label=r'$e^{u^\\star}$')\n",
    "\n",
    "# plt.plot(exp_v_star, linewidth=2, color='b', label=r'$e^{v^\\star}$')\n",
    "plt.legend()\n",
    "plt.subplots_adjust(hspace=.5)\n",
    "plt.tight_layout()"
   ]
  },
  {
   "cell_type": "code",
   "execution_count": null,
   "metadata": {},
   "outputs": [],
   "source": [
    "# P_active = np.diag(np.exp(u)) @ K @ np.diag(np.exp(v))\n",
    "# P_active = np.diag(np.exp(u)) @ K @ np.diag(np.exp(v))\n",
    "\n",
    "# (P_star - P_active).max()"
   ]
  },
  {
   "cell_type": "code",
   "execution_count": null,
   "metadata": {},
   "outputs": [],
   "source": [
    "# (P_active @ np.ones(n_2)).sum(), (P_active.T @ np.ones(n_1)).sum()"
   ]
  },
  {
   "cell_type": "markdown",
   "metadata": {},
   "source": [
    "## Comparaison of active sets"
   ]
  },
  {
   "cell_type": "code",
   "execution_count": null,
   "metadata": {},
   "outputs": [],
   "source": [
    "I_like = np.where(u_sink_like > epsilon)[0].tolist()\n",
    "J_like = np.where(v_sink_like > epsilon)[0].tolist()\n",
    "print(len(I_active), len(I_like))\n",
    "print(len(J_active), len(J_like))"
   ]
  },
  {
   "cell_type": "code",
   "execution_count": null,
   "metadata": {},
   "outputs": [],
   "source": [
    "import time \n",
    "tic = time.time()\n",
    "path = path_regularization_with_restricted_Sinkhorn(a, b, M, reg, u0, v0, epsilon_tree_ab_eps, solver='proj_grad')\n",
    "toc_path = time.time() - tic"
   ]
  },
  {
   "cell_type": "code",
   "execution_count": null,
   "metadata": {},
   "outputs": [],
   "source": [
    "time_sink, toc_path, toc_path / time_sink"
   ]
  },
  {
   "cell_type": "markdown",
   "metadata": {},
   "source": [
    "## Comparison between PGD and Restricrted Sinkhorn"
   ]
  },
  {
   "cell_type": "code",
   "execution_count": null,
   "metadata": {},
   "outputs": [],
   "source": [
    "step_size = 1e-3\n",
    "import time\n",
    "tic = time.time()\n",
    "proj_grad = screenkhorn.acc_proj_grad(u0, v0, I_active, J_active, max_iter=1000, tol=1e-9, step_size=step_size,\n",
    "                                  backtracking=False, backtracking_factor=0.5, max_iter_backtracking=60,\n",
    "                                  trace=True, verbose=False)\n",
    "toc_proj_grad = time.time() - tic\n",
    "toc_proj_grad, toc_proj_grad / time_sink"
   ]
  },
  {
   "cell_type": "code",
   "execution_count": null,
   "metadata": {},
   "outputs": [],
   "source": [
    "# step_size = None\n",
    "# tic = time()\n",
    "# acc_proj_grad = screenkhorn.acc_proj_grad(u0, v0, I_active, J_active, max_iter=1000, tol=1e-9, step_size=step_size,\n",
    "                                  # backtracking=True, backtracking_factor=0.5, max_iter_backtracking=60,\n",
    "                                  # trace=True, verbose=False)\n",
    "# toc_acc_proj_grad  = time.time() - tic\n",
    "# toc_acc_proj_grad , toc_acc_proj_grad  / time_sink "
   ]
  },
  {
   "cell_type": "code",
   "execution_count": null,
   "metadata": {},
   "outputs": [],
   "source": [
    "# step_size = 10.\n",
    "# tic = time()\n",
    "# bloc_proj_grad = screenkhorn.bloc_proj_grad(u0, v0, I_active, J_active, max_iter=1000, tol=1e-9, step_size=step_size,\n",
    "                                  # backtracking=True, backtracking_factor=0.5, max_iter_backtracking=60,\n",
    "                                  # trace=True, verbose=False)\n",
    "# toc_bloc_proj_grad = time.time() - tic\n",
    "# toc_bloc_proj_grad, toc_bloc_proj_grad / time_sink"
   ]
  },
  {
   "cell_type": "code",
   "execution_count": null,
   "metadata": {},
   "outputs": [],
   "source": [
    "# tic = time()\n",
    "# bloc_acc_proj_grad = screenkhorn.bloc_acc_proj_grad(u0, v0, I_active, J_active, max_iter=1000, tol=1e-9, step_size=step_size,\n",
    "                                  # backtracking=True, backtracking_factor=0.5, max_iter_backtracking=60,\n",
    "                                  # trace=True, verbose=False)\n",
    "# toc_bloc_acc_proj_grad = time.time() - tic\n",
    "# toc_bloc_acc_proj_grad, toc_bloc_acc_proj_grad / time_sink"
   ]
  },
  {
   "cell_type": "code",
   "execution_count": null,
   "metadata": {},
   "outputs": [],
   "source": [
    "u_proj_grad = proj_grad[\"usc\"]\n",
    "v_proj_grad = proj_grad[\"vsc\"]\n",
    "I_proj_grad = proj_grad[\"I_usc\"]\n",
    "J_proj_grad = proj_grad[\"J_vsc\"]"
   ]
  },
  {
   "cell_type": "code",
   "execution_count": null,
   "metadata": {},
   "outputs": [],
   "source": [
    "print(len(I_active), len(I_like), len(I_proj_grad))\n",
    "print(len(J_active), len(J_like), len(J_proj_grad))\n",
    "\n",
    "# 200 200 188\n",
    "# 100 100 92"
   ]
  },
  {
   "cell_type": "code",
   "execution_count": null,
   "metadata": {},
   "outputs": [],
   "source": [
    "plt.plot(exp_u_star*2);\n",
    "plt.plot(proj_grad[\"usc\"]);"
   ]
  },
  {
   "cell_type": "code",
   "execution_count": null,
   "metadata": {},
   "outputs": [],
   "source": [
    "plt.plot(proj_grad[\"usc\"]);"
   ]
  },
  {
   "cell_type": "code",
   "execution_count": null,
   "metadata": {},
   "outputs": [],
   "source": [
    "plt.plot(exp_v_star/2)\n",
    "plt.plot(proj_grad[\"vsc\"]);"
   ]
  },
  {
   "cell_type": "code",
   "execution_count": null,
   "metadata": {},
   "outputs": [],
   "source": []
  }
 ],
 "metadata": {
  "kernelspec": {
   "display_name": "Python 3",
   "language": "python",
   "name": "python3"
  },
  "language_info": {
   "codemirror_mode": {
    "name": "ipython",
    "version": 3
   },
   "file_extension": ".py",
   "mimetype": "text/x-python",
   "name": "python",
   "nbconvert_exporter": "python",
   "pygments_lexer": "ipython3",
   "version": "3.6.8"
  }
 },
 "nbformat": 4,
 "nbformat_minor": 2
}

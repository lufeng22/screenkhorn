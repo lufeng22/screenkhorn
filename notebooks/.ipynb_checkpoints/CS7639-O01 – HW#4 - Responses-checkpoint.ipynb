{
 "cells": [
  {
   "cell_type": "markdown",
   "metadata": {},
   "source": [
    "# Question 1:"
   ]
  },
  {
   "cell_type": "markdown",
   "metadata": {},
   "source": [
    "- We suppose that the focal length $f=2.8mm$ and the pixel size $t_u = 6um$. \n",
    "- We assume a resolution of $640 (W) \\times 480 (H)$ pixels.\n",
    "- What is the associated value for $v$ you obtain?\n",
    "\n",
    "> To answer this question,\n",
    "- you will first formulate the complete optimization problem, and justify all constraints\n",
    "put on the variables of the system: which one are fixed? Continuous? What is their bounds? etc.\n",
    "- then you’ll use your preferred solver to solve this problem, e.g. scipy.optimize.minimize with the SLSQP method, PyOpt (http://www.pyopt.org) or embedded solvers from Matlab or other approach."
   ]
  },
  {
   "cell_type": "markdown",
   "metadata": {},
   "source": [
    "## Answer:\n"
   ]
  },
  {
   "cell_type": "markdown",
   "metadata": {},
   "source": [
    "We have that \n",
    "\\begin{equation}\n",
    "v(Y,Z) = v_0 + \\frac{\\alpha\\big(Y\\sin(\\theta)+ (Z- h)\\cos(\\theta)\\big)}{Y\\cos(\\theta) - (Z- h)\\sin(\\theta)}\n",
    "\\end{equation}\n",
    "\n",
    "With:\n",
    "- $v$: the line position in the sensor plane in pixels,\n",
    "- $\\theta$: the camera pitch angle,\n",
    "- $h$: the camera height with respect to the ground, $ 40cm \\leq h \\leq 80cm$.\n",
    "- $v_0 = \\frac{Hc}{2}$ is the projection of the optical center in the image, with $Hc$ the sensor\n",
    "height in pixels,\n",
    "- $\\alpha = \\frac{f}{t_u}$ with $f$ is the focal length and $t_u$ the pixel size of the CMOS sensor."
   ]
  },
  {
   "cell_type": "code",
   "execution_count": 3,
   "metadata": {},
   "outputs": [
    {
     "data": {
      "text/plain": [
       "79872.0"
      ]
     },
     "execution_count": 3,
     "metadata": {},
     "output_type": "execute_result"
    }
   ],
   "source": [
    "640*480*0.26"
   ]
  },
  {
   "cell_type": "code",
   "execution_count": null,
   "metadata": {},
   "outputs": [],
   "source": []
  }
 ],
 "metadata": {
  "kernelspec": {
   "display_name": "Python 3",
   "language": "python",
   "name": "python3"
  },
  "language_info": {
   "codemirror_mode": {
    "name": "ipython",
    "version": 3
   },
   "file_extension": ".py",
   "mimetype": "text/x-python",
   "name": "python",
   "nbconvert_exporter": "python",
   "pygments_lexer": "ipython3",
   "version": "3.6.8"
  }
 },
 "nbformat": 4,
 "nbformat_minor": 2
}

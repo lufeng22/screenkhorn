{
 "cells": [
  {
   "cell_type": "markdown",
   "metadata": {},
   "source": [
    "# Context"
   ]
  },
  {
   "cell_type": "markdown",
   "metadata": {},
   "source": [
    "> In the automotive domain, many ADAS (Advanced Driver Assistance System) integrate cameras for collision avoidance with pedestrians. A prototype of such functionality is described in [1]. An ADAS camera system detects risks from surrounding objects, provides warning to the driver and allows pre-crash actions to be performed automatically by the vehicle.\n",
    "\n",
    "> In this context, the SCSM (Stereoscopic Camera Sensor Module) ensures precise detection of distance and 3D reconstruction. The SCSM system is composed of both optical components such as lenses and electronic components such as CMOS sensors. The system designer has to combine optical parameters (focal length, camera position) and CMOS sensor choice to find the best trade-off architectures. These architectures should minimize total hardware cost and maximize performance for a given situation. Reference [2] presents an approach for obstacle detection using stereoscopic sensors.\n",
    "\n",
    "> Fig. 1 shows the considered situation for the SCSM and the environment. The left and right CMOS sensors are represented by two oblique planes Sl and Sr called the views. In this representation, the horizontal planes represent the road and the vertical ones represent obstacles. A nearby and a distant obstacle are respectively figured by the ball and by the pedestrian. We expect the lenses and the sensors to be identical between the left and right views."
   ]
  },
  {
   "cell_type": "markdown",
   "metadata": {},
   "source": [
    "- The projection of the $P (X, Y, Z)$ point of the scene thus lies on the same line in both the left and right-hand views, i.e. $v_r= v_l = v$ where:\n",
    "\n",
    "\\begin{equation}\n",
    "v(Y,Z) = v_0 + \\frac{\\alpha\\big(Y\\sin(\\theta)+ (Z- h)\\cos(\\theta)\\big)}{Y\\cos(\\theta) - (Z- h)\\sin(\\theta)}\n",
    "\\end{equation}\n",
    "\n",
    "> With:\n",
    "- $v$: the line position in the sensor plane in pixels,\n",
    "- $\\theta$: the camera pitch angle,\n",
    "- $h$: the camera height with respect to the ground, $ 40cm \\leq h \\leq 80cm$.\n",
    "- $v_0 = \\frac{Hc}{2}$ is the projection of the optical center in the image, with $Hc$ the sensor\n",
    "height in pixels,\n",
    "- $\\alpha = \\frac{f}{t_u}$ with $f$ is the focal length and $t_u$ the pixel size of the CMOS sensor."
   ]
  },
  {
   "cell_type": "markdown",
   "metadata": {},
   "source": [
    "For the use of SCSM module in ADAS application, the system should be able to detect both a distant and a nearby obstacle with a limited cost. The projection of a distant obstacle on the views shall have a minimum value, to ensure the detection by picture processing algorithms.\n"
   ]
  },
  {
   "cell_type": "markdown",
   "metadata": {},
   "source": [
    "> The optimization problem may be sketched as follows:\n",
    " - Minimize the hardware (HW) cost of lenses and sensors,\n",
    " - Maximize $v$ for the nearby obstacle with a height of $165cm$\n",
    "\n",
    "> With constraints:\n",
    " - $v(\\text{distant obstacle} \\geq 350 \\text{pixels}$ for distant obstacle detection\n",
    " - $v(\\text{nearly obstacle} \\leq 450 \\text{pixels}$ for nearly obstacle detection\n",
    "\n",
    "> With parameters:\n",
    "   - $\\theta, h$ continous and bounded. \n",
    "   - A choice of lenses and CMOS sensors from a list of HW components.\n",
    "   \n",
    "Typical objects to detect are humans (height or $Z$ in the $80-180cm$ range). Nearby and distant distances correspond to the distance required to brake safely, $15$ to $60$m.."
   ]
  },
  {
   "cell_type": "code",
   "execution_count": null,
   "metadata": {},
   "outputs": [],
   "source": []
  }
 ],
 "metadata": {
  "kernelspec": {
   "display_name": "Python 3",
   "language": "python",
   "name": "python3"
  },
  "language_info": {
   "codemirror_mode": {
    "name": "ipython",
    "version": 3
   },
   "file_extension": ".py",
   "mimetype": "text/x-python",
   "name": "python",
   "nbconvert_exporter": "python",
   "pygments_lexer": "ipython3",
   "version": "3.6.8"
  }
 },
 "nbformat": 4,
 "nbformat_minor": 2
}

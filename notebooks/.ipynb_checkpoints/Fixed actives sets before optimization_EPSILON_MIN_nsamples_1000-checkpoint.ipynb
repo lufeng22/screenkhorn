{
 "cells": [
  {
   "cell_type": "code",
   "execution_count": 2,
   "metadata": {},
   "outputs": [],
   "source": [
    "# NUMPY\n",
    "import numpy as np\n",
    "\n",
    "# MATPLOTLIB\n",
    "import matplotlib.pyplot as plt\n",
    "plt.style.context('dark_background')\n",
    "%matplotlib inline \n",
    "from matplotlib import rc\n",
    "rc('font', **{'family': 'sans-serif', 'sans-serif': ['Computer Modern Roman']})\n",
    "params = {'axes.labelsize': 8, # 12\n",
    "          'font.size': 8, # 12\n",
    "          'legend.fontsize': 8, # 12\n",
    "          'xtick.labelsize': 8, # 10\n",
    "          'ytick.labelsize': 8, # 10\n",
    "          'text.usetex': True,\n",
    "          'figure.figsize': (16, 6)}\n",
    "plt.rcParams.update(params)\n",
    "\n",
    "# SEABORN \n",
    "import seaborn as sns\n",
    "sns.set_context(\"poster\")\n",
    "sns.set_style(\"ticks\")\n",
    "\n",
    "# SKLEARN \n",
    "from sklearn.metrics import pairwise_distances\n",
    "\n",
    "# POT\n",
    "import ot\n",
    "from ot import sinkhorn, emd\n",
    "# from ot.bregman import sinkhorn, greenkhorn\n",
    "\n",
    "# PATH \n",
    "import sys\n",
    "path_files = '/Users/mzalaya/PycharmProjects/OATMIL/oatmilrouen/'\n",
    "sys.path.insert(0, path_files) \n",
    "\n",
    "# GREENKHORN \n",
    "# from greenkhorn.sinkhorn import sinkhorn as sinkhgreen\n",
    "# SCREENKHORN\n",
    "from screenkhorn.screenkhorn import Screenkhorn\n",
    "# np.random.seed(3946)\n",
    "\n",
    "import warnings\n",
    "warnings.filterwarnings(\"ignore\", category=FutureWarning)"
   ]
  },
  {
   "cell_type": "markdown",
   "metadata": {},
   "source": [
    "## Data generation"
   ]
  },
  {
   "cell_type": "code",
   "execution_count": 61,
   "metadata": {},
   "outputs": [],
   "source": [
    "n_1 = 2000# nb samples\n",
    "n_2 = 5000\n",
    "mu_s = np.array([0, 0])\n",
    "cov_s = np.array([[1, 0], [0, 1]])\n",
    "\n",
    "mu_t = np.array([4, 4])\n",
    "cov_t = np.array([[1, -.8], [-.8, 1]])\n",
    "\n",
    "xs = ot.datasets.make_2D_samples_gauss(n_1, mu_s, cov_s)\n",
    "xt = ot.datasets.make_2D_samples_gauss(n_2, mu_t, cov_t)\n",
    "\n",
    "a = np.ones((n_1,)) / n_1\n",
    "b = np.ones((n_2,)) / n_2  # uniform distribution on samples\n",
    "\n",
    "# loss matrix\n",
    "M = ot.dist(xs, xt)\n",
    "M /= M.max()\n",
    "reg = 0.3\n",
    "\n",
    "K = np.exp(-M/reg)"
   ]
  },
  {
   "cell_type": "code",
   "execution_count": 62,
   "metadata": {},
   "outputs": [],
   "source": [
    "epsilon_max = max(np.sqrt((a/ K.sum(axis=1)).max()), np.sqrt((b/ K.T.sum(axis=1)).max()))\n",
    "epsilon_min = min(np.sqrt((a/ K.sum(axis=1)).min()), np.sqrt((b/ K.T.sum(axis=1)).min()))\n",
    "\n",
    "I_test_min = np.where(a >= epsilon_min**2 * K.sum(axis=1))[0].tolist()\n",
    "Ic_test_min  = np.where(a < epsilon_min**2 * K.sum(axis=1))[0].tolist()\n",
    "\n",
    "J_test_min  = np.where(b >= epsilon_min**2 * K.T.sum(axis=1))[0].tolist()\n",
    "Jc_test_min  = np.where(b < epsilon_min**2 * K.T.sum(axis=1))[0].tolist()\n",
    "\n",
    "I_test_max = np.where(a >= epsilon_max**2 * K.sum(axis=1))[0].tolist()\n",
    "Ic_test_max  = np.where(a < epsilon_max**2 * K.sum(axis=1))[0].tolist()\n",
    "\n",
    "J_test_max  = np.where(b >= epsilon_max**2 * K.T.sum(axis=1))[0].tolist()\n",
    "Jc_test_max  = np.where(b < epsilon_max**2 * K.T.sum(axis=1))[0].tolist()"
   ]
  },
  {
   "cell_type": "code",
   "execution_count": 63,
   "metadata": {},
   "outputs": [
    {
     "name": "stdout",
     "output_type": "stream",
     "text": [
      "1 2000\n"
     ]
    }
   ],
   "source": [
    "print(len(I_test_max), len(I_test_min))"
   ]
  },
  {
   "cell_type": "code",
   "execution_count": 64,
   "metadata": {},
   "outputs": [
    {
     "name": "stdout",
     "output_type": "stream",
     "text": [
      "0 5000\n"
     ]
    }
   ],
   "source": [
    "print(len(J_test_max), len(J_test_min))"
   ]
  },
  {
   "cell_type": "code",
   "execution_count": 11,
   "metadata": {},
   "outputs": [
    {
     "data": {
      "image/png": "[encoded data removed]",
      "text/plain": [
       "<Figure size 432x288 with 1 Axes>"
      ]
     },
     "metadata": {
      "needs_background": "light"
     },
     "output_type": "display_data"
    }
   ],
   "source": [
    "plt.scatter(xs[:,0], xs[:,1], marker='^', c='m')\n",
    "plt.scatter(xt[:,0], xt[:,1], marker='o', c='g');"
   ]
  },
  {
   "cell_type": "markdown",
   "metadata": {},
   "source": [
    "## Sinkhorn's algorithm from POT"
   ]
  },
  {
   "cell_type": "code",
   "execution_count": null,
   "metadata": {},
   "outputs": [],
   "source": [
    "from time import time\n",
    "time_start = time()\n",
    "P_sink = sinkhorn(a, b, M, reg, log=True)\n",
    "time_tc = time() - time_start\n",
    "print(time_tc)\n",
    "# Print P^star, u_sink = e^{u^star}, v_sink = e^{v^star}\n",
    "P_star = P_sink[0]\n",
    "outputs_dict = P_sink[1]\n",
    "exp_u_star = outputs_dict['u']\n",
    "exp_v_star = outputs_dict['v']"
   ]
  },
  {
   "cell_type": "markdown",
   "metadata": {},
   "source": [
    "## Plots of $e^{u^\\star}$ and $e^{v^\\star}$ "
   ]
  },
  {
   "cell_type": "code",
   "execution_count": null,
   "metadata": {},
   "outputs": [],
   "source": [
    "plt.plot(exp_u_star, linewidth=2, color='r', label=r'$e^{u^\\star}$')\n",
    "plt.plot(exp_v_star, linewidth=2, color='b', label=r'$e^{v^\\star}$')\n",
    "plt.legend()\n",
    "plt.subplots_adjust(hspace=.5)\n",
    "plt.tight_layout()"
   ]
  },
  {
   "cell_type": "markdown",
   "metadata": {},
   "source": [
    "## Constant of normalization"
   ]
  },
  {
   "cell_type": "code",
   "execution_count": null,
   "metadata": {},
   "outputs": [],
   "source": [
    "C = 2. #(np.sum(exp_u_star**2)/(np.sum(exp_v_star**2)))**(1/4)\n",
    "exp_u_star_C = exp_u_star*C\n",
    "exp_v_star_C = exp_v_star/C\n",
    "\n",
    "plt.plot(exp_u_star_C, linewidth=2, color='r', label=r'$e^{u^\\star}_C$')\n",
    "plt.plot(exp_v_star_C, linewidth=2, color='b', label=r'$e^{v^\\star}_C$')\n",
    "plt.legend()\n",
    "# plt.axhline(y=0.0085)\n",
    "plt.subplots_adjust(hspace=.5)\n",
    "plt.tight_layout()"
   ]
  },
  {
   "cell_type": "markdown",
   "metadata": {},
   "source": [
    "### Plots of $u^\\star_C$ and $v^\\star_C$"
   ]
  },
  {
   "cell_type": "code",
   "execution_count": null,
   "metadata": {},
   "outputs": [],
   "source": [
    "epsilon =1.2e-2\n",
    "log_epsilon = np.log(epsilon) \n",
    "u_star_C = np.log(exp_u_star_C)\n",
    "v_star_C = np.log(exp_v_star_C)\n",
    "log_epsilon = np.log(epsilon) # -4.7\n",
    "epsilon = np.exp(log_epsilon)\n",
    "print(\"Epsilon values is %s:\" %epsilon)\n",
    "print(\"log-Epsilon values is %s:\" %log_epsilon)\n",
    "\n",
    "plt.plot(u_star_C, linewidth=3, label=r'$u^\\star$') #color='r', \n",
    "plt.plot(v_star_C, linewidth=3, label=r'$v^\\star$') # color='g',\n",
    "plt.axhline(y=log_epsilon, color='r');\n",
    "plt.legend();"
   ]
  },
  {
   "cell_type": "markdown",
   "metadata": {},
   "source": [
    "## Choosing of the intervals $I_u$ and $J_v$"
   ]
  },
  {
   "cell_type": "code",
   "execution_count": null,
   "metadata": {},
   "outputs": [],
   "source": [
    "I = np.where(u_star_C > log_epsilon)[0].tolist()\n",
    "Ic = np.where(u_star_C <= log_epsilon)[0].tolist()\n",
    "len(I), len(Ic)"
   ]
  },
  {
   "cell_type": "code",
   "execution_count": null,
   "metadata": {},
   "outputs": [],
   "source": [
    "J = np.where(v_star_C > log_epsilon)[0].tolist()\n",
    "Jc = np.where(v_star_C <= log_epsilon)[0].tolist()\n",
    "len(J), len(Jc)"
   ]
  },
  {
   "cell_type": "code",
   "execution_count": null,
   "metadata": {},
   "outputs": [],
   "source": [
    "# sinkhorn\n",
    "P_star_C = np.diag(np.exp(u_star_C)) @ K @ np.diag(np.exp(v_star_C)) \n",
    "a_star_C = P_star_C @ np.ones(n_2)\n",
    "b_star_C = P_star_C.T @ np.ones(n_1)"
   ]
  },
  {
   "cell_type": "code",
   "execution_count": null,
   "metadata": {},
   "outputs": [],
   "source": [
    "# screened sinkhorn\n",
    "u_star_C_screen = np.zeros(n_1)\n",
    "v_star_C_screen = np.zeros(n_2)\n",
    "u_star_C_screen[I] = u_star_C[I]\n",
    "u_star_C_screen[Ic] = log_epsilon * np.ones(len(Ic))\n",
    "v_star_C_screen[J] = v_star_C[J]\n",
    "v_star_C_screen[Jc] = log_epsilon * np.ones(len(Jc))\n",
    "\n",
    "P_star_C_screen = np.diag(np.exp(u_star_C_screen)) @ K @ np.diag(np.exp(v_star_C_screen)) \n",
    "a_star_C_screen = P_star_C_screen @ np.ones(n_2)\n",
    "b_star_C_screen = P_star_C_screen.T @ np.ones(n_1)"
   ]
  },
  {
   "cell_type": "markdown",
   "metadata": {},
   "source": [
    "# `screenkhorn`"
   ]
  },
  {
   "cell_type": "code",
   "execution_count": null,
   "metadata": {},
   "outputs": [],
   "source": [
    "screenkhorn = Screenkhorn(a, b, M, reg, epsilon)"
   ]
  },
  {
   "cell_type": "markdown",
   "metadata": {},
   "source": [
    "## Projected Gradient Descent "
   ]
  },
  {
   "cell_type": "code",
   "execution_count": null,
   "metadata": {},
   "outputs": [],
   "source": [
    "log_epsilon"
   ]
  },
  {
   "cell_type": "code",
   "execution_count": null,
   "metadata": {},
   "outputs": [],
   "source": [
    "u0 = log_epsilon * np.ones(n_1)\n",
    "v0 = log_epsilon * np.ones(n_2)\n",
    "# u0 = np.zeros(n_1)\n",
    "# v0 = np.zeros(n_1)\n",
    "\n",
    "u0[9] = -10 * log_epsilon\n",
    "v0[9] = -10 * log_epsilon\n",
    "I_a = [9]\n",
    "J_a = [9]\n",
    "proj_grad = screenkhorn.projected_grad(u0, v0, I_a, J_a, max_iter_backtracking=10,\n",
    "                                       step_size=10., max_iter=1000, tol=1e-16, verbose=False)"
   ]
  },
  {
   "cell_type": "markdown",
   "metadata": {},
   "source": [
    "### Curve of the objective function"
   ]
  },
  {
   "cell_type": "code",
   "execution_count": null,
   "metadata": {},
   "outputs": [],
   "source": [
    "obj_ord = proj_grad[\"trace_obj\"]\n",
    "plt.plot(obj_ord);\n",
    "plt.title(\"Objective via PGD\");"
   ]
  },
  {
   "cell_type": "markdown",
   "metadata": {},
   "source": [
    "### Sort of the solution by `screenkhorn` "
   ]
  },
  {
   "cell_type": "code",
   "execution_count": null,
   "metadata": {},
   "outputs": [],
   "source": [
    "plt.plot(u_star_C_screen, 'r', linewidth=2, label =r'${u^{\\star,{sc}}}$')\n",
    "plt.plot(proj_grad[\"usc\"], 'b', linewidth=2, label ='${u^{sc}}$')\n",
    "plt.legend(loc='best');\n",
    "plt.title(r'Potentials vectors of screenkhorn via PGD');"
   ]
  },
  {
   "cell_type": "code",
   "execution_count": null,
   "metadata": {},
   "outputs": [],
   "source": [
    "#plt.plot((u_star_C_screen), 'blue', linewidth=2, label =r'${u^\\star_C}$')\n",
    "#plt.plot((proj_grad_ord[\"usc\"]), 'orange', linewidth=2, label =r'${u^{sc}_C}$')\n",
    "plt.plot((v_star_C_screen), 'magenta', linewidth=2, label =r'${v^{\\star,{sc}}}$')\n",
    "plt.plot((proj_grad[\"vsc\"]), 'g', linewidth=2, label ='${v^{sc}}$')\n",
    "plt.legend(loc='best');\n",
    "plt.title(r'Potentials vectors of screenkhorn via PGD');"
   ]
  },
  {
   "cell_type": "code",
   "execution_count": null,
   "metadata": {},
   "outputs": [],
   "source": [
    "# u_star_C_screen, \n",
    "kkt_u_star = (u_star_C_screen - (log_epsilon)) @ (a - np.exp(u_star_C_screen) * (K @ np.exp(v_star_C_screen)))\n",
    "kkt_v_star = (v_star_C_screen - (log_epsilon)) @ (b - np.exp(v_star_C_screen) * (K.T @ np.exp(u_star_C_screen)))\n",
    "kkt_u_star, kkt_v_star"
   ]
  },
  {
   "cell_type": "code",
   "execution_count": null,
   "metadata": {},
   "outputs": [],
   "source": [
    "figure, axes = plt.subplots(nrows=2, ncols=2)\n",
    "axes[0,0].plot(np.sort(u_star_C_screen), 'blue', linewidth=2, label =r'$u^{\\star, sc}$')\n",
    "axes[1,0].plot(np.sort(proj_grad[\"usc\"]), 'orange', linewidth=2, label =r'$u^{sc}$')\n",
    "axes[0,1].plot(np.sort(v_star_C_screen), 'magenta', linewidth=2, label =r'$v^{\\star,sc}$')\n",
    "axes[1,1].plot(np.sort(proj_grad[\"vsc\"]), 'purple', linewidth=2, label =r'$v^{sc}$')\n",
    "\n",
    "axes[0,0].legend()\n",
    "axes[0,1].legend()\n",
    "axes[1,0].legend()\n",
    "axes[1,1].legend();"
   ]
  },
  {
   "cell_type": "code",
   "execution_count": null,
   "metadata": {},
   "outputs": [],
   "source": [
    "usc_ord = proj_grad[\"usc\"]\n",
    "vsc_ord = proj_grad[\"vsc\"]\n",
    "I_usc = proj_grad[\"I_usc\"]\n",
    "J_vsc = proj_grad[\"J_vsc\"]"
   ]
  },
  {
   "cell_type": "code",
   "execution_count": null,
   "metadata": {},
   "outputs": [],
   "source": [
    "print(len(I), len(I_usc), '\\n')\n",
    "print(I, '\\n')\n",
    "print(I_usc)"
   ]
  },
  {
   "cell_type": "code",
   "execution_count": null,
   "metadata": {},
   "outputs": [],
   "source": [
    "print(len(J), len(J_vsc), '\\n')\n",
    "print(J, '\\n')\n",
    "print(J_vsc)"
   ]
  },
  {
   "cell_type": "markdown",
   "metadata": {},
   "source": [
    "### KKT optimality conditions"
   ]
  },
  {
   "cell_type": "markdown",
   "metadata": {},
   "source": [
    "For $\\varepsilon > 0$, we define the index sets \n",
    "\\begin{equation*}\n",
    "I^\\star = \\{i: u^\\star_i > \\log(\\varepsilon)\\} \\text{ and }J^\\star = \\{j: v^\\star_j > \\log(\\varepsilon)\\}.\n",
    "\\end{equation*}\n",
    "We also define the couple of screened Sinkhorn $(u^{\\star, \\text{sc}}, v^{\\star,\\text{sc}})$ as follows:\n",
    "\\begin{equation*}\n",
    "\\begin{cases}\n",
    "u^{\\star, \\text{sc}}_i = u^\\star_i, \\forall i \\in I^\\star\\\\\n",
    "u^{\\star, \\text{sc}}_i = \\log(\\varepsilon), \\forall i \\in \\{1, \\ldots, n\\} \\backslash I^\\star,\n",
    "\\end{cases}\n",
    "\\end{equation*}\n",
    "and \n",
    "\\begin{equation*}\n",
    "\\begin{cases}\n",
    "v^{\\star, \\text{sc}}_j = v^\\star_j, \\forall j \\in J^\\star\\\\\n",
    "v^{\\star, \\text{sc}}_j = \\log(\\varepsilon), \\forall j \\in \\{1, \\ldots, m\\} \\backslash J^\\star\n",
    "\\end{cases}\n",
    "\\end{equation*}\n",
    "\n",
    "The couple screened Sinkhorn solution $(u^{\\star, \\text{sc}}, v^{\\star,\\text{sc}})$ does not verify the KKT optimality conditions of the $\\mathcal{DSS}_\\eta$, the dual of the screened Sinkhorn problem:\n",
    "\\begin{equation} \n",
    "\\label{screen-sinkhorn}\n",
    "\\mathcal{DSS}_\\eta = \\min_{u \\in \\mathbb{R}^n, v\\in \\mathbb{R}^m} \\big\\{\\Psi_\\varepsilon(u,v):= B(u,v) - <u, \\mu> - <v, \\nu> + \\iota_{\\mathcal{C}^n_{\\varepsilon}} (u) + \\iota_{\\mathcal{C}^m_{\\varepsilon}}(v)\\big\\}\n",
    "\\end{equation}\n",
    "\n",
    "The KKT optimality conditions of $\\mathcal{DSS}_\\eta$ are given by:\n",
    "\n",
    "A couple $(u^{\\text{sc}},v^{\\text{sc}})$ is a solution of the $\\mathcal{DSS}$ problem if and only if $(\\mathbf{0}_n, \\mathbf{0}_m) \\in \\partial\\Psi_\\varepsilon(u^{\\text{sc}},v^{\\text{sc}})$. The subdifferential of the objective function $\\Psi_\\varepsilon(u,v)$ writes as $\\partial\\Psi(u,v) = \\{\\partial_u\\Psi_\\varepsilon(u,v) , \\partial_v\\Psi_\\varepsilon(u,v)\\}$ where \n",
    "\\begin{align*}\n",
    "\\partial_u\\Psi_\\varepsilon(u,v) = e^{u} \\odot K e^v - \\mu + \\partial(\\iota_{\\mathcal{C}^n_{\\varepsilon}})(u), \\text{ and }\n",
    "\t\\partial_v\\Psi_\\varepsilon(u,v) = e^{v} \\odot K e^u - \\nu + \\partial(\\iota_{\\mathcal{C}^m_{\\varepsilon}})(v).\n",
    "\\end{align*}\n",
    "\n",
    "\n",
    "Therefore, the couple $(u^{\\text{sc}},v^{\\text{sc}})$ is characterized by: \n",
    "\\begin{equation}\n",
    "\\label{kkt-DSS-usc}\n",
    "\t<u^{\\text{sc}} - \\tilde{u}, \\mu - e^{u^{\\text{sc}}} \\odot K e^{v^{\\text{sc}}}>\\, \\geq 0, \\text{ for all } \\tilde{u} \\in \\mathcal{C}^n_{\\varepsilon} %, v \\in \\mathcal{C}^m_{\\varepsilon}\n",
    "\\end{equation}\n",
    "and \n",
    "\\begin{equation}\n",
    "\\label{kkt-DSS-vsc}\n",
    "\t<v^{\\text{sc}} - \\tilde{v}, \\nu - e^{v^{\\text{sc}}} \\odot K e^{v^{\\text{sc}}}>\\, \\geq 0 \\text{ for all } \\tilde{v} \\in  \\mathcal{C}^m_{\\varepsilon}.\n",
    "\\end{equation}"
   ]
  },
  {
   "cell_type": "code",
   "execution_count": null,
   "metadata": {},
   "outputs": [],
   "source": [
    "# u_star_C_screen, \n",
    "kkt_u_star = (u_star_C_screen - (log_epsilon)) @ (a - np.exp(u_star_C_screen) * (K @ np.exp(v_star_C_screen)))\n",
    "kkt_v_star = (v_star_C_screen - (log_epsilon)) @ (b - np.exp(v_star_C_screen) * (K.T @ np.exp(u_star_C_screen)))\n",
    "kkt_u_star, kkt_v_star"
   ]
  },
  {
   "cell_type": "code",
   "execution_count": null,
   "metadata": {},
   "outputs": [],
   "source": [
    "kkt_u = (usc_ord - log_epsilon) @ (a - np.exp(usc_ord) * (K @ np.exp(vsc_ord)))\n",
    "kkt_v = (vsc_ord - log_epsilon) @ (b - np.exp(vsc_ord) * (K.T @ np.exp(usc_ord)))\n",
    "kkt_u, kkt_v"
   ]
  },
  {
   "cell_type": "markdown",
   "metadata": {},
   "source": [
    "### Remark\n",
    "A couple solution $(u^{\\text{sc}},v^{\\text{sc}})$ of the $\\mathcal{DSS}_\\eta$ given by running screenkhorn algorithm with an initialized index sets $I^0$ and $J^0$. Then the active sets $I_{\\text{sc}}, J_{\\text{sc}}$ of $(u^{\\text{sc}},v^{\\text{sc}})$ may be not the same as $I^0$ and $J^0$.\n",
    "\n",
    "But the same value of objective function $\\Psi_\\varepsilon$."
   ]
  },
  {
   "cell_type": "code",
   "execution_count": null,
   "metadata": {},
   "outputs": [],
   "source": [
    "# same objectifs functions with respect to (I,J) or (I_usc, J_vsc)\n",
    "obj0 = screenkhorn.objective(usc_ord, vsc_ord, I, J)\n",
    "obj_sc = screenkhorn.objective(usc_ord, vsc_ord, I_usc, J_vsc)\n",
    "\n",
    "obj0, obj_sc"
   ]
  },
  {
   "cell_type": "markdown",
   "metadata": {},
   "source": [
    "# RANDOMIZATION "
   ]
  },
  {
   "cell_type": "code",
   "execution_count": null,
   "metadata": {},
   "outputs": [],
   "source": [
    "# epsilon = 0.009\n",
    "# 4e-3 gives |I_cst| = 200,  |J_cst| = 200\n",
    "# 3e-3 gives |I_cst| = 200, |J_cst| = 200 \n",
    "# 5e-3 gives |I_cst| = 194,  |J_cst| = 194 \n",
    "\n",
    "# 7e-3 gives |I_cst| = 22 \t |J_cst| = 180\n",
    "# 8e-3 gives |I_cst| = 1,  |J_cst| = 6\n",
    "# 9e-3 gives |I_cst| = 1  |J_cst| = 0\n",
    "\n",
    "# 6.5e-3 stops at |I_cst| = 51 for I and continues for J\n",
    "# 7e-3 stops at 45 for I and continues for J\n",
    "# \n",
    "\n",
    "log_epsilon = np.log(epsilon)\n",
    "print(log_epsilon)\n",
    "screenkhorn = Screenkhorn(a, b, M, reg, epsilon)"
   ]
  },
  {
   "cell_type": "code",
   "execution_count": null,
   "metadata": {},
   "outputs": [],
   "source": [
    "u0 = log_epsilon*np.ones(n_1)\n",
    "v0 = log_epsilon*np.ones(n_2)\n",
    "# u0[30:50] = -10*log_epsilon\n",
    "# v0[30:50] = -10*log_epsilon\n",
    "\n",
    "# u0[9] = log_epsilon + 2.\n",
    "# v0[9] = log_epsilon + 2.\n",
    "#v0[150:170] = -10*log_epsilon\n",
    "#u0[150:170] = -10*log_epsilon\n",
    "\n",
    "plt.plot(u0);\n",
    "plt.axhline(y=log_epsilon, color='r', linewidth=2);"
   ]
  },
  {
   "cell_type": "code",
   "execution_count": null,
   "metadata": {},
   "outputs": [],
   "source": [
    "I_test = np.where(a >= epsilon**2 * K.sum(axis=1))[0].tolist()\n",
    "Ic_test = np.where(a < epsilon**2 * K.sum(axis=1))[0].tolist()\n",
    "\n",
    "J_test = np.where(b >= epsilon**2 * K.T.sum(axis=1))[0].tolist()\n",
    "Jc_test = np.where(b < epsilon**2 * K.T.sum(axis=1))[0].tolist()\n",
    "\n",
    "u0 = log_epsilon*np.ones(n_1)\n",
    "v0 = log_epsilon*np.ones(n_2)\n",
    "\n",
    "u0[I_test] = log_epsilon + 2.\n",
    "v0[J_test] = log_epsilon + 2.\n",
    "\n",
    "print(len(I_test), len(J_test))"
   ]
  },
  {
   "cell_type": "code",
   "execution_count": null,
   "metadata": {},
   "outputs": [],
   "source": [
    "# Solvers\n",
    "# solver = screenkhorn.projected_grad\n",
    "# solver = screenkhorn.block_projected_grad\n",
    "# solver = screenkhorn.acc_projected_grad\n",
    "solver = screenkhorn.block_acc_projected_grad\n",
    "\n",
    "# screenkhorn.projected_grad(np.zeros(n_1), np.zeros(n_2), I, J, max_iter_backtracking=30,\n",
    "                           # step_size=10., max_iter=1000, tol=1e-16, verbose=False)\n",
    "    \n",
    "# screenkhorn.block_projected_grad(np.zeros(n_1), np.zeros(n_2), I, J, max_iter_backtracking=30,\n",
    "                                 # step_size=8., max_iter=1000, tol=1e-10, verbose=False)\n",
    "\n",
    "# screenkhorn.acc_projected_grad(np.zeros(n_1), np.zeros(n_2), I, J, \n",
    "                                 # max_iter_backtracking=40,\n",
    "                                 # step_size=10., max_iter=1000, tol=1e-10, verbose=False)\n",
    "        \n",
    "# screenkhorn.block_acc_projected_grad(np.zeros(n_1), np.zeros(n_2), I, J, \n",
    "                                        # max_iter_backtracking=50,\n",
    "                                        # step_size=50., max_iter=1000, tol=1e-19, verbose=False)\n",
    "from datetime import datetime\n",
    "start_time = datetime.now()\n",
    "sols_rand = screenkhorn.randomization(u0, v0, solver=solver, max_iter=1, tol_marg=1e-3, \n",
    "                                      step_size_solver=10., max_iter_backtracking=70, max_iter_solver=1000)\n",
    "\n",
    "print(datetime.now() - start_time)"
   ]
  },
  {
   "cell_type": "code",
   "execution_count": null,
   "metadata": {},
   "outputs": [],
   "source": [
    "## Solutions of the randomization process\n",
    "usc_active = sols_rand[\"usc\"]\n",
    "vsc_active = sols_rand[\"vsc\"]\n",
    "I_active = sols_rand[\"I\"]\n",
    "J_active = sols_rand[\"J\"]\n",
    "lambda_u = sols_rand[\"lambda_u\"]\n",
    "lambda_v = sols_rand[\"lambda_v\"]"
   ]
  },
  {
   "cell_type": "code",
   "execution_count": null,
   "metadata": {},
   "outputs": [],
   "source": [
    "print(I_test, '\\n')\n",
    "print(I_active)"
   ]
  },
  {
   "cell_type": "code",
   "execution_count": null,
   "metadata": {},
   "outputs": [],
   "source": [
    "print(J_test, '\\n')\n",
    "print(J_active)"
   ]
  },
  {
   "cell_type": "code",
   "execution_count": null,
   "metadata": {},
   "outputs": [],
   "source": [
    "lambda_u0 = K @ np.exp(v0) - a / np.exp(u0)\n",
    "lambda_v0 = K.T @ np.exp(u0) - b / np.exp(v0)\n",
    "\n",
    "print(lambda_u0[I_test], '\\n')\n",
    "print(lambda_u0[Ic_test])"
   ]
  },
  {
   "cell_type": "code",
   "execution_count": null,
   "metadata": {},
   "outputs": [],
   "source": [
    "print(lambda_v0[J_test], '\\n')\n",
    "print(lambda_v0[Jc_test])"
   ]
  },
  {
   "cell_type": "code",
   "execution_count": null,
   "metadata": {},
   "outputs": [],
   "source": [
    "print(lambda_u[I_test], '\\n')\n",
    "print(lambda_u[Ic_test])"
   ]
  },
  {
   "cell_type": "code",
   "execution_count": null,
   "metadata": {},
   "outputs": [],
   "source": [
    "print(lambda_v[J_test], '\\n')\n",
    "print(lambda_v[Jc_test])"
   ]
  },
  {
   "cell_type": "code",
   "execution_count": null,
   "metadata": {},
   "outputs": [],
   "source": [
    "# np.sqrt(K.sum(axis=0).min()/(b.max())\n"
   ]
  },
  {
   "cell_type": "code",
   "execution_count": null,
   "metadata": {},
   "outputs": [],
   "source": []
  },
  {
   "cell_type": "code",
   "execution_count": null,
   "metadata": {},
   "outputs": [],
   "source": [
    "print(len(I_test_max), '\\n')\n",
    "print(len(I_test_min))"
   ]
  },
  {
   "cell_type": "code",
   "execution_count": null,
   "metadata": {},
   "outputs": [],
   "source": [
    "print(len(J_test_max), '\\n')\n",
    "print(len(J_test_min))"
   ]
  },
  {
   "cell_type": "code",
   "execution_count": null,
   "metadata": {},
   "outputs": [],
   "source": [
    "lambda_v"
   ]
  },
  {
   "cell_type": "code",
   "execution_count": null,
   "metadata": {},
   "outputs": [],
   "source": [
    "print(I_active)"
   ]
  },
  {
   "cell_type": "code",
   "execution_count": null,
   "metadata": {},
   "outputs": [],
   "source": [
    "print(J_active)"
   ]
  },
  {
   "cell_type": "code",
   "execution_count": null,
   "metadata": {},
   "outputs": [],
   "source": [
    "plt.plot(vsc_active, color='m');\n",
    "plt.plot(v_star_C_screen, color='g');"
   ]
  },
  {
   "cell_type": "code",
   "execution_count": null,
   "metadata": {},
   "outputs": [],
   "source": [
    "plt.plot(u_star_C_screen);\n",
    "plt.plot(usc_active);"
   ]
  },
  {
   "cell_type": "code",
   "execution_count": null,
   "metadata": {},
   "outputs": [],
   "source": [
    "fig, axes = plt.subplots(nrows=2)\n",
    "#axes[0].plot(proj_grad[\"usc\"], color='r')\n",
    "axes[0].plot(usc_active, color='b');\n",
    "\n",
    "axes[0].set_title(\"Screened Sinkhorn\")\n",
    "axes[1].set_title(\"Screened by randomization active sets\")\n",
    "plt.subplots_adjust(hspace=.5)"
   ]
  },
  {
   "cell_type": "code",
   "execution_count": null,
   "metadata": {},
   "outputs": [],
   "source": [
    "fig, axes = plt.subplots(nrows=2)\n",
    "axes[0].plot(proj_grad[\"vsc\"], color='m')\n",
    "axes[1].plot(vsc_active, color='g');\n",
    "\n",
    "axes[0].set_title(\"Screened Sinkhorn\")\n",
    "axes[1].set_title(\"Screened by randomization active sets\")\n",
    "plt.subplots_adjust(hspace=.5)"
   ]
  },
  {
   "cell_type": "code",
   "execution_count": null,
   "metadata": {},
   "outputs": [],
   "source": [
    "fig, axes = plt.subplots(nrows=2)\n",
    "axes[0].plot(u_star_C, color='r')\n",
    "axes[1].plot(usc_active, color='b');\n",
    "\n",
    "axes[0].set_title(\"Sinkhorn\")\n",
    "axes[1].set_title(\"Screened by randomization active sets\")\n",
    "plt.subplots_adjust(hspace=.5)"
   ]
  },
  {
   "cell_type": "code",
   "execution_count": null,
   "metadata": {},
   "outputs": [],
   "source": [
    "fig, axes = plt.subplots(nrows=2)\n",
    "axes[0].plot(v_star_C, color='g')\n",
    "axes[1].plot(vsc_active, color='m');\n",
    "\n",
    "axes[0].set_title(\"Sinkhorn\")\n",
    "axes[1].set_title(\"Screened by randomization active sets\")\n",
    "plt.subplots_adjust(hspace=.5)"
   ]
  },
  {
   "cell_type": "code",
   "execution_count": null,
   "metadata": {},
   "outputs": [],
   "source": []
  },
  {
   "cell_type": "code",
   "execution_count": null,
   "metadata": {},
   "outputs": [],
   "source": []
  },
  {
   "cell_type": "code",
   "execution_count": null,
   "metadata": {},
   "outputs": [],
   "source": [
    "plt.plot(u0)"
   ]
  },
  {
   "cell_type": "code",
   "execution_count": null,
   "metadata": {},
   "outputs": [],
   "source": [
    "u0"
   ]
  },
  {
   "cell_type": "code",
   "execution_count": null,
   "metadata": {},
   "outputs": [],
   "source": [
    "log_epsilon + 2."
   ]
  },
  {
   "cell_type": "code",
   "execution_count": null,
   "metadata": {},
   "outputs": [],
   "source": [
    "u0[I_test]"
   ]
  },
  {
   "cell_type": "code",
   "execution_count": null,
   "metadata": {},
   "outputs": [],
   "source": [
    "I_test = np.where(a >= epsilon**2 * K.sum(axis=1))[0].tolist()\n",
    "Ic_test = np.where(a < epsilon**2 * K.sum(axis=1))[0].tolist()\n",
    "\n",
    "J_test = np.where(b >= epsilon**2 * K.T.sum(axis=1))[0].tolist()\n",
    "Jc_test = np.where(b < epsilon**2 * K.T.sum(axis=1))[0].tolist()\n",
    "\n",
    "u0 = log_epsilon*np.ones(n_1)\n",
    "v0 = log_epsilon*np.ones(n_2)\n",
    "\n",
    "u0[I_test] = log_epsilon + 2.\n",
    "v0[J_test] = log_epsilon + 2.\n",
    "\n",
    "print(len(I_test), len(J_test))"
   ]
  },
  {
   "cell_type": "code",
   "execution_count": null,
   "metadata": {},
   "outputs": [],
   "source": []
  },
  {
   "cell_type": "code",
   "execution_count": null,
   "metadata": {},
   "outputs": [],
   "source": [
    "# solver = screenkhorn.block_acc_projected_grad\n",
    "\n",
    "# screenkhorn.projected_grad(np.zeros(n_1), np.zeros(n_2), I, J, max_iter_backtracking=30,\n",
    "                           # step_size=10., max_iter=1000, tol=1e-16, verbose=False)\n",
    "    \n",
    "# screenkhorn.block_projected_grad(np.zeros(n_1), np.zeros(n_2), I, J, max_iter_backtracking=30,\n",
    "                                 # step_size=8., max_iter=1000, tol=1e-10, verbose=False)\n",
    "\n",
    "# screenkhorn.acc_projected_grad(np.zeros(n_1), np.zeros(n_2), I, J, \n",
    "                                 # max_iter_backtracking=40,\n",
    "                                 # step_size=10., max_iter=1000, tol=1e-10, verbose=False)\n",
    "        \n",
    "block_sc = screenkhorn.block_acc_projected_grad(u0, v0, I_test, J_test, \n",
    "                                        max_iter_backtracking=50,\n",
    "                                        step_size=10., max_iter=1000, tol=1e-19, verbose=False)\n",
    "# from datetime import datetime\n",
    "# start_time = datetime.now()\n",
    "# sols_rand = screenkhorn.randomization(u0, v0, solver=solver, max_iter=1, tol_marg=1e-3, \n",
    "                                      # step_size_solver=10., max_iter_backtracking=70, max_iter_solver=1000)\n",
    "\n",
    "# print(datetime.now() - start_time)"
   ]
  },
  {
   "cell_type": "code",
   "execution_count": null,
   "metadata": {},
   "outputs": [],
   "source": [
    "plt.plot(block_sc[\"usc\"])\n",
    "plt.plot(u_star_C_screen)"
   ]
  },
  {
   "cell_type": "code",
   "execution_count": null,
   "metadata": {},
   "outputs": [],
   "source": [
    "plt.plot(v_star_C_screen)\n",
    "plt.plot(block_sc[\"vsc\"])"
   ]
  },
  {
   "cell_type": "code",
   "execution_count": null,
   "metadata": {},
   "outputs": [],
   "source": [
    "print(I_test, '\\n')\n",
    "print(block_sc[\"I_usc\"], '\\n')\n",
    "print(len(I_test), len(block_sc[\"I_usc\"]))"
   ]
  },
  {
   "cell_type": "code",
   "execution_count": null,
   "metadata": {},
   "outputs": [],
   "source": [
    "print(J_test, '\\n')\n",
    "print(block_sc[\"J_vsc\"], '\\n')\n",
    "print(len(J_test), len(block_sc[\"J_vsc\"]))"
   ]
  },
  {
   "cell_type": "code",
   "execution_count": null,
   "metadata": {},
   "outputs": [],
   "source": [
    "P_sink_sc = sinkhorn(a[I_test], b[J_test], M[np.ix_(I_test, J_test)], reg=reg, log=True)"
   ]
  },
  {
   "cell_type": "code",
   "execution_count": null,
   "metadata": {},
   "outputs": [],
   "source": [
    "P_star_sc = P_sink_sc[0]\n",
    "outputs_dict = P_sink_sc[1]\n",
    "exp_u_star_sc = outputs_dict['u']\n",
    "exp_v_star_sc = outputs_dict['v']"
   ]
  },
  {
   "cell_type": "code",
   "execution_count": null,
   "metadata": {},
   "outputs": [],
   "source": [
    "u_star_sc = np.log(exp_u_star_sc/1e84)\n",
    "\n",
    "v_star_sc = np.log(exp_v_star_sc*1e84)"
   ]
  },
  {
   "cell_type": "code",
   "execution_count": null,
   "metadata": {},
   "outputs": [],
   "source": [
    "uu = np.ones(n_1)\n",
    "uu[I_test] = u_star_sc \n",
    "uu[Ic_test] = log_epsilon\n",
    "\n",
    "vv = np.ones(n_2)\n",
    "vv[J_test] = v_star_sc \n",
    "vv[Jc_test] = log_epsilon"
   ]
  },
  {
   "cell_type": "code",
   "execution_count": null,
   "metadata": {},
   "outputs": [],
   "source": [
    "#plt.plot(uu)\n",
    "plt.plot(block_sc[\"usc\"])"
   ]
  },
  {
   "cell_type": "code",
   "execution_count": null,
   "metadata": {},
   "outputs": [],
   "source": [
    "plt.plot(abs(uu[I_test] - block_sc[\"usc\"][I_test]))"
   ]
  },
  {
   "cell_type": "code",
   "execution_count": null,
   "metadata": {},
   "outputs": [],
   "source": [
    "abs(block_sc[\"usc\"] - uu).max()"
   ]
  },
  {
   "cell_type": "code",
   "execution_count": null,
   "metadata": {},
   "outputs": [],
   "source": [
    "fig, axes = plt.subplots(nrows=2)\n",
    "axes[0].plot(uu, color='r')\n",
    "axes[0].plot(block_sc[\"usc\"], color='b');\n",
    "\n",
    "axes[0].set_title(\"Screened Sinkhorn\")\n",
    "axes[1].set_title(\"Screened by randomization active sets\")\n",
    "plt.subplots_adjust(hspace=.5)"
   ]
  },
  {
   "cell_type": "code",
   "execution_count": null,
   "metadata": {},
   "outputs": [],
   "source": []
  }
 ],
 "metadata": {
  "kernelspec": {
   "display_name": "Python 3",
   "language": "python",
   "name": "python3"
  },
  "language_info": {
   "codemirror_mode": {
    "name": "ipython",
    "version": 3
   },
   "file_extension": ".py",
   "mimetype": "text/x-python",
   "name": "python",
   "nbconvert_exporter": "python",
   "pygments_lexer": "ipython3",
   "version": "3.6.8"
  }
 },
 "nbformat": 4,
 "nbformat_minor": 2
}

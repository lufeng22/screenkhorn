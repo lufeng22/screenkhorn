{
 "cells": [
  {
   "cell_type": "markdown",
   "metadata": {},
   "source": [
    "## Goal:\n",
    "\n",
    "Here we test the functions: `lbfgsb` in the `Screenkhorn` class."
   ]
  },
  {
   "cell_type": "code",
   "execution_count": 1,
   "metadata": {},
   "outputs": [],
   "source": [
    "# NUMPY\n",
    "import numpy as np\n",
    "np.random.seed(3946)\n",
    "# MATPLOTLIB\n",
    "import matplotlib.pyplot as plt\n",
    "plt.style.context('dark_background')\n",
    "%matplotlib inline \n",
    "from matplotlib import rc\n",
    "rc('font', **{'family': 'sans-serif', 'sans-serif': ['Computer Modern Roman']})\n",
    "params = {'axes.labelsize': 8, # 12\n",
    "          'font.size': 8, # 12\n",
    "          'legend.fontsize': 8, # 12\n",
    "          'xtick.labelsize': 8, # 10\n",
    "          'ytick.labelsize': 8, # 10\n",
    "          'text.usetex': True,\n",
    "          'figure.figsize': (16, 6)}\n",
    "plt.rcParams.update(params)\n",
    "\n",
    "# SEABORN \n",
    "import seaborn as sns\n",
    "sns.set_context(\"poster\")\n",
    "sns.set_style(\"ticks\")\n",
    "\n",
    "# SKLEARN \n",
    "from sklearn.metrics import pairwise_distances\n",
    "\n",
    "# WARNINGS\n",
    "import warnings\n",
    "warnings.filterwarnings(\"ignore\", category=FutureWarning)\n",
    "\n",
    "# TIME\n",
    "from time import time \n",
    "\n",
    "# PATH \n",
    "import sys\n",
    "path_files = '/Users/mzalaya/PycharmProjects/OATMIL/oatmilrouen/'\n",
    "sys.path.insert(0, path_files) \n",
    "\n",
    "\n",
    "# POT\n",
    "import ot\n",
    "from ot import sinkhorn, emd\n",
    "\n",
    "# GREENKHORN \n",
    "from ot.bregman import greenkhorn\n",
    "\n",
    "# SCREENKHORN\n",
    "from screenkhorn.screenkhorn import Screenkhorn\n"
   ]
  },
  {
   "cell_type": "markdown",
   "metadata": {},
   "source": [
    "## Data generation"
   ]
  },
  {
   "cell_type": "code",
   "execution_count": 2,
   "metadata": {},
   "outputs": [],
   "source": [
    "n_1 = 200# nb samples\n",
    "n_2 = 100\n",
    "mu_s = np.array([0, 0])\n",
    "cov_s = np.array([[1, 0], [0, 1]])\n",
    "\n",
    "mu_t = np.array([4, 4])\n",
    "cov_t = np.array([[1, -.8], [-.8, 1]])\n",
    "\n",
    "xs = ot.datasets.make_2D_samples_gauss(n_1, mu_s, cov_s)\n",
    "xt = ot.datasets.make_2D_samples_gauss(n_2, mu_t, cov_t)\n",
    "\n",
    "a = np.ones((n_1,)) / n_1\n",
    "b = np.ones((n_2,)) / n_2  # uniform distribution on samples\n",
    "\n",
    "# loss matrix\n",
    "M = ot.dist(xs, xt)\n",
    "M /= M.max()\n",
    "reg = 0.7\n",
    "\n",
    "K = np.exp(-M/reg)"
   ]
  },
  {
   "cell_type": "markdown",
   "metadata": {},
   "source": [
    "## Sinkhorn "
   ]
  },
  {
   "cell_type": "code",
   "execution_count": 3,
   "metadata": {},
   "outputs": [
    {
     "name": "stdout",
     "output_type": "stream",
     "text": [
      "time of Sinkhorn algorithm is 0.55361008644104\n"
     ]
    }
   ],
   "source": [
    "tic = time()\n",
    "P_sink = sinkhorn(a, b, M, reg, log=True)\n",
    "P_star = P_sink[0]\n",
    "outputs_dict = P_sink[1]\n",
    "exp_u_star = outputs_dict['u']\n",
    "exp_v_star = outputs_dict['v']\n",
    "time_sink = time() - tic\n",
    "print(\"time of Sinkhorn algorithm is %s\" %time_sink)"
   ]
  },
  {
   "cell_type": "markdown",
   "metadata": {},
   "source": [
    "## Bounds of $\\varepsilon \\in (\\varepsilon_{\\min}, \\varepsilon_{\\max})$\n"
   ]
  },
  {
   "cell_type": "code",
   "execution_count": 4,
   "metadata": {},
   "outputs": [
    {
     "data": {
      "image/png": "[encoded data removed]",
      "text/plain": [
       "<Figure size 432x288 with 1 Axes>"
      ]
     },
     "metadata": {
      "needs_background": "light"
     },
     "output_type": "display_data"
    }
   ],
   "source": [
    "epsilons_a = np.sqrt(a / K.sum(axis=1))\n",
    "epsilons_a_sort = np.sort(epsilons_a)[::-1]\n",
    "epsilons_b = np.sqrt(b / K.T.sum(axis=1))\n",
    "epsilons_b_sort = np.sort(epsilons_b)[::-1]\n",
    "plt.plot(epsilons_a_sort, label=r'$\\varepsilon_i$')\n",
    "plt.plot(epsilons_b_sort, label=r'$\\varepsilon_j$')\n",
    "plt.legend();"
   ]
  },
  {
   "cell_type": "markdown",
   "metadata": {},
   "source": [
    "#### Choice of epsilon"
   ]
  },
  {
   "cell_type": "code",
   "execution_count": 5,
   "metadata": {},
   "outputs": [
    {
     "data": {
      "text/plain": [
       "(0.00020703963888274178, 0.00024809908952302636, 0.0003302179908035955)"
      ]
     },
     "execution_count": 5,
     "metadata": {},
     "output_type": "execute_result"
    }
   ],
   "source": [
    "epsilons_ab = np.sort(np.hstack([epsilons_a, epsilons_b]))[::-1]\n",
    "epsilon_mid = (max(epsilons_ab) - min(epsilons_ab))/3 + min(epsilons_ab)\n",
    "epsilon_min = min(epsilons_ab)\n",
    "epsilon_max = max(epsilons_ab)\n",
    "\n",
    "epsilon_min, epsilon_mid, epsilon_max"
   ]
  },
  {
   "cell_type": "markdown",
   "metadata": {},
   "source": [
    "#### Initial points and a priori active sets"
   ]
  },
  {
   "cell_type": "code",
   "execution_count": 6,
   "metadata": {},
   "outputs": [],
   "source": [
    "u0 = np.full(n_1, epsilon_min)\n",
    "v0 = np.full(n_2, epsilon_min)\n",
    "\n",
    "I_active = np.where(a >= epsilon_min**2 * K.sum(axis=1))[0].tolist()\n",
    "J_active = np.where(b >= epsilon_min**2 * K.T.sum(axis=1))[0].tolist()\n",
    "\n",
    "u0[I_active] = epsilon_min\n",
    "v0[J_active] = epsilon_min"
   ]
  },
  {
   "cell_type": "code",
   "execution_count": 7,
   "metadata": {},
   "outputs": [
    {
     "data": {
      "text/plain": [
       "(5000, 5000)"
      ]
     },
     "execution_count": 7,
     "metadata": {},
     "output_type": "execute_result"
    }
   ],
   "source": [
    "## Cardinals of I_active and J_active\n",
    "len(I_active), len(J_active)"
   ]
  },
  {
   "cell_type": "code",
   "execution_count": 8,
   "metadata": {},
   "outputs": [],
   "source": [
    "## Initialize Screenkhorn class\n",
    "screenkhorn = Screenkhorn(a, b, M, reg, epsilon_min)"
   ]
  },
  {
   "cell_type": "markdown",
   "metadata": {},
   "source": [
    "## L-BFGS-B"
   ]
  },
  {
   "cell_type": "code",
   "execution_count": 9,
   "metadata": {},
   "outputs": [
    {
     "name": "stdout",
     "output_type": "stream",
     "text": [
      "Certificate is achieved\n",
      "Time spending during the restricted Skinkhorn is 0.9272701740264893\n"
     ]
    },
    {
     "ename": "ValueError",
     "evalue": "length of x0 != length of bounds",
     "output_type": "error",
     "traceback": [
      "\u001b[0;31m---------------------------------------------------------------------------\u001b[0m",
      "\u001b[0;31mValueError\u001b[0m                                Traceback (most recent call last)",
      "\u001b[0;32m<ipython-input-9-d5df6c000b2e>\u001b[0m in \u001b[0;36m<module>\u001b[0;34m\u001b[0m\n\u001b[1;32m      3\u001b[0m \u001b[0;31m# v0 = res_sink['vsc']\u001b[0m\u001b[0;34m\u001b[0m\u001b[0;34m\u001b[0m\u001b[0;34m\u001b[0m\u001b[0m\n\u001b[1;32m      4\u001b[0m \u001b[0mtic\u001b[0m \u001b[0;34m=\u001b[0m \u001b[0mtime\u001b[0m\u001b[0;34m(\u001b[0m\u001b[0;34m)\u001b[0m\u001b[0;34m\u001b[0m\u001b[0;34m\u001b[0m\u001b[0m\n\u001b[0;32m----> 5\u001b[0;31m \u001b[0mlbfgsb\u001b[0m \u001b[0;34m=\u001b[0m \u001b[0mscreenkhorn\u001b[0m\u001b[0;34m.\u001b[0m\u001b[0mlbfgsb\u001b[0m\u001b[0;34m(\u001b[0m\u001b[0mu0\u001b[0m\u001b[0;34m,\u001b[0m \u001b[0mv0\u001b[0m\u001b[0;34m,\u001b[0m \u001b[0mI_active\u001b[0m\u001b[0;34m,\u001b[0m \u001b[0mJ_active\u001b[0m\u001b[0;34m)\u001b[0m\u001b[0;34m\u001b[0m\u001b[0;34m\u001b[0m\u001b[0m\n\u001b[0m\u001b[1;32m      6\u001b[0m \u001b[0mtoc_bfgs\u001b[0m \u001b[0;34m=\u001b[0m \u001b[0mtime\u001b[0m\u001b[0;34m(\u001b[0m\u001b[0;34m)\u001b[0m \u001b[0;34m-\u001b[0m \u001b[0mtic\u001b[0m\u001b[0;34m\u001b[0m\u001b[0;34m\u001b[0m\u001b[0m\n\u001b[1;32m      7\u001b[0m \u001b[0mtoc_bfgs\u001b[0m\u001b[0;34m\u001b[0m\u001b[0;34m\u001b[0m\u001b[0m\n",
      "\u001b[0;32m~/PycharmProjects/OATMIL/oatmilrouen/screenkhorn/screenkhorn.py\u001b[0m in \u001b[0;36mlbfgsb\u001b[0;34m(self, u0, v0, I, J)\u001b[0m\n\u001b[1;32m    839\u001b[0m                                       \u001b[0mmaxiter\u001b[0m\u001b[0;34m=\u001b[0m\u001b[0mmaxiter\u001b[0m\u001b[0;34m,\u001b[0m\u001b[0;34m\u001b[0m\u001b[0;34m\u001b[0m\u001b[0m\n\u001b[1;32m    840\u001b[0m                                       \u001b[0mdisp\u001b[0m\u001b[0;34m=\u001b[0m\u001b[0;32mNone\u001b[0m\u001b[0;34m,\u001b[0m\u001b[0;34m\u001b[0m\u001b[0;34m\u001b[0m\u001b[0m\n\u001b[0;32m--> 841\u001b[0;31m                                       \u001b[0mcallback\u001b[0m\u001b[0;34m=\u001b[0m\u001b[0;32mNone\u001b[0m\u001b[0;34m\u001b[0m\u001b[0;34m\u001b[0m\u001b[0m\n\u001b[0m\u001b[1;32m    842\u001b[0m                                       )\n\u001b[1;32m    843\u001b[0m \u001b[0;34m\u001b[0m\u001b[0m\n",
      "\u001b[0;32m~/anaconda3/lib/python3.6/site-packages/scipy/optimize/lbfgsb.py\u001b[0m in \u001b[0;36mfmin_l_bfgs_b\u001b[0;34m(func, x0, fprime, args, approx_grad, bounds, m, factr, pgtol, epsilon, iprint, maxfun, maxiter, disp, callback, maxls)\u001b[0m\n\u001b[1;32m    197\u001b[0m \u001b[0;34m\u001b[0m\u001b[0m\n\u001b[1;32m    198\u001b[0m     res = _minimize_lbfgsb(fun, x0, args=args, jac=jac, bounds=bounds,\n\u001b[0;32m--> 199\u001b[0;31m                            **opts)\n\u001b[0m\u001b[1;32m    200\u001b[0m     d = {'grad': res['jac'],\n\u001b[1;32m    201\u001b[0m          \u001b[0;34m'task'\u001b[0m\u001b[0;34m:\u001b[0m \u001b[0mres\u001b[0m\u001b[0;34m[\u001b[0m\u001b[0;34m'message'\u001b[0m\u001b[0;34m]\u001b[0m\u001b[0;34m,\u001b[0m\u001b[0;34m\u001b[0m\u001b[0;34m\u001b[0m\u001b[0m\n",
      "\u001b[0;32m~/anaconda3/lib/python3.6/site-packages/scipy/optimize/lbfgsb.py\u001b[0m in \u001b[0;36m_minimize_lbfgsb\u001b[0;34m(fun, x0, args, jac, bounds, disp, maxcor, ftol, gtol, eps, maxfun, maxiter, iprint, callback, maxls, **unknown_options)\u001b[0m\n\u001b[1;32m    265\u001b[0m         \u001b[0mbounds\u001b[0m \u001b[0;34m=\u001b[0m \u001b[0;34m[\u001b[0m\u001b[0;34m(\u001b[0m\u001b[0;32mNone\u001b[0m\u001b[0;34m,\u001b[0m \u001b[0;32mNone\u001b[0m\u001b[0;34m)\u001b[0m\u001b[0;34m]\u001b[0m \u001b[0;34m*\u001b[0m \u001b[0mn\u001b[0m\u001b[0;34m\u001b[0m\u001b[0;34m\u001b[0m\u001b[0m\n\u001b[1;32m    266\u001b[0m     \u001b[0;32mif\u001b[0m \u001b[0mlen\u001b[0m\u001b[0;34m(\u001b[0m\u001b[0mbounds\u001b[0m\u001b[0;34m)\u001b[0m \u001b[0;34m!=\u001b[0m \u001b[0mn\u001b[0m\u001b[0;34m:\u001b[0m\u001b[0;34m\u001b[0m\u001b[0;34m\u001b[0m\u001b[0m\n\u001b[0;32m--> 267\u001b[0;31m         \u001b[0;32mraise\u001b[0m \u001b[0mValueError\u001b[0m\u001b[0;34m(\u001b[0m\u001b[0;34m'length of x0 != length of bounds'\u001b[0m\u001b[0;34m)\u001b[0m\u001b[0;34m\u001b[0m\u001b[0;34m\u001b[0m\u001b[0m\n\u001b[0m\u001b[1;32m    268\u001b[0m     \u001b[0;31m# unbounded variables must use None, not +-inf, for optimizer to work properly\u001b[0m\u001b[0;34m\u001b[0m\u001b[0;34m\u001b[0m\u001b[0;34m\u001b[0m\u001b[0m\n\u001b[1;32m    269\u001b[0m     \u001b[0mbounds\u001b[0m \u001b[0;34m=\u001b[0m \u001b[0;34m[\u001b[0m\u001b[0;34m(\u001b[0m\u001b[0;32mNone\u001b[0m \u001b[0;32mif\u001b[0m \u001b[0ml\u001b[0m \u001b[0;34m==\u001b[0m \u001b[0;34m-\u001b[0m\u001b[0mnp\u001b[0m\u001b[0;34m.\u001b[0m\u001b[0minf\u001b[0m \u001b[0;32melse\u001b[0m \u001b[0ml\u001b[0m\u001b[0;34m,\u001b[0m \u001b[0;32mNone\u001b[0m \u001b[0;32mif\u001b[0m \u001b[0mu\u001b[0m \u001b[0;34m==\u001b[0m \u001b[0mnp\u001b[0m\u001b[0;34m.\u001b[0m\u001b[0minf\u001b[0m \u001b[0;32melse\u001b[0m \u001b[0mu\u001b[0m\u001b[0;34m)\u001b[0m \u001b[0;32mfor\u001b[0m \u001b[0ml\u001b[0m\u001b[0;34m,\u001b[0m \u001b[0mu\u001b[0m \u001b[0;32min\u001b[0m \u001b[0mbounds\u001b[0m\u001b[0;34m]\u001b[0m\u001b[0;34m\u001b[0m\u001b[0;34m\u001b[0m\u001b[0m\n",
      "\u001b[0;31mValueError\u001b[0m: length of x0 != length of bounds"
     ]
    }
   ],
   "source": [
    "# res_sink = screenkhorn.restricted_sinkhorn(u0, v0, I_active, J_active, max_iter=1000, tol=1e-9)\n",
    "# u0 = res_sink['usc']\n",
    "# v0 = res_sink['vsc']\n",
    "tic = time()\n",
    "lbfgsb = screenkhorn.lbfgsb(u0, v0, I_active, J_active)\n",
    "toc_bfgs = time() - tic\n",
    "toc_bfgs"
   ]
  },
  {
   "cell_type": "code",
   "execution_count": null,
   "metadata": {},
   "outputs": [],
   "source": [
    "time_sink, toc_bfgs, toc_bfgs / time_sink"
   ]
  },
  {
   "cell_type": "code",
   "execution_count": null,
   "metadata": {},
   "outputs": [],
   "source": [
    "plt.plot(exp_u_star)\n",
    "plt.plot(lbfgsb[0]/2)"
   ]
  },
  {
   "cell_type": "code",
   "execution_count": null,
   "metadata": {},
   "outputs": [],
   "source": [
    "plt.plot(exp_v_star)\n",
    "plt.plot(lbfgsb[1]*2)"
   ]
  },
  {
   "cell_type": "code",
   "execution_count": null,
   "metadata": {},
   "outputs": [],
   "source": [
    "# sinkhorn\n",
    "P_star = np.diag(exp_u_star) @ K @ np.diag(exp_v_star)\n",
    "a_star = P_star @ np.ones(n_2)\n",
    "b_star = P_star.T @ np.ones(n_1)\n",
    "\n",
    "# screenkhorn via lbfgsb\n",
    "usc_bfgs = lbfgsb[0]\n",
    "vsc_bfgs = lbfgsb[1]\n",
    "P_sc_bfgs = np.diag(usc_bfgs) @ K @ np.diag(vsc_bfgs)\n",
    "a_sc_bfgs = P_sc_bfgs @ np.ones(n_2)\n",
    "b_sc_bfgs = P_sc_bfgs.T @ np.ones(n_1)\n",
    "\n",
    "print(\"sum of the marginals in sinkhorn are: %s, \\t %s\" %(sum(a_star), sum(b_star)))\n",
    "print(\"\\t\")\n",
    "print(\"sum of the marginals in screenkhorn are: %s, \\t %s\" %(sum(a_sc_bfgs), sum(b_sc_bfgs)))\n",
    "print(\"\\t\")\n",
    "print(\"Difference in sinkhorn: %s \\t %s:\" %(abs(1 - sum(a_star)), abs(1 - sum(b_star))))\n",
    "print(\"\\t\")\n",
    "print(\"Difference in screenkhorn: %s \\t  %s:\" %(abs(1 - sum(a_sc_bfgs)), abs(1 - sum(b_sc_bfgs))))\n",
    "print(\"\\t\")\n",
    "print(\"Frobenius norm of difference solution matrices %s \" %np.linalg.norm(P_star - P_sc_bfgs,'fro'))\n",
    "print('\\t')\n",
    "print(\"Max norm of difference solution matrices %s \"  %abs(P_star - P_sc_bfgs).max())"
   ]
  },
  {
   "cell_type": "markdown",
   "metadata": {},
   "source": [
    "### Time for greenkhorn"
   ]
  },
  {
   "cell_type": "code",
   "execution_count": null,
   "metadata": {},
   "outputs": [],
   "source": [
    "tic = time()\n",
    "P = greenkhorn(a, b, M, reg, numItermax=100000, stopThr=1e-9, log=False)\n",
    "P\n",
    "time_green = time() - tic\n",
    "time_green, time_sink"
   ]
  },
  {
   "cell_type": "code",
   "execution_count": null,
   "metadata": {},
   "outputs": [],
   "source": [
    "X = np.random.normal(size=(5,8))\n",
    "X"
   ]
  },
  {
   "cell_type": "code",
   "execution_count": null,
   "metadata": {},
   "outputs": [],
   "source": [
    "X.min()"
   ]
  },
  {
   "cell_type": "code",
   "execution_count": null,
   "metadata": {},
   "outputs": [],
   "source": []
  }
 ],
 "metadata": {
  "kernelspec": {
   "display_name": "Python 3",
   "language": "python",
   "name": "python3"
  },
  "language_info": {
   "codemirror_mode": {
    "name": "ipython",
    "version": 3
   },
   "file_extension": ".py",
   "mimetype": "text/x-python",
   "name": "python",
   "nbconvert_exporter": "python",
   "pygments_lexer": "ipython3",
   "version": "3.6.8"
  }
 },
 "nbformat": 4,
 "nbformat_minor": 2
}

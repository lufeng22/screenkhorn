{
 "cells": [
  {
   "cell_type": "markdown",
   "metadata": {},
   "source": [
    "## Goal:\n",
    "\n",
    "Here we test the functions: `lbfgsb` in the `Screenkhorn` class."
   ]
  },
  {
   "cell_type": "code",
   "execution_count": 1,
   "metadata": {},
   "outputs": [],
   "source": [
    "# NUMPY\n",
    "import numpy as np\n",
    "np.random.seed(3946)\n",
    "# MATPLOTLIB\n",
    "import matplotlib.pyplot as plt\n",
    "plt.style.context('dark_background')\n",
    "%matplotlib inline \n",
    "from matplotlib import rc\n",
    "rc('font', **{'family': 'sans-serif', 'sans-serif': ['Computer Modern Roman']})\n",
    "params = {'axes.labelsize': 8, # 12\n",
    "          'font.size': 8, # 12\n",
    "          'legend.fontsize': 8, # 12\n",
    "          'xtick.labelsize': 8, # 10\n",
    "          'ytick.labelsize': 8, # 10\n",
    "          'text.usetex': True,\n",
    "          'figure.figsize': (16, 6)}\n",
    "plt.rcParams.update(params)\n",
    "\n",
    "# SEABORN \n",
    "import seaborn as sns\n",
    "sns.set_context(\"poster\")\n",
    "sns.set_style(\"ticks\")\n",
    "\n",
    "# SKLEARN \n",
    "from sklearn.metrics import pairwise_distances\n",
    "\n",
    "# WARNINGS\n",
    "import warnings\n",
    "warnings.filterwarnings(\"ignore\", category=FutureWarning)\n",
    "\n",
    "# TIME\n",
    "from time import time \n",
    "\n",
    "# PATH \n",
    "import sys\n",
    "path_files = '/Users/mzalaya/PycharmProjects/OATMIL/oatmilrouen/'\n",
    "sys.path.insert(0, path_files) \n",
    "\n",
    "\n",
    "# POT\n",
    "import ot\n",
    "from ot import sinkhorn, emd\n",
    "\n",
    "# GREENKHORN \n",
    "from ot.bregman import greenkhorn\n",
    "\n",
    "# SCREENKHORN\n",
    "from screenkhorn.screenkhorn import Screenkhorn\n"
   ]
  },
  {
   "cell_type": "markdown",
   "metadata": {},
   "source": [
    "## Data generation"
   ]
  },
  {
   "cell_type": "code",
   "execution_count": 2,
   "metadata": {},
   "outputs": [],
   "source": [
    "n_1 = 1000# nb samples\n",
    "n_2 = 1000\n",
    "mu_s = np.array([0, 0])\n",
    "cov_s = np.array([[1, 0], [0, 1]])\n",
    "\n",
    "mu_t = np.array([4, 4])\n",
    "cov_t = np.array([[1, -.8], [-.8, 1]])\n",
    "\n",
    "xs = ot.datasets.make_2D_samples_gauss(n_1, mu_s, cov_s)\n",
    "xt = ot.datasets.make_2D_samples_gauss(n_2, mu_t, cov_t)\n",
    "\n",
    "a = np.ones((n_1,)) / n_1\n",
    "b = np.ones((n_2,)) / n_2  # uniform distribution on samples\n",
    "\n",
    "# loss matrix\n",
    "M = ot.dist(xs, xt)\n",
    "M /= M.max()\n",
    "reg = 0.7\n",
    "\n",
    "K = np.exp(-M/reg)"
   ]
  },
  {
   "cell_type": "markdown",
   "metadata": {},
   "source": [
    "## Sinkhorn "
   ]
  },
  {
   "cell_type": "code",
   "execution_count": 3,
   "metadata": {},
   "outputs": [
    {
     "name": "stdout",
     "output_type": "stream",
     "text": [
      "time of Sinkhorn algorithm is 0.005647897720336914\n"
     ]
    }
   ],
   "source": [
    "tic = time()\n",
    "P_sink = sinkhorn(a, b, M, reg, log=True)\n",
    "P_star = P_sink[0]\n",
    "outputs_dict = P_sink[1]\n",
    "exp_u_star = outputs_dict['u']\n",
    "exp_v_star = outputs_dict['v']\n",
    "time_sink = time() - tic\n",
    "print(\"time of Sinkhorn algorithm is %s\" %time_sink)"
   ]
  },
  {
   "cell_type": "markdown",
   "metadata": {},
   "source": [
    "## Bounds of $\\varepsilon \\in (\\varepsilon_{\\min}, \\varepsilon_{\\max})$\n"
   ]
  },
  {
   "cell_type": "code",
   "execution_count": 4,
   "metadata": {},
   "outputs": [
    {
     "data": {
      "image/png": "[encoded data removed]",
      "text/plain": [
       "<Figure size 432x288 with 1 Axes>"
      ]
     },
     "metadata": {
      "needs_background": "light"
     },
     "output_type": "display_data"
    }
   ],
   "source": [
    "epsilons_a = np.sqrt(a / K.sum(axis=1))\n",
    "epsilons_a_sort = np.sort(epsilons_a)[::-1]\n",
    "epsilons_b = np.sqrt(b / K.T.sum(axis=1))\n",
    "epsilons_b_sort = np.sort(epsilons_b)[::-1]\n",
    "plt.plot(epsilons_a_sort, label=r'$\\varepsilon_i$')\n",
    "plt.plot(epsilons_b_sort, label=r'$\\varepsilon_j$')\n",
    "plt.legend();"
   ]
  },
  {
   "cell_type": "markdown",
   "metadata": {},
   "source": [
    "#### Choice of epsilon"
   ]
  },
  {
   "cell_type": "code",
   "execution_count": 5,
   "metadata": {},
   "outputs": [
    {
     "data": {
      "text/plain": [
       "(0.0077363558566791715, 0.009146497668440971, 0.011966781291964568)"
      ]
     },
     "execution_count": 5,
     "metadata": {},
     "output_type": "execute_result"
    }
   ],
   "source": [
    "epsilons_ab = np.sort(np.hstack([epsilons_a, epsilons_b]))[::-1]\n",
    "epsilon_mid = (max(epsilons_ab) - min(epsilons_ab))/3 + min(epsilons_ab)\n",
    "epsilon_min = min(epsilons_ab)\n",
    "epsilon_max = max(epsilons_ab)\n",
    "\n",
    "epsilon_min, epsilon_mid, epsilon_max"
   ]
  },
  {
   "cell_type": "markdown",
   "metadata": {},
   "source": [
    "#### Initial points and a priori active sets"
   ]
  },
  {
   "cell_type": "code",
   "execution_count": 6,
   "metadata": {},
   "outputs": [],
   "source": [
    "u0 = np.full(n_1, epsilon_min)\n",
    "v0 = np.full(n_2, epsilon_min)\n",
    "\n",
    "I_active = np.where(a >= epsilon_min**2 * K.sum(axis=1))[0].tolist()\n",
    "J_active = np.where(b >= epsilon_min**2 * K.T.sum(axis=1))[0].tolist()\n",
    "\n",
    "u0[I_active] = epsilon_min\n",
    "v0[J_active] = epsilon_min"
   ]
  },
  {
   "cell_type": "code",
   "execution_count": 7,
   "metadata": {},
   "outputs": [
    {
     "data": {
      "text/plain": [
       "(200, 100)"
      ]
     },
     "execution_count": 7,
     "metadata": {},
     "output_type": "execute_result"
    }
   ],
   "source": [
    "## Cardinals of I_active and J_active\n",
    "len(I_active), len(J_active)"
   ]
  },
  {
   "cell_type": "code",
   "execution_count": 8,
   "metadata": {},
   "outputs": [],
   "source": [
    "## Initialize Screenkhorn class\n",
    "screenkhorn = Screenkhorn(a, b, M, reg, epsilon_min)"
   ]
  },
  {
   "cell_type": "markdown",
   "metadata": {},
   "source": [
    "## L-BFGS-B"
   ]
  },
  {
   "cell_type": "code",
   "execution_count": 9,
   "metadata": {},
   "outputs": [
    {
     "data": {
      "text/plain": [
       "0.04649019241333008"
      ]
     },
     "execution_count": 9,
     "metadata": {},
     "output_type": "execute_result"
    }
   ],
   "source": [
    "# res_sink = screenkhorn.restricted_sinkhorn(u0, v0, I_active, J_active, max_iter=1000, tol=1e-9)\n",
    "# u0 = res_sink['usc']\n",
    "# v0 = res_sink['vsc']\n",
    "tic = time()\n",
    "lbfgsb = screenkhorn.lbfgsb(u0, v0, I_active, J_active)\n",
    "toc_bfgs = time() - tic\n",
    "toc_bfgs"
   ]
  },
  {
   "cell_type": "code",
   "execution_count": 10,
   "metadata": {},
   "outputs": [
    {
     "data": {
      "text/plain": [
       "(0.005647897720336914, 0.04649019241333008, 8.231415424880746)"
      ]
     },
     "execution_count": 10,
     "metadata": {},
     "output_type": "execute_result"
    }
   ],
   "source": [
    "time_sink, toc_bfgs, toc_bfgs / time_sink"
   ]
  },
  {
   "cell_type": "code",
   "execution_count": 11,
   "metadata": {},
   "outputs": [
    {
     "data": {
      "text/plain": [
       "[<matplotlib.lines.Line2D at 0x1a2384b748>]"
      ]
     },
     "execution_count": 11,
     "metadata": {},
     "output_type": "execute_result"
    },
    {
     "data": {
      "image/png": "[encoded data removed]",
      "text/plain": [
       "<Figure size 432x288 with 1 Axes>"
      ]
     },
     "metadata": {
      "needs_background": "light"
     },
     "output_type": "display_data"
    }
   ],
   "source": [
    "plt.plot(exp_u_star)\n",
    "plt.plot(lbfgsb[0]/2)"
   ]
  },
  {
   "cell_type": "code",
   "execution_count": 12,
   "metadata": {},
   "outputs": [
    {
     "ename": "SyntaxError",
     "evalue": "invalid syntax (<ipython-input-12-3e7a95910e88>, line 3)",
     "output_type": "error",
     "traceback": [
      "\u001b[0;36m  File \u001b[0;32m\"<ipython-input-12-3e7a95910e88>\"\u001b[0;36m, line \u001b[0;32m3\u001b[0m\n\u001b[0;31m    In [11]:\u001b[0m\n\u001b[0m            ^\u001b[0m\n\u001b[0;31mSyntaxError\u001b[0m\u001b[0;31m:\u001b[0m invalid syntax\n"
     ]
    }
   ],
   "source": [
    "# (0.026202917098999023, 0.6384191513061523, 24.364430452307943) without restricted sinkhorn inside LBFGS\n",
    "\n",
    "In [11]:\n"
   ]
  },
  {
   "cell_type": "code",
   "execution_count": null,
   "metadata": {},
   "outputs": [],
   "source": [
    "plt.plot(exp_v_star)\n",
    "plt.plot(lbfgsb[1]*2)"
   ]
  },
  {
   "cell_type": "code",
   "execution_count": null,
   "metadata": {},
   "outputs": [],
   "source": [
    "# sinkhorn\n",
    "P_star = np.diag(exp_u_star) @ K @ np.diag(exp_v_star)\n",
    "a_star = P_star @ np.ones(n_2)\n",
    "b_star = P_star.T @ np.ones(n_1)\n",
    "\n",
    "# screenkhorn via lbfgsb\n",
    "usc_bfgs = lbfgsb[0]\n",
    "vsc_bfgs = lbfgsb[1]\n",
    "P_sc_bfgs = np.diag(usc_bfgs) @ K @ np.diag(vsc_bfgs)\n",
    "a_sc_bfgs = P_sc_bfgs @ np.ones(n_2)\n",
    "b_sc_bfgs = P_sc_bfgs.T @ np.ones(n_1)\n",
    "\n",
    "print(\"sum of the marginals in sinkhorn are: %s, \\t %s\" %(sum(a_star), sum(b_star)))\n",
    "print(\"\\t\")\n",
    "print(\"sum of the marginals in screenkhorn are: %s, \\t %s\" %(sum(a_sc_bfgs), sum(b_sc_bfgs)))\n",
    "print(\"\\t\")\n",
    "print(\"Difference in sinkhorn: %s \\t %s:\" %(abs(1 - sum(a_star)), abs(1 - sum(b_star))))\n",
    "print(\"\\t\")\n",
    "print(\"Difference in screenkhorn: %s \\t  %s:\" %(abs(1 - sum(a_sc_bfgs)), abs(1 - sum(b_sc_bfgs))))\n",
    "print(\"\\t\")\n",
    "print(\"Frobenius norm of difference solution matrices %s \" %np.linalg.norm(P_star - P_sc_bfgs,'fro'))\n",
    "print('\\t')\n",
    "print(\"Max norm of difference solution matrices %s \"  %abs(P_star - P_sc_bfgs).max())"
   ]
  },
  {
   "cell_type": "markdown",
   "metadata": {},
   "source": [
    "### Time for greenkhorn"
   ]
  },
  {
   "cell_type": "code",
   "execution_count": null,
   "metadata": {},
   "outputs": [],
   "source": [
    "tic = time()\n",
    "P = greenkhorn(a, b, M, reg, numItermax=10000, stopThr=1e-9, log=False)\n",
    "P\n",
    "time_green = time() - tic\n",
    "time_green, time_sink"
   ]
  },
  {
   "cell_type": "code",
   "execution_count": null,
   "metadata": {},
   "outputs": [],
   "source": []
  }
 ],
 "metadata": {
  "kernelspec": {
   "display_name": "Python 3",
   "language": "python",
   "name": "python3"
  },
  "language_info": {
   "codemirror_mode": {
    "name": "ipython",
    "version": 3
   },
   "file_extension": ".py",
   "mimetype": "text/x-python",
   "name": "python",
   "nbconvert_exporter": "python",
   "pygments_lexer": "ipython3",
   "version": "3.6.8"
  }
 },
 "nbformat": 4,
 "nbformat_minor": 2
}

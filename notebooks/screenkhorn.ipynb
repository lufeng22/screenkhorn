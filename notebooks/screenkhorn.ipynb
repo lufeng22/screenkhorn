{
 "cells": [
  {
   "cell_type": "code",
   "execution_count": 1,
   "metadata": {},
   "outputs": [],
   "source": [
    "# NUMPY\n",
    "import numpy as np\n",
    "\n",
    "# MATPLOTLIB\n",
    "import matplotlib.pyplot as plt\n",
    "%matplotlib inline \n",
    "from matplotlib import rc\n",
    "rc('font', **{'family': 'sans-serif', 'sans-serif': ['Computer Modern Roman']})\n",
    "params = {'axes.labelsize': 8, # 12\n",
    "          'font.size': 8, # 12\n",
    "          'legend.fontsize': 8, # 12\n",
    "          'xtick.labelsize': 8, # 10\n",
    "          'ytick.labelsize': 8, # 10\n",
    "          'text.usetex': True,\n",
    "          'figure.figsize': (16, 6)}\n",
    "plt.rcParams.update(params)\n",
    "\n",
    "# SEABORN \n",
    "import seaborn as sns\n",
    "sns.set_context(\"poster\")\n",
    "sns.set_style(\"ticks\")\n",
    "\n",
    "# SKLEARN \n",
    "from sklearn.metrics import pairwise_distances\n",
    "\n",
    "# POT\n",
    "import ot\n",
    "from ot import sinkhorn, emd\n",
    "# from ot.bregman import sinkhorn, greenkhorn\n",
    "\n",
    "# PATH \n",
    "import sys\n",
    "path_files = '/Users/mzalaya/PycharmProjects/OATMIL/oatmilrouen/'\n",
    "sys.path.insert(0, path_files) \n",
    "\n",
    "# GREENKHORN \n",
    "# from greenkhorn.sinkhorn import sinkhorn as sinkhgreen\n",
    "# SCREENKHORN\n",
    "from screenkhorn.screenkhorn import Screenkhorn\n",
    "# np.random.seed(3946)\n",
    "\n",
    "import warnings\n",
    "warnings.filterwarnings(\"ignore\", category=FutureWarning)"
   ]
  },
  {
   "cell_type": "markdown",
   "metadata": {},
   "source": [
    "## Data generation"
   ]
  },
  {
   "cell_type": "code",
   "execution_count": 2,
   "metadata": {},
   "outputs": [],
   "source": [
    "n_1 = 100# nb samples\n",
    "n_2 = 100\n",
    "mu_s = np.array([0, 0])\n",
    "cov_s = np.array([[1, 0], [0, 1]])\n",
    "\n",
    "mu_t = np.array([4, 4])\n",
    "cov_t = np.array([[1, -.8], [-.8, 1]])\n",
    "\n",
    "xs = ot.datasets.make_2D_samples_gauss(n_1, mu_s, cov_s)\n",
    "xt = ot.datasets.make_2D_samples_gauss(n_2, mu_t, cov_t)\n",
    "\n",
    "a = np.ones((n_1,)) / n_1\n",
    "b = np.ones((n_2,)) / n_2  # uniform distribution on samples\n",
    "\n",
    "# loss matrix\n",
    "M = ot.dist(xs, xt)\n",
    "M /= M.max()\n",
    "reg = 0.01"
   ]
  },
  {
   "cell_type": "code",
   "execution_count": 3,
   "metadata": {},
   "outputs": [],
   "source": [
    "# EMD = emd(a, b, M, numItermax=100000, log=True)\n",
    "# EMD"
   ]
  },
  {
   "cell_type": "code",
   "execution_count": 4,
   "metadata": {},
   "outputs": [
    {
     "data": {
      "image/png": "[encoded data removed]",
      "text/plain": [
       "<Figure size 432x288 with 2 Axes>"
      ]
     },
     "metadata": {
      "needs_background": "light"
     },
     "output_type": "display_data"
    }
   ],
   "source": [
    "cb_padding = 0.005\n",
    "fig, ax = plt.subplots(ncols=1) #, figsize=(20,20))\n",
    "I1 = ax.matshow(np.exp(-M.T/reg))\n",
    "ax.set_title(r'$\\mathbf{C}:$ Cost matrix ')\n",
    "ax.axis('off')\n",
    "fig.colorbar(I1, ax=ax, pad=cb_padding, orientation=\"vertical\")\n",
    "ax.label_outer()"
   ]
  },
  {
   "cell_type": "markdown",
   "metadata": {},
   "source": [
    "## Greenkhorn from POT"
   ]
  },
  {
   "cell_type": "code",
   "execution_count": 5,
   "metadata": {},
   "outputs": [],
   "source": [
    "# P_green = greenkhorn(a, b, M, reg, numItermax=1000, stopThr=1e-09, verbose=False, log=False)\n",
    "# P_green"
   ]
  },
  {
   "cell_type": "markdown",
   "metadata": {},
   "source": [
    "## Greenkhorn from Altshuler et al"
   ]
  },
  {
   "cell_type": "code",
   "execution_count": 6,
   "metadata": {},
   "outputs": [],
   "source": [
    "# P_green, _, _ = sinkhgreen(M, a, b, False, M, max_iter=1000)\n",
    "# (A, r, c, compute_otvals, C, max_iter):\n",
    "# P_green"
   ]
  },
  {
   "cell_type": "markdown",
   "metadata": {},
   "source": [
    "## Sinkhorn's algorithm from POT"
   ]
  },
  {
   "cell_type": "code",
   "execution_count": 7,
   "metadata": {},
   "outputs": [],
   "source": [
    "P_sink = sinkhorn(a, b, M, reg, log=True)"
   ]
  },
  {
   "cell_type": "code",
   "execution_count": 8,
   "metadata": {},
   "outputs": [],
   "source": [
    "# Print P^star, u_sink = e^{u^star}, v_sink = e^{v^star}\n",
    "P_star = P_sink[0]\n",
    "outputs_dict = P_sink[1]\n",
    "exp_u_star = outputs_dict['u']\n",
    "exp_v_star = outputs_dict['v']"
   ]
  },
  {
   "cell_type": "code",
   "execution_count": 9,
   "metadata": {},
   "outputs": [
    {
     "data": {
      "text/plain": [
       "((100,), (100, 100), (100,))"
      ]
     },
     "execution_count": 9,
     "metadata": {},
     "output_type": "execute_result"
    }
   ],
   "source": [
    "exp_u_star.shape, P_star.shape, exp_v_star.shape"
   ]
  },
  {
   "cell_type": "markdown",
   "metadata": {},
   "source": [
    "## Direct Implementation of Sinkhorn"
   ]
  },
  {
   "cell_type": "code",
   "execution_count": 10,
   "metadata": {},
   "outputs": [],
   "source": [
    "def sinkhorn_direct(a, b, M, reg, max_iter=5000):\n",
    "    (n, m) = M.shape\n",
    "    u_k = np.ones(n)\n",
    "    v_k = np.ones(m)\n",
    "    max_iter = 1001\n",
    "    K = np.exp(-M/reg)\n",
    "    for k in range(max_iter):\n",
    "        u_k = np.divide(a, K @ v_k)\n",
    "        v_k = np.divide(b, K.T @ u_k)\n",
    "        P_k = (np.diag(u_k) @ K) @ np.diag(v_k) # .reshape(-1)\n",
    "        sinkhorn_distance = np.sqrt(sum(sum(np.multiply(P_k, K))))\n",
    "        return P_k, u_k, v_k, sinkhorn_distance"
   ]
  },
  {
   "cell_type": "code",
   "execution_count": 11,
   "metadata": {},
   "outputs": [],
   "source": [
    "# P_direct = sinkhorn_direct(mu, nu, C, eta, max_iter=5001)\n",
    "P_direct, u_direct, v_direct, sinkhorn_distance = sinkhorn_direct(a, b, M, reg, max_iter=1000)"
   ]
  },
  {
   "cell_type": "code",
   "execution_count": 12,
   "metadata": {},
   "outputs": [
    {
     "data": {
      "text/plain": [
       "((100,), (100, 100), (100,), 0.002220239572212681)"
      ]
     },
     "execution_count": 12,
     "metadata": {},
     "output_type": "execute_result"
    }
   ],
   "source": [
    "u_direct.shape, P_direct.shape, v_direct.shape, sinkhorn_distance"
   ]
  },
  {
   "cell_type": "markdown",
   "metadata": {},
   "source": [
    "## Some plots to get the difference between $P^\\star$ from the POT and direct implementation"
   ]
  },
  {
   "cell_type": "code",
   "execution_count": 13,
   "metadata": {},
   "outputs": [
    {
     "data": {
      "image/png": "[encoded data removed]",
      "text/plain": [
       "<Figure size 1440x1440 with 6 Axes>"
      ]
     },
     "metadata": {
      "needs_background": "light"
     },
     "output_type": "display_data"
    }
   ],
   "source": [
    "cb_padding = 0.005\n",
    "fig, (ax1, ax2, ax3) = plt.subplots(ncols=3, figsize=(20,20))\n",
    "I1 = ax1.matshow(np.divide(P_direct.T, P_direct.max()))\n",
    "ax1.set_title(r'$P^\\star$ from direct implementation')\n",
    "ax1.axis('off')\n",
    "fig.colorbar(I1, ax=ax1, pad=cb_padding, orientation=\"horizontal\")\n",
    "ax1.label_outer()\n",
    "## \n",
    "I2 = ax2.matshow(np.divide(P_star.T, P_star.max()))\n",
    "ax2.set_title(r'$P^\\star$ from POT');\n",
    "# ax2.label_outer()\n",
    "ax2.axis('off')\n",
    "fig.colorbar(I2, ax=ax2, pad=cb_padding, orientation=\"horizontal\")\n",
    "# \n",
    "I3 = ax3.matshow(np.divide(np.abs(P_direct.T - P_star.T) , np.abs(P_direct.T - P_star.T).max()))\n",
    "ax3.set_title('Difference');\n",
    "# ax3.label_outer()\n",
    "ax3.axis('off');\n",
    "fig.colorbar(I3, ax=ax3, pad=cb_padding, orientation=\"horizontal\")\n",
    "plt.subplots_adjust(hspace=1)"
   ]
  },
  {
   "cell_type": "markdown",
   "metadata": {},
   "source": [
    "## Screenkhorn"
   ]
  },
  {
   "cell_type": "code",
   "execution_count": 14,
   "metadata": {},
   "outputs": [],
   "source": [
    "# Initialization\n",
    "# epsilon = 1e-19\n",
    "epsilon = 0.\n",
    "screenkhorn = Screenkhorn(a, b, M, reg, epsilon)"
   ]
  },
  {
   "cell_type": "markdown",
   "metadata": {},
   "source": [
    "### Plots of $e^{u^\\star}$ and $e^{v^\\star}$ from POT"
   ]
  },
  {
   "cell_type": "code",
   "execution_count": 15,
   "metadata": {},
   "outputs": [
    {
     "data": {
      "image/png": "[encoded data removed]",
      "text/plain": [
       "<Figure size 432x288 with 1 Axes>"
      ]
     },
     "metadata": {
      "needs_background": "light"
     },
     "output_type": "display_data"
    }
   ],
   "source": [
    "#plt.yscale('log')\n",
    "plt.plot(exp_u_star, linewidth=2, label=r'$e^{u^\\star}$');\n",
    "plt.legend();"
   ]
  },
  {
   "cell_type": "code",
   "execution_count": 16,
   "metadata": {},
   "outputs": [
    {
     "data": {
      "image/png": "[encoded data removed]",
      "text/plain": [
       "<Figure size 432x288 with 1 Axes>"
      ]
     },
     "metadata": {
      "needs_background": "light"
     },
     "output_type": "display_data"
    }
   ],
   "source": [
    "plt.yscale('log')\n",
    "plt.plot(exp_v_star, linewidth=2, color='orange', label=r'$e^{v^\\star}$');\n",
    "plt.legend();"
   ]
  },
  {
   "cell_type": "code",
   "execution_count": 17,
   "metadata": {},
   "outputs": [
    {
     "data": {
      "image/png": "[encoded data removed]",
      "text/plain": [
       "<Figure size 432x288 with 1 Axes>"
      ]
     },
     "metadata": {
      "needs_background": "light"
     },
     "output_type": "display_data"
    }
   ],
   "source": [
    "# plt.yscale('log')\n",
    "plt.plot(exp_u_star, linewidth=2, label=r'$e^{u^\\star}$')\n",
    "plt.plot(exp_v_star, linewidth=2, label=r'$e^{v^\\star}$') \n",
    "plt.axhline(y= epsilon, linewidth=2, color='r', label=r'$\\varepsilon$')\n",
    "plt.legend();"
   ]
  },
  {
   "cell_type": "markdown",
   "metadata": {},
   "source": [
    "### $\\ell_2$-norm of $e^{u^\\star}$ and $e^{v^\\star}$"
   ]
  },
  {
   "cell_type": "code",
   "execution_count": 18,
   "metadata": {},
   "outputs": [
    {
     "data": {
      "text/plain": [
       "(9.211678514905526e+20, '---------', 1523739232462.892, 604544289.3805557)"
      ]
     },
     "execution_count": 18,
     "metadata": {},
     "output_type": "execute_result"
    }
   ],
   "source": [
    "norm2exp_u_star = np.linalg.norm(exp_u_star)\n",
    "norm2exp_v_star  = np.linalg.norm(exp_v_star)\n",
    "norm2exp_u_star, \"---------\", norm2exp_v_star , norm2exp_u_star / norm2exp_v_star"
   ]
  },
  {
   "cell_type": "markdown",
   "metadata": {},
   "source": [
    "### Plots of $u^\\star$ and $v^\\star$"
   ]
  },
  {
   "cell_type": "code",
   "execution_count": 19,
   "metadata": {},
   "outputs": [],
   "source": [
    "u_star = np.log(exp_u_star)\n",
    "v_star = np.log(exp_v_star)\n",
    "\n",
    "# plt.plot(u_star , linewidth=2, label=r'${u^\\star}$')\n",
    "# plt.plot(v_star , linewidth=2, label=r'${v^\\star}$') \n",
    "# plt.axhline(y =np.log(epsilon), linewidth=2, color='r', label=r'$\\log(\\varepsilon)$')\n",
    "# plt.legend(loc='best');"
   ]
  },
  {
   "cell_type": "markdown",
   "metadata": {},
   "source": [
    "### Choosing of the intervals $I_u$ and $J_u$"
   ]
  },
  {
   "cell_type": "code",
   "execution_count": 20,
   "metadata": {},
   "outputs": [],
   "source": [
    "I = np.where(exp_u_star >= epsilon)[0].tolist()\n",
    "#Ic = np.where(exp_v_star < epsilon)[0].tolist()\n",
    "#len(I), len(Ic)\n",
    "#Ic"
   ]
  },
  {
   "cell_type": "code",
   "execution_count": 21,
   "metadata": {},
   "outputs": [],
   "source": [
    "J = np.where(exp_v_star >= epsilon)[0].tolist()\n",
    "#Jc = np.where(exp_v_star < epsilon)[0].tolist()\n",
    "#len(J), len(Jc)"
   ]
  },
  {
   "cell_type": "code",
   "execution_count": 22,
   "metadata": {},
   "outputs": [],
   "source": [
    "# Objective function\n",
    "# obj = screenkhorn.objective(u_star, v_star, I, J)\n",
    "# obj"
   ]
  },
  {
   "cell_type": "code",
   "execution_count": 23,
   "metadata": {},
   "outputs": [],
   "source": [
    "# grad = screenkhorn.grad_objective(u_star, v_star, I, J)\n",
    "# grad[0], grad[1]"
   ]
  },
  {
   "cell_type": "markdown",
   "metadata": {},
   "source": [
    "### `screenkhorn = Screening Sinkhorn` potentials vectors by Projected Gradient Descent algorithm"
   ]
  },
  {
   "cell_type": "code",
   "execution_count": 24,
   "metadata": {},
   "outputs": [
    {
     "name": "stderr",
     "output_type": "stream",
     "text": [
      "/Users/mzalaya/PycharmProjects/OATMIL/oatmilrouen/screenkhorn/screenkhorn.py:180: RuntimeWarning: divide by zero encountered in log\n",
      "  u_sc[Ic] = np.array([np.log(self.epsilon)] * len(Ic))\n",
      "/Users/mzalaya/PycharmProjects/OATMIL/oatmilrouen/screenkhorn/screenkhorn.py:181: RuntimeWarning: divide by zero encountered in log\n",
      "  v_sc[Jc] = np.array([np.log(self.epsilon)] * len(Jc))\n",
      "/Users/mzalaya/PycharmProjects/OATMIL/oatmilrouen/screenkhorn/screenkhorn.py:81: RuntimeWarning: divide by zero encountered in log\n",
      "  u_param_Ic = np.array([np.log(self.epsilon)] * card_Ic)\n",
      "/Users/mzalaya/PycharmProjects/OATMIL/oatmilrouen/screenkhorn/screenkhorn.py:82: RuntimeWarning: divide by zero encountered in log\n",
      "  v_param_Jc =  np.array([np.log(self.epsilon)] * card_Jc)\n",
      "100%|██████████| 10000/10000 [00:38<00:00, 257.32it/s]"
     ]
    },
    {
     "name": "stdout",
     "output_type": "stream",
     "text": [
      "Total time taken:  76.882447\n",
      "counting cp in the bachtrack loop:  58298\n"
     ]
    },
    {
     "name": "stderr",
     "output_type": "stream",
     "text": [
      "\n"
     ]
    }
   ],
   "source": [
    "proj_grad = screenkhorn.projected_grad(I, J, max_iter=10000, tol=1e-19, verbose=False)\n",
    "# proj_grad"
   ]
  },
  {
   "cell_type": "markdown",
   "metadata": {},
   "source": [
    "### Curve of the objective function"
   ]
  },
  {
   "cell_type": "code",
   "execution_count": 25,
   "metadata": {},
   "outputs": [
    {
     "data": {
      "image/png": "[encoded data removed]",
      "text/plain": [
       "<Figure size 432x288 with 1 Axes>"
      ]
     },
     "metadata": {
      "needs_background": "light"
     },
     "output_type": "display_data"
    }
   ],
   "source": [
    "obj = list(proj_grad[2].values())\n",
    "\n",
    "obj = np.asarray(obj)\n",
    "obj = obj.T\n",
    "obj.shape = (len(obj,))\n",
    "plt.plot(obj);"
   ]
  },
  {
   "cell_type": "code",
   "execution_count": 26,
   "metadata": {},
   "outputs": [
    {
     "data": {
      "text/plain": [
       "-25.492803652896256"
      ]
     },
     "execution_count": 26,
     "metadata": {},
     "output_type": "execute_result"
    }
   ],
   "source": [
    "obj[-1]"
   ]
  },
  {
   "cell_type": "markdown",
   "metadata": {},
   "source": [
    "### Sort of the solution by `screenkhorn` $e^{u_\\text{sc}}$"
   ]
  },
  {
   "cell_type": "code",
   "execution_count": 27,
   "metadata": {},
   "outputs": [],
   "source": [
    "# proj_grad[2]"
   ]
  },
  {
   "cell_type": "code",
   "execution_count": 28,
   "metadata": {},
   "outputs": [
    {
     "data": {
      "text/plain": [
       "((100,),\n",
       " array([ 3.85526053, 16.61132663, -4.39609786,  9.51573032, 10.69161915]))"
      ]
     },
     "execution_count": 28,
     "metadata": {},
     "output_type": "execute_result"
    }
   ],
   "source": [
    "v_star.shape, proj_grad[0][:5]"
   ]
  },
  {
   "cell_type": "code",
   "execution_count": 29,
   "metadata": {},
   "outputs": [
    {
     "data": {
      "image/png": "[encoded data removed]",
      "text/plain": [
       "<Figure size 432x288 with 1 Axes>"
      ]
     },
     "metadata": {
      "needs_background": "light"
     },
     "output_type": "display_data"
    }
   ],
   "source": [
    "plt.plot(np.sort(u_star), 'blue', linewidth=2, label =r'${u^\\star}$')\n",
    "plt.plot(np.sort(proj_grad[0]), 'orange', linewidth=2, label =r'${u^{{sc}}}$')\n",
    "plt.plot(np.sort(v_star), 'magenta', linewidth=2, label =r'${v^\\star}$')\n",
    "plt.plot(np.sort(proj_grad[1]), 'purple', linewidth=2, label =r'${v^{{sc}}}$')\n",
    "# plt.axhline(y =np.log(epsilon), linewidth=, color='r', label=r'$\\log(\\varepsilon)$');\n",
    "plt.legend(loc='best');\n",
    "plt.title(r'log-potentials vectors of sinkhorn and screenkhorn with ${maxIter}=10000,\\,tol=1e-19$')\n",
    "plt.savefig(r'Potentials vectors of sinkhorn and screenkhorn.pdf', bbox_inches='tight')\n",
    "plt.show();"
   ]
  },
  {
   "cell_type": "code",
   "execution_count": 30,
   "metadata": {},
   "outputs": [],
   "source": [
    "# plt.plot(np.sort(u_star), 'blue', linewidth=2, label =r'${u^\\star}$')\n",
    "# plt.plot(np.sort(proj_grad[0]), 'orange', linewidth=2, label =r'${u^{{sc}}}$')\n",
    "# plt.plot(np.sort(v_star), 'magenta', linewidth=2, label =r'${v^\\star}$')\n",
    "# plt.plot(np.sort(proj_grad[1]), 'purple', linewidth=2, label =r'${v^{{sc}}}$')\n",
    "# plt.axhline(y =np.log(epsilon), linewidth=, color='r', label=r'$\\log(\\varepsilon)$');\n",
    "# plt.legend();"
   ]
  },
  {
   "cell_type": "markdown",
   "metadata": {},
   "source": [
    "## Verification of $$e^{{u_\\text{sc}}_{I_u}} = \\log(\\varepsilon)$$"
   ]
  },
  {
   "cell_type": "code",
   "execution_count": 31,
   "metadata": {},
   "outputs": [],
   "source": [
    "# x[Ic] == np.log(epsilon)"
   ]
  },
  {
   "cell_type": "markdown",
   "metadata": {},
   "source": [
    "## Estimated marginals \n",
    "\n",
    "$$ P^{sc} = \\Delta(e^{u_{sc}}) K \\Delta(e^{v_{sc}})$$"
   ]
  },
  {
   "cell_type": "code",
   "execution_count": 32,
   "metadata": {},
   "outputs": [],
   "source": [
    "# e^{u_{\\text{sc}} K e^{v_{\\text{sc}}$$\n",
    "## Marginals \n",
    "K = np.exp(- screenkhorn.M / screenkhorn.reg)\n",
    "u_sc = proj_grad[0]\n",
    "u_sc.shape=(n_1,)\n",
    "v_sc = proj_grad[1]\n",
    "v_sc.shape=(n_2,)\n",
    "P_sc = np.diag(np.exp(u_sc)) @ K @ np.diag(np.exp(v_sc))\n",
    "# P_star[:20], \"\\n\", P_sc[:20]"
   ]
  },
  {
   "cell_type": "code",
   "execution_count": 33,
   "metadata": {},
   "outputs": [
    {
     "name": "stdout",
     "output_type": "stream",
     "text": [
      "1.6655579482478439e+22 \t 9.211678514905526e+20\n",
      "\n",
      "\n",
      "84310645552.33206 \t 1523739232462.892\n",
      "\n",
      "\n",
      "197550135850.16653 \t 604544289.3805557\n"
     ]
    }
   ],
   "source": [
    "norm2u_sc = np.linalg.norm(np.exp(u_sc))\n",
    "norm2v_sc = np.linalg.norm(np.exp(v_sc))\n",
    "\n",
    "print(norm2u_sc, \"\\t\", norm2exp_u_star)\n",
    "print(\"\\n\")\n",
    "print(norm2v_sc, \"\\t\", norm2exp_v_star)\n",
    "\n",
    "print(\"\\n\")\n",
    "print(norm2u_sc / norm2v_sc, \"\\t\", norm2exp_u_star /norm2exp_v_star)"
   ]
  },
  {
   "cell_type": "code",
   "execution_count": 34,
   "metadata": {},
   "outputs": [
    {
     "data": {
      "text/plain": [
       "(18.080938729600526, 0.05533141350968352)"
      ]
     },
     "execution_count": 34,
     "metadata": {},
     "output_type": "execute_result"
    }
   ],
   "source": [
    "norm2u_sc/norm2exp_u_star,  norm2v_sc/norm2exp_v_star"
   ]
  },
  {
   "cell_type": "markdown",
   "metadata": {},
   "source": [
    "### Gap between true and estimated marginals "
   ]
  },
  {
   "cell_type": "code",
   "execution_count": 35,
   "metadata": {},
   "outputs": [
    {
     "name": "stdout",
     "output_type": "stream",
     "text": [
      "[0.01 0.01 0.01 0.01 0.01 0.01 0.01 0.01 0.01 0.01 0.01 0.01 0.01 0.01\n",
      " 0.01 0.01 0.01 0.01 0.01 0.01 0.01 0.01 0.01 0.01 0.01 0.01 0.01 0.01\n",
      " 0.01 0.01]\n",
      "\n",
      "\n",
      "[0.01 0.01 0.01 0.01 0.01 0.01 0.01 0.01 0.01 0.01 0.01 0.01 0.01 0.01\n",
      " 0.01 0.01 0.01 0.01 0.01 0.01 0.01 0.01 0.01 0.01 0.01 0.01 0.01 0.01\n",
      " 0.01 0.01]\n",
      "\n",
      "\n"
     ]
    },
    {
     "data": {
      "text/plain": [
       "0.9999999999999998"
      ]
     },
     "execution_count": 35,
     "metadata": {},
     "output_type": "execute_result"
    }
   ],
   "source": [
    "a_sc = P_sc @ np.ones(len(v_sc))\n",
    "b_sc = P_sc.T @ np.ones(len(u_sc))\n",
    "# print(np.abs(a - a_sc))\n",
    "#plt.plot(a)\n",
    "#plt.plot(np.abs(a - a_sc));\n",
    "# print('-------------- Marginals giv')\n",
    "\n",
    "print(a[:30]) \n",
    "print(\"\\n\")\n",
    "print(a_sc[:30]) \n",
    "print(\"\\n\")\n",
    "sum(a_sc)"
   ]
  },
  {
   "cell_type": "code",
   "execution_count": 36,
   "metadata": {},
   "outputs": [
    {
     "name": "stdout",
     "output_type": "stream",
     "text": [
      "[0.01 0.01 0.01 0.01 0.01 0.01 0.01 0.01 0.01 0.01 0.01 0.01 0.01 0.01\n",
      " 0.01 0.01 0.01 0.01 0.01 0.01 0.01 0.01 0.01 0.01 0.01 0.01 0.01 0.01\n",
      " 0.01 0.01]\n",
      "\n",
      "\n",
      "[0.01 0.01 0.01 0.01 0.01 0.01 0.01 0.01 0.01 0.01 0.01 0.01 0.01 0.01\n",
      " 0.01 0.01 0.01 0.01 0.01 0.01 0.01 0.01 0.01 0.01 0.01 0.01 0.01 0.01\n",
      " 0.01 0.01]\n",
      "\n",
      "\n"
     ]
    },
    {
     "ename": "NameError",
     "evalue": "name 'b_star' is not defined",
     "output_type": "error",
     "traceback": [
      "\u001b[0;31m---------------------------------------------------------------------------\u001b[0m",
      "\u001b[0;31mNameError\u001b[0m                                 Traceback (most recent call last)",
      "\u001b[0;32m<ipython-input-36-c9754b3e8cc0>\u001b[0m in \u001b[0;36m<module>\u001b[0;34m\u001b[0m\n\u001b[1;32m      3\u001b[0m \u001b[0mprint\u001b[0m\u001b[0;34m(\u001b[0m\u001b[0mb_sc\u001b[0m\u001b[0;34m[\u001b[0m\u001b[0;34m:\u001b[0m\u001b[0;36m30\u001b[0m\u001b[0;34m]\u001b[0m\u001b[0;34m)\u001b[0m\u001b[0;34m\u001b[0m\u001b[0;34m\u001b[0m\u001b[0m\n\u001b[1;32m      4\u001b[0m \u001b[0mprint\u001b[0m\u001b[0;34m(\u001b[0m\u001b[0;34m\"\\n\"\u001b[0m\u001b[0;34m)\u001b[0m\u001b[0;34m\u001b[0m\u001b[0;34m\u001b[0m\u001b[0m\n\u001b[0;32m----> 5\u001b[0;31m \u001b[0msum\u001b[0m\u001b[0;34m(\u001b[0m\u001b[0mb_sc\u001b[0m\u001b[0;34m)\u001b[0m\u001b[0;34m,\u001b[0m \u001b[0msum\u001b[0m\u001b[0;34m(\u001b[0m\u001b[0mb_star\u001b[0m\u001b[0;34m)\u001b[0m\u001b[0;34m\u001b[0m\u001b[0;34m\u001b[0m\u001b[0m\n\u001b[0m\u001b[1;32m      6\u001b[0m \u001b[0;31m#b[:30] - b_sc[:30]\u001b[0m\u001b[0;34m\u001b[0m\u001b[0;34m\u001b[0m\u001b[0;34m\u001b[0m\u001b[0m\n",
      "\u001b[0;31mNameError\u001b[0m: name 'b_star' is not defined"
     ]
    }
   ],
   "source": [
    "print(b[:30]) \n",
    "print(\"\\n\")\n",
    "print(b_sc[:30]) \n",
    "print(\"\\n\")\n",
    "sum(b_sc), sum(b_star)\n",
    "#b[:30] - b_sc[:30]"
   ]
  },
  {
   "cell_type": "code",
   "execution_count": 37,
   "metadata": {},
   "outputs": [],
   "source": [
    "a_star = P_star @ np.ones(n_2)\n",
    "b_star = P_star.T @ np.ones(n_1)"
   ]
  },
  {
   "cell_type": "code",
   "execution_count": 38,
   "metadata": {},
   "outputs": [
    {
     "data": {
      "text/plain": [
       "(0.9999999999999998, 1.0000000000000007)"
      ]
     },
     "execution_count": 38,
     "metadata": {},
     "output_type": "execute_result"
    }
   ],
   "source": [
    "sum(a_sc), sum(a_star)"
   ]
  },
  {
   "cell_type": "code",
   "execution_count": 39,
   "metadata": {},
   "outputs": [
    {
     "data": {
      "text/plain": [
       "(1.0000000000000002, 1.0000000000000002)"
      ]
     },
     "execution_count": 39,
     "metadata": {},
     "output_type": "execute_result"
    }
   ],
   "source": [
    "sum(b_sc), sum(b_star)"
   ]
  },
  {
   "cell_type": "code",
   "execution_count": 40,
   "metadata": {},
   "outputs": [
    {
     "data": {
      "text/plain": [
       "(array([0.99, 0.99, 0.99, 0.99, 0.99, 0.99, 0.99, 0.99, 0.99, 0.99]),\n",
       " '\\n\\n',\n",
       " 2.220446049250313e-16)"
      ]
     },
     "execution_count": 40,
     "metadata": {},
     "output_type": "execute_result"
    }
   ],
   "source": [
    "abs(1 - a_sc[:10]),  \"\\n\\n\", abs(1 - sum(b_sc))"
   ]
  },
  {
   "cell_type": "code",
   "execution_count": 41,
   "metadata": {},
   "outputs": [
    {
     "data": {
      "text/plain": [
       "(6.661338147750939e-16, 2.220446049250313e-16)"
      ]
     },
     "execution_count": 41,
     "metadata": {},
     "output_type": "execute_result"
    }
   ],
   "source": [
    "abs(1 - sum(a_star)), abs(1- sum(b_star))"
   ]
  },
  {
   "cell_type": "code",
   "execution_count": 42,
   "metadata": {},
   "outputs": [
    {
     "data": {
      "text/plain": [
       "(2.220446049250313e-16, 2.220446049250313e-16)"
      ]
     },
     "execution_count": 42,
     "metadata": {},
     "output_type": "execute_result"
    }
   ],
   "source": [
    "abs(1 - sum(a_sc)), abs(1- sum(b_sc))"
   ]
  },
  {
   "cell_type": "code",
   "execution_count": null,
   "metadata": {},
   "outputs": [],
   "source": [
    "#a[:-30]- a_sc[:-30]"
   ]
  },
  {
   "cell_type": "code",
   "execution_count": null,
   "metadata": {},
   "outputs": [],
   "source": [
    "cb_padding = 0.005\n",
    "fig, (ax1, ax2, ax3) = plt.subplots(ncols=3, figsize=(20,20))\n",
    "I1 = ax1.matshow(np.divide(P_star.T, P_star.max()))\n",
    "ax1.set_title(r'$P^\\star$')\n",
    "ax1.axis('off')\n",
    "fig.colorbar(I1, ax=ax1, pad=cb_padding, orientation=\"horizontal\")\n",
    "ax1.label_outer()\n",
    "## \n",
    "I2 = ax2.matshow(np.divide( P_sc.T,  P_sc.T.max()))\n",
    "ax2.set_title(r'$P^{sc}$');\n",
    "# ax2.label_outer()\n",
    "ax2.axis('off')\n",
    "fig.colorbar(I2, ax=ax2, pad=cb_padding, orientation=\"horizontal\")\n",
    "# \n",
    "I3 = ax3.matshow(np.divide(np.abs(P_sc.T - P_star.T) , np.abs(P_sc.T - P_star.T).max()))\n",
    "ax3.set_title('Difference');\n",
    "# ax3.label_outer()\n",
    "ax3.axis('off');\n",
    "fig.colorbar(I3, ax=ax3, pad=cb_padding, orientation=\"horizontal\")\n",
    "plt.subplots_adjust(hspace=1)"
   ]
  },
  {
   "cell_type": "code",
   "execution_count": null,
   "metadata": {},
   "outputs": [],
   "source": [
    "P_sc[:10, :6]"
   ]
  },
  {
   "cell_type": "code",
   "execution_count": null,
   "metadata": {},
   "outputs": [],
   "source": [
    "P_star[:5, :5]"
   ]
  },
  {
   "cell_type": "code",
   "execution_count": null,
   "metadata": {},
   "outputs": [],
   "source": [
    "np.sqrt(sum(sum(np.multiply(P_star, M)))) - u_star @ a - v_star @ b"
   ]
  },
  {
   "cell_type": "code",
   "execution_count": null,
   "metadata": {},
   "outputs": [],
   "source": [
    "np.sqrt(sum(sum(np.multiply(P_sc, M)))) - u_sc @ a - v_sc @ b"
   ]
  },
  {
   "cell_type": "code",
   "execution_count": null,
   "metadata": {},
   "outputs": [],
   "source": [
    "np.sqrt(sum(sum(np.multiply(P_star, M)))) - np.sqrt(sum(sum(np.multiply(P_sc, M))))"
   ]
  },
  {
   "cell_type": "code",
   "execution_count": null,
   "metadata": {},
   "outputs": [],
   "source": [
    "np.sqrt(sum(sum(np.multiply(P_star, M)))) - u_star @ a - v_star @ b\\\n",
    "- np.sqrt(sum(sum(np.multiply(P_sc, M)))) + u_sc @ a + v_sc @ b"
   ]
  },
  {
   "cell_type": "code",
   "execution_count": null,
   "metadata": {},
   "outputs": [],
   "source": []
  },
  {
   "cell_type": "code",
   "execution_count": null,
   "metadata": {},
   "outputs": [],
   "source": [
    "a_star"
   ]
  },
  {
   "cell_type": "markdown",
   "metadata": {},
   "source": [
    "$$a^\\star = P^\\star \\mathbf{1}_n$$"
   ]
  },
  {
   "cell_type": "code",
   "execution_count": null,
   "metadata": {},
   "outputs": [],
   "source": []
  }
 ],
 "metadata": {
  "kernelspec": {
   "display_name": "Python 3",
   "language": "python",
   "name": "python3"
  },
  "language_info": {
   "codemirror_mode": {
    "name": "ipython",
    "version": 3
   },
   "file_extension": ".py",
   "mimetype": "text/x-python",
   "name": "python",
   "nbconvert_exporter": "python",
   "pygments_lexer": "ipython3",
   "version": "3.6.8"
  }
 },
 "nbformat": 4,
 "nbformat_minor": 2
}

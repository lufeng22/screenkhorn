{
 "cells": [
  {
   "cell_type": "markdown",
   "metadata": {},
   "source": [
    "## Goal:\n",
    "\n",
    "Here we test the functions: `lbfgsb` in the `Screenkhorn` class."
   ]
  },
  {
   "cell_type": "code",
   "execution_count": 1,
   "metadata": {},
   "outputs": [],
   "source": [
    "# NUMPY\n",
    "import numpy as np\n",
    "np.random.seed(3946)\n",
    "# MATPLOTLIB\n",
    "import matplotlib.pyplot as plt\n",
    "plt.style.context('dark_background')\n",
    "%matplotlib inline \n",
    "from matplotlib import rc\n",
    "rc('font', **{'family': 'sans-serif', 'sans-serif': ['Computer Modern Roman']})\n",
    "params = {'axes.labelsize': 8, # 12\n",
    "          'font.size': 8, # 12\n",
    "          'legend.fontsize': 8, # 12\n",
    "          'xtick.labelsize': 8, # 10\n",
    "          'ytick.labelsize': 8, # 10\n",
    "          'text.usetex': True,\n",
    "          'figure.figsize': (16, 6)}\n",
    "plt.rcParams.update(params)\n",
    "\n",
    "# SEABORN \n",
    "import seaborn as sns\n",
    "sns.set_context(\"poster\")\n",
    "sns.set_style(\"ticks\")\n",
    "\n",
    "# SKLEARN \n",
    "from sklearn.metrics import pairwise_distances\n",
    "\n",
    "# WARNINGS\n",
    "import warnings\n",
    "warnings.filterwarnings(\"ignore\", category=FutureWarning)\n",
    "\n",
    "# TIME\n",
    "from time import time \n",
    "\n",
    "# PATH \n",
    "import sys\n",
    "path_files = '/Users/mzalaya/PycharmProjects/OATMIL/oatmilrouen/'\n",
    "sys.path.insert(0, path_files) \n",
    "\n",
    "\n",
    "# POT\n",
    "import ot\n",
    "from ot import sinkhorn, emd\n",
    "\n",
    "# GREENKHORN \n",
    "from ot.bregman import greenkhorn\n",
    "\n",
    "# SCREENKHORN\n",
    "from screenkhorn.screenkhorn import Screenkhorn\n"
   ]
  },
  {
   "cell_type": "markdown",
   "metadata": {},
   "source": [
    "## Data generation"
   ]
  },
  {
   "cell_type": "code",
   "execution_count": 2,
   "metadata": {},
   "outputs": [],
   "source": [
    "n_1 = 15000# nb samples\n",
    "n_2 = 15000\n",
    "mu_s = np.array([0, 0])\n",
    "cov_s = np.array([[1, 0], [0, 1]])\n",
    "\n",
    "mu_t = np.array([4, 4])\n",
    "cov_t = np.array([[1, -.8], [-.8, 1]])\n",
    "\n",
    "xs = ot.datasets.make_2D_samples_gauss(n_1, mu_s, cov_s)\n",
    "xt = ot.datasets.make_2D_samples_gauss(n_2, mu_t, cov_t)\n",
    "\n",
    "a = np.ones((n_1,)) / n_1\n",
    "b = np.ones((n_2,)) / n_2  # uniform distribution on samples\n",
    "\n",
    "# loss matrix\n",
    "M = ot.dist(xs, xt)\n",
    "M /= M.max()\n",
    "reg = 0.7\n",
    "\n",
    "K = np.exp(-M/reg)"
   ]
  },
  {
   "cell_type": "markdown",
   "metadata": {},
   "source": [
    "## Sinkhorn "
   ]
  },
  {
   "cell_type": "code",
   "execution_count": 3,
   "metadata": {},
   "outputs": [
    {
     "name": "stdout",
     "output_type": "stream",
     "text": [
      "time of Sinkhorn algorithm is 18.53338313102722\n"
     ]
    }
   ],
   "source": [
    "tic = time()\n",
    "P_sink = sinkhorn(a, b, M, reg, log=True)\n",
    "P_star = P_sink[0]\n",
    "outputs_dict = P_sink[1]\n",
    "exp_u_star = outputs_dict['u']\n",
    "exp_v_star = outputs_dict['v']\n",
    "time_sink = time() - tic\n",
    "print(\"time of Sinkhorn algorithm is %s\" %time_sink)"
   ]
  },
  {
   "cell_type": "markdown",
   "metadata": {},
   "source": [
    "## Bounds of $\\varepsilon \\in (\\varepsilon_{\\min}, \\varepsilon_{\\max})$\n"
   ]
  },
  {
   "cell_type": "code",
   "execution_count": 4,
   "metadata": {},
   "outputs": [
    {
     "data": {
      "image/png": "[encoded data removed]",
      "text/plain": [
       "<Figure size 432x288 with 1 Axes>"
      ]
     },
     "metadata": {
      "needs_background": "light"
     },
     "output_type": "display_data"
    }
   ],
   "source": [
    "epsilons_a = np.sqrt(a / K.sum(axis=1))\n",
    "epsilons_a_sort = np.sort(epsilons_a)[::-1]\n",
    "epsilons_b = np.sqrt(b / K.T.sum(axis=1))\n",
    "epsilons_b_sort = np.sort(epsilons_b)[::-1]\n",
    "plt.plot(epsilons_a_sort, label=r'$\\varepsilon_i$')\n",
    "plt.plot(epsilons_b_sort, label=r'$\\varepsilon_j$')\n",
    "plt.legend();"
   ]
  },
  {
   "cell_type": "markdown",
   "metadata": {},
   "source": [
    "#### Choice of epsilon"
   ]
  },
  {
   "cell_type": "code",
   "execution_count": 5,
   "metadata": {},
   "outputs": [
    {
     "data": {
      "text/plain": [
       "(6.879087702215872e-05, 8.093689070512004e-05, 0.00010522891807104267)"
      ]
     },
     "execution_count": 5,
     "metadata": {},
     "output_type": "execute_result"
    }
   ],
   "source": [
    "epsilons_ab = np.sort(np.hstack([epsilons_a, epsilons_b]))[::-1]\n",
    "epsilon_mid = (max(epsilons_ab) - min(epsilons_ab))/3 + min(epsilons_ab)\n",
    "epsilon_min = min(epsilons_ab)\n",
    "epsilon_max = max(epsilons_ab)\n",
    "\n",
    "epsilon_min, epsilon_mid, epsilon_max"
   ]
  },
  {
   "cell_type": "markdown",
   "metadata": {},
   "source": [
    "#### Initial points and a priori active sets"
   ]
  },
  {
   "cell_type": "code",
   "execution_count": 6,
   "metadata": {},
   "outputs": [],
   "source": [
    "u0 = np.full(n_1, epsilon_min)\n",
    "v0 = np.full(n_2, epsilon_min)\n",
    "\n",
    "I_active = np.where(a >= epsilon_min**2 * K.sum(axis=1))[0].tolist()\n",
    "J_active = np.where(b >= epsilon_min**2 * K.T.sum(axis=1))[0].tolist()\n",
    "\n",
    "u0[I_active] = epsilon_min\n",
    "v0[J_active] = epsilon_min"
   ]
  },
  {
   "cell_type": "code",
   "execution_count": 7,
   "metadata": {},
   "outputs": [
    {
     "data": {
      "text/plain": [
       "(14999, 15000)"
      ]
     },
     "execution_count": 7,
     "metadata": {},
     "output_type": "execute_result"
    }
   ],
   "source": [
    "## Cardinals of I_active and J_active\n",
    "len(I_active), len(J_active)"
   ]
  },
  {
   "cell_type": "code",
   "execution_count": 8,
   "metadata": {},
   "outputs": [],
   "source": [
    "## Initialize Screenkhorn class\n",
    "screenkhorn = Screenkhorn(a, b, M, reg, epsilon_min)"
   ]
  },
  {
   "cell_type": "markdown",
   "metadata": {},
   "source": [
    "## L-BFGS-B"
   ]
  },
  {
   "cell_type": "code",
   "execution_count": 9,
   "metadata": {},
   "outputs": [
    {
     "name": "stdout",
     "output_type": "stream",
     "text": [
      "Certificate is achieved\n",
      "Time spending during the restricted Skinkhorn is 21.26534605026245\n"
     ]
    },
    {
     "data": {
      "text/plain": [
       "64.59365177154541"
      ]
     },
     "execution_count": 9,
     "metadata": {},
     "output_type": "execute_result"
    }
   ],
   "source": [
    "# res_sink = screenkhorn.restricted_sinkhorn(u0, v0, I_active, J_active, max_iter=1000, tol=1e-9)\n",
    "# u0 = res_sink['usc']\n",
    "# v0 = res_sink['vsc']\n",
    "tic = time()\n",
    "lbfgsb = screenkhorn.lbfgsb(u0, v0, I_active, J_active)\n",
    "toc_bfgs = time() - tic\n",
    "toc_bfgs"
   ]
  },
  {
   "cell_type": "code",
   "execution_count": 10,
   "metadata": {},
   "outputs": [
    {
     "data": {
      "text/plain": [
       "(18.53338313102722, 64.59365177154541, 3.485259615844637)"
      ]
     },
     "execution_count": 10,
     "metadata": {},
     "output_type": "execute_result"
    }
   ],
   "source": [
    "time_sink, toc_bfgs, toc_bfgs / time_sink"
   ]
  },
  {
   "cell_type": "code",
   "execution_count": 11,
   "metadata": {},
   "outputs": [
    {
     "data": {
      "text/plain": [
       "[<matplotlib.lines.Line2D at 0x1a8efcbd30>]"
      ]
     },
     "execution_count": 11,
     "metadata": {},
     "output_type": "execute_result"
    },
    {
     "data": {
      "image/png": "[encoded data removed]",
      "text/plain": [
       "<Figure size 432x288 with 1 Axes>"
      ]
     },
     "metadata": {
      "needs_background": "light"
     },
     "output_type": "display_data"
    }
   ],
   "source": [
    "plt.plot(exp_u_star)\n",
    "plt.plot(lbfgsb[0]/2)"
   ]
  },
  {
   "cell_type": "code",
   "execution_count": 12,
   "metadata": {},
   "outputs": [
    {
     "data": {
      "text/plain": [
       "[<matplotlib.lines.Line2D at 0x1a8f01bba8>]"
      ]
     },
     "execution_count": 12,
     "metadata": {},
     "output_type": "execute_result"
    },
    {
     "data": {
      "image/png": "[encoded data removed]",
      "text/plain": [
       "<Figure size 432x288 with 1 Axes>"
      ]
     },
     "metadata": {
      "needs_background": "light"
     },
     "output_type": "display_data"
    }
   ],
   "source": [
    "plt.plot(exp_v_star)\n",
    "plt.plot(lbfgsb[1]*2)"
   ]
  },
  {
   "cell_type": "code",
   "execution_count": 13,
   "metadata": {},
   "outputs": [
    {
     "name": "stdout",
     "output_type": "stream",
     "text": [
      "sum of the marginals in sinkhorn are: 0.9999999999999095, \t 1.0000000000000002\n",
      "\t\n",
      "sum of the marginals in screenkhorn are: 1.000001381416585, \t 1.0000013814165878\n",
      "\t\n",
      "Difference in sinkhorn: 9.048317650695026e-14 \t 2.220446049250313e-16:\n",
      "\t\n",
      "Difference in screenkhorn: 1.381416584900208e-06 \t  1.3814165877867879e-06:\n",
      "\t\n",
      "Frobenius norm of difference solution matrices 1.960106055919686e-07 \n",
      "\t\n",
      "Max norm of difference solution matrices 1.7197833003614492e-09 \n"
     ]
    }
   ],
   "source": [
    "# sinkhorn\n",
    "P_star = np.diag(exp_u_star) @ K @ np.diag(exp_v_star)\n",
    "a_star = P_star @ np.ones(n_2)\n",
    "b_star = P_star.T @ np.ones(n_1)\n",
    "\n",
    "# screenkhorn via lbfgsb\n",
    "usc_bfgs = lbfgsb[0]\n",
    "vsc_bfgs = lbfgsb[1]\n",
    "P_sc_bfgs = np.diag(usc_bfgs) @ K @ np.diag(vsc_bfgs)\n",
    "a_sc_bfgs = P_sc_bfgs @ np.ones(n_2)\n",
    "b_sc_bfgs = P_sc_bfgs.T @ np.ones(n_1)\n",
    "\n",
    "print(\"sum of the marginals in sinkhorn are: %s, \\t %s\" %(sum(a_star), sum(b_star)))\n",
    "print(\"\\t\")\n",
    "print(\"sum of the marginals in screenkhorn are: %s, \\t %s\" %(sum(a_sc_bfgs), sum(b_sc_bfgs)))\n",
    "print(\"\\t\")\n",
    "print(\"Difference in sinkhorn: %s \\t %s:\" %(abs(1 - sum(a_star)), abs(1 - sum(b_star))))\n",
    "print(\"\\t\")\n",
    "print(\"Difference in screenkhorn: %s \\t  %s:\" %(abs(1 - sum(a_sc_bfgs)), abs(1 - sum(b_sc_bfgs))))\n",
    "print(\"\\t\")\n",
    "print(\"Frobenius norm of difference solution matrices %s \" %np.linalg.norm(P_star - P_sc_bfgs,'fro'))\n",
    "print('\\t')\n",
    "print(\"Max norm of difference solution matrices %s \"  %abs(P_star - P_sc_bfgs).max())"
   ]
  },
  {
   "cell_type": "markdown",
   "metadata": {},
   "source": [
    "### Time for greenkhorn"
   ]
  },
  {
   "cell_type": "code",
   "execution_count": 14,
   "metadata": {},
   "outputs": [
    {
     "data": {
      "text/plain": [
       "(53.799474000930786, 18.53338313102722)"
      ]
     },
     "execution_count": 14,
     "metadata": {},
     "output_type": "execute_result"
    }
   ],
   "source": [
    "tic = time()\n",
    "P = greenkhorn(a, b, M, reg, numItermax=100000, stopThr=1e-9, log=False)\n",
    "P\n",
    "time_green = time() - tic\n",
    "time_green, time_sink"
   ]
  },
  {
   "cell_type": "code",
   "execution_count": 15,
   "metadata": {},
   "outputs": [
    {
     "data": {
      "text/plain": [
       "array([[ 0.75745977, -0.47348854,  0.43188404, -0.89721701,  0.3666067 ,\n",
       "         0.63093822,  1.36051386,  2.03444845],\n",
       "       [ 0.22825735,  0.19380404, -0.37902523,  0.66494108,  0.51234401,\n",
       "         0.12954006, -1.00436707,  0.3325181 ],\n",
       "       [-2.52752476,  0.32788052,  0.20366704, -0.97273158,  0.00658912,\n",
       "        -0.52227105, -0.99964737,  1.75206514],\n",
       "       [-0.037696  , -1.15724938, -0.64145603,  0.89136697,  1.75839829,\n",
       "         0.57340238,  0.44022955, -0.18001121],\n",
       "       [ 0.45996782,  0.3652566 ,  0.27587123, -1.20646285,  0.36108057,\n",
       "        -1.69105025, -0.0287886 ,  0.4831383 ]])"
      ]
     },
     "execution_count": 15,
     "metadata": {},
     "output_type": "execute_result"
    }
   ],
   "source": [
    "X = np.random.normal(size=(5,8))\n",
    "X"
   ]
  },
  {
   "cell_type": "code",
   "execution_count": 16,
   "metadata": {},
   "outputs": [
    {
     "data": {
      "text/plain": [
       "-2.527524760292827"
      ]
     },
     "execution_count": 16,
     "metadata": {},
     "output_type": "execute_result"
    }
   ],
   "source": [
    "X.min()"
   ]
  },
  {
   "cell_type": "code",
   "execution_count": null,
   "metadata": {},
   "outputs": [],
   "source": []
  }
 ],
 "metadata": {
  "kernelspec": {
   "display_name": "Python 3",
   "language": "python",
   "name": "python3"
  },
  "language_info": {
   "codemirror_mode": {
    "name": "ipython",
    "version": 3
   },
   "file_extension": ".py",
   "mimetype": "text/x-python",
   "name": "python",
   "nbconvert_exporter": "python",
   "pygments_lexer": "ipython3",
   "version": "3.6.8"
  }
 },
 "nbformat": 4,
 "nbformat_minor": 2
}

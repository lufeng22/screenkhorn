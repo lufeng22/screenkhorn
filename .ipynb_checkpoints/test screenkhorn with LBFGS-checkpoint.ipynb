{
 "cells": [
  {
   "cell_type": "markdown",
   "metadata": {},
   "source": [
    "## Goal:\n",
    "\n",
    "Here we test the functions: `lbfgsb` in the `Screenkhorn` class."
   ]
  },
  {
   "cell_type": "code",
   "execution_count": 1,
   "metadata": {},
   "outputs": [
    {
     "ename": "ModuleNotFoundError",
     "evalue": "No module named 'screenkhorn.wda'",
     "output_type": "error",
     "traceback": [
      "\u001b[0;31m---------------------------------------------------------------------------\u001b[0m",
      "\u001b[0;31mModuleNotFoundError\u001b[0m                       Traceback (most recent call last)",
      "\u001b[0;32m<ipython-input-1-179600a0cf2f>\u001b[0m in \u001b[0;36m<module>\u001b[0;34m\u001b[0m\n\u001b[1;32m     51\u001b[0m \u001b[0;31m# WDA\u001b[0m\u001b[0;34m\u001b[0m\u001b[0;34m\u001b[0m\u001b[0;34m\u001b[0m\u001b[0m\n\u001b[1;32m     52\u001b[0m \u001b[0;34m\u001b[0m\u001b[0m\n\u001b[0;32m---> 53\u001b[0;31m \u001b[0;32mimport\u001b[0m \u001b[0mscreenkhorn\u001b[0m\u001b[0;34m.\u001b[0m\u001b[0mwda\u001b[0m \u001b[0;32mas\u001b[0m \u001b[0mwda\u001b[0m\u001b[0;34m\u001b[0m\u001b[0;34m\u001b[0m\u001b[0m\n\u001b[0m",
      "\u001b[0;31mModuleNotFoundError\u001b[0m: No module named 'screenkhorn.wda'"
     ]
    }
   ],
   "source": [
    "# NUMPY\n",
    "import numpy as np\n",
    "np.random.seed(3946)\n",
    "# MATPLOTLIB\n",
    "import matplotlib.pyplot as plt\n",
    "plt.style.context('dark_background')\n",
    "%matplotlib inline \n",
    "from matplotlib import rc\n",
    "rc('font', **{'family': 'sans-serif', 'sans-serif': ['Computer Modern Roman']})\n",
    "params = {'axes.labelsize': 8, # 12\n",
    "          'font.size': 8, # 12\n",
    "          'legend.fontsize': 8, # 12\n",
    "          'xtick.labelsize': 8, # 10\n",
    "          'ytick.labelsize': 8, # 10\n",
    "          'text.usetex': True,\n",
    "          'figure.figsize': (16, 6)}\n",
    "plt.rcParams.update(params)\n",
    "\n",
    "# SEABORN \n",
    "import seaborn as sns\n",
    "sns.set_context(\"poster\")\n",
    "sns.set_style(\"ticks\")\n",
    "\n",
    "# SKLEARN \n",
    "from sklearn.metrics import pairwise_distances\n",
    "\n",
    "# WARNINGS\n",
    "import warnings\n",
    "warnings.filterwarnings(\"ignore\", category=FutureWarning)\n",
    "\n",
    "# TIME\n",
    "from time import time \n",
    "\n",
    "# PATH \n",
    "import sys\n",
    "path_files = '/Users/mzalaya/PycharmProjects/OATMIL/oatmilrouen/'\n",
    "sys.path.insert(0, path_files) \n",
    "\n",
    "\n",
    "# POT\n",
    "import ot\n",
    "from ot import sinkhorn, emd\n",
    "\n",
    "# GREENKHORN \n",
    "from ot.bregman import greenkhorn\n",
    "\n",
    "# SCREENKHORN\n",
    "from screenkhorn.new_formulation import Screenkhorn\n",
    "# from screenkhorn.screenkhornBFGS import Screenkhorn\n",
    "\n",
    "# WDA \n",
    "\n",
    "import screenkhorn.wda as wda"
   ]
  },
  {
   "cell_type": "markdown",
   "metadata": {},
   "source": [
    "## Data generation"
   ]
  },
  {
   "cell_type": "code",
   "execution_count": null,
   "metadata": {},
   "outputs": [],
   "source": [
    "n_1 = 1000# nb samples\n",
    "n_2 = 1000\n",
    "mu_s = np.array([0, 0])\n",
    "cov_s = np.array([[1, 0], [0, 1]])\n",
    "\n",
    "mu_t = np.array([4, 4])\n",
    "cov_t = np.array([[1, -.8], [-.8, 1]])\n",
    "\n",
    "xs = ot.datasets.make_2D_samples_gauss(n_1, mu_s, cov_s)\n",
    "xt = ot.datasets.make_2D_samples_gauss(n_2, mu_t, cov_t)\n",
    "\n",
    "a = np.ones((n_1,)) / n_1\n",
    "b = np.ones((n_2,)) / n_2  # uniform distribution on samples\n",
    "\n",
    "# a = abs(np.random.normal(size=(n_1,)))\n",
    "# b = abs(np.random.normal(size=(n_2,)))\n",
    "# a = a / a.sum()\n",
    "# b = b / b.sum()\n",
    "\n",
    "# loss matrix\n",
    "C = ot.dist(xs, xt)\n",
    "C /= C.max()\n",
    "\n",
    "lower_bound_epsilon = C.max()/806\n",
    "eta = lower_bound_epsilon\n",
    "eta = 2.\n",
    "# lower_bound_epsilon = 0.0012406947890818859"
   ]
  },
  {
   "cell_type": "code",
   "execution_count": null,
   "metadata": {},
   "outputs": [],
   "source": [
    "Pemd = emd(a, b, C, numItermax=100000, log=False)"
   ]
  },
  {
   "cell_type": "markdown",
   "metadata": {},
   "source": [
    "## Sinkhorn "
   ]
  },
  {
   "cell_type": "code",
   "execution_count": null,
   "metadata": {},
   "outputs": [],
   "source": [
    "tic = time()\n",
    "P_sink = sinkhorn(a, b, C, eta, log=True)\n",
    "time_sink = time() - tic\n",
    "Pstar = P_sink[0]\n",
    "outputs_dict = P_sink[1]\n",
    "ustar = outputs_dict['u']\n",
    "vstar = outputs_dict['v']\n",
    "time_sink"
   ]
  },
  {
   "cell_type": "markdown",
   "metadata": {},
   "source": [
    "## L-BFGS-B"
   ]
  },
  {
   "cell_type": "code",
   "execution_count": null,
   "metadata": {},
   "outputs": [],
   "source": [
    "tic = time()\n",
    "screenkhorn = Screenkhorn(a, b, C, eta, n_b=50, m_b=50)\n",
    "lbfgsb = screenkhorn.lbfgsb()\n",
    "time_bfgs = time() - tic\n",
    "usc = lbfgsb[0]\n",
    "vsc = lbfgsb[1]\n",
    "Psc = lbfgsb[2]"
   ]
  },
  {
   "cell_type": "code",
   "execution_count": null,
   "metadata": {},
   "outputs": [],
   "source": [
    "screenkhorn.epsilon / screenkhorn.fact_scale, screenkhorn.epsilon * screenkhorn.fact_scale"
   ]
  },
  {
   "cell_type": "code",
   "execution_count": null,
   "metadata": {},
   "outputs": [],
   "source": [
    "print(screenkhorn.bounds_u[:10])\n",
    "print('\\n')\n",
    "print(screenkhorn.bounds_v[:10])"
   ]
  },
  {
   "cell_type": "markdown",
   "metadata": {},
   "source": [
    "## Time comparison between Sinkhorn and L-BFGS-B"
   ]
  },
  {
   "cell_type": "code",
   "execution_count": null,
   "metadata": {},
   "outputs": [],
   "source": [
    "print('\\n')\n",
    "print(\"Time of the LBFGS initialization is %s \\n\" %screenkhorn.toc_initial)\n",
    "print(\"Time of Sinkhorn: %s\" %time_sink, '\\n')\n",
    "print(\"Ratio Time: Sinkhorn / class initialization: %s \\n\" %(time_sink / screenkhorn.toc_initial))\n",
    "print(\"Time of LBFGS inculding the class initialization: %s\\n\" %time_bfgs)\n",
    "print(\"Ratio Time: Sinkhorn / LBFGS: %s \\n\" %(time_sink / time_bfgs))\n",
    "print(\"Ratio Time: LBFGS / Sinkhorn : %s\" %(time_bfgs / time_sink))"
   ]
  },
  {
   "cell_type": "markdown",
   "metadata": {},
   "source": [
    "## Some plots"
   ]
  },
  {
   "cell_type": "code",
   "execution_count": null,
   "metadata": {},
   "outputs": [],
   "source": [
    "figure, axes= plt.subplots(nrows=2, ncols=2)\n",
    "\n",
    "axes[0,0].plot(ustar, linewidth=2, color='r', label=r'$u^{\\star}$')\n",
    "axes[0,1].plot(vstar, linewidth=2, color='r', label=r'$v^{\\star}$')\n",
    "axes[0,0].legend()\n",
    "axes[0,1].legend();\n",
    "\n",
    "axes[1,0].plot(usc[:100], linewidth=2, color='b', label=r'$u^{sc}$')\n",
    "axes[1,1].plot(vsc[:100], linewidth=2, color='b', label=r'$v^{sc}$')\n",
    "axes[1,0].legend()\n",
    "axes[1,1].legend()\n",
    "# axes[0,0].set_title(\"log scale\")\n",
    "# axes[0,1].set_title(\"log scale\")\n",
    "axes[0,0].legend();\n",
    "plt.subplots_adjust(hspace=.5)\n",
    "plt.tight_layout()"
   ]
  },
  {
   "cell_type": "code",
   "execution_count": null,
   "metadata": {},
   "outputs": [],
   "source": [
    "# Gradient w.r.t. u\n",
    "# plt.plot(lbfgsb[3]['grad'][:len(screenkhorn.I)]);"
   ]
  },
  {
   "cell_type": "code",
   "execution_count": null,
   "metadata": {},
   "outputs": [],
   "source": [
    "Jusc = np.where(vsc > screenkhorn.epsilon * screenkhorn.fact_scale)[0].tolist()\n",
    "print(len(Jusc))"
   ]
  },
  {
   "cell_type": "code",
   "execution_count": null,
   "metadata": {},
   "outputs": [],
   "source": [
    "print(len(screenkhorn.I))"
   ]
  },
  {
   "cell_type": "code",
   "execution_count": null,
   "metadata": {},
   "outputs": [],
   "source": [
    "# Gradient w.r.t. v\n",
    "# plt.plot(lbfgsb[3]['grad'][len(screenkhorn.I):]); "
   ]
  },
  {
   "cell_type": "code",
   "execution_count": null,
   "metadata": {},
   "outputs": [],
   "source": [
    "## sinkhorn\n",
    "astar = Pstar @ np.ones(n_2)\n",
    "bstar = Pstar.T @ np.ones(n_1)\n",
    "# screenkhorn via lbfgsb\n",
    "asc = Psc @ np.ones(n_2)\n",
    "bsc = Psc.T @ np.ones(n_1)\n",
    "\n",
    "print(\"sum of the marginals in sinkhorn are: %s, \\t %s\" %(sum(astar), sum(bstar)))\n",
    "print(\"\\t\")\n",
    "print(\"sum of the marginals in screenkhorn are: %s, \\t %s\" %(sum(asc), sum(bsc)))\n",
    "print(\"\\t\")\n",
    "print(\"Difference in sinkhorn: %s \\t %s:\" %(abs(1 - sum(astar)), abs(1 - sum(bstar))))\n",
    "print(\"\\t\")\n",
    "print(\"Difference in screenkhorn: %s \\t  %s:\" %(abs(1 - sum(asc)), abs(1 - sum(bsc))))\n",
    "print(\"\\t\")\n",
    "\n",
    "print(\"Frobenius norm of difference solution matrices %s \" %np.linalg.norm(Pstar - Psc,'fro'))"
   ]
  },
  {
   "cell_type": "code",
   "execution_count": null,
   "metadata": {},
   "outputs": [],
   "source": [
    "plt.semilogy(np.sort(asc)[::-1]); print(np.sort(asc)[::-1][0], np.sort(asc)[::-1].sum())"
   ]
  },
  {
   "cell_type": "code",
   "execution_count": null,
   "metadata": {},
   "outputs": [],
   "source": [
    "plt.semilogy(np.sort(bsc)[::-1]); print(np.sort(bsc)[::-1][0], np.sort(bsc)[::-1].sum())"
   ]
  },
  {
   "cell_type": "code",
   "execution_count": null,
   "metadata": {},
   "outputs": [],
   "source": [
    "np.argmax(asc), np.argmax(bsc)"
   ]
  },
  {
   "cell_type": "code",
   "execution_count": null,
   "metadata": {},
   "outputs": [],
   "source": [
    "usc[717]"
   ]
  },
  {
   "cell_type": "code",
   "execution_count": null,
   "metadata": {},
   "outputs": [],
   "source": [
    "Iusc = np.where(usc > screenkhorn.epsilon / screenkhorn.fact_scale)[0].tolist()\n",
    "# print(Iusc)"
   ]
  },
  {
   "cell_type": "code",
   "execution_count": null,
   "metadata": {},
   "outputs": [],
   "source": [
    "# print(screenkhorn.I)"
   ]
  },
  {
   "cell_type": "code",
   "execution_count": null,
   "metadata": {},
   "outputs": [],
   "source": [
    "Jusc = np.where(vsc > screenkhorn.epsilon * screenkhorn.fact_scale)[0].tolist()\n",
    "# print(Jusc)"
   ]
  },
  {
   "cell_type": "code",
   "execution_count": null,
   "metadata": {},
   "outputs": [],
   "source": [
    "# print(screenkhorn.J)"
   ]
  },
  {
   "cell_type": "code",
   "execution_count": null,
   "metadata": {},
   "outputs": [],
   "source": [
    "cb_padding = 0.005\n",
    "fig, (ax1, ax2, ax3) = plt.subplots(ncols=3, figsize=(20,20))\n",
    "I1 = ax1.matshow(Pstar)\n",
    "ax1.set_title(r'$P^\\star$ from POT')\n",
    "ax1.axis('off')\n",
    "fig.colorbar(I1, ax=ax1, pad=cb_padding, orientation=\"horizontal\")\n",
    "ax1.label_outer()\n",
    "## \n",
    "I2 = ax2.matshow(Psc)\n",
    "ax2.set_title(r'$P^{sc}$ from L-BFGS-B');\n",
    "# ax2.label_outer()\n",
    "ax2.axis('off')\n",
    "fig.colorbar(I2, ax=ax2, pad=cb_padding, orientation=\"horizontal\")\n",
    "# \n",
    "I3 = ax3.matshow(Pemd)\n",
    "ax3.set_title('Pemd');\n",
    "ax3.label_outer()\n",
    "ax3.axis('off');\n",
    "fig.colorbar(I3, ax=ax3, pad=cb_padding, orientation=\"horizontal\")\n",
    "plt.subplots_adjust(hspace=1)"
   ]
  },
  {
   "cell_type": "code",
   "execution_count": null,
   "metadata": {},
   "outputs": [],
   "source": [
    "np.multiply(Pstar, C).sum(), np.multiply(Psc, C).sum(), np.multiply(Pemd, C).sum()"
   ]
  },
  {
   "cell_type": "code",
   "execution_count": null,
   "metadata": {},
   "outputs": [],
   "source": [
    "# raise \"Error\""
   ]
  },
  {
   "cell_type": "code",
   "execution_count": null,
   "metadata": {},
   "outputs": [],
   "source": [
    "I = screenkhorn.I\n",
    "J= screenkhorn.J\n",
    "epsilon = screenkhorn.epsilon\n",
    "fact_scale = screenkhorn.fact_scale\n",
    "I_usc = np.where(usc > epsilon / fact_scale)[0].tolist()\n",
    "J_usc = np.where(vsc > epsilon*fact_scale)[0].tolist()"
   ]
  },
  {
   "cell_type": "code",
   "execution_count": null,
   "metadata": {},
   "outputs": [],
   "source": [
    "print(len(I_usc), len(I))"
   ]
  },
  {
   "cell_type": "code",
   "execution_count": null,
   "metadata": {},
   "outputs": [],
   "source": [
    "print(len(J_usc), len(J))"
   ]
  },
  {
   "cell_type": "code",
   "execution_count": null,
   "metadata": {},
   "outputs": [],
   "source": [
    "# print(I[:100], '\\n')\n",
    "# print(I_usc[:100], '\\n')"
   ]
  },
  {
   "cell_type": "code",
   "execution_count": null,
   "metadata": {},
   "outputs": [],
   "source": [
    "## Time comparison regarding regularization parameter\n",
    "# etas = np.linspace(0.0007, 0.001, 100)\n",
    "# times_sink = []\n",
    "# times_screen = []\n",
    "# ot_costs_sink = []\n",
    "# ot_costs_screen = []\n",
    "# for eta in etas:\n",
    "#     # time for sinkhorn\n",
    "#     tic = time()\n",
    "#     P_sink = sinkhorn(a, b, C, eta, log=True)\n",
    "#     time_sink = time() - tic\n",
    "#     times_sink.append(time_sink)\n",
    "#     # time for screenkhorn\n",
    "#     tic = time()\n",
    "#     screenkhorn = Screenkhorn(a, b, C, eta, N=n_1, M=n_2)\n",
    "#     lbfgsb = screenkhorn.lbfgsb()\n",
    "#     time_screen = time() - tic\n",
    "#     times_screen.append(time_screen)\n",
    "#     # cost of ot\n",
    "#     ot_costs_sink.append(np.multiply(Pstar, C).sum())\n",
    "#     ot_costs_screen.append(np.multiply(Psc, C).sum())"
   ]
  },
  {
   "cell_type": "code",
   "execution_count": null,
   "metadata": {},
   "outputs": [],
   "source": [
    "# times_sink = np.asarray(times_sink)\n",
    "# times_screen = np.asarray(times_screen)\n",
    "# plt.plot(etas, times_sink, label='sinkhorn')\n",
    "# plt.plot(etas, times_screen, label='screenkhorn')\n",
    "# plt.title(r\"Time comparison for $n=m=1000$ and $N=M=1000$\")\n",
    "# plt.ylabel(\"Time (seconds)\")\n",
    "# plt.xlabel(r'$\\eta$: regularization parameter')\n",
    "# plt.legend();"
   ]
  },
  {
   "cell_type": "code",
   "execution_count": null,
   "metadata": {},
   "outputs": [],
   "source": [
    "# plt.plot(etas, ot_costs_sink)\n",
    "# plt.plot(etas, ot_costs_screen);"
   ]
  }
 ],
 "metadata": {
  "kernelspec": {
   "display_name": "Python 3",
   "language": "python",
   "name": "python3"
  },
  "language_info": {
   "codemirror_mode": {
    "name": "ipython",
    "version": 3
   },
   "file_extension": ".py",
   "mimetype": "text/x-python",
   "name": "python",
   "nbconvert_exporter": "python",
   "pygments_lexer": "ipython3",
   "version": "3.6.8"
  }
 },
 "nbformat": 4,
 "nbformat_minor": 2
}

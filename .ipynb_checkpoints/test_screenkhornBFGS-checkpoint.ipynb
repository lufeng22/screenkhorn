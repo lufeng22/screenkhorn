{
 "cells": [
  {
   "cell_type": "markdown",
   "metadata": {},
   "source": [
    "## Goal:\n",
    "\n",
    "Here we test the functions: `lbfgsb` in the `Screenkhorn` class."
   ]
  },
  {
   "cell_type": "code",
   "execution_count": 1,
   "metadata": {},
   "outputs": [],
   "source": [
    "# NUMPY\n",
    "import numpy as np\n",
    "np.random.seed(3946)\n",
    "# MATPLOTLIB\n",
    "import matplotlib.pyplot as plt\n",
    "plt.style.context('dark_background')\n",
    "%matplotlib inline \n",
    "from matplotlib import rc\n",
    "rc('font', **{'family': 'sans-serif', 'sans-serif': ['Computer Modern Roman']})\n",
    "params = {'axes.labelsize': 8, # 12\n",
    "          'font.size': 8, # 12\n",
    "          'legend.fontsize': 8, # 12\n",
    "          'xtick.labelsize': 8, # 10\n",
    "          'ytick.labelsize': 8, # 10\n",
    "          'text.usetex': True,\n",
    "          'figure.figsize': (16, 6)}\n",
    "plt.rcParams.update(params)\n",
    "\n",
    "# SEABORN \n",
    "import seaborn as sns\n",
    "sns.set_context(\"poster\")\n",
    "sns.set_style(\"ticks\")\n",
    "\n",
    "# SKLEARN \n",
    "from sklearn.metrics import pairwise_distances\n",
    "\n",
    "# WARNINGS\n",
    "import warnings\n",
    "warnings.filterwarnings(\"ignore\", category=FutureWarning)\n",
    "\n",
    "# TIME\n",
    "from time import time \n",
    "\n",
    "# PATH \n",
    "import sys\n",
    "path_files = '/Users/mzalaya/PycharmProjects/OATMIL/oatmilrouen/'\n",
    "sys.path.insert(0, path_files) \n",
    "\n",
    "\n",
    "# POT\n",
    "import ot\n",
    "from ot import sinkhorn, emd\n",
    "\n",
    "# GREENKHORN \n",
    "from ot.bregman import greenkhorn\n",
    "\n",
    "# SCREENKHORN\n",
    "# from screenkhorn.screenkhornBFGS import Screenkhorn\n",
    "from screenkhorn.new_formulation import Screenkhorn\n"
   ]
  },
  {
   "cell_type": "markdown",
   "metadata": {},
   "source": [
    "## Data generation"
   ]
  },
  {
   "cell_type": "code",
   "execution_count": 2,
   "metadata": {},
   "outputs": [
    {
     "data": {
      "text/plain": [
       "0.0012406947890818859"
      ]
     },
     "execution_count": 2,
     "metadata": {},
     "output_type": "execute_result"
    }
   ],
   "source": [
    "n_1 = 1000# nb samples\n",
    "n_2 = 1000\n",
    "mu_s = np.array([0, 0])\n",
    "cov_s = np.array([[1, 0], [0, 1]])\n",
    "\n",
    "mu_t = np.array([4, 4])\n",
    "cov_t = np.array([[1, -.8], [-.8, 1]])\n",
    "\n",
    "xs = ot.datasets.make_2D_samples_gauss(n_1, mu_s, cov_s)\n",
    "xt = ot.datasets.make_2D_samples_gauss(n_2, mu_t, cov_t)\n",
    "\n",
    "a = np.ones((n_1,)) / n_1\n",
    "b = np.ones((n_2,)) / n_2  # uniform distribution on samples\n",
    "\n",
    "# a = abs(np.random.normal(size=(n_1,)))\n",
    "# b = abs(np.random.normal(size=(n_2,)))\n",
    "# a = a / a.sum()\n",
    "# b = b / b.sum()\n",
    "\n",
    "# loss matrix\n",
    "M = ot.dist(xs, xt)\n",
    "M /= M.max()\n",
    "\n",
    "lower_bound_epsilon = M.max()/806\n",
    "reg = lower_bound_epsilon\n",
    "#reg = 0.005\n",
    "lower_bound_epsilon"
   ]
  },
  {
   "cell_type": "markdown",
   "metadata": {},
   "source": [
    "## Sinkhorn "
   ]
  },
  {
   "cell_type": "code",
   "execution_count": 3,
   "metadata": {},
   "outputs": [],
   "source": [
    "tic = time()\n",
    "P_sink = sinkhorn(a, b, M, reg, log=True)\n",
    "Pstar = P_sink[0]\n",
    "outputs_dict = P_sink[1]\n",
    "ustar = outputs_dict['u']\n",
    "vstar = outputs_dict['v']\n",
    "time_sink = time() - tic"
   ]
  },
  {
   "cell_type": "markdown",
   "metadata": {},
   "source": [
    "## L-BFGS-B"
   ]
  },
  {
   "cell_type": "code",
   "execution_count": 4,
   "metadata": {},
   "outputs": [],
   "source": [
    "tic = time()\n",
    "screenkhorn = Screenkhorn(a, b, M, reg, N=n_1, M=n_2)\n",
    "lbfgsb = screenkhorn.lbfgsb()\n",
    "time_bfgs = time() - tic\n",
    "usc = lbfgsb[0]\n",
    "vsc = lbfgsb[1]\n",
    "Psc= lbfgsb[2]"
   ]
  },
  {
   "cell_type": "markdown",
   "metadata": {},
   "source": [
    "## Time comparison between Sinkhorn and L-BFGS-B"
   ]
  },
  {
   "cell_type": "code",
   "execution_count": null,
   "metadata": {},
   "outputs": [
    {
     "name": "stdout",
     "output_type": "stream",
     "text": [
      "\n",
      "\n",
      "Time of the LBFGS initialization is 0.01186680793762207 \n",
      "\n",
      "Time of Sinkhorn: 0.06783199310302734 \n",
      "\n",
      "Ratio Time: Sinkhorn / class initialization: 5.716111144596468 \n",
      "\n",
      "Time of LBFGS inculding the class initialization: 0.05711007118225098\n",
      "\n",
      "Ratio Time: Sinkhorn / LBFGS: 1.1877413510230153 \n",
      "\n",
      "Ratio Time: LBFGS / Sinkhorn : 0.8419341459642611\n"
     ]
    }
   ],
   "source": [
    "print('\\n')\n",
    "print(\"Time of the LBFGS initialization is %s \\n\" %screenkhorn.toc_initial)\n",
    "print(\"Time of Sinkhorn: %s\" %time_sink, '\\n')\n",
    "print(\"Ratio Time: Sinkhorn / class initialization: %s \\n\" %(time_sink / screenkhorn.toc_initial))\n",
    "print(\"Time of LBFGS inculding the class initialization: %s\\n\" %time_bfgs)\n",
    "print(\"Ratio Time: Sinkhorn / LBFGS: %s \\n\" %(time_sink / time_bfgs))\n",
    "print(\"Ratio Time: LBFGS / Sinkhorn : %s\" %(time_bfgs / time_sink))"
   ]
  },
  {
   "cell_type": "markdown",
   "metadata": {},
   "source": [
    "## Some plots"
   ]
  },
  {
   "cell_type": "code",
   "execution_count": null,
   "metadata": {},
   "outputs": [
    {
     "data": {
      "image/png": "[encoded data removed]",
      "text/plain": [
       "<Figure size 432x288 with 1 Axes>"
      ]
     },
     "metadata": {
      "needs_background": "light"
     },
     "output_type": "display_data"
    }
   ],
   "source": [
    "plt.plot(ustar, label=r'$u^\\star$')\n",
    "plt.legend();"
   ]
  },
  {
   "cell_type": "code",
   "execution_count": null,
   "metadata": {},
   "outputs": [
    {
     "data": {
      "image/png": "[encoded data removed]",
      "text/plain": [
       "<Figure size 432x288 with 1 Axes>"
      ]
     },
     "metadata": {
      "needs_background": "light"
     },
     "output_type": "display_data"
    }
   ],
   "source": [
    "plt.plot(usc, label=r'$u^{sc}$')\n",
    "plt.legend();"
   ]
  },
  {
   "cell_type": "code",
   "execution_count": null,
   "metadata": {},
   "outputs": [
    {
     "data": {
      "image/png": "[encoded data removed]",
      "text/plain": [
       "<Figure size 432x288 with 1 Axes>"
      ]
     },
     "metadata": {
      "needs_background": "light"
     },
     "output_type": "display_data"
    }
   ],
   "source": [
    "plt.plot(vstar, label=r'$v^\\star$')\n",
    "\n",
    "plt.legend();"
   ]
  },
  {
   "cell_type": "code",
   "execution_count": null,
   "metadata": {},
   "outputs": [
    {
     "data": {
      "image/png": "[encoded data removed]",
      "text/plain": [
       "<Figure size 432x288 with 1 Axes>"
      ]
     },
     "metadata": {
      "needs_background": "light"
     },
     "output_type": "display_data"
    }
   ],
   "source": [
    "plt.plot(vsc, label=r'$v^{sc}$')\n",
    "plt.legend();"
   ]
  },
  {
   "cell_type": "code",
   "execution_count": null,
   "metadata": {},
   "outputs": [
    {
     "data": {
      "image/png": "[encoded data removed]",
      "text/plain": [
       "<Figure size 432x288 with 1 Axes>"
      ]
     },
     "metadata": {
      "needs_background": "light"
     },
     "output_type": "display_data"
    }
   ],
   "source": [
    "# Gradient w.r.t. u\n",
    "plt.plot(lbfgsb[3]['grad'][:len(screenkhorn.I)]);"
   ]
  },
  {
   "cell_type": "code",
   "execution_count": null,
   "metadata": {},
   "outputs": [
    {
     "data": {
      "image/png": "[encoded data removed]",
      "text/plain": [
       "<Figure size 432x288 with 1 Axes>"
      ]
     },
     "metadata": {
      "needs_background": "light"
     },
     "output_type": "display_data"
    }
   ],
   "source": [
    "# Gradient w.r.t. v\n",
    "plt.plot(lbfgsb[3]['grad'][len(screenkhorn.I):]);"
   ]
  },
  {
   "cell_type": "code",
   "execution_count": null,
   "metadata": {},
   "outputs": [],
   "source": [
    "# K = np.exp(-M/reg)\n",
    "# Psc = np.diag(3*usc*1e5)@ K @np.diag(vsc*3*1e4) "
   ]
  },
  {
   "cell_type": "code",
   "execution_count": null,
   "metadata": {},
   "outputs": [
    {
     "name": "stdout",
     "output_type": "stream",
     "text": [
      "sum of the marginals in sinkhorn are: 1.0000000000000007, \t 0.9999999999999989\n",
      "\t\n",
      "sum of the marginals in screenkhorn are: 6.2262404752998264e-09, \t 6.226240475299831e-09\n",
      "\t\n",
      "Difference in sinkhorn: 6.661338147750939e-16 \t 1.1102230246251565e-15:\n",
      "\t\n",
      "Difference in screenkhorn: 0.9999999937737595 \t  0.9999999937737595:\n",
      "\t\n",
      "Frobenius norm of difference solution matrices 0.004955471171169813 \n"
     ]
    }
   ],
   "source": [
    "## sinkhorn\n",
    "astar = Pstar @ np.ones(n_2)\n",
    "bstar = Pstar.T @ np.ones(n_1)\n",
    "\n",
    "# screenkhorn via lbfgsb\n",
    "asc = Psc @ np.ones(n_2)\n",
    "bsc = Psc.T @ np.ones(n_1)\n",
    "\n",
    "print(\"sum of the marginals in sinkhorn are: %s, \\t %s\" %(sum(astar), sum(bstar)))\n",
    "print(\"\\t\")\n",
    "print(\"sum of the marginals in screenkhorn are: %s, \\t %s\" %(sum(asc), sum(bsc)))\n",
    "print(\"\\t\")\n",
    "print(\"Difference in sinkhorn: %s \\t %s:\" %(abs(1 - sum(astar)), abs(1 - sum(bstar))))\n",
    "print(\"\\t\")\n",
    "print(\"Difference in screenkhorn: %s \\t  %s:\" %(abs(1 - sum(asc)), abs(1 - sum(bsc))))\n",
    "print(\"\\t\")\n",
    "\n",
    "print(\"Frobenius norm of difference solution matrices %s \" %np.linalg.norm(Pstar - Psc,'fro'))"
   ]
  },
  {
   "cell_type": "code",
   "execution_count": null,
   "metadata": {},
   "outputs": [],
   "source": [
    "cb_padding = 0.005\n",
    "fig, (ax1, ax2) = plt.subplots(ncols=2, figsize=(20,20))\n",
    "I1 = ax1.matshow(Pstar)\n",
    "ax1.set_title(r'$P^\\star$ from POT')\n",
    "ax1.axis('off')\n",
    "fig.colorbar(I1, ax=ax1, pad=cb_padding, orientation=\"horizontal\")\n",
    "ax1.label_outer()\n",
    "## \n",
    "I2 = ax2.matshow(Psc)\n",
    "ax2.set_title(r'$P^{sc}$ from L-BFGS-B');\n",
    "# ax2.label_outer()\n",
    "ax2.axis('off')\n",
    "fig.colorbar(I2, ax=ax2, pad=cb_padding, orientation=\"horizontal\")\n",
    "# \n",
    "# I3 = ax3.matshow(abs(P_sc_bfgs - P_star))\n",
    "# ax3.set_title('Difference');\n",
    "# ax3.label_outer()\n",
    "# ax3.axis('off');\n",
    "# fig.colorbar(I3, ax=ax3, pad=cb_padding, orientation=\"horizontal\")\n",
    "plt.subplots_adjust(hspace=1)"
   ]
  },
  {
   "cell_type": "code",
   "execution_count": null,
   "metadata": {},
   "outputs": [],
   "source": [
    "I_active = screenkhorn.I\n",
    "J_active = screenkhorn.J\n",
    "epsilon_u = screenkhorn.epsilon_u\n",
    "epsilon_v = screenkhorn.epsilon_v\n",
    "I_usc = np.where(usc > epsilon_u)[0].tolist()\n",
    "J_usc = np.where(vsc > epsilon_v)[0].tolist()"
   ]
  },
  {
   "cell_type": "code",
   "execution_count": null,
   "metadata": {},
   "outputs": [],
   "source": [
    "print(len(I_usc), len(I_active))"
   ]
  },
  {
   "cell_type": "code",
   "execution_count": null,
   "metadata": {},
   "outputs": [],
   "source": [
    "print(len(J_usc), len(J_active))"
   ]
  },
  {
   "cell_type": "code",
   "execution_count": null,
   "metadata": {},
   "outputs": [],
   "source": [
    "print(epsilon_u, epsilon_v)"
   ]
  },
  {
   "cell_type": "code",
   "execution_count": null,
   "metadata": {},
   "outputs": [],
   "source": []
  }
 ],
 "metadata": {
  "kernelspec": {
   "display_name": "Python 3",
   "language": "python",
   "name": "python3"
  },
  "language_info": {
   "codemirror_mode": {
    "name": "ipython",
    "version": 3
   },
   "file_extension": ".py",
   "mimetype": "text/x-python",
   "name": "python",
   "nbconvert_exporter": "python",
   "pygments_lexer": "ipython3",
   "version": "3.6.8"
  }
 },
 "nbformat": 4,
 "nbformat_minor": 2
}

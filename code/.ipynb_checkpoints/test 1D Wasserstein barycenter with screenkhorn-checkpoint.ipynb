{
 "cells": [
  {
   "cell_type": "code",
   "execution_count": 1,
   "metadata": {},
   "outputs": [
    {
     "ename": "IndentationError",
     "evalue": "unexpected indent (screenkhorn.py, line 894)",
     "output_type": "error",
     "traceback": [
      "Traceback \u001b[0;36m(most recent call last)\u001b[0m:\n",
      "  File \u001b[1;32m\"/Users/mzalaya/anaconda3/lib/python3.6/site-packages/IPython/core/interactiveshell.py\"\u001b[0m, line \u001b[1;32m3267\u001b[0m, in \u001b[1;35mrun_code\u001b[0m\n    exec(code_obj, self.user_global_ns, self.user_ns)\n",
      "\u001b[0;36m  File \u001b[0;32m\"<ipython-input-1-3996d31c5cd6>\"\u001b[0;36m, line \u001b[0;32m53\u001b[0;36m, in \u001b[0;35m<module>\u001b[0;36m\u001b[0m\n\u001b[0;31m    from screenkhorn.new_formulation import Screenkhorn\u001b[0m\n",
      "\u001b[0;36m  File \u001b[0;32m\"/Users/mzalaya/PycharmProjects/OATMIL/oatmilrouen/screenkhorn/code/screenkhorn.py\"\u001b[0;36m, line \u001b[0;32m894\u001b[0m\n\u001b[0;31m    self.epsilon_v = np.sqrt(b_sort / K_sum_rows_sort)[self.M - 1]\u001b[0m\n\u001b[0m    ^\u001b[0m\n\u001b[0;31mIndentationError\u001b[0m\u001b[0;31m:\u001b[0m unexpected indent\n"
     ]
    }
   ],
   "source": [
    "# NUMPY\n",
    "import numpy as np\n",
    "np.random.seed(3946)\n",
    "# MATPLOTLIB\n",
    "import matplotlib.pyplot as plt\n",
    "plt.style.context('dark_background')\n",
    "%matplotlib inline \n",
    "from matplotlib import rc\n",
    "rc('font', **{'family': 'sans-serif', 'sans-serif': ['Computer Modern Roman']})\n",
    "params = {'axes.labelsize': 8, # 12\n",
    "          'font.size': 8, # 12\n",
    "          'legend.fontsize': 8, # 12\n",
    "          'xtick.labelsize': 8, # 10\n",
    "          'ytick.labelsize': 8, # 10\n",
    "          'text.usetex': True,\n",
    "          'figure.figsize': (16, 6)}\n",
    "plt.rcParams.update(params)\n",
    "\n",
    "# SEABORN \n",
    "import seaborn as sns\n",
    "sns.set_context(\"poster\")\n",
    "sns.set_style(\"ticks\")\n",
    "\n",
    "# SKLEARN \n",
    "from sklearn.metrics import pairwise_distances\n",
    "\n",
    "# WARNINGS\n",
    "import warnings\n",
    "warnings.filterwarnings(\"ignore\", category=FutureWarning)\n",
    "\n",
    "\n",
    "# necessary for 3d plot even if not used\n",
    "from mpl_toolkits.mplot3d import Axes3D  # noqa\n",
    "from matplotlib.collections import PolyCollection\n",
    "\n",
    "# TIME\n",
    "from time import time \n",
    "\n",
    "# PATH \n",
    "import sys\n",
    "path_files = '/Users/mzalaya/PycharmProjects/OATMIL/oatmilrouen/'\n",
    "sys.path.insert(0, path_files) \n",
    "\n",
    "\n",
    "# POT\n",
    "import ot\n",
    "from ot import sinkhorn, emd\n",
    "\n",
    "# GREENKHORN \n",
    "from ot.bregman import greenkhorn\n",
    "\n",
    "# SCREENKHORN\n",
    "from screenkhorn.new_formulation import Screenkhorn\n",
    "# from screenkhorn.screenkhornBFGS import Screenkhorn\n",
    "\n",
    "# WDA \n",
    "import screenkhorn.wda_screen as wda_screen"
   ]
  },
  {
   "cell_type": "markdown",
   "metadata": {},
   "source": [
    "## Generate data"
   ]
  },
  {
   "cell_type": "code",
   "execution_count": null,
   "metadata": {},
   "outputs": [],
   "source": [
    "#%% parameters\n",
    "\n",
    "n = 100  # nb bins\n",
    "\n",
    "# bin positions\n",
    "x = np.arange(n, dtype=np.float64)\n",
    "\n",
    "# Gaussian distributions\n",
    "a1 = ot.datasets.make_1D_gauss(n, m=20, s=5)  # m= mean, s= std\n",
    "a2 = ot.datasets.make_1D_gauss(n, m=60, s=8)\n",
    "\n",
    "# creating matrix A containing all distributions\n",
    "A = np.vstack((a1, a2)).T\n",
    "n_distributions = A.shape[1]\n",
    "\n",
    "# loss matrix + normalization\n",
    "M = ot.utils.dist0(n)\n",
    "M /= M.max()"
   ]
  },
  {
   "cell_type": "markdown",
   "metadata": {},
   "source": [
    "## Plot data"
   ]
  },
  {
   "cell_type": "code",
   "execution_count": null,
   "metadata": {},
   "outputs": [],
   "source": [
    "#%% plot the distributions\n",
    "\n",
    "plt.figure(1, figsize=(6.4, 3))\n",
    "for i in range(n_distributions):\n",
    "    plt.plot(x, A[:, i])\n",
    "plt.title('Distributions')\n",
    "plt.tight_layout()"
   ]
  },
  {
   "cell_type": "markdown",
   "metadata": {},
   "source": [
    "## Barycenter computation"
   ]
  },
  {
   "cell_type": "code",
   "execution_count": null,
   "metadata": {},
   "outputs": [],
   "source": [
    "#%% barycenter computation\n",
    "\n",
    "alpha = 0.2  # 0<=alpha<=1\n",
    "weights = np.array([1 - alpha, alpha])\n",
    "\n",
    "# l2bary\n",
    "bary_l2 = A.dot(weights)\n",
    "\n",
    "# wasserstein\n",
    "reg = 1e-3\n",
    "bary_wass = ot.bregman.barycenter(A, M, reg, weights)\n",
    "\n",
    "plt.figure(2)\n",
    "plt.clf()\n",
    "plt.subplot(2, 1, 1)\n",
    "for i in range(n_distributions):\n",
    "    plt.plot(x, A[:, i])\n",
    "plt.title('Distributions')\n",
    "\n",
    "plt.subplot(2, 1, 2)\n",
    "plt.plot(x, bary_l2, 'r', label='l2')\n",
    "plt.plot(x, bary_wass, 'g', label='Wasserstein')\n",
    "plt.legend()\n",
    "plt.title('Barycenters')\n",
    "plt.tight_layout()"
   ]
  },
  {
   "cell_type": "markdown",
   "metadata": {},
   "source": [
    "## Barycentric interpolation"
   ]
  },
  {
   "cell_type": "code",
   "execution_count": null,
   "metadata": {},
   "outputs": [],
   "source": [
    "#%% barycenter interpolation\n",
    "\n",
    "n_alpha = 11\n",
    "alpha_list = np.linspace(0, 1, n_alpha)\n",
    "\n",
    "\n",
    "B_l2 = np.zeros((n, n_alpha))\n",
    "\n",
    "B_wass = np.copy(B_l2)\n",
    "\n",
    "for i in range(0, n_alpha):\n",
    "    alpha = alpha_list[i]\n",
    "    weights = np.array([1 - alpha, alpha])\n",
    "    B_l2[:, i] = A.dot(weights)\n",
    "    B_wass[:, i] = ot.bregman.barycenter(A, M, reg, weights)\n",
    "\n",
    "#%% plot interpolation\n",
    "\n",
    "plt.figure(3)\n",
    "\n",
    "cmap = plt.cm.get_cmap('viridis')\n",
    "verts = []\n",
    "zs = alpha_list\n",
    "for i, z in enumerate(zs):\n",
    "    ys = B_l2[:, i]\n",
    "    verts.append(list(zip(x, ys)))\n",
    "\n",
    "ax = plt.gcf().gca(projection='3d')\n",
    "\n",
    "poly = PolyCollection(verts, facecolors=[cmap(a) for a in alpha_list])\n",
    "poly.set_alpha(0.7)\n",
    "ax.add_collection3d(poly, zs=zs, zdir='y')\n",
    "ax.set_xlabel('x')\n",
    "ax.set_xlim3d(0, n)\n",
    "ax.set_ylabel('$\\\\alpha$')\n",
    "ax.set_ylim3d(0, 1)\n",
    "ax.set_zlabel('')\n",
    "ax.set_zlim3d(0, B_l2.max() * 1.01)\n",
    "plt.title('Barycenter interpolation with l2')\n",
    "plt.tight_layout()\n",
    "\n",
    "plt.figure(4)\n",
    "cmap = plt.cm.get_cmap('viridis')\n",
    "verts = []\n",
    "zs = alpha_list\n",
    "for i, z in enumerate(zs):\n",
    "    ys = B_wass[:, i]\n",
    "    verts.append(list(zip(x, ys)))\n",
    "\n",
    "ax = plt.gcf().gca(projection='3d')\n",
    "\n",
    "poly = PolyCollection(verts, facecolors=[cmap(a) for a in alpha_list])\n",
    "poly.set_alpha(0.7)\n",
    "ax.add_collection3d(poly, zs=zs, zdir='y')\n",
    "ax.set_xlabel('x')\n",
    "ax.set_xlim3d(0, n)\n",
    "ax.set_ylabel('$\\\\alpha$')\n",
    "ax.set_ylim3d(0, 1)\n",
    "ax.set_zlabel('')\n",
    "ax.set_zlim3d(0, B_l2.max() * 1.01)\n",
    "plt.title('Barycenter interpolation with Wasserstein')\n",
    "plt.tight_layout()"
   ]
  },
  {
   "cell_type": "code",
   "execution_count": null,
   "metadata": {},
   "outputs": [],
   "source": []
  }
 ],
 "metadata": {
  "kernelspec": {
   "display_name": "Python 3",
   "language": "python",
   "name": "python3"
  },
  "language_info": {
   "codemirror_mode": {
    "name": "ipython",
    "version": 3
   },
   "file_extension": ".py",
   "mimetype": "text/x-python",
   "name": "python",
   "nbconvert_exporter": "python",
   "pygments_lexer": "ipython3",
   "version": "3.6.8"
  }
 },
 "nbformat": 4,
 "nbformat_minor": 2
}
